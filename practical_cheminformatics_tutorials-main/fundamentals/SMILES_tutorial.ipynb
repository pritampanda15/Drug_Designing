{
 "cells": [
  {
   "cell_type": "markdown",
   "id": "infectious-smell",
   "metadata": {},
   "source": [
    "### An Introduction to the Simplified Molecular Input Line Entry System (SMILES)"
   ]
  },
  {
   "cell_type": "markdown",
   "id": "50d5cce9",
   "metadata": {},
   "source": [
    "Install the necessary Python packages"
   ]
  },
  {
   "cell_type": "code",
   "execution_count": 3,
   "id": "677caa5d",
   "metadata": {},
   "outputs": [
    {
     "name": "stdout",
     "output_type": "stream",
     "text": [
      "Requirement already satisfied: rdkit-pypi in /opt/anaconda3/envs/rdkit_2021_08/lib/python3.9/site-packages (2021.3.5.1)\n",
      "Requirement already satisfied: numpy>=1.19 in /opt/anaconda3/envs/rdkit_2021_08/lib/python3.9/site-packages (from rdkit-pypi) (1.22.2)\n"
     ]
    }
   ],
   "source": [
    "!pip install rdkit-pypi"
   ]
  },
  {
   "cell_type": "markdown",
   "id": "c575de06",
   "metadata": {},
   "source": [
    "Load the necessary Python libraries"
   ]
  },
  {
   "cell_type": "code",
   "execution_count": 4,
   "id": "ff754774",
   "metadata": {},
   "outputs": [],
   "source": [
    "from rdkit.Chem.Draw import IPythonConsole\n",
    "from rdkit.Chem import rdDepictor\n",
    "from rdkit import Chem\n",
    "\n",
    "IPythonConsole.ipython_useSVG = True\n",
    "IPythonConsole.molSize = 300, 300\n",
    "rdDepictor.SetPreferCoordGen(True)"
   ]
  },
  {
   "cell_type": "markdown",
   "id": "under-nomination",
   "metadata": {},
   "source": [
    "SMILES provides a simple, compact, somewhat human-readable notation for representing molecules.  SMILES, which is an acronym for **S**implified **M**olecular **I**nput **L**ine **E**ntry **S**ystem, was developed by [David Weininger](https://pubs.acs.org/doi/10.1021/ci00057a005) in the 1980s, a time when software like ChemDraw or Marvin Sketch for drawing chemical structures was unheard of.  While we now have easy access to chemical sketchers and don't typically have to create SMILES by hand, the format is still widely used.  Over time, SMILES has become one of a small number of generally accepted formats for representing chemical structures.  SMILES are also often referred to as \"SMILES strings\".  While it's fine to refer to a SMILES as a SMILES string, one should **never** refer to a single SMILES as \"SMILE\". Remember, \"S\" stands for \"system\".  Please don't refer to a \"SMILE\" or a \"SMILE string\". If you do this, I will roll my eyes.  You have been warned! \n",
    "\n",
    "The canonical reference for SMILES is the [Daylight Theory Manual](https://www.daylight.com/dayhtml/doc/theory/), I've borrowed liberally from that here. The [Daylight SMILES Tutorial](https://www.daylight.com/dayhtml_tutorials/languages/smiles/index.html) is another essential reference. For a bit more information on the history and folklore around SMILES, please consult this article from [Chemistry World](https://www.chemistryworld.com/opinion/weiningers-smiles/4014639.article)."
   ]
  },
  {
   "cell_type": "markdown",
   "id": "painful-struggle",
   "metadata": {},
   "source": [
    "### Atoms\n",
    "\n",
    "SMILES are a combination of text symbols that represent atoms, bonds, and ring closures. Common organic elements are represented by their atomic symbols (B,C,N,O,S,F,Cl,Br,I) while less usual atomic symbols with two characters are represented in square brackets ([Au],[Ag],[Se]). \n",
    "\n",
    "### Bonds\n",
    "\n",
    "Single bonds between adjacent atoms are implicit.  For instance, \"CCC\" will represent \"n-propane\".  Double bonds are indicated by \"=\" and triple bonds are indicated by \"#\".  Let's take a look at how we can depict the SMILES for a few molecules.  In order to do this, we'll use the RDKit Python library.  We will start by importing the RDKit Chemistry library. "
   ]
  },
  {
   "cell_type": "markdown",
   "id": "compressed-perspective",
   "metadata": {},
   "source": [
    "We can use the RDKit function **Chem.MolFromSmiles** to covert a SMILES to a molecule object that can be depicted. There are two ways that we can display a molecule's structure in the RDKit.  As shown below, we can create a molecule object and assign that object to a variable, here the variable is named \"propane\".  If we put a variable name on the final line of a cell in a Jupyter notebook, the value of that variable is displayed.  When that variable is a molecule, its structure is shown. "
   ]
  },
  {
   "cell_type": "code",
   "execution_count": 5,
   "id": "integrated-treatment",
   "metadata": {},
   "outputs": [
    {
     "data": {
      "image/png": "[encoded data removed]",
      "image/svg+xml": [
       "<?xml version='1.0' encoding='iso-8859-1'?>\n",
       "<svg version='1.1' baseProfile='full'\n",
       "              xmlns='http://www.w3.org/2000/svg'\n",
       "                      xmlns:rdkit='http://www.rdkit.org/xml'\n",
       "                      xmlns:xlink='http://www.w3.org/1999/xlink'\n",
       "                  xml:space='preserve'\n",
       "width='300px' height='300px' viewBox='0 0 300 300'>\n",
       "<!-- END OF HEADER -->\n",
       "<rect style='opacity:1.0;fill:#FFFFFF;stroke:none' width='300' height='300' x='0' y='0'> </rect>\n",
       "<path class='bond-0 atom-0 atom-1' d='M 13.6364,188.61 L 150.283,110.382' style='fill:none;fill-rule:evenodd;stroke:#000000;stroke-width:2.0px;stroke-linecap:butt;stroke-linejoin:miter;stroke-opacity:1' />\n",
       "<path class='bond-1 atom-1 atom-2' d='M 150.283,110.382 L 286.364,189.618' style='fill:none;fill-rule:evenodd;stroke:#000000;stroke-width:2.0px;stroke-linecap:butt;stroke-linejoin:miter;stroke-opacity:1' />\n",
       "</svg>\n"
      ],
      "text/plain": [
       "<rdkit.Chem.rdchem.Mol at 0x124d7bca0>"
      ]
     },
     "execution_count": 5,
     "metadata": {},
     "output_type": "execute_result"
    }
   ],
   "source": [
    "propane = Chem.MolFromSmiles(\"CCC\")\n",
    "propane"
   ]
  },
  {
   "cell_type": "markdown",
   "id": "3975d0aa",
   "metadata": {},
   "source": [
    "We can also simply display the results of **Chem.MolFromSmiles**. "
   ]
  },
  {
   "cell_type": "code",
   "execution_count": 6,
   "id": "66a61b74",
   "metadata": {},
   "outputs": [
    {
     "data": {
      "image/png": "[encoded data removed]",
      "image/svg+xml": [
       "<?xml version='1.0' encoding='iso-8859-1'?>\n",
       "<svg version='1.1' baseProfile='full'\n",
       "              xmlns='http://www.w3.org/2000/svg'\n",
       "                      xmlns:rdkit='http://www.rdkit.org/xml'\n",
       "                      xmlns:xlink='http://www.w3.org/1999/xlink'\n",
       "                  xml:space='preserve'\n",
       "width='300px' height='300px' viewBox='0 0 300 300'>\n",
       "<!-- END OF HEADER -->\n",
       "<rect style='opacity:1.0;fill:#FFFFFF;stroke:none' width='300' height='300' x='0' y='0'> </rect>\n",
       "<path class='bond-0 atom-0 atom-1' d='M 13.6364,188.61 L 150.283,110.382' style='fill:none;fill-rule:evenodd;stroke:#000000;stroke-width:2.0px;stroke-linecap:butt;stroke-linejoin:miter;stroke-opacity:1' />\n",
       "<path class='bond-1 atom-1 atom-2' d='M 150.283,110.382 L 286.364,189.618' style='fill:none;fill-rule:evenodd;stroke:#000000;stroke-width:2.0px;stroke-linecap:butt;stroke-linejoin:miter;stroke-opacity:1' />\n",
       "</svg>\n"
      ],
      "text/plain": [
       "<rdkit.Chem.rdchem.Mol at 0x10b6b1e80>"
      ]
     },
     "execution_count": 6,
     "metadata": {},
     "output_type": "execute_result"
    }
   ],
   "source": [
    "Chem.MolFromSmiles(\"CCC\")"
   ]
  },
  {
   "cell_type": "markdown",
   "id": "introductory-triumph",
   "metadata": {},
   "source": [
    "Let's use a double bond to construct the SMILES for 2-pentene.  You may ask why I didn't call the variable in the cell below **2-penente**.  In Python, variable names cannot begin with a number.  In python, the string \"2-pentene\" would be interpreted as \"two minus pentene\"."
   ]
  },
  {
   "cell_type": "code",
   "execution_count": 7,
   "id": "lovely-houston",
   "metadata": {},
   "outputs": [
    {
     "data": {
      "image/png": "[encoded data removed]",
      "image/svg+xml": [
       "<?xml version='1.0' encoding='iso-8859-1'?>\n",
       "<svg version='1.1' baseProfile='full'\n",
       "              xmlns='http://www.w3.org/2000/svg'\n",
       "                      xmlns:rdkit='http://www.rdkit.org/xml'\n",
       "                      xmlns:xlink='http://www.w3.org/1999/xlink'\n",
       "                  xml:space='preserve'\n",
       "width='300px' height='300px' viewBox='0 0 300 300'>\n",
       "<!-- END OF HEADER -->\n",
       "<rect style='opacity:1.0;fill:#FFFFFF;stroke:none' width='300' height='300' x='0' y='0'> </rect>\n",
       "<path class='bond-0 atom-0 atom-1' d='M 13.6364,169.541 L 81.8497,130.238' style='fill:none;fill-rule:evenodd;stroke:#000000;stroke-width:2.0px;stroke-linecap:butt;stroke-linejoin:miter;stroke-opacity:1' />\n",
       "<path class='bond-1 atom-1 atom-2' d='M 81.8497,130.238 L 150,169.651' style='fill:none;fill-rule:evenodd;stroke:#000000;stroke-width:2.0px;stroke-linecap:butt;stroke-linejoin:miter;stroke-opacity:1' />\n",
       "<path class='bond-1 atom-1 atom-2' d='M 84.9774,148.418 L 132.683,176.007' style='fill:none;fill-rule:evenodd;stroke:#000000;stroke-width:2.0px;stroke-linecap:butt;stroke-linejoin:miter;stroke-opacity:1' />\n",
       "<path class='bond-2 atom-2 atom-3' d='M 150,169.651 L 218.213,130.333' style='fill:none;fill-rule:evenodd;stroke:#000000;stroke-width:2.0px;stroke-linecap:butt;stroke-linejoin:miter;stroke-opacity:1' />\n",
       "<path class='bond-3 atom-3 atom-4' d='M 218.213,130.333 L 286.364,169.762' style='fill:none;fill-rule:evenodd;stroke:#000000;stroke-width:2.0px;stroke-linecap:butt;stroke-linejoin:miter;stroke-opacity:1' />\n",
       "</svg>\n"
      ],
      "text/plain": [
       "<rdkit.Chem.rdchem.Mol at 0x124dc32e0>"
      ]
     },
     "execution_count": 7,
     "metadata": {},
     "output_type": "execute_result"
    }
   ],
   "source": [
    "pentene = Chem.MolFromSmiles(\"CC=CCC\")\n",
    "pentene"
   ]
  },
  {
   "cell_type": "markdown",
   "id": "coastal-leadership",
   "metadata": {},
   "source": [
    "In a similar fashion, we can incorporate a triple bond and write the SMILES for 2-pentene. "
   ]
  },
  {
   "cell_type": "code",
   "execution_count": 8,
   "id": "wrong-services",
   "metadata": {},
   "outputs": [
    {
     "data": {
      "image/png": "[encoded data removed]",
      "image/svg+xml": [
       "<?xml version='1.0' encoding='iso-8859-1'?>\n",
       "<svg version='1.1' baseProfile='full'\n",
       "              xmlns='http://www.w3.org/2000/svg'\n",
       "                      xmlns:rdkit='http://www.rdkit.org/xml'\n",
       "                      xmlns:xlink='http://www.w3.org/1999/xlink'\n",
       "                  xml:space='preserve'\n",
       "width='300px' height='300px' viewBox='0 0 300 300'>\n",
       "<!-- END OF HEADER -->\n",
       "<rect style='opacity:1.0;fill:#FFFFFF;stroke:none' width='300' height='300' x='0' y='0'> </rect>\n",
       "<path class='bond-0 atom-0 atom-1' d='M 13.6364,91.1897 L 81.8575,130.407' style='fill:none;fill-rule:evenodd;stroke:#000000;stroke-width:2.0px;stroke-linecap:butt;stroke-linejoin:miter;stroke-opacity:1' />\n",
       "<path class='bond-1 atom-1 atom-2' d='M 81.8575,130.407 L 150.079,169.609' style='fill:none;fill-rule:evenodd;stroke:#000000;stroke-width:2.0px;stroke-linecap:butt;stroke-linejoin:miter;stroke-opacity:1' />\n",
       "<path class='bond-1 atom-1 atom-2' d='M 85.034,148.568 L 132.789,176.009' style='fill:none;fill-rule:evenodd;stroke:#000000;stroke-width:2.0px;stroke-linecap:butt;stroke-linejoin:miter;stroke-opacity:1' />\n",
       "<path class='bond-1 atom-1 atom-2' d='M 99.1474,124.007 L 146.902,151.448' style='fill:none;fill-rule:evenodd;stroke:#000000;stroke-width:2.0px;stroke-linecap:butt;stroke-linejoin:miter;stroke-opacity:1' />\n",
       "<path class='bond-2 atom-2 atom-3' d='M 150.079,169.609 L 218.3,208.81' style='fill:none;fill-rule:evenodd;stroke:#000000;stroke-width:2.0px;stroke-linecap:butt;stroke-linejoin:miter;stroke-opacity:1' />\n",
       "<path class='bond-3 atom-3 atom-4' d='M 218.3,208.81 L 286.364,169.341' style='fill:none;fill-rule:evenodd;stroke:#000000;stroke-width:2.0px;stroke-linecap:butt;stroke-linejoin:miter;stroke-opacity:1' />\n",
       "</svg>\n"
      ],
      "text/plain": [
       "<rdkit.Chem.rdchem.Mol at 0x124dc35e0>"
      ]
     },
     "execution_count": 8,
     "metadata": {},
     "output_type": "execute_result"
    }
   ],
   "source": [
    "pentyne = Chem.MolFromSmiles(\"CC#CCC\")\n",
    "pentyne"
   ]
  },
  {
   "cell_type": "markdown",
   "id": "natural-right",
   "metadata": {},
   "source": [
    "Of course, we can go beyond simple hydrocarbons, let's look at some more interesting examples."
   ]
  },
  {
   "cell_type": "code",
   "execution_count": 9,
   "id": "unsigned-halifax",
   "metadata": {},
   "outputs": [
    {
     "data": {
      "image/png": "[encoded data removed]",
      "image/svg+xml": [
       "<?xml version='1.0' encoding='iso-8859-1'?>\n",
       "<svg version='1.1' baseProfile='full'\n",
       "              xmlns='http://www.w3.org/2000/svg'\n",
       "                      xmlns:rdkit='http://www.rdkit.org/xml'\n",
       "                      xmlns:xlink='http://www.w3.org/1999/xlink'\n",
       "                  xml:space='preserve'\n",
       "width='300px' height='300px' viewBox='0 0 300 300'>\n",
       "<!-- END OF HEADER -->\n",
       "<rect style='opacity:1.0;fill:#FFFFFF;stroke:none' width='300' height='300' x='0' y='0'> </rect>\n",
       "<path class='bond-0 atom-0 atom-1' d='M 286.364,177.935 L 166.943,108.843' style='fill:none;fill-rule:evenodd;stroke:#000000;stroke-width:2.0px;stroke-linecap:butt;stroke-linejoin:miter;stroke-opacity:1' />\n",
       "<path class='bond-1 atom-1 atom-2' d='M 166.943,108.843 L 115.401,138.552' style='fill:none;fill-rule:evenodd;stroke:#000000;stroke-width:2.0px;stroke-linecap:butt;stroke-linejoin:miter;stroke-opacity:1' />\n",
       "<path class='bond-1 atom-1 atom-2' d='M 115.401,138.552 L 63.8604,168.26' style='fill:none;fill-rule:evenodd;stroke:#FF0000;stroke-width:2.0px;stroke-linecap:butt;stroke-linejoin:miter;stroke-opacity:1' />\n",
       "<path  class='atom-2' d='M 10.2512 163.742\n",
       "L 14.0912 163.742\n",
       "L 14.0912 175.782\n",
       "L 28.5712 175.782\n",
       "L 28.5712 163.742\n",
       "L 32.4112 163.742\n",
       "L 32.4112 192.062\n",
       "L 28.5712 192.062\n",
       "L 28.5712 178.982\n",
       "L 14.0912 178.982\n",
       "L 14.0912 192.062\n",
       "L 10.2512 192.062\n",
       "L 10.2512 163.742\n",
       "' fill='#FF0000'/>\n",
       "<path  class='atom-2' d='M 34.4112 177.822\n",
       "Q 34.4112 171.022, 37.7712 167.222\n",
       "Q 41.1312 163.422, 47.4112 163.422\n",
       "Q 53.6912 163.422, 57.0512 167.222\n",
       "Q 60.4112 171.022, 60.4112 177.822\n",
       "Q 60.4112 184.702, 57.0112 188.622\n",
       "Q 53.6112 192.502, 47.4112 192.502\n",
       "Q 41.1712 192.502, 37.7712 188.622\n",
       "Q 34.4112 184.742, 34.4112 177.822\n",
       "M 47.4112 189.302\n",
       "Q 51.7312 189.302, 54.0512 186.422\n",
       "Q 56.4112 183.502, 56.4112 177.822\n",
       "Q 56.4112 172.262, 54.0512 169.462\n",
       "Q 51.7312 166.622, 47.4112 166.622\n",
       "Q 43.0912 166.622, 40.7312 169.422\n",
       "Q 38.4112 172.222, 38.4112 177.822\n",
       "Q 38.4112 183.542, 40.7312 186.422\n",
       "Q 43.0912 189.302, 47.4112 189.302\n",
       "' fill='#FF0000'/>\n",
       "</svg>\n"
      ],
      "text/plain": [
       "<rdkit.Chem.rdchem.Mol at 0x124dc3940>"
      ]
     },
     "execution_count": 9,
     "metadata": {},
     "output_type": "execute_result"
    }
   ],
   "source": [
    "ethanol = Chem.MolFromSmiles(\"CCO\")\n",
    "ethanol"
   ]
  },
  {
   "cell_type": "markdown",
   "id": "strategic-boutique",
   "metadata": {},
   "source": [
    "The ethanol example above brings up another interesting point about SMILES, hydrogens are **usually** implicit.  There are a few exceptions that we'll get to later.  Note that when we wrote the SMILES for ethanol, we didn't have to specify the hydrogen on the oxygen.  Oxygen normally has a valence of two, the oxygen in ethanol only has one attached hydrogen, therefore we assume it has one hydrogen attached.  Similarly, the first carbon in ethanol has one other carbon attached, since carbon typically has a valence of four we assume that it has three hydrogens attached.  Neither the hydrogen on the alcohol oxygen nor the carbons needs to be explicitly specified. \n",
    "\n",
    "This brings up another point.  Hydrogen atoms can be used in SMILES, but the hydrogens must be contained within square brackets and associated with a heavy atom.  For instance, it is valid to write the SMILES for ethanol as CC[OH], it's equally valid to write ethanol as [CH3][CH2][OH].  As an exercise, depict the two representations above for ethanol. Note that if you specify the wrong number of explicit hydrogens, the molecule will be considered to be a radical.  Try depicting [CH2][CH2][OH]."
   ]
  },
  {
   "cell_type": "code",
   "execution_count": 10,
   "id": "c10894be",
   "metadata": {},
   "outputs": [],
   "source": [
    "#Write your code here"
   ]
  },
  {
   "cell_type": "markdown",
   "id": "06421bd9",
   "metadata": {},
   "source": [
    "### Charges\n",
    "\n",
    "Positive and negative charges are included by adding \"+\" or \"-\" in square brackets with the atom type. In addition, hydrogens attached to the atom must be explicitly specified. \n",
    "Here's ethylamine"
   ]
  },
  {
   "cell_type": "code",
   "execution_count": 11,
   "id": "526f3c76",
   "metadata": {},
   "outputs": [
    {
     "data": {
      "image/png": "[encoded data removed]",
      "image/svg+xml": [
       "<?xml version='1.0' encoding='iso-8859-1'?>\n",
       "<svg version='1.1' baseProfile='full'\n",
       "              xmlns='http://www.w3.org/2000/svg'\n",
       "                      xmlns:rdkit='http://www.rdkit.org/xml'\n",
       "                      xmlns:xlink='http://www.w3.org/1999/xlink'\n",
       "                  xml:space='preserve'\n",
       "width='300px' height='300px' viewBox='0 0 300 300'>\n",
       "<!-- END OF HEADER -->\n",
       "<rect style='opacity:1.0;fill:#FFFFFF;stroke:none' width='300' height='300' x='0' y='0'> </rect>\n",
       "<path class='bond-0 atom-0 atom-1' d='M 286.364,169.983 L 172.718,104.232' style='fill:none;fill-rule:evenodd;stroke:#000000;stroke-width:2.0px;stroke-linecap:butt;stroke-linejoin:miter;stroke-opacity:1' />\n",
       "<path class='bond-1 atom-1 atom-2' d='M 172.718,104.232 L 130.206,128.736' style='fill:none;fill-rule:evenodd;stroke:#000000;stroke-width:2.0px;stroke-linecap:butt;stroke-linejoin:miter;stroke-opacity:1' />\n",
       "<path class='bond-1 atom-1 atom-2' d='M 130.206,128.736 L 87.6939,153.24' style='fill:none;fill-rule:evenodd;stroke:#0000FF;stroke-width:2.0px;stroke-linecap:butt;stroke-linejoin:miter;stroke-opacity:1' />\n",
       "<path  class='atom-2' d='M 9.0715 155.639\n",
       "L 12.9115 155.639\n",
       "L 12.9115 167.679\n",
       "L 27.3915 167.679\n",
       "L 27.3915 155.639\n",
       "L 31.2315 155.639\n",
       "L 31.2315 183.959\n",
       "L 27.3915 183.959\n",
       "L 27.3915 170.879\n",
       "L 12.9115 170.879\n",
       "L 12.9115 183.959\n",
       "L 9.0715 183.959\n",
       "L 9.0715 155.639\n",
       "' fill='#0000FF'/>\n",
       "<path  class='atom-2' d='M 41.3163 188.272\n",
       "Q 43.1379 188.8, 44.0091 189.988\n",
       "Q 44.9067 191.149, 44.9067 192.997\n",
       "Q 44.9067 194.581, 44.1147 195.822\n",
       "Q 43.3227 197.037, 41.8707 197.723\n",
       "Q 40.4187 198.383, 38.5179 198.383\n",
       "Q 36.5115 198.383, 35.0067 197.697\n",
       "Q 33.5283 196.984, 32.3403 195.558\n",
       "L 33.8451 194.027\n",
       "Q 35.0067 195.294, 35.9835 195.796\n",
       "Q 36.9603 196.271, 38.5179 196.271\n",
       "Q 40.2075 196.271, 41.2371 195.373\n",
       "Q 42.2667 194.449, 42.2667 192.971\n",
       "Q 42.2667 191.07, 41.1843 190.225\n",
       "Q 40.1283 189.354, 37.8315 189.354\n",
       "L 36.4851 189.354\n",
       "L 36.4851 187.453\n",
       "L 37.6731 187.453\n",
       "Q 39.7059 187.427, 40.7883 186.556\n",
       "Q 41.8707 185.658, 41.8707 183.995\n",
       "Q 41.8707 182.781, 40.9731 182.068\n",
       "Q 40.0755 181.329, 38.5443 181.329\n",
       "Q 36.9867 181.329, 36.0099 181.883\n",
       "Q 35.0595 182.437, 34.3203 183.837\n",
       "L 32.4987 182.86\n",
       "Q 33.1587 181.302, 34.7427 180.273\n",
       "Q 36.3267 179.217, 38.5443 179.217\n",
       "Q 41.2899 179.217, 42.9003 180.51\n",
       "Q 44.5107 181.804, 44.5107 183.995\n",
       "Q 44.5107 185.5, 43.6923 186.582\n",
       "Q 42.8739 187.665, 41.3163 188.272\n",
       "' fill='#0000FF'/>\n",
       "<path  class='atom-2' d='M 52.7067 155.639\n",
       "L 61.9867 170.639\n",
       "Q 62.9067 172.119, 64.3867 174.799\n",
       "Q 65.8667 177.479, 65.9467 177.639\n",
       "L 65.9467 155.639\n",
       "L 69.7067 155.639\n",
       "L 69.7067 183.959\n",
       "L 65.8267 183.959\n",
       "L 55.8667 167.559\n",
       "Q 54.7067 165.639, 53.4667 163.439\n",
       "Q 52.2667 161.239, 51.9067 160.559\n",
       "L 51.9067 183.959\n",
       "L 48.2267 183.959\n",
       "L 48.2267 155.639\n",
       "L 52.7067 155.639\n",
       "' fill='#0000FF'/>\n",
       "<path  class='atom-2' d='M 72.0827 160.744\n",
       "L 77.0723 160.744\n",
       "L 77.0723 155.49\n",
       "L 79.2899 155.49\n",
       "L 79.2899 160.744\n",
       "L 84.4115 160.744\n",
       "L 84.4115 162.645\n",
       "L 79.2899 162.645\n",
       "L 79.2899 167.925\n",
       "L 77.0723 167.925\n",
       "L 77.0723 162.645\n",
       "L 72.0827 162.645\n",
       "L 72.0827 160.744\n",
       "' fill='#0000FF'/>\n",
       "</svg>\n"
      ],
      "text/plain": [
       "<rdkit.Chem.rdchem.Mol at 0x124dc3520>"
      ]
     },
     "execution_count": 11,
     "metadata": {},
     "output_type": "execute_result"
    }
   ],
   "source": [
    "ethylamine = Chem.MolFromSmiles(\"CC[NH3+]\")\n",
    "ethylamine"
   ]
  },
  {
   "cell_type": "markdown",
   "id": "0baa9b25",
   "metadata": {},
   "source": [
    "Here's acetate, more on parentheses and branching below."
   ]
  },
  {
   "cell_type": "code",
   "execution_count": 12,
   "id": "0f52827a",
   "metadata": {},
   "outputs": [
    {
     "data": {
      "image/png": "[encoded data removed]",
      "image/svg+xml": [
       "<?xml version='1.0' encoding='iso-8859-1'?>\n",
       "<svg version='1.1' baseProfile='full'\n",
       "              xmlns='http://www.w3.org/2000/svg'\n",
       "                      xmlns:rdkit='http://www.rdkit.org/xml'\n",
       "                      xmlns:xlink='http://www.w3.org/1999/xlink'\n",
       "                  xml:space='preserve'\n",
       "width='300px' height='300px' viewBox='0 0 300 300'>\n",
       "<!-- END OF HEADER -->\n",
       "<rect style='opacity:1.0;fill:#FFFFFF;stroke:none' width='300' height='300' x='0' y='0'> </rect>\n",
       "<path class='bond-0 atom-0 atom-1' d='M 13.6364,257.77 L 139.353,185.8' style='fill:none;fill-rule:evenodd;stroke:#000000;stroke-width:2.0px;stroke-linecap:butt;stroke-linejoin:miter;stroke-opacity:1' />\n",
       "<path class='bond-1 atom-1 atom-2' d='M 152.391,185.847 L 152.619,122.604' style='fill:none;fill-rule:evenodd;stroke:#000000;stroke-width:2.0px;stroke-linecap:butt;stroke-linejoin:miter;stroke-opacity:1' />\n",
       "<path class='bond-1 atom-1 atom-2' d='M 152.619,122.604 L 152.846,59.3604' style='fill:none;fill-rule:evenodd;stroke:#FF0000;stroke-width:2.0px;stroke-linecap:butt;stroke-linejoin:miter;stroke-opacity:1' />\n",
       "<path class='bond-1 atom-1 atom-2' d='M 126.315,185.753 L 126.542,122.51' style='fill:none;fill-rule:evenodd;stroke:#000000;stroke-width:2.0px;stroke-linecap:butt;stroke-linejoin:miter;stroke-opacity:1' />\n",
       "<path class='bond-1 atom-1 atom-2' d='M 126.542,122.51 L 126.77,59.2666' style='fill:none;fill-rule:evenodd;stroke:#FF0000;stroke-width:2.0px;stroke-linecap:butt;stroke-linejoin:miter;stroke-opacity:1' />\n",
       "<path class='bond-2 atom-1 atom-3' d='M 139.353,185.8 L 193.64,217.397' style='fill:none;fill-rule:evenodd;stroke:#000000;stroke-width:2.0px;stroke-linecap:butt;stroke-linejoin:miter;stroke-opacity:1' />\n",
       "<path class='bond-2 atom-1 atom-3' d='M 193.64,217.397 L 247.926,248.994' style='fill:none;fill-rule:evenodd;stroke:#FF0000;stroke-width:2.0px;stroke-linecap:butt;stroke-linejoin:miter;stroke-opacity:1' />\n",
       "<path  class='atom-2' d='M 126.874 41.0118\n",
       "Q 126.874 34.2118, 130.234 30.4118\n",
       "Q 133.594 26.6118, 139.874 26.6118\n",
       "Q 146.154 26.6118, 149.514 30.4118\n",
       "Q 152.874 34.2118, 152.874 41.0118\n",
       "Q 152.874 47.8918, 149.474 51.8118\n",
       "Q 146.074 55.6918, 139.874 55.6918\n",
       "Q 133.634 55.6918, 130.234 51.8118\n",
       "Q 126.874 47.9318, 126.874 41.0118\n",
       "M 139.874 52.4918\n",
       "Q 144.194 52.4918, 146.514 49.6118\n",
       "Q 148.874 46.6918, 148.874 41.0118\n",
       "Q 148.874 35.4518, 146.514 32.6518\n",
       "Q 144.194 29.8118, 139.874 29.8118\n",
       "Q 135.554 29.8118, 133.194 32.6118\n",
       "Q 130.874 35.4118, 130.874 41.0118\n",
       "Q 130.874 46.7318, 133.194 49.6118\n",
       "Q 135.554 52.4918, 139.874 52.4918\n",
       "' fill='#FF0000'/>\n",
       "<path  class='atom-3' d='M 251.548 258.748\n",
       "Q 251.548 251.948, 254.908 248.148\n",
       "Q 258.268 244.348, 264.548 244.348\n",
       "Q 270.828 244.348, 274.188 248.148\n",
       "Q 277.548 251.948, 277.548 258.748\n",
       "Q 277.548 265.628, 274.148 269.548\n",
       "Q 270.748 273.428, 264.548 273.428\n",
       "Q 258.308 273.428, 254.908 269.548\n",
       "Q 251.548 265.668, 251.548 258.748\n",
       "M 264.548 270.228\n",
       "Q 268.868 270.228, 271.188 267.348\n",
       "Q 273.548 264.428, 273.548 258.748\n",
       "Q 273.548 253.188, 271.188 250.388\n",
       "Q 268.868 247.548, 264.548 247.548\n",
       "Q 260.228 247.548, 257.868 250.348\n",
       "Q 255.548 253.148, 255.548 258.748\n",
       "Q 255.548 264.468, 257.868 267.348\n",
       "Q 260.228 270.228, 264.548 270.228\n",
       "' fill='#FF0000'/>\n",
       "<path  class='atom-3' d='M 278.868 248.971\n",
       "L 288.557 248.971\n",
       "L 288.557 251.083\n",
       "L 278.868 251.083\n",
       "L 278.868 248.971\n",
       "' fill='#FF0000'/>\n",
       "</svg>\n"
      ],
      "text/plain": [
       "<rdkit.Chem.rdchem.Mol at 0x124dc3be0>"
      ]
     },
     "execution_count": 12,
     "metadata": {},
     "output_type": "execute_result"
    }
   ],
   "source": [
    "acetate = Chem.MolFromSmiles(\"CC(=O)[O-]\")\n",
    "acetate"
   ]
  },
  {
   "cell_type": "markdown",
   "id": "2abd1eb3",
   "metadata": {},
   "source": [
    "### Disconnected Structures\n",
    "\n",
    "In some cases, a molecule may contain multiple entities that are not connected by a covalent bond.  In SMILES, the two entities are represented as two SMILES separated by a \".\".  For instance, let's look at acetate with a sodium salt.  The positioning of the sodium salt in the depiction isn't ideal but the SMILES is valid. "
   ]
  },
  {
   "cell_type": "code",
   "execution_count": 13,
   "id": "e3129715",
   "metadata": {},
   "outputs": [
    {
     "data": {
      "image/png": "[encoded data removed]",
      "image/svg+xml": [
       "<?xml version='1.0' encoding='iso-8859-1'?>\n",
       "<svg version='1.1' baseProfile='full'\n",
       "              xmlns='http://www.w3.org/2000/svg'\n",
       "                      xmlns:rdkit='http://www.rdkit.org/xml'\n",
       "                      xmlns:xlink='http://www.w3.org/1999/xlink'\n",
       "                  xml:space='preserve'\n",
       "width='300px' height='300px' viewBox='0 0 300 300'>\n",
       "<!-- END OF HEADER -->\n",
       "<rect style='opacity:1.0;fill:#FFFFFF;stroke:none' width='300' height='300' x='0' y='0'> </rect>\n",
       "<path class='bond-0 atom-0 atom-1' d='M 13.6364,213.262 L 87.5295,170.96' style='fill:none;fill-rule:evenodd;stroke:#000000;stroke-width:2.0px;stroke-linecap:butt;stroke-linejoin:miter;stroke-opacity:1' />\n",
       "<path class='bond-1 atom-1 atom-2' d='M 95.193,170.987 L 95.317,136.546' style='fill:none;fill-rule:evenodd;stroke:#000000;stroke-width:2.0px;stroke-linecap:butt;stroke-linejoin:miter;stroke-opacity:1' />\n",
       "<path class='bond-1 atom-1 atom-2' d='M 95.317,136.546 L 95.441,102.105' style='fill:none;fill-rule:evenodd;stroke:#FF0000;stroke-width:2.0px;stroke-linecap:butt;stroke-linejoin:miter;stroke-opacity:1' />\n",
       "<path class='bond-1 atom-1 atom-2' d='M 79.8661,170.932 L 79.9901,136.491' style='fill:none;fill-rule:evenodd;stroke:#000000;stroke-width:2.0px;stroke-linecap:butt;stroke-linejoin:miter;stroke-opacity:1' />\n",
       "<path class='bond-1 atom-1 atom-2' d='M 79.9901,136.491 L 80.1141,102.05' style='fill:none;fill-rule:evenodd;stroke:#FF0000;stroke-width:2.0px;stroke-linecap:butt;stroke-linejoin:miter;stroke-opacity:1' />\n",
       "<path class='bond-2 atom-1 atom-3' d='M 87.5295,170.96 L 117.032,188.131' style='fill:none;fill-rule:evenodd;stroke:#000000;stroke-width:2.0px;stroke-linecap:butt;stroke-linejoin:miter;stroke-opacity:1' />\n",
       "<path class='bond-2 atom-1 atom-3' d='M 117.032,188.131 L 146.534,205.303' style='fill:none;fill-rule:evenodd;stroke:#FF0000;stroke-width:2.0px;stroke-linecap:butt;stroke-linejoin:miter;stroke-opacity:1' />\n",
       "<path  class='atom-2' d='M 75.3829 85.8865\n",
       "Q 75.3829 79.3725, 78.6016 75.7323\n",
       "Q 81.8202 72.0922, 87.8361 72.0922\n",
       "Q 93.8519 72.0922, 97.0706 75.7323\n",
       "Q 100.289 79.3725, 100.289 85.8865\n",
       "Q 100.289 92.4771, 97.0323 96.2322\n",
       "Q 93.7753 99.949, 87.8361 99.949\n",
       "Q 81.8586 99.949, 78.6016 96.2322\n",
       "Q 75.3829 92.5154, 75.3829 85.8865\n",
       "M 87.8361 96.8836\n",
       "Q 91.9744 96.8836, 94.1968 94.1247\n",
       "Q 96.4575 91.3276, 96.4575 85.8865\n",
       "Q 96.4575 80.5603, 94.1968 77.8781\n",
       "Q 91.9744 75.1576, 87.8361 75.1576\n",
       "Q 83.6978 75.1576, 81.4371 77.8398\n",
       "Q 79.2146 80.522, 79.2146 85.8865\n",
       "Q 79.2146 91.3659, 81.4371 94.1247\n",
       "Q 83.6978 96.8836, 87.8361 96.8836\n",
       "' fill='#FF0000'/>\n",
       "<path  class='atom-3' d='M 148.663 213.867\n",
       "Q 148.663 207.353, 151.882 203.713\n",
       "Q 155.1 200.073, 161.116 200.073\n",
       "Q 167.132 200.073, 170.351 203.713\n",
       "Q 173.569 207.353, 173.569 213.867\n",
       "Q 173.569 220.458, 170.312 224.213\n",
       "Q 167.055 227.929, 161.116 227.929\n",
       "Q 155.139 227.929, 151.882 224.213\n",
       "Q 148.663 220.496, 148.663 213.867\n",
       "M 161.116 224.864\n",
       "Q 165.254 224.864, 167.477 222.105\n",
       "Q 169.738 219.308, 169.738 213.867\n",
       "Q 169.738 208.541, 167.477 205.859\n",
       "Q 165.254 203.138, 161.116 203.138\n",
       "Q 156.978 203.138, 154.717 205.82\n",
       "Q 152.495 208.502, 152.495 213.867\n",
       "Q 152.495 219.346, 154.717 222.105\n",
       "Q 156.978 224.864, 161.116 224.864\n",
       "' fill='#FF0000'/>\n",
       "<path  class='atom-3' d='M 174.834 204.501\n",
       "L 184.115 204.501\n",
       "L 184.115 206.524\n",
       "L 174.834 206.524\n",
       "L 174.834 204.501\n",
       "' fill='#FF0000'/>\n",
       "<path  class='atom-4' d='M 240.27 200.226\n",
       "L 249.159 214.595\n",
       "Q 250.04 216.013, 251.458 218.58\n",
       "Q 252.876 221.147, 252.953 221.301\n",
       "L 252.953 200.226\n",
       "L 256.554 200.226\n",
       "L 256.554 227.355\n",
       "L 252.838 227.355\n",
       "L 243.297 211.645\n",
       "Q 242.185 209.805, 240.998 207.698\n",
       "Q 239.848 205.59, 239.503 204.939\n",
       "L 239.503 227.355\n",
       "L 235.978 227.355\n",
       "L 235.978 200.226\n",
       "L 240.27 200.226\n",
       "' fill='#000000'/>\n",
       "<path  class='atom-4' d='M 258.24 222.029\n",
       "Q 258.24 218.887, 260.769 217.162\n",
       "Q 263.298 215.438, 267.935 215.438\n",
       "L 270.847 215.438\n",
       "L 270.847 214.672\n",
       "Q 270.847 212.219, 269.812 211.185\n",
       "Q 268.816 210.15, 266.364 210.15\n",
       "Q 264.793 210.15, 263.567 210.457\n",
       "Q 262.34 210.725, 260.425 211.568\n",
       "L 259.352 209.077\n",
       "Q 262.953 207.315, 266.44 207.315\n",
       "Q 270.617 207.315, 272.533 209.116\n",
       "Q 274.449 210.878, 274.449 214.748\n",
       "L 274.449 227.355\n",
       "L 271.652 227.355\n",
       "Q 271.613 227.201, 271.498 226.627\n",
       "Q 271.383 226.014, 271.153 225.056\n",
       "Q 268.395 227.815, 264.716 227.815\n",
       "Q 261.766 227.815, 260.003 226.244\n",
       "Q 258.24 224.672, 258.24 222.029\n",
       "M 261.842 221.952\n",
       "Q 261.842 223.408, 262.762 224.213\n",
       "Q 263.682 224.979, 265.406 224.979\n",
       "Q 266.938 224.979, 268.395 224.289\n",
       "Q 269.851 223.561, 270.847 222.335\n",
       "L 270.847 218.12\n",
       "L 268.165 218.12\n",
       "Q 265.023 218.12, 263.413 219.078\n",
       "Q 261.842 220.036, 261.842 221.952\n",
       "' fill='#000000'/>\n",
       "<path  class='atom-4' d='M 276.725 208.43\n",
       "L 281.505 208.43\n",
       "L 281.505 203.398\n",
       "L 283.629 203.398\n",
       "L 283.629 208.43\n",
       "L 288.535 208.43\n",
       "L 288.535 210.251\n",
       "L 283.629 210.251\n",
       "L 283.629 215.309\n",
       "L 281.505 215.309\n",
       "L 281.505 210.251\n",
       "L 276.725 210.251\n",
       "L 276.725 208.43\n",
       "' fill='#000000'/>\n",
       "</svg>\n"
      ],
      "text/plain": [
       "<rdkit.Chem.rdchem.Mol at 0x124dc3c40>"
      ]
     },
     "execution_count": 13,
     "metadata": {},
     "output_type": "execute_result"
    }
   ],
   "source": [
    "acetate_salt = Chem.MolFromSmiles(\"CC(=O)[O-].[Na+]\")\n",
    "acetate_salt"
   ]
  },
  {
   "cell_type": "markdown",
   "id": "black-astronomy",
   "metadata": {},
   "source": [
    "### Branching\n",
    "\n",
    "Branching in SMILES is indicated with parentheses.  For instance, one can depict acetone using the SMILES \"CC(=O)C\". Note how the parentheses are used to indicate the branching in the carbonyl."
   ]
  },
  {
   "cell_type": "code",
   "execution_count": 14,
   "id": "gothic-passenger",
   "metadata": {},
   "outputs": [
    {
     "data": {
      "image/png": "[encoded data removed]",
      "image/svg+xml": [
       "<?xml version='1.0' encoding='iso-8859-1'?>\n",
       "<svg version='1.1' baseProfile='full'\n",
       "              xmlns='http://www.w3.org/2000/svg'\n",
       "                      xmlns:rdkit='http://www.rdkit.org/xml'\n",
       "                      xmlns:xlink='http://www.w3.org/1999/xlink'\n",
       "                  xml:space='preserve'\n",
       "width='300px' height='300px' viewBox='0 0 300 300'>\n",
       "<!-- END OF HEADER -->\n",
       "<rect style='opacity:1.0;fill:#FFFFFF;stroke:none' width='300' height='300' x='0' y='0'> </rect>\n",
       "<path class='bond-0 atom-0 atom-1' d='M 286.364,274.843 L 150.283,195.639' style='fill:none;fill-rule:evenodd;stroke:#000000;stroke-width:2.0px;stroke-linecap:butt;stroke-linejoin:miter;stroke-opacity:1' />\n",
       "<path class='bond-1 atom-1 atom-2' d='M 164.455,195.69 L 164.705,126.306' style='fill:none;fill-rule:evenodd;stroke:#000000;stroke-width:2.0px;stroke-linecap:butt;stroke-linejoin:miter;stroke-opacity:1' />\n",
       "<path class='bond-1 atom-1 atom-2' d='M 164.705,126.306 L 164.955,56.9227' style='fill:none;fill-rule:evenodd;stroke:#FF0000;stroke-width:2.0px;stroke-linecap:butt;stroke-linejoin:miter;stroke-opacity:1' />\n",
       "<path class='bond-1 atom-1 atom-2' d='M 136.112,195.588 L 136.362,126.204' style='fill:none;fill-rule:evenodd;stroke:#000000;stroke-width:2.0px;stroke-linecap:butt;stroke-linejoin:miter;stroke-opacity:1' />\n",
       "<path class='bond-1 atom-1 atom-2' d='M 136.362,126.204 L 136.611,56.8207' style='fill:none;fill-rule:evenodd;stroke:#FF0000;stroke-width:2.0px;stroke-linecap:butt;stroke-linejoin:miter;stroke-opacity:1' />\n",
       "<path class='bond-2 atom-1 atom-3' d='M 150.283,195.639 L 13.6364,273.867' style='fill:none;fill-rule:evenodd;stroke:#000000;stroke-width:2.0px;stroke-linecap:butt;stroke-linejoin:miter;stroke-opacity:1' />\n",
       "<path  class='atom-2' d='M 137.85 38.2551\n",
       "Q 137.85 31.4551, 141.21 27.6551\n",
       "Q 144.57 23.8551, 150.85 23.8551\n",
       "Q 157.13 23.8551, 160.49 27.6551\n",
       "Q 163.85 31.4551, 163.85 38.2551\n",
       "Q 163.85 45.1351, 160.45 49.0551\n",
       "Q 157.05 52.9351, 150.85 52.9351\n",
       "Q 144.61 52.9351, 141.21 49.0551\n",
       "Q 137.85 45.1751, 137.85 38.2551\n",
       "M 150.85 49.7351\n",
       "Q 155.17 49.7351, 157.49 46.8551\n",
       "Q 159.85 43.9351, 159.85 38.2551\n",
       "Q 159.85 32.6951, 157.49 29.8951\n",
       "Q 155.17 27.0551, 150.85 27.0551\n",
       "Q 146.53 27.0551, 144.17 29.8551\n",
       "Q 141.85 32.6551, 141.85 38.2551\n",
       "Q 141.85 43.9751, 144.17 46.8551\n",
       "Q 146.53 49.7351, 150.85 49.7351\n",
       "' fill='#FF0000'/>\n",
       "</svg>\n"
      ],
      "text/plain": [
       "<rdkit.Chem.rdchem.Mol at 0x124dcc520>"
      ]
     },
     "execution_count": 14,
     "metadata": {},
     "output_type": "execute_result"
    }
   ],
   "source": [
    "acetone = Chem.MolFromSmiles(\"CC(=O)C\")\n",
    "acetone"
   ]
  },
  {
   "cell_type": "markdown",
   "id": "b7400e5b",
   "metadata": {},
   "source": [
    "Let's take a look at a few more examples.  In order to look at more than one example, we'll put the SMILES and the names of the associated molecules into a text buffer. "
   ]
  },
  {
   "cell_type": "code",
   "execution_count": 15,
   "id": "impressed-prize",
   "metadata": {},
   "outputs": [],
   "source": [
    "# define a text buffer for our examples\n",
    "examples = \"\"\"C(C)(C)O isopropanol\n",
    "C(Cl)(Cl)(Cl)Cl carbon tetrachloride\n",
    "CC(=O)O acetic acid\"\"\"\n",
    "# not that we use the second argumen to split to only return two tokens\n",
    "smiles_list = [x.split(\" \",1) for x in examples.split(\"\\n\")]"
   ]
  },
  {
   "cell_type": "code",
   "execution_count": 16,
   "id": "10155939",
   "metadata": {},
   "outputs": [
    {
     "data": {
      "text/plain": [
       "[['C(C)(C)O', 'isopropanol'],\n",
       " ['C(Cl)(Cl)(Cl)Cl', 'carbon tetrachloride'],\n",
       " ['CC(=O)O', 'acetic acid']]"
      ]
     },
     "execution_count": 16,
     "metadata": {},
     "output_type": "execute_result"
    }
   ],
   "source": [
    "smiles_list"
   ]
  },
  {
   "cell_type": "markdown",
   "id": "valuable-construction",
   "metadata": {},
   "source": [
    "In order to make our lives a little easier, we're going to define a function that will use the MolsToGridImage function from the  RDKit to display multiple structures. "
   ]
  },
  {
   "cell_type": "code",
   "execution_count": 17,
   "id": "overall-technique",
   "metadata": {},
   "outputs": [],
   "source": [
    "from rdkit.Chem.Draw import MolsToGridImage\n",
    "\n",
    "def display_structures(smiles_list):\n",
    "    mol_list = []\n",
    "    name_list = []\n",
    "    for smiles, name in smiles_list:\n",
    "        mol_list.append(Chem.MolFromSmiles(smiles))\n",
    "        name_list.append(name)\n",
    "    return MolsToGridImage(mol_list,legends=name_list,molsPerRow=4)"
   ]
  },
  {
   "cell_type": "code",
   "execution_count": 18,
   "id": "e1b5a8a7",
   "metadata": {},
   "outputs": [
    {
     "data": {
      "image/svg+xml": [
       "<svg xmlns=\"http://www.w3.org/2000/svg\" xmlns:rdkit=\"http://www.rdkit.org/xml\" xmlns:xlink=\"http://www.w3.org/1999/xlink\" version=\"1.1\" baseProfile=\"full\" xml:space=\"preserve\" width=\"800px\" height=\"200px\" viewBox=\"0 0 800 200\">\n",
       "<!-- END OF HEADER -->\n",
       "<rect style=\"opacity:1.0;fill:#FFFFFF;stroke:none\" width=\"800\" height=\"200\" x=\"0\" y=\"0\"> </rect>\n",
       "<rect style=\"opacity:1.0;fill:#FFFFFF;stroke:none\" width=\"800\" height=\"200\" x=\"0\" y=\"0\"> </rect>\n",
       "<rect style=\"opacity:1.0;fill:#FFFFFF;stroke:none\" width=\"800\" height=\"200\" x=\"0\" y=\"0\"> </rect>\n",
       "<rect style=\"opacity:1.0;fill:#FFFFFF;stroke:none\" width=\"800\" height=\"200\" x=\"0\" y=\"0\"> </rect>\n",
       "<path class=\"bond-0 atom-0 atom-1\" d=\"M 99.7084,91.5972 L 166.77,130.63\" style=\"fill:none;fill-rule:evenodd;stroke:#000000;stroke-width:2.0px;stroke-linecap:butt;stroke-linejoin:miter;stroke-opacity:1\"/>\n",
       "<path class=\"bond-1 atom-0 atom-2\" d=\"M 99.7084,91.5972 L 32.3671,130.149\" style=\"fill:none;fill-rule:evenodd;stroke:#000000;stroke-width:2.0px;stroke-linecap:butt;stroke-linejoin:miter;stroke-opacity:1\"/>\n",
       "<path class=\"bond-2 atom-0 atom-3\" d=\"M 99.7084,91.5972 L 99.8406,54.8743\" style=\"fill:none;fill-rule:evenodd;stroke:#000000;stroke-width:2.0px;stroke-linecap:butt;stroke-linejoin:miter;stroke-opacity:1\"/>\n",
       "<path class=\"bond-2 atom-0 atom-3\" d=\"M 99.8406,54.8743 L 99.9728,18.1513\" style=\"fill:none;fill-rule:evenodd;stroke:#FF0000;stroke-width:2.0px;stroke-linecap:butt;stroke-linejoin:miter;stroke-opacity:1\"/>\n",
       "<path class=\"atom-3\" d=\"M 98.0378 14.0093 Q 98.0378 12.9893, 98.5418 12.4193 Q 99.0458 11.8493, 99.9878 11.8493 Q 100.93 11.8493, 101.434 12.4193 Q 101.938 12.9893, 101.938 14.0093 Q 101.938 15.0413, 101.428 15.6293 Q 100.918 16.2113, 99.9878 16.2113 Q 99.0518 16.2113, 98.5418 15.6293 Q 98.0378 15.0473, 98.0378 14.0093 M 99.9878 15.7313 Q 100.636 15.7313, 100.984 15.2993 Q 101.338 14.8613, 101.338 14.0093 Q 101.338 13.1753, 100.984 12.7553 Q 100.636 12.3293, 99.9878 12.3293 Q 99.3398 12.3293, 98.9858 12.7493 Q 98.6378 13.1693, 98.6378 14.0093 Q 98.6378 14.8673, 98.9858 15.2993 Q 99.3398 15.7313, 99.9878 15.7313 \" fill=\"#FF0000\"/>\n",
       "<path class=\"atom-3\" d=\"M 102.448 11.8973 L 103.024 11.8973 L 103.024 13.7033 L 105.196 13.7033 L 105.196 11.8973 L 105.772 11.8973 L 105.772 16.1453 L 105.196 16.1453 L 105.196 14.1833 L 103.024 14.1833 L 103.024 16.1453 L 102.448 16.1453 L 102.448 11.8973 \" fill=\"#FF0000\"/>\n",
       "<path d=\"M 59.3593 178.68 L 60.8313 178.68 L 60.8313 180.072 L 59.3593 180.072 L 59.3593 178.68 M 59.3593 181.784 L 60.8313 181.784 L 60.8313 190.008 L 59.3593 190.008 L 59.3593 181.784 \" fill=\"#000000\"/>\n",
       "<path d=\"M 62.0953 188.312 Q 62.8153 188.616, 63.3273 188.76 Q 63.8553 188.904, 64.4153 188.904 Q 65.1353 188.904, 65.5353 188.6 Q 65.9513 188.296, 65.9513 187.704 Q 65.9513 187.336, 65.7273 187.112 Q 65.5193 186.872, 65.2473 186.76 Q 64.9913 186.648, 64.2713 186.408 Q 64.1593 186.376, 63.4233 186.12 Q 62.6873 185.864, 62.2873 185.32 Q 61.9033 184.776, 61.9033 183.976 Q 61.9033 182.984, 62.6713 182.312 Q 63.4393 181.64, 64.9273 181.64 Q 65.5513 181.64, 66.0953 181.784 Q 66.6553 181.928, 67.2633 182.168 L 66.8633 183.352 Q 66.3353 183.144, 65.8713 183.016 Q 65.4233 182.888, 64.9273 182.888 Q 64.1753 182.888, 63.7913 183.192 Q 63.4073 183.48, 63.4073 183.96 Q 63.4073 184.408, 63.7113 184.632 Q 64.0153 184.84, 64.6873 185.08 Q 64.8633 185.128, 65.0073 185.192 L 65.3913 185.336 Q 66.0633 185.56, 66.4633 185.784 Q 66.8793 186.008, 67.1673 186.472 Q 67.4553 186.92, 67.4553 187.672 Q 67.4553 188.856, 66.6073 189.512 Q 65.7753 190.152, 64.4313 190.152 Q 63.6473 190.152, 62.9753 189.992 Q 62.3033 189.816, 61.6313 189.528 L 62.0953 188.312 \" fill=\"#000000\"/>\n",
       "<path d=\"M 68.1913 185.88 Q 68.1913 183.88, 69.1993 182.76 Q 70.2233 181.64, 72.0953 181.64 Q 73.9673 181.64, 74.9753 182.76 Q 75.9993 183.88, 75.9993 185.88 Q 75.9993 187.88, 74.9753 189.016 Q 73.9673 190.136, 72.0953 190.136 Q 70.2233 190.136, 69.1993 189.016 Q 68.1913 187.88, 68.1913 185.88 M 69.7273 185.88 Q 69.7273 187.384, 70.3353 188.168 Q 70.9593 188.952, 72.0953 188.952 Q 73.2313 188.952, 73.8393 188.168 Q 74.4633 187.384, 74.4633 185.88 Q 74.4633 184.376, 73.8393 183.608 Q 73.2313 182.824, 72.0953 182.824 Q 70.9593 182.824, 70.3353 183.608 Q 69.7273 184.376, 69.7273 185.88 \" fill=\"#000000\"/>\n",
       "<path d=\"M 81.1353 181.64 Q 82.8473 181.64, 83.7913 182.712 Q 84.7513 183.768, 84.7513 185.752 Q 84.7513 187.816, 83.6153 188.984 Q 82.4953 190.136, 80.5273 190.136 Q 79.5993 190.136, 78.8153 189.912 L 78.8153 193.928 L 77.3113 193.928 L 77.3113 181.784 L 78.5273 181.784 L 78.7193 182.776 Q 79.1513 182.216, 79.7593 181.928 Q 80.3833 181.64, 81.1353 181.64 M 80.5113 188.952 Q 81.7753 188.952, 82.4953 188.12 Q 83.2153 187.272, 83.2153 185.752 Q 83.2153 184.344, 82.6393 183.592 Q 82.0793 182.824, 81.0393 182.824 Q 80.2233 182.824, 79.6313 183.256 Q 79.0553 183.688, 78.8153 184.456 L 78.8153 188.712 Q 79.6313 188.952, 80.5113 188.952 \" fill=\"#000000\"/>\n",
       "<path d=\"M 87.3273 181.784 L 87.5033 182.92 Q 88.3673 181.64, 89.7753 181.64 Q 90.2233 181.64, 90.8313 181.8 L 90.5913 183.144 Q 89.9033 182.984, 89.5193 182.984 Q 88.8473 182.984, 88.3993 183.256 Q 87.9673 183.512, 87.6153 184.136 L 87.6153 190.008 L 86.1113 190.008 L 86.1113 181.784 L 87.3273 181.784 \" fill=\"#000000\"/>\n",
       "<path d=\"M 91.5673 185.88 Q 91.5673 183.88, 92.5753 182.76 Q 93.5993 181.64, 95.4713 181.64 Q 97.3433 181.64, 98.3513 182.76 Q 99.3753 183.88, 99.3753 185.88 Q 99.3753 187.88, 98.3513 189.016 Q 97.3433 190.136, 95.4713 190.136 Q 93.5993 190.136, 92.5753 189.016 Q 91.5673 187.88, 91.5673 185.88 M 93.1033 185.88 Q 93.1033 187.384, 93.7113 188.168 Q 94.3353 188.952, 95.4713 188.952 Q 96.6073 188.952, 97.2153 188.168 Q 97.8393 187.384, 97.8393 185.88 Q 97.8393 184.376, 97.2153 183.608 Q 96.6073 182.824, 95.4713 182.824 Q 94.3353 182.824, 93.7113 183.608 Q 93.1033 184.376, 93.1033 185.88 \" fill=\"#000000\"/>\n",
       "<path d=\"M 104.511 181.64 Q 106.223 181.64, 107.167 182.712 Q 108.127 183.768, 108.127 185.752 Q 108.127 187.816, 106.991 188.984 Q 105.871 190.136, 103.903 190.136 Q 102.975 190.136, 102.191 189.912 L 102.191 193.928 L 100.687 193.928 L 100.687 181.784 L 101.903 181.784 L 102.095 182.776 Q 102.527 182.216, 103.135 181.928 Q 103.759 181.64, 104.511 181.64 M 103.887 188.952 Q 105.151 188.952, 105.871 188.12 Q 106.591 187.272, 106.591 185.752 Q 106.591 184.344, 106.015 183.592 Q 105.455 182.824, 104.415 182.824 Q 103.599 182.824, 103.007 183.256 Q 102.431 183.688, 102.191 184.456 L 102.191 188.712 Q 103.007 188.952, 103.887 188.952 \" fill=\"#000000\"/>\n",
       "<path d=\"M 108.831 187.784 Q 108.831 186.472, 109.887 185.752 Q 110.943 185.032, 112.879 185.032 L 114.095 185.032 L 114.095 184.712 Q 114.095 183.688, 113.663 183.256 Q 113.247 182.824, 112.223 182.824 Q 111.567 182.824, 111.055 182.952 Q 110.543 183.064, 109.743 183.416 L 109.295 182.376 Q 110.799 181.64, 112.255 181.64 Q 113.999 181.64, 114.799 182.392 Q 115.599 183.128, 115.599 184.744 L 115.599 190.008 L 114.431 190.008 Q 114.415 189.944, 114.367 189.704 Q 114.319 189.448, 114.223 189.048 Q 113.071 190.2, 111.535 190.2 Q 110.303 190.2, 109.567 189.544 Q 108.831 188.888, 108.831 187.784 M 110.335 187.752 Q 110.335 188.36, 110.719 188.696 Q 111.103 189.016, 111.823 189.016 Q 112.463 189.016, 113.071 188.728 Q 113.679 188.424, 114.095 187.912 L 114.095 186.152 L 112.975 186.152 Q 111.663 186.152, 110.991 186.552 Q 110.335 186.952, 110.335 187.752 \" fill=\"#000000\"/>\n",
       "<path d=\"M 121.199 181.64 Q 122.511 181.64, 123.199 182.392 Q 123.903 183.144, 123.903 184.568 L 123.903 190.008 L 122.399 190.008 L 122.399 184.68 Q 122.399 183.704, 122.015 183.272 Q 121.647 182.824, 120.815 182.824 Q 120.063 182.824, 119.439 183.176 Q 118.815 183.512, 118.415 184.12 L 118.415 190.008 L 116.911 190.008 L 116.911 181.784 L 118.143 181.784 L 118.319 182.936 Q 119.423 181.64, 121.199 181.64 \" fill=\"#000000\"/>\n",
       "<path d=\"M 124.639 185.88 Q 124.639 183.88, 125.647 182.76 Q 126.671 181.64, 128.543 181.64 Q 130.415 181.64, 131.423 182.76 Q 132.447 183.88, 132.447 185.88 Q 132.447 187.88, 131.423 189.016 Q 130.415 190.136, 128.543 190.136 Q 126.671 190.136, 125.647 189.016 Q 124.639 187.88, 124.639 185.88 M 126.175 185.88 Q 126.175 187.384, 126.783 188.168 Q 127.407 188.952, 128.543 188.952 Q 129.679 188.952, 130.287 188.168 Q 130.911 187.384, 130.911 185.88 Q 130.911 184.376, 130.287 183.608 Q 129.679 182.824, 128.543 182.824 Q 127.407 182.824, 126.783 183.608 Q 126.175 184.376, 126.175 185.88 \" fill=\"#000000\"/>\n",
       "<path d=\"M 133.823 177.864 L 135.295 177.864 L 135.295 190.008 L 133.823 190.008 L 133.823 177.864 \" fill=\"#000000\"/>\n",
       "<path class=\"bond-0 atom-0 atom-1\" d=\"M 299.677,102.954 L 317.93,71.543\" style=\"fill:none;fill-rule:evenodd;stroke:#000000;stroke-width:2.0px;stroke-linecap:butt;stroke-linejoin:miter;stroke-opacity:1\"/>\n",
       "<path class=\"bond-0 atom-0 atom-1\" d=\"M 317.93,71.543 L 336.182,40.132\" style=\"fill:none;fill-rule:evenodd;stroke:#00CC00;stroke-width:2.0px;stroke-linecap:butt;stroke-linejoin:miter;stroke-opacity:1\"/>\n",
       "<path class=\"bond-1 atom-0 atom-2\" d=\"M 299.677,102.954 L 281.478,71.2303\" style=\"fill:none;fill-rule:evenodd;stroke:#000000;stroke-width:2.0px;stroke-linecap:butt;stroke-linejoin:miter;stroke-opacity:1\"/>\n",
       "<path class=\"bond-1 atom-0 atom-2\" d=\"M 281.478,71.2303 L 263.28,39.5066\" style=\"fill:none;fill-rule:evenodd;stroke:#00CC00;stroke-width:2.0px;stroke-linecap:butt;stroke-linejoin:miter;stroke-opacity:1\"/>\n",
       "<path class=\"bond-2 atom-0 atom-3\" d=\"M 299.677,102.954 L 331.435,121.408\" style=\"fill:none;fill-rule:evenodd;stroke:#000000;stroke-width:2.0px;stroke-linecap:butt;stroke-linejoin:miter;stroke-opacity:1\"/>\n",
       "<path class=\"bond-2 atom-0 atom-3\" d=\"M 331.435,121.408 L 363.192,139.861\" style=\"fill:none;fill-rule:evenodd;stroke:#00CC00;stroke-width:2.0px;stroke-linecap:butt;stroke-linejoin:miter;stroke-opacity:1\"/>\n",
       "<path class=\"bond-3 atom-0 atom-4\" d=\"M 299.677,102.954 L 267.13,121.625\" style=\"fill:none;fill-rule:evenodd;stroke:#000000;stroke-width:2.0px;stroke-linecap:butt;stroke-linejoin:miter;stroke-opacity:1\"/>\n",
       "<path class=\"bond-3 atom-0 atom-4\" d=\"M 267.13,121.625 L 234.583,140.297\" style=\"fill:none;fill-rule:evenodd;stroke:#00CC00;stroke-width:2.0px;stroke-linecap:butt;stroke-linejoin:miter;stroke-opacity:1\"/>\n",
       "<path class=\"atom-1\" d=\"M 337.026 36.0081 Q 337.026 34.9521, 337.518 34.4001 Q 338.016 33.8421, 338.958 33.8421 Q 339.834 33.8421, 340.302 34.4601 L 339.906 34.7841 Q 339.564 34.3341, 338.958 34.3341 Q 338.316 34.3341, 337.974 34.7661 Q 337.638 35.1921, 337.638 36.0081 Q 337.638 36.8481, 337.986 37.2801 Q 338.34 37.7121, 339.024 37.7121 Q 339.492 37.7121, 340.038 37.4301 L 340.206 37.8801 Q 339.984 38.0241, 339.648 38.1081 Q 339.312 38.1921, 338.94 38.1921 Q 338.016 38.1921, 337.518 37.6281 Q 337.026 37.0641, 337.026 36.0081 \" fill=\"#00CC00\"/>\n",
       "<path class=\"atom-1\" d=\"M 340.818 33.5841 L 341.37 33.5841 L 341.37 38.1381 L 340.818 38.1381 L 340.818 33.5841 \" fill=\"#00CC00\"/>\n",
       "<path class=\"atom-2\" d=\"M 256.996 35.7908 Q 256.996 34.7348, 257.488 34.1828 Q 257.986 33.6248, 258.928 33.6248 Q 259.804 33.6248, 260.272 34.2428 L 259.876 34.5668 Q 259.534 34.1168, 258.928 34.1168 Q 258.286 34.1168, 257.944 34.5488 Q 257.608 34.9748, 257.608 35.7908 Q 257.608 36.6308, 257.956 37.0628 Q 258.31 37.4948, 258.994 37.4948 Q 259.462 37.4948, 260.008 37.2128 L 260.176 37.6628 Q 259.954 37.8068, 259.618 37.8908 Q 259.282 37.9748, 258.91 37.9748 Q 257.986 37.9748, 257.488 37.4108 Q 256.996 36.8468, 256.996 35.7908 \" fill=\"#00CC00\"/>\n",
       "<path class=\"atom-2\" d=\"M 260.788 33.3668 L 261.34 33.3668 L 261.34 37.9208 L 260.788 37.9208 L 260.788 33.3668 \" fill=\"#00CC00\"/>\n",
       "<path class=\"atom-3\" d=\"M 365.132 142.087 Q 365.132 141.031, 365.624 140.479 Q 366.122 139.921, 367.064 139.921 Q 367.94 139.921, 368.408 140.539 L 368.012 140.863 Q 367.67 140.413, 367.064 140.413 Q 366.422 140.413, 366.08 140.845 Q 365.744 141.271, 365.744 142.087 Q 365.744 142.927, 366.092 143.359 Q 366.446 143.791, 367.13 143.791 Q 367.598 143.791, 368.144 143.509 L 368.312 143.959 Q 368.09 144.103, 367.754 144.187 Q 367.418 144.271, 367.046 144.271 Q 366.122 144.271, 365.624 143.707 Q 365.132 143.143, 365.132 142.087 \" fill=\"#00CC00\"/>\n",
       "<path class=\"atom-3\" d=\"M 368.924 139.663 L 369.476 139.663 L 369.476 144.217 L 368.924 144.217 L 368.924 139.663 \" fill=\"#00CC00\"/>\n",
       "<path class=\"atom-4\" d=\"M 228.299 141.715 Q 228.299 140.659, 228.791 140.107 Q 229.289 139.549, 230.231 139.549 Q 231.107 139.549, 231.575 140.167 L 231.179 140.491 Q 230.837 140.041, 230.231 140.041 Q 229.589 140.041, 229.247 140.473 Q 228.911 140.899, 228.911 141.715 Q 228.911 142.555, 229.259 142.987 Q 229.613 143.419, 230.297 143.419 Q 230.765 143.419, 231.311 143.137 L 231.479 143.587 Q 231.257 143.731, 230.921 143.815 Q 230.585 143.899, 230.213 143.899 Q 229.289 143.899, 228.791 143.335 Q 228.299 142.771, 228.299 141.715 \" fill=\"#00CC00\"/>\n",
       "<path class=\"atom-4\" d=\"M 232.091 139.291 L 232.643 139.291 L 232.643 143.845 L 232.091 143.845 L 232.091 139.291 \" fill=\"#00CC00\"/>\n",
       "<path d=\"M 228.941 189.608 Q 228.941 187.624, 229.933 186.504 Q 230.925 185.368, 232.877 185.368 Q 234.749 185.368, 235.725 186.728 L 234.717 187.48 Q 234.333 187.016, 233.885 186.792 Q 233.453 186.552, 232.877 186.552 Q 231.741 186.552, 231.101 187.336 Q 230.477 188.104, 230.477 189.608 Q 230.477 191.128, 231.117 191.912 Q 231.773 192.68, 232.973 192.68 Q 233.645 192.68, 234.109 192.536 Q 234.573 192.376, 235.149 192.12 L 235.565 193.144 Q 234.381 193.832, 232.861 193.832 Q 230.925 193.832, 229.933 192.712 Q 228.941 191.592, 228.941 189.608 \" fill=\"#000000\"/>\n",
       "<path d=\"M 236.429 191.512 Q 236.429 190.2, 237.485 189.48 Q 238.541 188.76, 240.477 188.76 L 241.693 188.76 L 241.693 188.44 Q 241.693 187.416, 241.261 186.984 Q 240.845 186.552, 239.821 186.552 Q 239.165 186.552, 238.653 186.68 Q 238.141 186.792, 237.341 187.144 L 236.893 186.104 Q 238.397 185.368, 239.853 185.368 Q 241.597 185.368, 242.397 186.12 Q 243.197 186.856, 243.197 188.472 L 243.197 193.736 L 242.029 193.736 Q 242.013 193.672, 241.965 193.432 Q 241.917 193.176, 241.821 192.776 Q 240.669 193.928, 239.133 193.928 Q 237.901 193.928, 237.165 193.272 Q 236.429 192.616, 236.429 191.512 M 237.933 191.48 Q 237.933 192.088, 238.317 192.424 Q 238.701 192.744, 239.421 192.744 Q 240.061 192.744, 240.669 192.456 Q 241.277 192.152, 241.693 191.64 L 241.693 189.88 L 240.573 189.88 Q 239.261 189.88, 238.589 190.28 Q 237.933 190.68, 237.933 191.48 \" fill=\"#000000\"/>\n",
       "<path d=\"M 245.773 185.512 L 245.949 186.648 Q 246.813 185.368, 248.221 185.368 Q 248.669 185.368, 249.277 185.528 L 249.037 186.872 Q 248.349 186.712, 247.965 186.712 Q 247.293 186.712, 246.845 186.984 Q 246.413 187.24, 246.061 187.864 L 246.061 193.736 L 244.557 193.736 L 244.557 185.512 L 245.773 185.512 \" fill=\"#000000\"/>\n",
       "<path d=\"M 254.477 185.368 Q 256.189 185.368, 257.133 186.44 Q 258.093 187.496, 258.093 189.48 Q 258.093 191.544, 256.957 192.712 Q 255.837 193.864, 253.869 193.864 Q 252.573 193.864, 251.357 193.384 L 250.637 193.208 L 250.637 181.592 L 252.141 181.592 L 252.141 186.408 Q 253.005 185.368, 254.477 185.368 M 253.853 192.68 Q 255.117 192.68, 255.837 191.848 Q 256.557 191, 256.557 189.48 Q 256.557 188.072, 255.981 187.32 Q 255.421 186.552, 254.381 186.552 Q 253.549 186.552, 252.957 187 Q 252.365 187.448, 252.141 188.232 L 252.141 192.44 Q 252.957 192.68, 253.853 192.68 \" fill=\"#000000\"/>\n",
       "<path d=\"M 258.829 189.608 Q 258.829 187.608, 259.837 186.488 Q 260.861 185.368, 262.733 185.368 Q 264.605 185.368, 265.613 186.488 Q 266.637 187.608, 266.637 189.608 Q 266.637 191.608, 265.613 192.744 Q 264.605 193.864, 262.733 193.864 Q 260.861 193.864, 259.837 192.744 Q 258.829 191.608, 258.829 189.608 M 260.365 189.608 Q 260.365 191.112, 260.973 191.896 Q 261.597 192.68, 262.733 192.68 Q 263.869 192.68, 264.477 191.896 Q 265.101 191.112, 265.101 189.608 Q 265.101 188.104, 264.477 187.336 Q 263.869 186.552, 262.733 186.552 Q 261.597 186.552, 260.973 187.336 Q 260.365 188.104, 260.365 189.608 \" fill=\"#000000\"/>\n",
       "<path d=\"M 272.237 185.368 Q 273.549 185.368, 274.237 186.12 Q 274.941 186.872, 274.941 188.296 L 274.941 193.736 L 273.437 193.736 L 273.437 188.408 Q 273.437 187.432, 273.053 187 Q 272.685 186.552, 271.853 186.552 Q 271.101 186.552, 270.477 186.904 Q 269.853 187.24, 269.453 187.848 L 269.453 193.736 L 267.949 193.736 L 267.949 185.512 L 269.181 185.512 L 269.357 186.664 Q 270.461 185.368, 272.237 185.368 \" fill=\"#000000\"/>\n",
       "<path d=\"\" fill=\"#000000\"/>\n",
       "<path d=\"M 279.405 186.664 L 279.405 185.512 L 280.973 185.512 L 281.229 183.112 L 282.349 183.112 L 282.349 185.512 L 284.861 185.512 L 284.861 186.664 L 282.349 186.664 L 282.349 191.208 Q 282.349 192.632, 283.549 192.632 Q 284.029 192.632, 284.733 192.408 L 284.989 193.464 Q 284.109 193.832, 283.277 193.832 Q 282.205 193.832, 281.517 193.192 Q 280.845 192.552, 280.845 191.288 L 280.845 186.664 L 279.405 186.664 \" fill=\"#000000\"/>\n",
       "<path d=\"M 285.725 189.608 Q 285.725 187.592, 286.733 186.488 Q 287.741 185.368, 289.581 185.368 Q 291.389 185.368, 292.189 186.456 Q 293.005 187.528, 293.005 189.56 L 293.005 189.816 L 287.261 189.816 Q 287.293 191.208, 287.917 191.944 Q 288.541 192.68, 289.709 192.68 Q 290.349 192.68, 290.941 192.536 Q 291.533 192.376, 292.253 192.056 L 292.685 193.08 Q 291.869 193.496, 291.133 193.688 Q 290.397 193.864, 289.629 193.864 Q 287.773 193.864, 286.749 192.744 Q 285.725 191.624, 285.725 189.608 M 289.581 186.552 Q 288.637 186.552, 288.061 187.096 Q 287.501 187.64, 287.325 188.696 L 291.421 188.696 Q 291.309 187.592, 290.861 187.08 Q 290.413 186.552, 289.581 186.552 \" fill=\"#000000\"/>\n",
       "<path d=\"M 293.469 186.664 L 293.469 185.512 L 295.037 185.512 L 295.293 183.112 L 296.413 183.112 L 296.413 185.512 L 298.925 185.512 L 298.925 186.664 L 296.413 186.664 L 296.413 191.208 Q 296.413 192.632, 297.613 192.632 Q 298.093 192.632, 298.797 192.408 L 299.053 193.464 Q 298.173 193.832, 297.341 193.832 Q 296.269 193.832, 295.581 193.192 Q 294.909 192.552, 294.909 191.288 L 294.909 186.664 L 293.469 186.664 \" fill=\"#000000\"/>\n",
       "<path d=\"M 301.629 185.512 L 301.805 186.648 Q 302.669 185.368, 304.077 185.368 Q 304.525 185.368, 305.133 185.528 L 304.893 186.872 Q 304.205 186.712, 303.821 186.712 Q 303.149 186.712, 302.701 186.984 Q 302.269 187.24, 301.917 187.864 L 301.917 193.736 L 300.413 193.736 L 300.413 185.512 L 301.629 185.512 \" fill=\"#000000\"/>\n",
       "<path d=\"M 305.837 191.512 Q 305.837 190.2, 306.893 189.48 Q 307.949 188.76, 309.885 188.76 L 311.101 188.76 L 311.101 188.44 Q 311.101 187.416, 310.669 186.984 Q 310.253 186.552, 309.229 186.552 Q 308.573 186.552, 308.061 186.68 Q 307.549 186.792, 306.749 187.144 L 306.301 186.104 Q 307.805 185.368, 309.261 185.368 Q 311.005 185.368, 311.805 186.12 Q 312.605 186.856, 312.605 188.472 L 312.605 193.736 L 311.437 193.736 Q 311.421 193.672, 311.373 193.432 Q 311.325 193.176, 311.229 192.776 Q 310.077 193.928, 308.541 193.928 Q 307.309 193.928, 306.573 193.272 Q 305.837 192.616, 305.837 191.512 M 307.341 191.48 Q 307.341 192.088, 307.725 192.424 Q 308.109 192.744, 308.829 192.744 Q 309.469 192.744, 310.077 192.456 Q 310.685 192.152, 311.101 191.64 L 311.101 189.88 L 309.981 189.88 Q 308.669 189.88, 307.997 190.28 Q 307.341 190.68, 307.341 191.48 \" fill=\"#000000\"/>\n",
       "<path d=\"M 313.341 189.608 Q 313.341 187.624, 314.333 186.504 Q 315.325 185.368, 317.277 185.368 Q 319.149 185.368, 320.125 186.728 L 319.117 187.48 Q 318.733 187.016, 318.285 186.792 Q 317.853 186.552, 317.277 186.552 Q 316.141 186.552, 315.501 187.336 Q 314.877 188.104, 314.877 189.608 Q 314.877 191.128, 315.517 191.912 Q 316.173 192.68, 317.373 192.68 Q 318.045 192.68, 318.509 192.536 Q 318.973 192.376, 319.549 192.12 L 319.965 193.144 Q 318.781 193.832, 317.261 193.832 Q 315.325 193.832, 314.333 192.712 Q 313.341 191.592, 313.341 189.608 \" fill=\"#000000\"/>\n",
       "<path d=\"M 325.773 185.368 Q 327.085 185.368, 327.773 186.12 Q 328.477 186.872, 328.477 188.296 L 328.477 193.736 L 326.973 193.736 L 326.973 188.408 Q 326.973 187.432, 326.589 187 Q 326.221 186.552, 325.389 186.552 Q 324.637 186.552, 324.013 186.904 Q 323.389 187.24, 322.989 187.848 L 322.989 193.736 L 321.485 193.736 L 321.485 181.592 L 322.989 181.592 L 322.989 186.552 Q 324.077 185.368, 325.773 185.368 \" fill=\"#000000\"/>\n",
       "<path d=\"M 329.853 181.592 L 331.325 181.592 L 331.325 193.736 L 329.853 193.736 L 329.853 181.592 \" fill=\"#000000\"/>\n",
       "<path d=\"M 332.061 189.608 Q 332.061 187.608, 333.069 186.488 Q 334.093 185.368, 335.965 185.368 Q 337.837 185.368, 338.845 186.488 Q 339.869 187.608, 339.869 189.608 Q 339.869 191.608, 338.845 192.744 Q 337.837 193.864, 335.965 193.864 Q 334.093 193.864, 333.069 192.744 Q 332.061 191.608, 332.061 189.608 M 333.597 189.608 Q 333.597 191.112, 334.205 191.896 Q 334.829 192.68, 335.965 192.68 Q 337.101 192.68, 337.709 191.896 Q 338.333 191.112, 338.333 189.608 Q 338.333 188.104, 337.709 187.336 Q 337.101 186.552, 335.965 186.552 Q 334.829 186.552, 334.205 187.336 Q 333.597 188.104, 333.597 189.608 \" fill=\"#000000\"/>\n",
       "<path d=\"M 342.445 185.512 L 342.621 186.648 Q 343.485 185.368, 344.893 185.368 Q 345.341 185.368, 345.949 185.528 L 345.709 186.872 Q 345.021 186.712, 344.637 186.712 Q 343.965 186.712, 343.517 186.984 Q 343.085 187.24, 342.733 187.864 L 342.733 193.736 L 341.229 193.736 L 341.229 185.512 L 342.445 185.512 \" fill=\"#000000\"/>\n",
       "<path d=\"M 347.325 182.408 L 348.797 182.408 L 348.797 183.8 L 347.325 183.8 L 347.325 182.408 M 347.325 185.512 L 348.797 185.512 L 348.797 193.736 L 347.325 193.736 L 347.325 185.512 \" fill=\"#000000\"/>\n",
       "<path d=\"M 357.005 181.592 L 357.005 193.72 L 355.789 193.72 L 355.581 192.712 Q 354.669 193.864, 353.149 193.864 Q 351.437 193.864, 350.477 192.808 Q 349.533 191.736, 349.533 189.752 Q 349.533 187.688, 350.653 186.536 Q 351.789 185.368, 353.757 185.368 Q 354.605 185.368, 355.501 185.592 L 355.501 181.592 L 357.005 181.592 M 353.245 192.68 Q 354.077 192.68, 354.669 192.232 Q 355.277 191.768, 355.501 190.952 L 355.501 186.792 Q 354.685 186.552, 353.773 186.552 Q 352.509 186.552, 351.789 187.4 Q 351.069 188.232, 351.069 189.752 Q 351.069 191.16, 351.629 191.928 Q 352.205 192.68, 353.245 192.68 \" fill=\"#000000\"/>\n",
       "<path d=\"M 357.741 189.608 Q 357.741 187.592, 358.749 186.488 Q 359.757 185.368, 361.597 185.368 Q 363.405 185.368, 364.205 186.456 Q 365.021 187.528, 365.021 189.56 L 365.021 189.816 L 359.277 189.816 Q 359.309 191.208, 359.933 191.944 Q 360.557 192.68, 361.725 192.68 Q 362.365 192.68, 362.957 192.536 Q 363.549 192.376, 364.269 192.056 L 364.701 193.08 Q 363.885 193.496, 363.149 193.688 Q 362.413 193.864, 361.645 193.864 Q 359.789 193.864, 358.765 192.744 Q 357.741 191.624, 357.741 189.608 M 361.597 186.552 Q 360.653 186.552, 360.077 187.096 Q 359.517 187.64, 359.341 188.696 L 363.437 188.696 Q 363.325 187.592, 362.877 187.08 Q 362.429 186.552, 361.597 186.552 \" fill=\"#000000\"/>\n",
       "<path class=\"bond-0 atom-0 atom-1\" d=\"M 432.367,130.149 L 499.708,91.5972\" style=\"fill:none;fill-rule:evenodd;stroke:#000000;stroke-width:2.0px;stroke-linecap:butt;stroke-linejoin:miter;stroke-opacity:1\"/>\n",
       "<path class=\"bond-1 atom-1 atom-2\" d=\"M 506.692,91.6224 L 506.825,54.8994\" style=\"fill:none;fill-rule:evenodd;stroke:#000000;stroke-width:2.0px;stroke-linecap:butt;stroke-linejoin:miter;stroke-opacity:1\"/>\n",
       "<path class=\"bond-1 atom-1 atom-2\" d=\"M 506.825,54.8994 L 506.957,18.1764\" style=\"fill:none;fill-rule:evenodd;stroke:#FF0000;stroke-width:2.0px;stroke-linecap:butt;stroke-linejoin:miter;stroke-opacity:1\"/>\n",
       "<path class=\"bond-1 atom-1 atom-2\" d=\"M 492.724,91.5721 L 492.857,54.8491\" style=\"fill:none;fill-rule:evenodd;stroke:#000000;stroke-width:2.0px;stroke-linecap:butt;stroke-linejoin:miter;stroke-opacity:1\"/>\n",
       "<path class=\"bond-1 atom-1 atom-2\" d=\"M 492.857,54.8491 L 492.989,18.1261\" style=\"fill:none;fill-rule:evenodd;stroke:#FF0000;stroke-width:2.0px;stroke-linecap:butt;stroke-linejoin:miter;stroke-opacity:1\"/>\n",
       "<path class=\"bond-2 atom-1 atom-3\" d=\"M 499.708,91.5972 L 531.294,109.982\" style=\"fill:none;fill-rule:evenodd;stroke:#000000;stroke-width:2.0px;stroke-linecap:butt;stroke-linejoin:miter;stroke-opacity:1\"/>\n",
       "<path class=\"bond-2 atom-1 atom-3\" d=\"M 531.294,109.982 L 562.88,128.366\" style=\"fill:none;fill-rule:evenodd;stroke:#FF0000;stroke-width:2.0px;stroke-linecap:butt;stroke-linejoin:miter;stroke-opacity:1\"/>\n",
       "<path class=\"atom-2\" d=\"M 498.038 14.0093 Q 498.038 12.9893, 498.542 12.4193 Q 499.046 11.8493, 499.988 11.8493 Q 500.93 11.8493, 501.434 12.4193 Q 501.938 12.9893, 501.938 14.0093 Q 501.938 15.0413, 501.428 15.6293 Q 500.918 16.2113, 499.988 16.2113 Q 499.052 16.2113, 498.542 15.6293 Q 498.038 15.0473, 498.038 14.0093 M 499.988 15.7313 Q 500.636 15.7313, 500.984 15.2993 Q 501.338 14.8613, 501.338 14.0093 Q 501.338 13.1753, 500.984 12.7553 Q 500.636 12.3293, 499.988 12.3293 Q 499.34 12.3293, 498.986 12.7493 Q 498.638 13.1693, 498.638 14.0093 Q 498.638 14.8673, 498.986 15.2993 Q 499.34 15.7313, 499.988 15.7313 \" fill=\"#FF0000\"/>\n",
       "<path class=\"atom-3\" d=\"M 564.82 130.642 Q 564.82 129.622, 565.324 129.052 Q 565.828 128.482, 566.77 128.482 Q 567.712 128.482, 568.216 129.052 Q 568.72 129.622, 568.72 130.642 Q 568.72 131.674, 568.21 132.262 Q 567.7 132.844, 566.77 132.844 Q 565.834 132.844, 565.324 132.262 Q 564.82 131.68, 564.82 130.642 M 566.77 132.364 Q 567.418 132.364, 567.766 131.932 Q 568.12 131.494, 568.12 130.642 Q 568.12 129.808, 567.766 129.388 Q 567.418 128.962, 566.77 128.962 Q 566.122 128.962, 565.768 129.382 Q 565.42 129.802, 565.42 130.642 Q 565.42 131.5, 565.768 131.932 Q 566.122 132.364, 566.77 132.364 \" fill=\"#FF0000\"/>\n",
       "<path class=\"atom-3\" d=\"M 569.23 128.53 L 569.806 128.53 L 569.806 130.336 L 571.978 130.336 L 571.978 128.53 L 572.554 128.53 L 572.554 132.778 L 571.978 132.778 L 571.978 130.816 L 569.806 130.816 L 569.806 132.778 L 569.23 132.778 L 569.23 128.53 \" fill=\"#FF0000\"/>\n",
       "<path d=\"M 462.977 191.512 Q 462.977 190.2, 464.033 189.48 Q 465.089 188.76, 467.025 188.76 L 468.241 188.76 L 468.241 188.44 Q 468.241 187.416, 467.809 186.984 Q 467.393 186.552, 466.369 186.552 Q 465.713 186.552, 465.201 186.68 Q 464.689 186.792, 463.889 187.144 L 463.441 186.104 Q 464.945 185.368, 466.401 185.368 Q 468.145 185.368, 468.945 186.12 Q 469.745 186.856, 469.745 188.472 L 469.745 193.736 L 468.577 193.736 Q 468.561 193.672, 468.513 193.432 Q 468.465 193.176, 468.369 192.776 Q 467.217 193.928, 465.681 193.928 Q 464.449 193.928, 463.713 193.272 Q 462.977 192.616, 462.977 191.512 M 464.481 191.48 Q 464.481 192.088, 464.865 192.424 Q 465.249 192.744, 465.969 192.744 Q 466.609 192.744, 467.217 192.456 Q 467.825 192.152, 468.241 191.64 L 468.241 189.88 L 467.121 189.88 Q 465.809 189.88, 465.137 190.28 Q 464.481 190.68, 464.481 191.48 \" fill=\"#000000\"/>\n",
       "<path d=\"M 470.481 189.608 Q 470.481 187.624, 471.473 186.504 Q 472.465 185.368, 474.417 185.368 Q 476.289 185.368, 477.265 186.728 L 476.257 187.48 Q 475.873 187.016, 475.425 186.792 Q 474.993 186.552, 474.417 186.552 Q 473.281 186.552, 472.641 187.336 Q 472.017 188.104, 472.017 189.608 Q 472.017 191.128, 472.657 191.912 Q 473.313 192.68, 474.513 192.68 Q 475.185 192.68, 475.649 192.536 Q 476.113 192.376, 476.689 192.12 L 477.105 193.144 Q 475.921 193.832, 474.401 193.832 Q 472.465 193.832, 471.473 192.712 Q 470.481 191.592, 470.481 189.608 \" fill=\"#000000\"/>\n",
       "<path d=\"M 478.001 189.608 Q 478.001 187.592, 479.009 186.488 Q 480.017 185.368, 481.857 185.368 Q 483.665 185.368, 484.465 186.456 Q 485.281 187.528, 485.281 189.56 L 485.281 189.816 L 479.537 189.816 Q 479.569 191.208, 480.193 191.944 Q 480.817 192.68, 481.985 192.68 Q 482.625 192.68, 483.217 192.536 Q 483.809 192.376, 484.529 192.056 L 484.961 193.08 Q 484.145 193.496, 483.409 193.688 Q 482.673 193.864, 481.905 193.864 Q 480.049 193.864, 479.025 192.744 Q 478.001 191.624, 478.001 189.608 M 481.857 186.552 Q 480.913 186.552, 480.337 187.096 Q 479.777 187.64, 479.601 188.696 L 483.697 188.696 Q 483.585 187.592, 483.137 187.08 Q 482.689 186.552, 481.857 186.552 \" fill=\"#000000\"/>\n",
       "<path d=\"M 485.745 186.664 L 485.745 185.512 L 487.313 185.512 L 487.569 183.112 L 488.689 183.112 L 488.689 185.512 L 491.201 185.512 L 491.201 186.664 L 488.689 186.664 L 488.689 191.208 Q 488.689 192.632, 489.889 192.632 Q 490.369 192.632, 491.073 192.408 L 491.329 193.464 Q 490.449 193.832, 489.617 193.832 Q 488.545 193.832, 487.857 193.192 Q 487.185 192.552, 487.185 191.288 L 487.185 186.664 L 485.745 186.664 \" fill=\"#000000\"/>\n",
       "<path d=\"M 492.705 182.408 L 494.177 182.408 L 494.177 183.8 L 492.705 183.8 L 492.705 182.408 M 492.705 185.512 L 494.177 185.512 L 494.177 193.736 L 492.705 193.736 L 492.705 185.512 \" fill=\"#000000\"/>\n",
       "<path d=\"M 494.913 189.608 Q 494.913 187.624, 495.905 186.504 Q 496.897 185.368, 498.849 185.368 Q 500.721 185.368, 501.697 186.728 L 500.689 187.48 Q 500.305 187.016, 499.857 186.792 Q 499.425 186.552, 498.849 186.552 Q 497.713 186.552, 497.073 187.336 Q 496.449 188.104, 496.449 189.608 Q 496.449 191.128, 497.089 191.912 Q 497.745 192.68, 498.945 192.68 Q 499.617 192.68, 500.081 192.536 Q 500.545 192.376, 501.121 192.12 L 501.537 193.144 Q 500.353 193.832, 498.833 193.832 Q 496.897 193.832, 495.905 192.712 Q 494.913 191.592, 494.913 189.608 \" fill=\"#000000\"/>\n",
       "<path d=\"\" fill=\"#000000\"/>\n",
       "<path d=\"M 506.401 191.512 Q 506.401 190.2, 507.457 189.48 Q 508.513 188.76, 510.449 188.76 L 511.665 188.76 L 511.665 188.44 Q 511.665 187.416, 511.233 186.984 Q 510.817 186.552, 509.793 186.552 Q 509.137 186.552, 508.625 186.68 Q 508.113 186.792, 507.313 187.144 L 506.865 186.104 Q 508.369 185.368, 509.825 185.368 Q 511.569 185.368, 512.369 186.12 Q 513.169 186.856, 513.169 188.472 L 513.169 193.736 L 512.001 193.736 Q 511.985 193.672, 511.937 193.432 Q 511.889 193.176, 511.793 192.776 Q 510.641 193.928, 509.105 193.928 Q 507.873 193.928, 507.137 193.272 Q 506.401 192.616, 506.401 191.512 M 507.905 191.48 Q 507.905 192.088, 508.289 192.424 Q 508.673 192.744, 509.393 192.744 Q 510.033 192.744, 510.641 192.456 Q 511.249 192.152, 511.665 191.64 L 511.665 189.88 L 510.545 189.88 Q 509.233 189.88, 508.561 190.28 Q 507.905 190.68, 507.905 191.48 \" fill=\"#000000\"/>\n",
       "<path d=\"M 513.905 189.608 Q 513.905 187.624, 514.897 186.504 Q 515.889 185.368, 517.841 185.368 Q 519.713 185.368, 520.689 186.728 L 519.681 187.48 Q 519.297 187.016, 518.849 186.792 Q 518.417 186.552, 517.841 186.552 Q 516.705 186.552, 516.065 187.336 Q 515.441 188.104, 515.441 189.608 Q 515.441 191.128, 516.081 191.912 Q 516.737 192.68, 517.937 192.68 Q 518.609 192.68, 519.073 192.536 Q 519.537 192.376, 520.113 192.12 L 520.529 193.144 Q 519.345 193.832, 517.825 193.832 Q 515.889 193.832, 514.897 192.712 Q 513.905 191.592, 513.905 189.608 \" fill=\"#000000\"/>\n",
       "<path d=\"M 522.065 182.408 L 523.537 182.408 L 523.537 183.8 L 522.065 183.8 L 522.065 182.408 M 522.065 185.512 L 523.537 185.512 L 523.537 193.736 L 522.065 193.736 L 522.065 185.512 \" fill=\"#000000\"/>\n",
       "<path d=\"M 531.745 181.592 L 531.745 193.72 L 530.529 193.72 L 530.321 192.712 Q 529.409 193.864, 527.889 193.864 Q 526.177 193.864, 525.217 192.808 Q 524.273 191.736, 524.273 189.752 Q 524.273 187.688, 525.393 186.536 Q 526.529 185.368, 528.497 185.368 Q 529.345 185.368, 530.241 185.592 L 530.241 181.592 L 531.745 181.592 M 527.985 192.68 Q 528.817 192.68, 529.409 192.232 Q 530.017 191.768, 530.241 190.952 L 530.241 186.792 Q 529.425 186.552, 528.513 186.552 Q 527.249 186.552, 526.529 187.4 Q 525.809 188.232, 525.809 189.752 Q 525.809 191.16, 526.369 191.928 Q 526.945 192.68, 527.985 192.68 \" fill=\"#000000\"/>\n",
       "</svg>"
      ],
      "text/plain": [
       "<IPython.core.display.SVG object>"
      ]
     },
     "execution_count": 18,
     "metadata": {},
     "output_type": "execute_result"
    }
   ],
   "source": [
    "display_structures(smiles_list)"
   ]
  },
  {
   "cell_type": "markdown",
   "id": "12884cef",
   "metadata": {},
   "source": [
    "### Exercise\n",
    "\n",
    "Write the SMILES and display a table of chemical structures for the following. If you don't know the structures, google the names. \n",
    "\n",
    "1. 2-menthylpentene\n",
    "2. isopropanal\n",
    "3. 2-pentyn-1-ol\n",
    "4. 1,2,2,3-tetrafluorobutane\n",
    "5. propanoic acid\n",
    "6. 2-t-butyl-3-hydroxy-propane"
   ]
  },
  {
   "cell_type": "code",
   "execution_count": 19,
   "id": "e344b43f",
   "metadata": {},
   "outputs": [],
   "source": [
    "#Write your code here"
   ]
  },
  {
   "cell_type": "markdown",
   "id": "b4d62fbb",
   "metadata": {},
   "source": [
    "### Rings\n",
    "In SMILES, rings are indicated by specifying a \"closure digit\" indicating atoms that are connected.  For instance, the SMILES for cyclohexane is C1CCCCC1. "
   ]
  },
  {
   "cell_type": "code",
   "execution_count": 20,
   "id": "1a6c7f2c",
   "metadata": {},
   "outputs": [
    {
     "data": {
      "image/png": "[encoded data removed]",
      "image/svg+xml": [
       "<?xml version='1.0' encoding='iso-8859-1'?>\n",
       "<svg version='1.1' baseProfile='full'\n",
       "              xmlns='http://www.w3.org/2000/svg'\n",
       "                      xmlns:rdkit='http://www.rdkit.org/xml'\n",
       "                      xmlns:xlink='http://www.w3.org/1999/xlink'\n",
       "                  xml:space='preserve'\n",
       "width='300px' height='300px' viewBox='0 0 300 300'>\n",
       "<!-- END OF HEADER -->\n",
       "<rect style='opacity:1.0;fill:#FFFFFF;stroke:none' width='300' height='300' x='0' y='0'> </rect>\n",
       "<path class='bond-0 atom-0 atom-1' d='M 31.8545,218.1 L 31.9636,81.7364' style='fill:none;fill-rule:evenodd;stroke:#000000;stroke-width:2.0px;stroke-linecap:butt;stroke-linejoin:miter;stroke-opacity:1' />\n",
       "<path class='bond-5 atom-5 atom-0' d='M 149.891,286.364 L 31.8545,218.1' style='fill:none;fill-rule:evenodd;stroke:#000000;stroke-width:2.0px;stroke-linecap:butt;stroke-linejoin:miter;stroke-opacity:1' />\n",
       "<path class='bond-1 atom-1 atom-2' d='M 31.9636,81.7364 L 150.109,13.6364' style='fill:none;fill-rule:evenodd;stroke:#000000;stroke-width:2.0px;stroke-linecap:butt;stroke-linejoin:miter;stroke-opacity:1' />\n",
       "<path class='bond-2 atom-2 atom-3' d='M 150.109,13.6364 L 268.145,81.9' style='fill:none;fill-rule:evenodd;stroke:#000000;stroke-width:2.0px;stroke-linecap:butt;stroke-linejoin:miter;stroke-opacity:1' />\n",
       "<path class='bond-3 atom-3 atom-4' d='M 268.145,81.9 L 268.036,218.264' style='fill:none;fill-rule:evenodd;stroke:#000000;stroke-width:2.0px;stroke-linecap:butt;stroke-linejoin:miter;stroke-opacity:1' />\n",
       "<path class='bond-4 atom-4 atom-5' d='M 268.036,218.264 L 149.891,286.364' style='fill:none;fill-rule:evenodd;stroke:#000000;stroke-width:2.0px;stroke-linecap:butt;stroke-linejoin:miter;stroke-opacity:1' />\n",
       "</svg>\n"
      ],
      "text/plain": [
       "<rdkit.Chem.rdchem.Mol at 0x124dcd040>"
      ]
     },
     "execution_count": 20,
     "metadata": {},
     "output_type": "execute_result"
    }
   ],
   "source": [
    "Chem.MolFromSmiles(\"C1CCCCC1\")"
   ]
  },
  {
   "cell_type": "markdown",
   "id": "c63609a6",
   "metadata": {},
   "source": [
    "Double bonds and heteroatoms can be put into rings in the same way they were in acyclic structures. "
   ]
  },
  {
   "cell_type": "code",
   "execution_count": 21,
   "id": "53ae4880",
   "metadata": {},
   "outputs": [
    {
     "data": {
      "image/png": "[encoded data removed]",
      "image/svg+xml": [
       "<?xml version='1.0' encoding='iso-8859-1'?>\n",
       "<svg version='1.1' baseProfile='full'\n",
       "              xmlns='http://www.w3.org/2000/svg'\n",
       "                      xmlns:rdkit='http://www.rdkit.org/xml'\n",
       "                      xmlns:xlink='http://www.w3.org/1999/xlink'\n",
       "                  xml:space='preserve'\n",
       "width='300px' height='300px' viewBox='0 0 300 300'>\n",
       "<!-- END OF HEADER -->\n",
       "<rect style='opacity:1.0;fill:#FFFFFF;stroke:none' width='300' height='300' x='0' y='0'> </rect>\n",
       "<path class='bond-0 atom-0 atom-1' d='M 139.062,15.6544 L 13.6364,129.785' style='fill:none;fill-rule:evenodd;stroke:#000000;stroke-width:2.0px;stroke-linecap:butt;stroke-linejoin:miter;stroke-opacity:1' />\n",
       "<path class='bond-0 atom-0 atom-1' d='M 140.792,55.3514 L 52.9944,135.243' style='fill:none;fill-rule:evenodd;stroke:#000000;stroke-width:2.0px;stroke-linecap:butt;stroke-linejoin:miter;stroke-opacity:1' />\n",
       "<path class='bond-4 atom-4 atom-0' d='M 286.364,99.667 L 139.062,15.6544' style='fill:none;fill-rule:evenodd;stroke:#000000;stroke-width:2.0px;stroke-linecap:butt;stroke-linejoin:miter;stroke-opacity:1' />\n",
       "<path class='bond-1 atom-1 atom-2' d='M 13.6364,129.785 L 83.4377,284.346' style='fill:none;fill-rule:evenodd;stroke:#000000;stroke-width:2.0px;stroke-linecap:butt;stroke-linejoin:miter;stroke-opacity:1' />\n",
       "<path class='bond-2 atom-2 atom-3' d='M 83.4377,284.346 L 159.102,275.988' style='fill:none;fill-rule:evenodd;stroke:#000000;stroke-width:2.0px;stroke-linecap:butt;stroke-linejoin:miter;stroke-opacity:1' />\n",
       "<path class='bond-2 atom-2 atom-3' d='M 159.102,275.988 L 234.766,267.629' style='fill:none;fill-rule:evenodd;stroke:#FF0000;stroke-width:2.0px;stroke-linecap:butt;stroke-linejoin:miter;stroke-opacity:1' />\n",
       "<path class='bond-3 atom-3 atom-4' d='M 255.846,247.166 L 271.105,173.416' style='fill:none;fill-rule:evenodd;stroke:#FF0000;stroke-width:2.0px;stroke-linecap:butt;stroke-linejoin:miter;stroke-opacity:1' />\n",
       "<path class='bond-3 atom-3 atom-4' d='M 271.105,173.416 L 286.364,99.667' style='fill:none;fill-rule:evenodd;stroke:#000000;stroke-width:2.0px;stroke-linecap:butt;stroke-linejoin:miter;stroke-opacity:1' />\n",
       "<path  class='atom-3' d='M 239.006 265.805\n",
       "Q 239.006 259.005, 242.366 255.205\n",
       "Q 245.726 251.405, 252.006 251.405\n",
       "Q 258.286 251.405, 261.646 255.205\n",
       "Q 265.006 259.005, 265.006 265.805\n",
       "Q 265.006 272.685, 261.606 276.605\n",
       "Q 258.206 280.485, 252.006 280.485\n",
       "Q 245.766 280.485, 242.366 276.605\n",
       "Q 239.006 272.725, 239.006 265.805\n",
       "M 252.006 277.285\n",
       "Q 256.326 277.285, 258.646 274.405\n",
       "Q 261.006 271.485, 261.006 265.805\n",
       "Q 261.006 260.245, 258.646 257.445\n",
       "Q 256.326 254.605, 252.006 254.605\n",
       "Q 247.686 254.605, 245.326 257.405\n",
       "Q 243.006 260.205, 243.006 265.805\n",
       "Q 243.006 271.525, 245.326 274.405\n",
       "Q 247.686 277.285, 252.006 277.285\n",
       "' fill='#FF0000'/>\n",
       "</svg>\n"
      ],
      "text/plain": [
       "<rdkit.Chem.rdchem.Mol at 0x124e16e80>"
      ]
     },
     "execution_count": 21,
     "metadata": {},
     "output_type": "execute_result"
    }
   ],
   "source": [
    "mol = Chem.MolFromSmiles(\"C1=CCOC1\")\n",
    "mol"
   ]
  },
  {
   "cell_type": "code",
   "execution_count": 22,
   "id": "02a509c4",
   "metadata": {},
   "outputs": [],
   "source": [
    "# define a text buffer for our examples\n",
    "examples = \"\"\"C1CC1 cyclohexane\n",
    "C1CCC1 cyclobutane\n",
    "C1CCC=C1 cyclopentene\"\"\"\n",
    "# note that we use the second argumen to split to only return two tokens\n",
    "ring_smiles_list = [x.split(\" \",1) for x in examples.split(\"\\n\")]"
   ]
  },
  {
   "cell_type": "code",
   "execution_count": 23,
   "id": "91f3ff76",
   "metadata": {},
   "outputs": [
    {
     "data": {
      "image/svg+xml": [
       "<svg xmlns=\"http://www.w3.org/2000/svg\" xmlns:rdkit=\"http://www.rdkit.org/xml\" xmlns:xlink=\"http://www.w3.org/1999/xlink\" version=\"1.1\" baseProfile=\"full\" xml:space=\"preserve\" width=\"800px\" height=\"200px\" viewBox=\"0 0 800 200\">\n",
       "<!-- END OF HEADER -->\n",
       "<rect style=\"opacity:1.0;fill:#FFFFFF;stroke:none\" width=\"800\" height=\"200\" x=\"0\" y=\"0\"> </rect>\n",
       "<rect style=\"opacity:1.0;fill:#FFFFFF;stroke:none\" width=\"800\" height=\"200\" x=\"0\" y=\"0\"> </rect>\n",
       "<rect style=\"opacity:1.0;fill:#FFFFFF;stroke:none\" width=\"800\" height=\"200\" x=\"0\" y=\"0\"> </rect>\n",
       "<rect style=\"opacity:1.0;fill:#FFFFFF;stroke:none\" width=\"800\" height=\"200\" x=\"0\" y=\"0\"> </rect>\n",
       "<path class=\"bond-0 atom-0 atom-1\" d=\"M 37.9958,86.2573 L 136.107,142.424\" style=\"fill:none;fill-rule:evenodd;stroke:#000000;stroke-width:2.0px;stroke-linecap:butt;stroke-linejoin:miter;stroke-opacity:1\"/>\n",
       "<path class=\"bond-2 atom-2 atom-0\" d=\"M 135.7,29.3897 L 37.9958,86.2573\" style=\"fill:none;fill-rule:evenodd;stroke:#000000;stroke-width:2.0px;stroke-linecap:butt;stroke-linejoin:miter;stroke-opacity:1\"/>\n",
       "<path class=\"bond-1 atom-1 atom-2\" d=\"M 136.107,142.424 L 135.7,29.3897\" style=\"fill:none;fill-rule:evenodd;stroke:#000000;stroke-width:2.0px;stroke-linecap:butt;stroke-linejoin:miter;stroke-opacity:1\"/>\n",
       "<path d=\"M 55.8498 185.864 Q 55.8498 183.88, 56.8418 182.76 Q 57.8338 181.624, 59.7858 181.624 Q 61.6578 181.624, 62.6338 182.984 L 61.6258 183.736 Q 61.2418 183.272, 60.7938 183.048 Q 60.3618 182.808, 59.7858 182.808 Q 58.6498 182.808, 58.0098 183.592 Q 57.3858 184.36, 57.3858 185.864 Q 57.3858 187.384, 58.0258 188.168 Q 58.6818 188.936, 59.8818 188.936 Q 60.5538 188.936, 61.0178 188.792 Q 61.4818 188.632, 62.0578 188.376 L 62.4738 189.4 Q 61.2898 190.088, 59.7698 190.088 Q 57.8338 190.088, 56.8418 188.968 Q 55.8498 187.848, 55.8498 185.864 \" fill=\"#000000\"/>\n",
       "<path d=\"M 69.1458 181.768 L 70.6018 181.768 L 66.3618 193.928 L 65.0018 193.928 L 66.3458 189.992 L 65.7218 189.992 L 62.8098 181.768 L 64.3618 181.768 L 66.7778 188.728 L 69.1458 181.768 \" fill=\"#000000\"/>\n",
       "<path d=\"M 71.3378 185.864 Q 71.3378 183.88, 72.3298 182.76 Q 73.3218 181.624, 75.2738 181.624 Q 77.1458 181.624, 78.1218 182.984 L 77.1138 183.736 Q 76.7298 183.272, 76.2818 183.048 Q 75.8498 182.808, 75.2738 182.808 Q 74.1378 182.808, 73.4978 183.592 Q 72.8738 184.36, 72.8738 185.864 Q 72.8738 187.384, 73.5138 188.168 Q 74.1698 188.936, 75.3698 188.936 Q 76.0418 188.936, 76.5058 188.792 Q 76.9698 188.632, 77.5458 188.376 L 77.9618 189.4 Q 76.7778 190.088, 75.2578 190.088 Q 73.3218 190.088, 72.3298 188.968 Q 71.3378 187.848, 71.3378 185.864 \" fill=\"#000000\"/>\n",
       "<path d=\"M 79.4978 177.848 L 80.9698 177.848 L 80.9698 189.992 L 79.4978 189.992 L 79.4978 177.848 \" fill=\"#000000\"/>\n",
       "<path d=\"M 81.7058 185.864 Q 81.7058 183.864, 82.7138 182.744 Q 83.7378 181.624, 85.6098 181.624 Q 87.4818 181.624, 88.4898 182.744 Q 89.5138 183.864, 89.5138 185.864 Q 89.5138 187.864, 88.4898 189 Q 87.4818 190.12, 85.6098 190.12 Q 83.7378 190.12, 82.7138 189 Q 81.7058 187.864, 81.7058 185.864 M 83.2418 185.864 Q 83.2418 187.368, 83.8498 188.152 Q 84.4738 188.936, 85.6098 188.936 Q 86.7458 188.936, 87.3538 188.152 Q 87.9778 187.368, 87.9778 185.864 Q 87.9778 184.36, 87.3538 183.592 Q 86.7458 182.808, 85.6098 182.808 Q 84.4738 182.808, 83.8498 183.592 Q 83.2418 184.36, 83.2418 185.864 \" fill=\"#000000\"/>\n",
       "<path d=\"M 95.1618 181.624 Q 96.4738 181.624, 97.1618 182.376 Q 97.8658 183.128, 97.8658 184.552 L 97.8658 189.992 L 96.3618 189.992 L 96.3618 184.664 Q 96.3618 183.688, 95.9778 183.256 Q 95.6098 182.808, 94.7778 182.808 Q 94.0258 182.808, 93.4018 183.16 Q 92.7778 183.496, 92.3778 184.104 L 92.3778 189.992 L 90.8738 189.992 L 90.8738 177.848 L 92.3778 177.848 L 92.3778 182.808 Q 93.4658 181.624, 95.1618 181.624 \" fill=\"#000000\"/>\n",
       "<path d=\"M 98.6018 185.864 Q 98.6018 183.848, 99.6098 182.744 Q 100.618 181.624, 102.458 181.624 Q 104.266 181.624, 105.066 182.712 Q 105.882 183.784, 105.882 185.816 L 105.882 186.072 L 100.138 186.072 Q 100.17 187.464, 100.794 188.2 Q 101.418 188.936, 102.586 188.936 Q 103.226 188.936, 103.818 188.792 Q 104.41 188.632, 105.13 188.312 L 105.562 189.336 Q 104.746 189.752, 104.01 189.944 Q 103.274 190.12, 102.506 190.12 Q 100.65 190.12, 99.6258 189 Q 98.6018 187.88, 98.6018 185.864 M 102.458 182.808 Q 101.514 182.808, 100.938 183.352 Q 100.378 183.896, 100.202 184.952 L 104.298 184.952 Q 104.186 183.848, 103.738 183.336 Q 103.29 182.808, 102.458 182.808 \" fill=\"#000000\"/>\n",
       "<path d=\"M 109.018 185.736 L 106.234 181.768 L 107.978 181.768 L 109.962 184.568 L 111.93 181.768 L 113.546 181.768 L 110.762 185.72 L 113.786 189.992 L 112.026 189.992 L 109.834 186.888 L 107.658 189.992 L 106.026 189.992 L 109.018 185.736 \" fill=\"#000000\"/>\n",
       "<path d=\"M 114.49 187.768 Q 114.49 186.456, 115.546 185.736 Q 116.602 185.016, 118.538 185.016 L 119.754 185.016 L 119.754 184.696 Q 119.754 183.672, 119.322 183.24 Q 118.906 182.808, 117.882 182.808 Q 117.226 182.808, 116.714 182.936 Q 116.202 183.048, 115.402 183.4 L 114.954 182.36 Q 116.458 181.624, 117.914 181.624 Q 119.658 181.624, 120.458 182.376 Q 121.258 183.112, 121.258 184.728 L 121.258 189.992 L 120.09 189.992 Q 120.074 189.928, 120.026 189.688 Q 119.978 189.432, 119.882 189.032 Q 118.73 190.184, 117.194 190.184 Q 115.962 190.184, 115.226 189.528 Q 114.49 188.872, 114.49 187.768 M 115.994 187.736 Q 115.994 188.344, 116.378 188.68 Q 116.762 189, 117.482 189 Q 118.122 189, 118.73 188.712 Q 119.338 188.408, 119.754 187.896 L 119.754 186.136 L 118.634 186.136 Q 117.322 186.136, 116.65 186.536 Q 115.994 186.936, 115.994 187.736 \" fill=\"#000000\"/>\n",
       "<path d=\"M 126.858 181.624 Q 128.17 181.624, 128.858 182.376 Q 129.562 183.128, 129.562 184.552 L 129.562 189.992 L 128.058 189.992 L 128.058 184.664 Q 128.058 183.688, 127.674 183.256 Q 127.306 182.808, 126.474 182.808 Q 125.722 182.808, 125.098 183.16 Q 124.474 183.496, 124.074 184.104 L 124.074 189.992 L 122.57 189.992 L 122.57 181.768 L 123.802 181.768 L 123.978 182.92 Q 125.082 181.624, 126.858 181.624 \" fill=\"#000000\"/>\n",
       "<path d=\"M 130.298 185.864 Q 130.298 183.848, 131.306 182.744 Q 132.314 181.624, 134.154 181.624 Q 135.962 181.624, 136.762 182.712 Q 137.578 183.784, 137.578 185.816 L 137.578 186.072 L 131.834 186.072 Q 131.866 187.464, 132.49 188.2 Q 133.114 188.936, 134.282 188.936 Q 134.922 188.936, 135.514 188.792 Q 136.106 188.632, 136.826 188.312 L 137.258 189.336 Q 136.442 189.752, 135.706 189.944 Q 134.97 190.12, 134.202 190.12 Q 132.346 190.12, 131.322 189 Q 130.298 187.88, 130.298 185.864 M 134.154 182.808 Q 133.21 182.808, 132.634 183.352 Q 132.074 183.896, 131.898 184.952 L 135.994 184.952 Q 135.882 183.848, 135.434 183.336 Q 134.986 182.808, 134.154 182.808 \" fill=\"#000000\"/>\n",
       "<path class=\"bond-0 atom-0 atom-1\" d=\"M 226.117,106.939 L 282.352,8.87362\" style=\"fill:none;fill-rule:evenodd;stroke:#000000;stroke-width:2.0px;stroke-linecap:butt;stroke-linejoin:miter;stroke-opacity:1\"/>\n",
       "<path class=\"bond-3 atom-3 atom-0\" d=\"M 324.183,163.174 L 226.117,106.939\" style=\"fill:none;fill-rule:evenodd;stroke:#000000;stroke-width:2.0px;stroke-linecap:butt;stroke-linejoin:miter;stroke-opacity:1\"/>\n",
       "<path class=\"bond-1 atom-1 atom-2\" d=\"M 282.352,8.87362 L 380.417,65.1081\" style=\"fill:none;fill-rule:evenodd;stroke:#000000;stroke-width:2.0px;stroke-linecap:butt;stroke-linejoin:miter;stroke-opacity:1\"/>\n",
       "<path class=\"bond-2 atom-2 atom-3\" d=\"M 380.417,65.1081 L 324.183,163.174\" style=\"fill:none;fill-rule:evenodd;stroke:#000000;stroke-width:2.0px;stroke-linecap:butt;stroke-linejoin:miter;stroke-opacity:1\"/>\n",
       "<path d=\"M 256.459 185.864 Q 256.459 183.88, 257.451 182.76 Q 258.443 181.624, 260.395 181.624 Q 262.267 181.624, 263.243 182.984 L 262.235 183.736 Q 261.851 183.272, 261.403 183.048 Q 260.971 182.808, 260.395 182.808 Q 259.259 182.808, 258.619 183.592 Q 257.995 184.36, 257.995 185.864 Q 257.995 187.384, 258.635 188.168 Q 259.291 188.936, 260.491 188.936 Q 261.163 188.936, 261.627 188.792 Q 262.091 188.632, 262.667 188.376 L 263.083 189.4 Q 261.899 190.088, 260.379 190.088 Q 258.443 190.088, 257.451 188.968 Q 256.459 187.848, 256.459 185.864 \" fill=\"#000000\"/>\n",
       "<path d=\"M 269.755 181.768 L 271.211 181.768 L 266.971 193.928 L 265.611 193.928 L 266.955 189.992 L 266.331 189.992 L 263.419 181.768 L 264.971 181.768 L 267.387 188.728 L 269.755 181.768 \" fill=\"#000000\"/>\n",
       "<path d=\"M 271.947 185.864 Q 271.947 183.88, 272.939 182.76 Q 273.931 181.624, 275.883 181.624 Q 277.755 181.624, 278.731 182.984 L 277.723 183.736 Q 277.339 183.272, 276.891 183.048 Q 276.459 182.808, 275.883 182.808 Q 274.747 182.808, 274.107 183.592 Q 273.483 184.36, 273.483 185.864 Q 273.483 187.384, 274.123 188.168 Q 274.779 188.936, 275.979 188.936 Q 276.651 188.936, 277.115 188.792 Q 277.579 188.632, 278.155 188.376 L 278.571 189.4 Q 277.387 190.088, 275.867 190.088 Q 273.931 190.088, 272.939 188.968 Q 271.947 187.848, 271.947 185.864 \" fill=\"#000000\"/>\n",
       "<path d=\"M 280.107 177.848 L 281.579 177.848 L 281.579 189.992 L 280.107 189.992 L 280.107 177.848 \" fill=\"#000000\"/>\n",
       "<path d=\"M 282.315 185.864 Q 282.315 183.864, 283.323 182.744 Q 284.347 181.624, 286.219 181.624 Q 288.091 181.624, 289.099 182.744 Q 290.123 183.864, 290.123 185.864 Q 290.123 187.864, 289.099 189 Q 288.091 190.12, 286.219 190.12 Q 284.347 190.12, 283.323 189 Q 282.315 187.864, 282.315 185.864 M 283.851 185.864 Q 283.851 187.368, 284.459 188.152 Q 285.083 188.936, 286.219 188.936 Q 287.355 188.936, 287.963 188.152 Q 288.587 187.368, 288.587 185.864 Q 288.587 184.36, 287.963 183.592 Q 287.355 182.808, 286.219 182.808 Q 285.083 182.808, 284.459 183.592 Q 283.851 184.36, 283.851 185.864 \" fill=\"#000000\"/>\n",
       "<path d=\"M 295.323 181.624 Q 297.035 181.624, 297.979 182.696 Q 298.939 183.752, 298.939 185.736 Q 298.939 187.8, 297.803 188.968 Q 296.683 190.12, 294.715 190.12 Q 293.419 190.12, 292.203 189.64 L 291.483 189.464 L 291.483 177.848 L 292.987 177.848 L 292.987 182.664 Q 293.851 181.624, 295.323 181.624 M 294.699 188.936 Q 295.963 188.936, 296.683 188.104 Q 297.403 187.256, 297.403 185.736 Q 297.403 184.328, 296.827 183.576 Q 296.267 182.808, 295.227 182.808 Q 294.395 182.808, 293.803 183.256 Q 293.211 183.704, 292.987 184.488 L 292.987 188.696 Q 293.803 188.936, 294.699 188.936 \" fill=\"#000000\"/>\n",
       "<path d=\"M 307.163 181.768 L 307.163 189.992 L 305.931 189.992 L 305.755 188.856 Q 304.683 190.136, 302.971 190.136 Q 301.579 190.136, 300.875 189.4 Q 300.171 188.648, 300.171 187.208 L 300.171 181.768 L 301.675 181.768 L 301.675 187.096 Q 301.675 188.072, 302.043 188.52 Q 302.427 188.952, 303.259 188.952 Q 304.011 188.952, 304.635 188.616 Q 305.259 188.264, 305.659 187.656 L 305.659 181.768 L 307.163 181.768 \" fill=\"#000000\"/>\n",
       "<path d=\"M 307.627 182.92 L 307.627 181.768 L 309.195 181.768 L 309.451 179.368 L 310.571 179.368 L 310.571 181.768 L 313.083 181.768 L 313.083 182.92 L 310.571 182.92 L 310.571 187.464 Q 310.571 188.888, 311.771 188.888 Q 312.251 188.888, 312.955 188.664 L 313.211 189.72 Q 312.331 190.088, 311.499 190.088 Q 310.427 190.088, 309.739 189.448 Q 309.067 188.808, 309.067 187.544 L 309.067 182.92 L 307.627 182.92 \" fill=\"#000000\"/>\n",
       "<path d=\"M 313.915 187.768 Q 313.915 186.456, 314.971 185.736 Q 316.027 185.016, 317.963 185.016 L 319.179 185.016 L 319.179 184.696 Q 319.179 183.672, 318.747 183.24 Q 318.331 182.808, 317.307 182.808 Q 316.651 182.808, 316.139 182.936 Q 315.627 183.048, 314.827 183.4 L 314.379 182.36 Q 315.883 181.624, 317.339 181.624 Q 319.083 181.624, 319.883 182.376 Q 320.683 183.112, 320.683 184.728 L 320.683 189.992 L 319.515 189.992 Q 319.499 189.928, 319.451 189.688 Q 319.403 189.432, 319.307 189.032 Q 318.155 190.184, 316.619 190.184 Q 315.387 190.184, 314.651 189.528 Q 313.915 188.872, 313.915 187.768 M 315.419 187.736 Q 315.419 188.344, 315.803 188.68 Q 316.187 189, 316.907 189 Q 317.547 189, 318.155 188.712 Q 318.763 188.408, 319.179 187.896 L 319.179 186.136 L 318.059 186.136 Q 316.747 186.136, 316.075 186.536 Q 315.419 186.936, 315.419 187.736 \" fill=\"#000000\"/>\n",
       "<path d=\"M 326.283 181.624 Q 327.595 181.624, 328.283 182.376 Q 328.987 183.128, 328.987 184.552 L 328.987 189.992 L 327.483 189.992 L 327.483 184.664 Q 327.483 183.688, 327.099 183.256 Q 326.731 182.808, 325.899 182.808 Q 325.147 182.808, 324.523 183.16 Q 323.899 183.496, 323.499 184.104 L 323.499 189.992 L 321.995 189.992 L 321.995 181.768 L 323.227 181.768 L 323.403 182.92 Q 324.507 181.624, 326.283 181.624 \" fill=\"#000000\"/>\n",
       "<path d=\"M 329.723 185.864 Q 329.723 183.848, 330.731 182.744 Q 331.739 181.624, 333.579 181.624 Q 335.387 181.624, 336.187 182.712 Q 337.003 183.784, 337.003 185.816 L 337.003 186.072 L 331.259 186.072 Q 331.291 187.464, 331.915 188.2 Q 332.539 188.936, 333.707 188.936 Q 334.347 188.936, 334.939 188.792 Q 335.531 188.632, 336.251 188.312 L 336.683 189.336 Q 335.867 189.752, 335.131 189.944 Q 334.395 190.12, 333.627 190.12 Q 331.771 190.12, 330.747 189 Q 329.723 187.88, 329.723 185.864 M 333.579 182.808 Q 332.635 182.808, 332.059 183.352 Q 331.499 183.896, 331.323 184.952 L 335.419 184.952 Q 335.307 183.848, 334.859 183.336 Q 334.411 182.808, 333.579 182.808 \" fill=\"#000000\"/>\n",
       "<path class=\"bond-0 atom-0 atom-1\" d=\"M 568.004,157.15 L 455.625,169.564\" style=\"fill:none;fill-rule:evenodd;stroke:#000000;stroke-width:2.0px;stroke-linecap:butt;stroke-linejoin:miter;stroke-opacity:1\"/>\n",
       "<path class=\"bond-4 atom-4 atom-0\" d=\"M 590.909,46.4447 L 568.004,157.15\" style=\"fill:none;fill-rule:evenodd;stroke:#000000;stroke-width:2.0px;stroke-linecap:butt;stroke-linejoin:miter;stroke-opacity:1\"/>\n",
       "<path class=\"bond-1 atom-1 atom-2\" d=\"M 455.625,169.564 L 409.091,66.5236\" style=\"fill:none;fill-rule:evenodd;stroke:#000000;stroke-width:2.0px;stroke-linecap:butt;stroke-linejoin:miter;stroke-opacity:1\"/>\n",
       "<path class=\"bond-2 atom-2 atom-3\" d=\"M 409.091,66.5236 L 492.708,-9.56371\" style=\"fill:none;fill-rule:evenodd;stroke:#000000;stroke-width:2.0px;stroke-linecap:butt;stroke-linejoin:miter;stroke-opacity:1\"/>\n",
       "<path class=\"bond-3 atom-3 atom-4\" d=\"M 492.708,-9.56371 L 590.909,46.4447\" style=\"fill:none;fill-rule:evenodd;stroke:#000000;stroke-width:2.0px;stroke-linecap:butt;stroke-linejoin:miter;stroke-opacity:1\"/>\n",
       "<path class=\"bond-3 atom-3 atom-4\" d=\"M 497.356,16.5148 L 566.097,55.7207\" style=\"fill:none;fill-rule:evenodd;stroke:#000000;stroke-width:2.0px;stroke-linecap:butt;stroke-linejoin:miter;stroke-opacity:1\"/>\n",
       "<path d=\"M 452.124 185.864 Q 452.124 183.88, 453.116 182.76 Q 454.108 181.624, 456.06 181.624 Q 457.932 181.624, 458.908 182.984 L 457.9 183.736 Q 457.516 183.272, 457.068 183.048 Q 456.636 182.808, 456.06 182.808 Q 454.924 182.808, 454.284 183.592 Q 453.66 184.36, 453.66 185.864 Q 453.66 187.384, 454.3 188.168 Q 454.956 188.936, 456.156 188.936 Q 456.828 188.936, 457.292 188.792 Q 457.756 188.632, 458.332 188.376 L 458.748 189.4 Q 457.564 190.088, 456.044 190.088 Q 454.108 190.088, 453.116 188.968 Q 452.124 187.848, 452.124 185.864 \" fill=\"#000000\"/>\n",
       "<path d=\"M 465.42 181.768 L 466.876 181.768 L 462.636 193.928 L 461.276 193.928 L 462.62 189.992 L 461.996 189.992 L 459.084 181.768 L 460.636 181.768 L 463.052 188.728 L 465.42 181.768 \" fill=\"#000000\"/>\n",
       "<path d=\"M 467.612 185.864 Q 467.612 183.88, 468.604 182.76 Q 469.596 181.624, 471.548 181.624 Q 473.42 181.624, 474.396 182.984 L 473.388 183.736 Q 473.004 183.272, 472.556 183.048 Q 472.124 182.808, 471.548 182.808 Q 470.412 182.808, 469.772 183.592 Q 469.148 184.36, 469.148 185.864 Q 469.148 187.384, 469.788 188.168 Q 470.444 188.936, 471.644 188.936 Q 472.316 188.936, 472.78 188.792 Q 473.244 188.632, 473.82 188.376 L 474.236 189.4 Q 473.052 190.088, 471.532 190.088 Q 469.596 190.088, 468.604 188.968 Q 467.612 187.848, 467.612 185.864 \" fill=\"#000000\"/>\n",
       "<path d=\"M 475.772 177.848 L 477.244 177.848 L 477.244 189.992 L 475.772 189.992 L 475.772 177.848 \" fill=\"#000000\"/>\n",
       "<path d=\"M 477.98 185.864 Q 477.98 183.864, 478.988 182.744 Q 480.012 181.624, 481.884 181.624 Q 483.756 181.624, 484.764 182.744 Q 485.788 183.864, 485.788 185.864 Q 485.788 187.864, 484.764 189 Q 483.756 190.12, 481.884 190.12 Q 480.012 190.12, 478.988 189 Q 477.98 187.864, 477.98 185.864 M 479.516 185.864 Q 479.516 187.368, 480.124 188.152 Q 480.748 188.936, 481.884 188.936 Q 483.02 188.936, 483.628 188.152 Q 484.252 187.368, 484.252 185.864 Q 484.252 184.36, 483.628 183.592 Q 483.02 182.808, 481.884 182.808 Q 480.748 182.808, 480.124 183.592 Q 479.516 184.36, 479.516 185.864 \" fill=\"#000000\"/>\n",
       "<path d=\"M 490.924 181.624 Q 492.636 181.624, 493.58 182.696 Q 494.54 183.752, 494.54 185.736 Q 494.54 187.8, 493.404 188.968 Q 492.284 190.12, 490.316 190.12 Q 489.388 190.12, 488.604 189.896 L 488.604 193.912 L 487.1 193.912 L 487.1 181.768 L 488.316 181.768 L 488.508 182.76 Q 488.94 182.2, 489.548 181.912 Q 490.172 181.624, 490.924 181.624 M 490.3 188.936 Q 491.564 188.936, 492.284 188.104 Q 493.004 187.256, 493.004 185.736 Q 493.004 184.328, 492.428 183.576 Q 491.868 182.808, 490.828 182.808 Q 490.012 182.808, 489.42 183.24 Q 488.844 183.672, 488.604 184.44 L 488.604 188.696 Q 489.42 188.936, 490.3 188.936 \" fill=\"#000000\"/>\n",
       "<path d=\"M 495.276 185.864 Q 495.276 183.848, 496.284 182.744 Q 497.292 181.624, 499.132 181.624 Q 500.94 181.624, 501.74 182.712 Q 502.556 183.784, 502.556 185.816 L 502.556 186.072 L 496.812 186.072 Q 496.844 187.464, 497.468 188.2 Q 498.092 188.936, 499.26 188.936 Q 499.9 188.936, 500.492 188.792 Q 501.084 188.632, 501.804 188.312 L 502.236 189.336 Q 501.42 189.752, 500.684 189.944 Q 499.948 190.12, 499.18 190.12 Q 497.324 190.12, 496.3 189 Q 495.276 187.88, 495.276 185.864 M 499.132 182.808 Q 498.188 182.808, 497.612 183.352 Q 497.052 183.896, 496.876 184.952 L 500.972 184.952 Q 500.86 183.848, 500.412 183.336 Q 499.964 182.808, 499.132 182.808 \" fill=\"#000000\"/>\n",
       "<path d=\"M 508.156 181.624 Q 509.468 181.624, 510.156 182.376 Q 510.86 183.128, 510.86 184.552 L 510.86 189.992 L 509.356 189.992 L 509.356 184.664 Q 509.356 183.688, 508.972 183.256 Q 508.604 182.808, 507.772 182.808 Q 507.02 182.808, 506.396 183.16 Q 505.772 183.496, 505.372 184.104 L 505.372 189.992 L 503.868 189.992 L 503.868 181.768 L 505.1 181.768 L 505.276 182.92 Q 506.38 181.624, 508.156 181.624 \" fill=\"#000000\"/>\n",
       "<path d=\"M 511.324 182.92 L 511.324 181.768 L 512.892 181.768 L 513.148 179.368 L 514.268 179.368 L 514.268 181.768 L 516.78 181.768 L 516.78 182.92 L 514.268 182.92 L 514.268 187.464 Q 514.268 188.888, 515.468 188.888 Q 515.948 188.888, 516.652 188.664 L 516.908 189.72 Q 516.028 190.088, 515.196 190.088 Q 514.124 190.088, 513.436 189.448 Q 512.764 188.808, 512.764 187.544 L 512.764 182.92 L 511.324 182.92 \" fill=\"#000000\"/>\n",
       "<path d=\"M 517.644 185.864 Q 517.644 183.848, 518.652 182.744 Q 519.66 181.624, 521.5 181.624 Q 523.308 181.624, 524.108 182.712 Q 524.924 183.784, 524.924 185.816 L 524.924 186.072 L 519.18 186.072 Q 519.212 187.464, 519.836 188.2 Q 520.46 188.936, 521.628 188.936 Q 522.268 188.936, 522.86 188.792 Q 523.452 188.632, 524.172 188.312 L 524.604 189.336 Q 523.788 189.752, 523.052 189.944 Q 522.316 190.12, 521.548 190.12 Q 519.692 190.12, 518.668 189 Q 517.644 187.88, 517.644 185.864 M 521.5 182.808 Q 520.556 182.808, 519.98 183.352 Q 519.42 183.896, 519.244 184.952 L 523.34 184.952 Q 523.228 183.848, 522.78 183.336 Q 522.332 182.808, 521.5 182.808 \" fill=\"#000000\"/>\n",
       "<path d=\"M 530.524 181.624 Q 531.836 181.624, 532.524 182.376 Q 533.228 183.128, 533.228 184.552 L 533.228 189.992 L 531.724 189.992 L 531.724 184.664 Q 531.724 183.688, 531.34 183.256 Q 530.972 182.808, 530.14 182.808 Q 529.388 182.808, 528.764 183.16 Q 528.14 183.496, 527.74 184.104 L 527.74 189.992 L 526.236 189.992 L 526.236 181.768 L 527.468 181.768 L 527.644 182.92 Q 528.748 181.624, 530.524 181.624 \" fill=\"#000000\"/>\n",
       "<path d=\"M 533.964 185.864 Q 533.964 183.848, 534.972 182.744 Q 535.98 181.624, 537.82 181.624 Q 539.628 181.624, 540.428 182.712 Q 541.244 183.784, 541.244 185.816 L 541.244 186.072 L 535.5 186.072 Q 535.532 187.464, 536.156 188.2 Q 536.78 188.936, 537.948 188.936 Q 538.588 188.936, 539.18 188.792 Q 539.772 188.632, 540.492 188.312 L 540.924 189.336 Q 540.108 189.752, 539.372 189.944 Q 538.636 190.12, 537.868 190.12 Q 536.012 190.12, 534.988 189 Q 533.964 187.88, 533.964 185.864 M 537.82 182.808 Q 536.876 182.808, 536.3 183.352 Q 535.74 183.896, 535.564 184.952 L 539.66 184.952 Q 539.548 183.848, 539.1 183.336 Q 538.652 182.808, 537.82 182.808 \" fill=\"#000000\"/>\n",
       "</svg>"
      ],
      "text/plain": [
       "<IPython.core.display.SVG object>"
      ]
     },
     "execution_count": 23,
     "metadata": {},
     "output_type": "execute_result"
    }
   ],
   "source": [
    "display_structures(ring_smiles_list)"
   ]
  },
  {
   "cell_type": "markdown",
   "id": "b3bb2e03",
   "metadata": {},
   "source": [
    "In the case of fused ring systems, a single atom can have multiple ring closure digits. "
   ]
  },
  {
   "cell_type": "code",
   "execution_count": 24,
   "id": "624a8bf4",
   "metadata": {},
   "outputs": [
    {
     "data": {
      "image/png": "[encoded data removed]",
      "image/svg+xml": [
       "<?xml version='1.0' encoding='iso-8859-1'?>\n",
       "<svg version='1.1' baseProfile='full'\n",
       "              xmlns='http://www.w3.org/2000/svg'\n",
       "                      xmlns:rdkit='http://www.rdkit.org/xml'\n",
       "                      xmlns:xlink='http://www.w3.org/1999/xlink'\n",
       "                  xml:space='preserve'\n",
       "width='300px' height='300px' viewBox='0 0 300 300'>\n",
       "<!-- END OF HEADER -->\n",
       "<rect style='opacity:1.0;fill:#FFFFFF;stroke:none' width='300' height='300' x='0' y='0'> </rect>\n",
       "<path class='bond-0 atom-0 atom-1' d='M 149.969,189.357 L 81.771,228.666' style='fill:none;fill-rule:evenodd;stroke:#000000;stroke-width:2.0px;stroke-linecap:butt;stroke-linejoin:miter;stroke-opacity:1' />\n",
       "<path class='bond-9 atom-5 atom-0' d='M 150.031,110.643 L 149.969,189.357' style='fill:none;fill-rule:evenodd;stroke:#000000;stroke-width:2.0px;stroke-linecap:butt;stroke-linejoin:miter;stroke-opacity:1' />\n",
       "<path class='bond-10 atom-9 atom-0' d='M 218.103,228.761 L 149.969,189.357' style='fill:none;fill-rule:evenodd;stroke:#000000;stroke-width:2.0px;stroke-linecap:butt;stroke-linejoin:miter;stroke-opacity:1' />\n",
       "<path class='bond-1 atom-1 atom-2' d='M 81.771,228.666 L 13.6364,189.247' style='fill:none;fill-rule:evenodd;stroke:#000000;stroke-width:2.0px;stroke-linecap:butt;stroke-linejoin:miter;stroke-opacity:1' />\n",
       "<path class='bond-2 atom-2 atom-3' d='M 13.6364,189.247 L 13.6993,110.533' style='fill:none;fill-rule:evenodd;stroke:#000000;stroke-width:2.0px;stroke-linecap:butt;stroke-linejoin:miter;stroke-opacity:1' />\n",
       "<path class='bond-3 atom-3 atom-4' d='M 13.6993,110.533 L 81.8969,71.2391' style='fill:none;fill-rule:evenodd;stroke:#000000;stroke-width:2.0px;stroke-linecap:butt;stroke-linejoin:miter;stroke-opacity:1' />\n",
       "<path class='bond-4 atom-4 atom-5' d='M 81.8969,71.2391 L 150.031,110.643' style='fill:none;fill-rule:evenodd;stroke:#000000;stroke-width:2.0px;stroke-linecap:butt;stroke-linejoin:miter;stroke-opacity:1' />\n",
       "<path class='bond-5 atom-5 atom-6' d='M 150.031,110.643 L 218.229,71.3335' style='fill:none;fill-rule:evenodd;stroke:#000000;stroke-width:2.0px;stroke-linecap:butt;stroke-linejoin:miter;stroke-opacity:1' />\n",
       "<path class='bond-6 atom-6 atom-7' d='M 218.229,71.3335 L 286.364,110.753' style='fill:none;fill-rule:evenodd;stroke:#000000;stroke-width:2.0px;stroke-linecap:butt;stroke-linejoin:miter;stroke-opacity:1' />\n",
       "<path class='bond-7 atom-7 atom-8' d='M 286.364,110.753 L 286.301,189.467' style='fill:none;fill-rule:evenodd;stroke:#000000;stroke-width:2.0px;stroke-linecap:butt;stroke-linejoin:miter;stroke-opacity:1' />\n",
       "<path class='bond-8 atom-8 atom-9' d='M 286.301,189.467 L 218.103,228.761' style='fill:none;fill-rule:evenodd;stroke:#000000;stroke-width:2.0px;stroke-linecap:butt;stroke-linejoin:miter;stroke-opacity:1' />\n",
       "</svg>\n"
      ],
      "text/plain": [
       "<rdkit.Chem.rdchem.Mol at 0x124e1db80>"
      ]
     },
     "execution_count": 24,
     "metadata": {},
     "output_type": "execute_result"
    }
   ],
   "source": [
    "mol = Chem.MolFromSmiles(\"C12CCCCC1CCCC2\")\n",
    "mol"
   ]
  },
  {
   "cell_type": "markdown",
   "id": "373c3c3a",
   "metadata": {},
   "source": [
    "Also, note that a ring closure digit can be \"reused\".  In the SMILES below the digit \"1\" is used to indicate the closure of two different rings.  Note that the SMILES could also be expressed as \"C1CCCCC1C2CCCCO2\".  Go ahead, try it. "
   ]
  },
  {
   "cell_type": "code",
   "execution_count": 25,
   "id": "794fed10",
   "metadata": {},
   "outputs": [
    {
     "data": {
      "image/png": "[encoded data removed]",
      "image/svg+xml": [
       "<?xml version='1.0' encoding='iso-8859-1'?>\n",
       "<svg version='1.1' baseProfile='full'\n",
       "              xmlns='http://www.w3.org/2000/svg'\n",
       "                      xmlns:rdkit='http://www.rdkit.org/xml'\n",
       "                      xmlns:xlink='http://www.w3.org/1999/xlink'\n",
       "                  xml:space='preserve'\n",
       "width='300px' height='300px' viewBox='0 0 300 300'>\n",
       "<!-- END OF HEADER -->\n",
       "<rect style='opacity:1.0;fill:#FFFFFF;stroke:none' width='300' height='300' x='0' y='0'> </rect>\n",
       "<path class='bond-0 atom-0 atom-1' d='M 108.136,204.644 L 108.245,259.178' style='fill:none;fill-rule:evenodd;stroke:#000000;stroke-width:2.0px;stroke-linecap:butt;stroke-linejoin:miter;stroke-opacity:1' />\n",
       "<path class='bond-11 atom-5 atom-0' d='M 155.318,177.273 L 108.136,204.644' style='fill:none;fill-rule:evenodd;stroke:#000000;stroke-width:2.0px;stroke-linecap:butt;stroke-linejoin:miter;stroke-opacity:1' />\n",
       "<path class='bond-1 atom-1 atom-2' d='M 108.245,259.178 L 155.536,286.364' style='fill:none;fill-rule:evenodd;stroke:#000000;stroke-width:2.0px;stroke-linecap:butt;stroke-linejoin:miter;stroke-opacity:1' />\n",
       "<path class='bond-2 atom-2 atom-3' d='M 155.536,286.364 L 202.718,258.993' style='fill:none;fill-rule:evenodd;stroke:#000000;stroke-width:2.0px;stroke-linecap:butt;stroke-linejoin:miter;stroke-opacity:1' />\n",
       "<path class='bond-3 atom-3 atom-4' d='M 202.718,258.993 L 202.609,204.447' style='fill:none;fill-rule:evenodd;stroke:#000000;stroke-width:2.0px;stroke-linecap:butt;stroke-linejoin:miter;stroke-opacity:1' />\n",
       "<path class='bond-4 atom-4 atom-5' d='M 202.609,204.447 L 155.318,177.273' style='fill:none;fill-rule:evenodd;stroke:#000000;stroke-width:2.0px;stroke-linecap:butt;stroke-linejoin:miter;stroke-opacity:1' />\n",
       "<path class='bond-5 atom-5 atom-6' d='M 155.318,177.273 L 155.209,122.727' style='fill:none;fill-rule:evenodd;stroke:#000000;stroke-width:2.0px;stroke-linecap:butt;stroke-linejoin:miter;stroke-opacity:1' />\n",
       "<path class='bond-6 atom-6 atom-7' d='M 155.209,122.727 L 202.391,95.3564' style='fill:none;fill-rule:evenodd;stroke:#000000;stroke-width:2.0px;stroke-linecap:butt;stroke-linejoin:miter;stroke-opacity:1' />\n",
       "<path class='bond-12 atom-11 atom-6' d='M 117.259,100.92 L 136.234,111.824' style='fill:none;fill-rule:evenodd;stroke:#FF0000;stroke-width:2.0px;stroke-linecap:butt;stroke-linejoin:miter;stroke-opacity:1' />\n",
       "<path class='bond-12 atom-11 atom-6' d='M 136.234,111.824 L 155.209,122.727' style='fill:none;fill-rule:evenodd;stroke:#000000;stroke-width:2.0px;stroke-linecap:butt;stroke-linejoin:miter;stroke-opacity:1' />\n",
       "<path class='bond-7 atom-7 atom-8' d='M 202.391,95.3564 L 202.282,40.8218' style='fill:none;fill-rule:evenodd;stroke:#000000;stroke-width:2.0px;stroke-linecap:butt;stroke-linejoin:miter;stroke-opacity:1' />\n",
       "<path class='bond-8 atom-8 atom-9' d='M 202.282,40.8218 L 154.991,13.6364' style='fill:none;fill-rule:evenodd;stroke:#000000;stroke-width:2.0px;stroke-linecap:butt;stroke-linejoin:miter;stroke-opacity:1' />\n",
       "<path class='bond-9 atom-9 atom-10' d='M 154.991,13.6364 L 107.809,41.0073' style='fill:none;fill-rule:evenodd;stroke:#000000;stroke-width:2.0px;stroke-linecap:butt;stroke-linejoin:miter;stroke-opacity:1' />\n",
       "<path class='bond-10 atom-10 atom-11' d='M 107.809,41.0073 L 107.853,63.2045' style='fill:none;fill-rule:evenodd;stroke:#000000;stroke-width:2.0px;stroke-linecap:butt;stroke-linejoin:miter;stroke-opacity:1' />\n",
       "<path class='bond-10 atom-10 atom-11' d='M 107.853,63.2045 L 107.898,85.4018' style='fill:none;fill-rule:evenodd;stroke:#FF0000;stroke-width:2.0px;stroke-linecap:butt;stroke-linejoin:miter;stroke-opacity:1' />\n",
       "<path  class='atom-11' d='M 99.9409 95.6018\n",
       "Q 99.9409 91.4291, 102.003 89.0973\n",
       "Q 104.065 86.7655, 107.918 86.7655\n",
       "Q 111.772 86.7655, 113.834 89.0973\n",
       "Q 115.895 91.4291, 115.895 95.6018\n",
       "Q 115.895 99.8236, 113.809 102.229\n",
       "Q 111.723 104.61, 107.918 104.61\n",
       "Q 104.089 104.61, 102.003 102.229\n",
       "Q 99.9409 99.8482, 99.9409 95.6018\n",
       "M 107.918 102.646\n",
       "Q 110.569 102.646, 111.993 100.879\n",
       "Q 113.441 99.0873, 113.441 95.6018\n",
       "Q 113.441 92.19, 111.993 90.4718\n",
       "Q 110.569 88.7291, 107.918 88.7291\n",
       "Q 105.267 88.7291, 103.819 90.4473\n",
       "Q 102.395 92.1655, 102.395 95.6018\n",
       "Q 102.395 99.1118, 103.819 100.879\n",
       "Q 105.267 102.646, 107.918 102.646\n",
       "' fill='#FF0000'/>\n",
       "</svg>\n"
      ],
      "text/plain": [
       "<rdkit.Chem.rdchem.Mol at 0x124e37940>"
      ]
     },
     "execution_count": 25,
     "metadata": {},
     "output_type": "execute_result"
    }
   ],
   "source": [
    "Chem.MolFromSmiles(\"C1CCCCC1C1CCCCO1\")"
   ]
  },
  {
   "cell_type": "markdown",
   "id": "379dd936",
   "metadata": {},
   "source": [
    "### Exercise\n",
    "Write the SMILES and display a table of chemical structures for the following. \n",
    "1. 1,2-dimethylcyclopropane\n",
    "2. 1-methyl-3,3-dimethylcyclohexane\n",
    "3. piperazine\n",
    "4. hydrindane\n",
    "5. norbornane\n",
    "6. cyclopentanol"
   ]
  },
  {
   "cell_type": "code",
   "execution_count": 26,
   "id": "7cda01de",
   "metadata": {},
   "outputs": [],
   "source": [
    "#Write your code here"
   ]
  },
  {
   "cell_type": "markdown",
   "id": "4f88ea34",
   "metadata": {},
   "source": [
    "### Aromaticity\n",
    "\n",
    "Aromatic atoms are indicated by lower case characters. According to Daylight C,N,P,O,S,As, and Se can be considered aromatic.  As an example, benzene can be expressed as c1ccccc1 and pyridine as c1ccccn1. Note that in the same way there are implicit single bonds between uppercase characters (e.g. CCC) there are implicit aromatic bonds between lowercase characters. "
   ]
  },
  {
   "cell_type": "code",
   "execution_count": 27,
   "id": "02a51c8d",
   "metadata": {},
   "outputs": [
    {
     "data": {
      "image/svg+xml": [
       "<svg xmlns=\"http://www.w3.org/2000/svg\" xmlns:rdkit=\"http://www.rdkit.org/xml\" xmlns:xlink=\"http://www.w3.org/1999/xlink\" version=\"1.1\" baseProfile=\"full\" xml:space=\"preserve\" width=\"800px\" height=\"200px\" viewBox=\"0 0 800 200\">\n",
       "<!-- END OF HEADER -->\n",
       "<rect style=\"opacity:1.0;fill:#FFFFFF;stroke:none\" width=\"800\" height=\"200\" x=\"0\" y=\"0\"> </rect>\n",
       "<rect style=\"opacity:1.0;fill:#FFFFFF;stroke:none\" width=\"800\" height=\"200\" x=\"0\" y=\"0\"> </rect>\n",
       "<rect style=\"opacity:1.0;fill:#FFFFFF;stroke:none\" width=\"800\" height=\"200\" x=\"0\" y=\"0\"> </rect>\n",
       "<path class=\"bond-0 atom-0 atom-1\" d=\"M 26.7284,125.4 L 26.8011,34.4909\" style=\"fill:none;fill-rule:evenodd;stroke:#000000;stroke-width:2.0px;stroke-linecap:butt;stroke-linejoin:miter;stroke-opacity:1\"/>\n",
       "<path class=\"bond-0 atom-0 atom-1\" d=\"M 43.103,111.777 L 43.1539,48.1404\" style=\"fill:none;fill-rule:evenodd;stroke:#000000;stroke-width:2.0px;stroke-linecap:butt;stroke-linejoin:miter;stroke-opacity:1\"/>\n",
       "<path class=\"bond-5 atom-5 atom-0\" d=\"M 105.419,170.909 L 26.7284,125.4\" style=\"fill:none;fill-rule:evenodd;stroke:#000000;stroke-width:2.0px;stroke-linecap:butt;stroke-linejoin:miter;stroke-opacity:1\"/>\n",
       "<path class=\"bond-1 atom-1 atom-2\" d=\"M 26.8011,34.4909 L 105.565,-10.9091\" style=\"fill:none;fill-rule:evenodd;stroke:#000000;stroke-width:2.0px;stroke-linecap:butt;stroke-linejoin:miter;stroke-opacity:1\"/>\n",
       "<path class=\"bond-2 atom-2 atom-3\" d=\"M 105.565,-10.9091 L 184.256,34.6\" style=\"fill:none;fill-rule:evenodd;stroke:#000000;stroke-width:2.0px;stroke-linecap:butt;stroke-linejoin:miter;stroke-opacity:1\"/>\n",
       "<path class=\"bond-2 atom-2 atom-3\" d=\"M 109.176,10.0826 L 164.26,41.939\" style=\"fill:none;fill-rule:evenodd;stroke:#000000;stroke-width:2.0px;stroke-linecap:butt;stroke-linejoin:miter;stroke-opacity:1\"/>\n",
       "<path class=\"bond-3 atom-3 atom-4\" d=\"M 184.256,34.6 L 184.183,125.509\" style=\"fill:none;fill-rule:evenodd;stroke:#000000;stroke-width:2.0px;stroke-linecap:butt;stroke-linejoin:miter;stroke-opacity:1\"/>\n",
       "<path class=\"bond-4 atom-4 atom-5\" d=\"M 184.183,125.509 L 105.419,170.909\" style=\"fill:none;fill-rule:evenodd;stroke:#000000;stroke-width:2.0px;stroke-linecap:butt;stroke-linejoin:miter;stroke-opacity:1\"/>\n",
       "<path class=\"bond-4 atom-4 atom-5\" d=\"M 164.197,118.142 L 109.062,149.922\" style=\"fill:none;fill-rule:evenodd;stroke:#000000;stroke-width:2.0px;stroke-linecap:butt;stroke-linejoin:miter;stroke-opacity:1\"/>\n",
       "<path d=\"M 72.7686 185.432 Q 74.4806 185.432, 75.4246 186.504 Q 76.3846 187.56, 76.3846 189.544 Q 76.3846 191.608, 75.2486 192.776 Q 74.1286 193.928, 72.1606 193.928 Q 70.8646 193.928, 69.6486 193.448 L 68.9286 193.272 L 68.9286 181.656 L 70.4326 181.656 L 70.4326 186.472 Q 71.2966 185.432, 72.7686 185.432 M 72.1446 192.744 Q 73.4086 192.744, 74.1286 191.912 Q 74.8486 191.064, 74.8486 189.544 Q 74.8486 188.136, 74.2726 187.384 Q 73.7126 186.616, 72.6726 186.616 Q 71.8406 186.616, 71.2486 187.064 Q 70.6566 187.512, 70.4326 188.296 L 70.4326 192.504 Q 71.2486 192.744, 72.1446 192.744 \" fill=\"#000000\"/>\n",
       "<path d=\"M 77.1206 189.672 Q 77.1206 187.656, 78.1286 186.552 Q 79.1366 185.432, 80.9766 185.432 Q 82.7846 185.432, 83.5846 186.52 Q 84.4006 187.592, 84.4006 189.624 L 84.4006 189.88 L 78.6566 189.88 Q 78.6886 191.272, 79.3126 192.008 Q 79.9366 192.744, 81.1046 192.744 Q 81.7446 192.744, 82.3366 192.6 Q 82.9286 192.44, 83.6486 192.12 L 84.0806 193.144 Q 83.2646 193.56, 82.5286 193.752 Q 81.7926 193.928, 81.0246 193.928 Q 79.1686 193.928, 78.1446 192.808 Q 77.1206 191.688, 77.1206 189.672 M 80.9766 186.616 Q 80.0326 186.616, 79.4566 187.16 Q 78.8966 187.704, 78.7206 188.76 L 82.8166 188.76 Q 82.7046 187.656, 82.2566 187.144 Q 81.8086 186.616, 80.9766 186.616 \" fill=\"#000000\"/>\n",
       "<path d=\"M 90.0006 185.432 Q 91.3126 185.432, 92.0006 186.184 Q 92.7046 186.936, 92.7046 188.36 L 92.7046 193.8 L 91.2006 193.8 L 91.2006 188.472 Q 91.2006 187.496, 90.8166 187.064 Q 90.4486 186.616, 89.6166 186.616 Q 88.8646 186.616, 88.2406 186.968 Q 87.6166 187.304, 87.2166 187.912 L 87.2166 193.8 L 85.7126 193.8 L 85.7126 185.576 L 86.9446 185.576 L 87.1206 186.728 Q 88.2246 185.432, 90.0006 185.432 \" fill=\"#000000\"/>\n",
       "<path d=\"M 95.1686 192.616 L 99.6966 192.616 L 99.6966 193.8 L 93.3766 193.8 L 93.3766 192.84 L 97.6966 186.76 L 93.6006 186.76 L 93.6006 185.576 L 99.5206 185.576 L 99.5206 186.488 L 95.1686 192.616 \" fill=\"#000000\"/>\n",
       "<path d=\"M 100.433 189.672 Q 100.433 187.656, 101.441 186.552 Q 102.449 185.432, 104.289 185.432 Q 106.097 185.432, 106.897 186.52 Q 107.713 187.592, 107.713 189.624 L 107.713 189.88 L 101.969 189.88 Q 102.001 191.272, 102.625 192.008 Q 103.249 192.744, 104.417 192.744 Q 105.057 192.744, 105.649 192.6 Q 106.241 192.44, 106.961 192.12 L 107.393 193.144 Q 106.577 193.56, 105.841 193.752 Q 105.105 193.928, 104.337 193.928 Q 102.481 193.928, 101.457 192.808 Q 100.433 191.688, 100.433 189.672 M 104.289 186.616 Q 103.345 186.616, 102.769 187.16 Q 102.209 187.704, 102.033 188.76 L 106.129 188.76 Q 106.017 187.656, 105.569 187.144 Q 105.121 186.616, 104.289 186.616 \" fill=\"#000000\"/>\n",
       "<path d=\"M 113.313 185.432 Q 114.625 185.432, 115.313 186.184 Q 116.017 186.936, 116.017 188.36 L 116.017 193.8 L 114.513 193.8 L 114.513 188.472 Q 114.513 187.496, 114.129 187.064 Q 113.761 186.616, 112.929 186.616 Q 112.177 186.616, 111.553 186.968 Q 110.929 187.304, 110.529 187.912 L 110.529 193.8 L 109.025 193.8 L 109.025 185.576 L 110.257 185.576 L 110.433 186.728 Q 111.537 185.432, 113.313 185.432 \" fill=\"#000000\"/>\n",
       "<path d=\"M 116.753 189.672 Q 116.753 187.656, 117.761 186.552 Q 118.769 185.432, 120.609 185.432 Q 122.417 185.432, 123.217 186.52 Q 124.033 187.592, 124.033 189.624 L 124.033 189.88 L 118.289 189.88 Q 118.321 191.272, 118.945 192.008 Q 119.569 192.744, 120.737 192.744 Q 121.377 192.744, 121.969 192.6 Q 122.561 192.44, 123.281 192.12 L 123.713 193.144 Q 122.897 193.56, 122.161 193.752 Q 121.425 193.928, 120.657 193.928 Q 118.801 193.928, 117.777 192.808 Q 116.753 191.688, 116.753 189.672 M 120.609 186.616 Q 119.665 186.616, 119.089 187.16 Q 118.529 187.704, 118.353 188.76 L 122.449 188.76 Q 122.337 187.656, 121.889 187.144 Q 121.441 186.616, 120.609 186.616 \" fill=\"#000000\"/>\n",
       "<path class=\"bond-0 atom-0 atom-1\" d=\"M 305.419,170.909 L 384.183,125.509\" style=\"fill:none;fill-rule:evenodd;stroke:#000000;stroke-width:2.0px;stroke-linecap:butt;stroke-linejoin:miter;stroke-opacity:1\"/>\n",
       "<path class=\"bond-0 atom-0 atom-1\" d=\"M 309.062,149.922 L 364.197,118.142\" style=\"fill:none;fill-rule:evenodd;stroke:#000000;stroke-width:2.0px;stroke-linecap:butt;stroke-linejoin:miter;stroke-opacity:1\"/>\n",
       "<path class=\"bond-5 atom-5 atom-0\" d=\"M 235.18,130.288 L 270.299,150.598\" style=\"fill:none;fill-rule:evenodd;stroke:#0000FF;stroke-width:2.0px;stroke-linecap:butt;stroke-linejoin:miter;stroke-opacity:1\"/>\n",
       "<path class=\"bond-5 atom-5 atom-0\" d=\"M 270.299,150.598 L 305.419,170.909\" style=\"fill:none;fill-rule:evenodd;stroke:#000000;stroke-width:2.0px;stroke-linecap:butt;stroke-linejoin:miter;stroke-opacity:1\"/>\n",
       "<path class=\"bond-1 atom-1 atom-2\" d=\"M 384.183,125.509 L 384.256,34.6\" style=\"fill:none;fill-rule:evenodd;stroke:#000000;stroke-width:2.0px;stroke-linecap:butt;stroke-linejoin:miter;stroke-opacity:1\"/>\n",
       "<path class=\"bond-2 atom-2 atom-3\" d=\"M 384.256,34.6 L 305.565,-10.9091\" style=\"fill:none;fill-rule:evenodd;stroke:#000000;stroke-width:2.0px;stroke-linecap:butt;stroke-linejoin:miter;stroke-opacity:1\"/>\n",
       "<path class=\"bond-2 atom-2 atom-3\" d=\"M 364.26,41.939 L 309.176,10.0826\" style=\"fill:none;fill-rule:evenodd;stroke:#000000;stroke-width:2.0px;stroke-linecap:butt;stroke-linejoin:miter;stroke-opacity:1\"/>\n",
       "<path class=\"bond-3 atom-3 atom-4\" d=\"M 305.565,-10.9091 L 226.801,34.4909\" style=\"fill:none;fill-rule:evenodd;stroke:#000000;stroke-width:2.0px;stroke-linecap:butt;stroke-linejoin:miter;stroke-opacity:1\"/>\n",
       "<path class=\"bond-4 atom-4 atom-5\" d=\"M 226.801,34.4909 L 226.769,74.7361\" style=\"fill:none;fill-rule:evenodd;stroke:#000000;stroke-width:2.0px;stroke-linecap:butt;stroke-linejoin:miter;stroke-opacity:1\"/>\n",
       "<path class=\"bond-4 atom-4 atom-5\" d=\"M 226.769,74.7361 L 226.737,114.981\" style=\"fill:none;fill-rule:evenodd;stroke:#0000FF;stroke-width:2.0px;stroke-linecap:butt;stroke-linejoin:miter;stroke-opacity:1\"/>\n",
       "<path class=\"bond-4 atom-4 atom-5\" d=\"M 243.155,46.5775 L 243.133,74.7492\" style=\"fill:none;fill-rule:evenodd;stroke:#000000;stroke-width:2.0px;stroke-linecap:butt;stroke-linejoin:miter;stroke-opacity:1\"/>\n",
       "<path class=\"bond-4 atom-4 atom-5\" d=\"M 243.133,74.7492 L 243.11,102.921\" style=\"fill:none;fill-rule:evenodd;stroke:#0000FF;stroke-width:2.0px;stroke-linecap:butt;stroke-linejoin:miter;stroke-opacity:1\"/>\n",
       "<path class=\"atom-5\" d=\"M 223.127 117.254 L 228.466 125.883 Q 228.995 126.735, 229.846 128.276 Q 230.698 129.818, 230.744 129.91 L 230.744 117.254 L 232.907 117.254 L 232.907 133.546 L 230.675 133.546 L 224.945 124.111 Q 224.278 123.007, 223.564 121.741 Q 222.874 120.476, 222.667 120.084 L 222.667 133.546 L 220.55 133.546 L 220.55 117.254 L 223.127 117.254 \" fill=\"#0000FF\"/>\n",
       "<path d=\"M 275.114 181.624 Q 276.826 181.624, 277.77 182.696 Q 278.73 183.752, 278.73 185.736 Q 278.73 187.8, 277.594 188.968 Q 276.474 190.12, 274.506 190.12 Q 273.578 190.12, 272.794 189.896 L 272.794 193.912 L 271.29 193.912 L 271.29 181.768 L 272.506 181.768 L 272.698 182.76 Q 273.13 182.2, 273.738 181.912 Q 274.362 181.624, 275.114 181.624 M 274.49 188.936 Q 275.754 188.936, 276.474 188.104 Q 277.194 187.256, 277.194 185.736 Q 277.194 184.328, 276.618 183.576 Q 276.058 182.808, 275.018 182.808 Q 274.202 182.808, 273.61 183.24 Q 273.034 183.672, 272.794 184.44 L 272.794 188.696 Q 273.61 188.936, 274.49 188.936 \" fill=\"#000000\"/>\n",
       "<path d=\"M 285.242 181.768 L 286.698 181.768 L 282.458 193.928 L 281.098 193.928 L 282.442 189.992 L 281.818 189.992 L 278.906 181.768 L 280.458 181.768 L 282.874 188.728 L 285.242 181.768 \" fill=\"#000000\"/>\n",
       "<path d=\"M 289.274 181.768 L 289.45 182.904 Q 290.314 181.624, 291.722 181.624 Q 292.17 181.624, 292.778 181.784 L 292.538 183.128 Q 291.85 182.968, 291.466 182.968 Q 290.794 182.968, 290.346 183.24 Q 289.914 183.496, 289.562 184.12 L 289.562 189.992 L 288.058 189.992 L 288.058 181.768 L 289.274 181.768 \" fill=\"#000000\"/>\n",
       "<path d=\"M 294.154 178.664 L 295.626 178.664 L 295.626 180.056 L 294.154 180.056 L 294.154 178.664 M 294.154 181.768 L 295.626 181.768 L 295.626 189.992 L 294.154 189.992 L 294.154 181.768 \" fill=\"#000000\"/>\n",
       "<path d=\"M 303.834 177.848 L 303.834 189.976 L 302.618 189.976 L 302.41 188.968 Q 301.498 190.12, 299.978 190.12 Q 298.266 190.12, 297.306 189.064 Q 296.362 187.992, 296.362 186.008 Q 296.362 183.944, 297.482 182.792 Q 298.618 181.624, 300.586 181.624 Q 301.434 181.624, 302.33 181.848 L 302.33 177.848 L 303.834 177.848 M 300.074 188.936 Q 300.906 188.936, 301.498 188.488 Q 302.106 188.024, 302.33 187.208 L 302.33 183.048 Q 301.514 182.808, 300.602 182.808 Q 299.338 182.808, 298.618 183.656 Q 297.898 184.488, 297.898 186.008 Q 297.898 187.416, 298.458 188.184 Q 299.034 188.936, 300.074 188.936 \" fill=\"#000000\"/>\n",
       "<path d=\"M 305.21 178.664 L 306.682 178.664 L 306.682 180.056 L 305.21 180.056 L 305.21 178.664 M 305.21 181.768 L 306.682 181.768 L 306.682 189.992 L 305.21 189.992 L 305.21 181.768 \" fill=\"#000000\"/>\n",
       "<path d=\"M 312.282 181.624 Q 313.594 181.624, 314.282 182.376 Q 314.986 183.128, 314.986 184.552 L 314.986 189.992 L 313.482 189.992 L 313.482 184.664 Q 313.482 183.688, 313.098 183.256 Q 312.73 182.808, 311.898 182.808 Q 311.146 182.808, 310.522 183.16 Q 309.898 183.496, 309.498 184.104 L 309.498 189.992 L 307.994 189.992 L 307.994 181.768 L 309.226 181.768 L 309.402 182.92 Q 310.506 181.624, 312.282 181.624 \" fill=\"#000000\"/>\n",
       "<path d=\"M 315.722 185.864 Q 315.722 183.848, 316.73 182.744 Q 317.738 181.624, 319.578 181.624 Q 321.386 181.624, 322.186 182.712 Q 323.002 183.784, 323.002 185.816 L 323.002 186.072 L 317.258 186.072 Q 317.29 187.464, 317.914 188.2 Q 318.538 188.936, 319.706 188.936 Q 320.346 188.936, 320.938 188.792 Q 321.53 188.632, 322.25 188.312 L 322.682 189.336 Q 321.866 189.752, 321.13 189.944 Q 320.394 190.12, 319.626 190.12 Q 317.77 190.12, 316.746 189 Q 315.722 187.88, 315.722 185.864 M 319.578 182.808 Q 318.634 182.808, 318.058 183.352 Q 317.498 183.896, 317.322 184.952 L 321.418 184.952 Q 321.306 183.848, 320.858 183.336 Q 320.41 182.808, 319.578 182.808 \" fill=\"#000000\"/>\n",
       "</svg>"
      ],
      "text/plain": [
       "<IPython.core.display.SVG object>"
      ]
     },
     "execution_count": 27,
     "metadata": {},
     "output_type": "execute_result"
    }
   ],
   "source": [
    "# define a text buffer for our examples\n",
    "examples = \"\"\"c1ccccc1 benzene\n",
    "c1ccccn1 pyridine\"\"\"\n",
    "aromatic_smiles_list = [x.split(\" \",1) for x in examples.split(\"\\n\")]\n",
    "display_structures(aromatic_smiles_list)"
   ]
  },
  {
   "cell_type": "markdown",
   "id": "0d71f22a",
   "metadata": {},
   "source": [
    "When an aromatic nitrogen has an attached hydrogen, this hydrogen must be explicitly specified. Note that if we don't specify an explicit hydrogen on the nitrogen in pyrrole, we get an error. "
   ]
  },
  {
   "cell_type": "code",
   "execution_count": 28,
   "id": "04c442b2",
   "metadata": {},
   "outputs": [
    {
     "name": "stderr",
     "output_type": "stream",
     "text": [
      "RDKit ERROR: [08:12:40] Can't kekulize mol.  Unkekulized atoms: 0 1 2 3 4\n",
      "RDKit ERROR: \n",
      "[08:12:40] Can't kekulize mol.  Unkekulized atoms: 0 1 2 3 4\n",
      "\n"
     ]
    }
   ],
   "source": [
    "mol = Chem.MolFromSmiles(\"c1cccn1\")"
   ]
  },
  {
   "cell_type": "markdown",
   "id": "a81fcecd",
   "metadata": {},
   "source": [
    "If we include the attached hydrogen, the valid SMILES is processed. "
   ]
  },
  {
   "cell_type": "code",
   "execution_count": 29,
   "id": "c9aba132",
   "metadata": {},
   "outputs": [
    {
     "data": {
      "image/png": "[encoded data removed]",
      "image/svg+xml": [
       "<?xml version='1.0' encoding='iso-8859-1'?>\n",
       "<svg version='1.1' baseProfile='full'\n",
       "              xmlns='http://www.w3.org/2000/svg'\n",
       "                      xmlns:rdkit='http://www.rdkit.org/xml'\n",
       "                      xmlns:xlink='http://www.w3.org/1999/xlink'\n",
       "                  xml:space='preserve'\n",
       "width='300px' height='300px' viewBox='0 0 300 300'>\n",
       "<!-- END OF HEADER -->\n",
       "<rect style='opacity:1.0;fill:#FFFFFF;stroke:none' width='300' height='300' x='0' y='0'> </rect>\n",
       "<path class='bond-0 atom-0 atom-1' d='M 286.364,99.667 L 139.062,15.6544' style='fill:none;fill-rule:evenodd;stroke:#000000;stroke-width:2.0px;stroke-linecap:butt;stroke-linejoin:miter;stroke-opacity:1' />\n",
       "<path class='bond-0 atom-0 atom-1' d='M 249.145,113.581 L 146.034,54.7722' style='fill:none;fill-rule:evenodd;stroke:#000000;stroke-width:2.0px;stroke-linecap:butt;stroke-linejoin:miter;stroke-opacity:1' />\n",
       "<path class='bond-4 atom-4 atom-0' d='M 255.813,247.326 L 271.088,173.496' style='fill:none;fill-rule:evenodd;stroke:#0000FF;stroke-width:2.0px;stroke-linecap:butt;stroke-linejoin:miter;stroke-opacity:1' />\n",
       "<path class='bond-4 atom-4 atom-0' d='M 271.088,173.496 L 286.364,99.667' style='fill:none;fill-rule:evenodd;stroke:#000000;stroke-width:2.0px;stroke-linecap:butt;stroke-linejoin:miter;stroke-opacity:1' />\n",
       "<path class='bond-1 atom-1 atom-2' d='M 139.062,15.6544 L 13.6364,129.785' style='fill:none;fill-rule:evenodd;stroke:#000000;stroke-width:2.0px;stroke-linecap:butt;stroke-linejoin:miter;stroke-opacity:1' />\n",
       "<path class='bond-2 atom-2 atom-3' d='M 13.6364,129.785 L 83.4377,284.346' style='fill:none;fill-rule:evenodd;stroke:#000000;stroke-width:2.0px;stroke-linecap:butt;stroke-linejoin:miter;stroke-opacity:1' />\n",
       "<path class='bond-2 atom-2 atom-3' d='M 51.9265,140.406 L 100.787,248.598' style='fill:none;fill-rule:evenodd;stroke:#000000;stroke-width:2.0px;stroke-linecap:butt;stroke-linejoin:miter;stroke-opacity:1' />\n",
       "<path class='bond-3 atom-3 atom-4' d='M 83.4377,284.346 L 160.232,275.863' style='fill:none;fill-rule:evenodd;stroke:#000000;stroke-width:2.0px;stroke-linecap:butt;stroke-linejoin:miter;stroke-opacity:1' />\n",
       "<path class='bond-3 atom-3 atom-4' d='M 160.232,275.863 L 237.026,267.38' style='fill:none;fill-rule:evenodd;stroke:#0000FF;stroke-width:2.0px;stroke-linecap:butt;stroke-linejoin:miter;stroke-opacity:1' />\n",
       "<path  class='atom-4' d='M 245.746 251.565\n",
       "L 255.026 266.565\n",
       "Q 255.946 268.045, 257.426 270.725\n",
       "Q 258.906 273.405, 258.986 273.565\n",
       "L 258.986 251.565\n",
       "L 262.746 251.565\n",
       "L 262.746 279.885\n",
       "L 258.866 279.885\n",
       "L 248.906 263.485\n",
       "Q 247.746 261.565, 246.506 259.365\n",
       "Q 245.306 257.165, 244.946 256.485\n",
       "L 244.946 279.885\n",
       "L 241.266 279.885\n",
       "L 241.266 251.565\n",
       "L 245.746 251.565\n",
       "' fill='#0000FF'/>\n",
       "<path  class='atom-4' d='M 266.146 251.565\n",
       "L 269.986 251.565\n",
       "L 269.986 263.605\n",
       "L 284.466 263.605\n",
       "L 284.466 251.565\n",
       "L 288.306 251.565\n",
       "L 288.306 279.885\n",
       "L 284.466 279.885\n",
       "L 284.466 266.805\n",
       "L 269.986 266.805\n",
       "L 269.986 279.885\n",
       "L 266.146 279.885\n",
       "L 266.146 251.565\n",
       "' fill='#0000FF'/>\n",
       "</svg>\n"
      ],
      "text/plain": [
       "<rdkit.Chem.rdchem.Mol at 0x124e0a280>"
      ]
     },
     "execution_count": 29,
     "metadata": {},
     "output_type": "execute_result"
    }
   ],
   "source": [
    "mol = Chem.MolFromSmiles(\"c1ccc[nH]1\")\n",
    "mol"
   ]
  },
  {
   "cell_type": "markdown",
   "id": "c0fdcb1b",
   "metadata": {},
   "source": [
    "We also need to include explicit hydrogens when we have an aromatic carbon with a charge.  For instance, we must include an explicit hydrogen on the anionic carbon in cyclopentadienyl anion. "
   ]
  },
  {
   "cell_type": "code",
   "execution_count": 30,
   "id": "356a3038",
   "metadata": {},
   "outputs": [
    {
     "data": {
      "image/png": "[encoded data removed]",
      "image/svg+xml": [
       "<?xml version='1.0' encoding='iso-8859-1'?>\n",
       "<svg version='1.1' baseProfile='full'\n",
       "              xmlns='http://www.w3.org/2000/svg'\n",
       "                      xmlns:rdkit='http://www.rdkit.org/xml'\n",
       "                      xmlns:xlink='http://www.w3.org/1999/xlink'\n",
       "                  xml:space='preserve'\n",
       "width='300px' height='300px' viewBox='0 0 300 300'>\n",
       "<!-- END OF HEADER -->\n",
       "<rect style='opacity:1.0;fill:#FFFFFF;stroke:none' width='300' height='300' x='0' y='0'> </rect>\n",
       "<path class='bond-0 atom-0 atom-1' d='M 234.588,257.269 L 78.3374,274.529' style='fill:none;fill-rule:evenodd;stroke:#000000;stroke-width:2.0px;stroke-linecap:butt;stroke-linejoin:miter;stroke-opacity:1' />\n",
       "<path class='bond-0 atom-0 atom-1' d='M 208.044,231.734 L 98.6683,243.816' style='fill:none;fill-rule:evenodd;stroke:#000000;stroke-width:2.0px;stroke-linecap:butt;stroke-linejoin:miter;stroke-opacity:1' />\n",
       "<path class='bond-4 atom-4 atom-0' d='M 262.585,121.954 L 234.588,257.269' style='fill:none;fill-rule:evenodd;stroke:#000000;stroke-width:2.0px;stroke-linecap:butt;stroke-linejoin:miter;stroke-opacity:1' />\n",
       "<path class='bond-1 atom-1 atom-2' d='M 78.3374,274.529 L 13.6364,131.262' style='fill:none;fill-rule:evenodd;stroke:#000000;stroke-width:2.0px;stroke-linecap:butt;stroke-linejoin:miter;stroke-opacity:1' />\n",
       "<path class='bond-2 atom-2 atom-3' d='M 13.6364,131.262 L 129.897,25.471' style='fill:none;fill-rule:evenodd;stroke:#000000;stroke-width:2.0px;stroke-linecap:butt;stroke-linejoin:miter;stroke-opacity:1' />\n",
       "<path class='bond-2 atom-2 atom-3' d='M 50.1185,136.321 L 131.501,62.2673' style='fill:none;fill-rule:evenodd;stroke:#000000;stroke-width:2.0px;stroke-linecap:butt;stroke-linejoin:miter;stroke-opacity:1' />\n",
       "<path class='bond-3 atom-3 atom-4' d='M 129.897,25.471 L 251.586,94.8755' style='fill:none;fill-rule:evenodd;stroke:#000000;stroke-width:2.0px;stroke-linecap:butt;stroke-linejoin:miter;stroke-opacity:1' />\n",
       "<path  class='atom-4' d='M 255.516 103.465\n",
       "Q 255.516 96.4249, 258.796 92.7449\n",
       "Q 262.116 89.0249, 268.396 89.0249\n",
       "Q 274.236 89.0249, 277.356 93.1449\n",
       "L 274.716 95.3049\n",
       "Q 272.436 92.3049, 268.396 92.3049\n",
       "Q 264.116 92.3049, 261.836 95.1849\n",
       "Q 259.596 98.0249, 259.596 103.465\n",
       "Q 259.596 109.065, 261.916 111.945\n",
       "Q 264.276 114.825, 268.836 114.825\n",
       "Q 271.956 114.825, 275.596 112.945\n",
       "L 276.716 115.945\n",
       "Q 275.236 116.905, 272.996 117.465\n",
       "Q 270.756 118.025, 268.276 118.025\n",
       "Q 262.116 118.025, 258.796 114.265\n",
       "Q 255.516 110.505, 255.516 103.465\n",
       "' fill='#000000'/>\n",
       "<path  class='atom-4' d='M 278.676 93.6873\n",
       "L 288.364 93.6873\n",
       "L 288.364 95.7993\n",
       "L 278.676 95.7993\n",
       "L 278.676 93.6873\n",
       "' fill='#000000'/>\n",
       "</svg>\n"
      ],
      "text/plain": [
       "<rdkit.Chem.rdchem.Mol at 0x124e0a580>"
      ]
     },
     "execution_count": 30,
     "metadata": {},
     "output_type": "execute_result"
    }
   ],
   "source": [
    "mol = Chem.MolFromSmiles(\"c1ccc[cH-]1\")\n",
    "mol"
   ]
  },
  {
   "cell_type": "markdown",
   "id": "62fac59b",
   "metadata": {},
   "source": [
    "### Exercise\n",
    "\n",
    "Write the SMILES and display a table of chemical structures for the following.\n",
    "\n",
    "1. furan\n",
    "2. benzimidazole\n",
    "3. toluene\n",
    "4. indole\n",
    "5. tropyllium cation\n",
    "6. napthalene"
   ]
  },
  {
   "cell_type": "code",
   "execution_count": 31,
   "id": "47ee8466",
   "metadata": {},
   "outputs": [],
   "source": [
    "#Write your code here"
   ]
  },
  {
   "cell_type": "markdown",
   "id": "9d89dc1d",
   "metadata": {},
   "source": [
    "### Stereochemistry\n",
    "\n",
    "In SMILES, tetrahedral stereochemistry is indicated by \"@\" indicating anticlockwise and \"@@\" indicating clockwise. Quoting from the Daylight SMILES tutorial. \n",
    "<pre>\n",
    "Looking FROM the 1st neighbor listed in the SMILES TO the chiral atom, the other three neighbors appear anticlockwise or clockwise in the order listed.\n",
    "</pre>\n",
    "Also, note that a chiral atom will be listed in square brackets and any attached hydrogens must be explicitly specified. "
   ]
  },
  {
   "cell_type": "code",
   "execution_count": 32,
   "id": "3071e8ce",
   "metadata": {},
   "outputs": [
    {
     "data": {
      "image/png": "[encoded data removed]",
      "image/svg+xml": [
       "<?xml version='1.0' encoding='iso-8859-1'?>\n",
       "<svg version='1.1' baseProfile='full'\n",
       "              xmlns='http://www.w3.org/2000/svg'\n",
       "                      xmlns:rdkit='http://www.rdkit.org/xml'\n",
       "                      xmlns:xlink='http://www.w3.org/1999/xlink'\n",
       "                  xml:space='preserve'\n",
       "width='300px' height='300px' viewBox='0 0 300 300'>\n",
       "<!-- END OF HEADER -->\n",
       "<rect style='opacity:1.0;fill:#FFFFFF;stroke:none' width='300' height='300' x='0' y='0'> </rect>\n",
       "<path class='bond-0 atom-0 atom-1' d='M 119.56,196.478 L 121.766,200.331' style='fill:none;fill-rule:evenodd;stroke:#000000;stroke-width:1.0px;stroke-linecap:butt;stroke-linejoin:miter;stroke-opacity:1' />\n",
       "<path class='bond-0 atom-0 atom-1' d='M 97.0516,206.805 L 101.463,214.512' style='fill:none;fill-rule:evenodd;stroke:#000000;stroke-width:1.0px;stroke-linecap:butt;stroke-linejoin:miter;stroke-opacity:1' />\n",
       "<path class='bond-0 atom-0 atom-1' d='M 74.5434,217.133 L 81.161,228.692' style='fill:none;fill-rule:evenodd;stroke:#000000;stroke-width:1.0px;stroke-linecap:butt;stroke-linejoin:miter;stroke-opacity:1' />\n",
       "<path class='bond-0 atom-0 atom-1' d='M 52.0352,227.46 L 60.8587,242.873' style='fill:none;fill-rule:evenodd;stroke:#000000;stroke-width:1.0px;stroke-linecap:butt;stroke-linejoin:miter;stroke-opacity:1' />\n",
       "<path class='bond-0 atom-0 atom-1' d='M 29.527,237.788 L 40.5563,257.054' style='fill:none;fill-rule:evenodd;stroke:#000000;stroke-width:1.0px;stroke-linecap:butt;stroke-linejoin:miter;stroke-opacity:1' />\n",
       "<path class='bond-0 atom-0 atom-1' d='M 7.01875,248.115 L 20.254,271.234' style='fill:none;fill-rule:evenodd;stroke:#000000;stroke-width:1.0px;stroke-linecap:butt;stroke-linejoin:miter;stroke-opacity:1' />\n",
       "<path class='bond-1 atom-0 atom-2' d='M 142.068,186.15 L 198.708,219.117' style='fill:none;fill-rule:evenodd;stroke:#000000;stroke-width:2.0px;stroke-linecap:butt;stroke-linejoin:miter;stroke-opacity:1' />\n",
       "<path class='bond-1 atom-0 atom-2' d='M 198.708,219.117 L 255.347,252.083' style='fill:none;fill-rule:evenodd;stroke:#00CC00;stroke-width:2.0px;stroke-linecap:butt;stroke-linejoin:miter;stroke-opacity:1' />\n",
       "<path class='bond-2 atom-0 atom-3' d='M 142.068,186.15 L 142.302,121.082' style='fill:none;fill-rule:evenodd;stroke:#000000;stroke-width:2.0px;stroke-linecap:butt;stroke-linejoin:miter;stroke-opacity:1' />\n",
       "<path class='bond-2 atom-0 atom-3' d='M 142.302,121.082 L 142.537,56.0131' style='fill:none;fill-rule:evenodd;stroke:#7F4C19;stroke-width:2.0px;stroke-linecap:butt;stroke-linejoin:miter;stroke-opacity:1' />\n",
       "<path  class='atom-2' d='M 259.047 261.573\n",
       "Q 259.047 254.533, 262.327 250.853\n",
       "Q 265.647 247.133, 271.927 247.133\n",
       "Q 277.767 247.133, 280.887 251.253\n",
       "L 278.247 253.413\n",
       "Q 275.967 250.413, 271.927 250.413\n",
       "Q 267.647 250.413, 265.367 253.293\n",
       "Q 263.127 256.133, 263.127 261.573\n",
       "Q 263.127 267.173, 265.447 270.053\n",
       "Q 267.807 272.933, 272.367 272.933\n",
       "Q 275.487 272.933, 279.127 271.053\n",
       "L 280.247 274.053\n",
       "Q 278.767 275.013, 276.527 275.573\n",
       "Q 274.287 276.133, 271.807 276.133\n",
       "Q 265.647 276.133, 262.327 272.373\n",
       "Q 259.047 268.613, 259.047 261.573\n",
       "' fill='#00CC00'/>\n",
       "<path  class='atom-2' d='M 284.327 245.413\n",
       "L 288.007 245.413\n",
       "L 288.007 275.773\n",
       "L 284.327 275.773\n",
       "L 284.327 245.413\n",
       "' fill='#00CC00'/>\n",
       "<path  class='atom-3' d='M 146.741 37.4332\n",
       "Q 149.461 38.1932, 150.821 39.8732\n",
       "Q 152.221 41.5132, 152.221 43.9532\n",
       "Q 152.221 47.8732, 149.701 50.1132\n",
       "Q 147.221 52.3132, 142.501 52.3132\n",
       "L 132.981 52.3132\n",
       "L 132.981 23.9932\n",
       "L 141.341 23.9932\n",
       "Q 146.181 23.9932, 148.621 25.9532\n",
       "Q 151.061 27.9132, 151.061 31.5132\n",
       "Q 151.061 35.7932, 146.741 37.4332\n",
       "M 136.781 27.1932\n",
       "L 136.781 36.0732\n",
       "L 141.341 36.0732\n",
       "Q 144.141 36.0732, 145.581 34.9532\n",
       "Q 147.061 33.7932, 147.061 31.5132\n",
       "Q 147.061 27.1932, 141.341 27.1932\n",
       "L 136.781 27.1932\n",
       "M 142.501 49.1132\n",
       "Q 145.261 49.1132, 146.741 47.7932\n",
       "Q 148.221 46.4732, 148.221 43.9532\n",
       "Q 148.221 41.6332, 146.581 40.4732\n",
       "Q 144.981 39.2732, 141.901 39.2732\n",
       "L 136.781 39.2732\n",
       "L 136.781 49.1132\n",
       "L 142.501 49.1132\n",
       "' fill='#7F4C19'/>\n",
       "<path  class='atom-3' d='M 158.661 31.7532\n",
       "L 159.101 34.5932\n",
       "Q 161.261 31.3932, 164.781 31.3932\n",
       "Q 165.901 31.3932, 167.421 31.7932\n",
       "L 166.821 35.1532\n",
       "Q 165.101 34.7532, 164.141 34.7532\n",
       "Q 162.461 34.7532, 161.341 35.4332\n",
       "Q 160.261 36.0732, 159.381 37.6332\n",
       "L 159.381 52.3132\n",
       "L 155.621 52.3132\n",
       "L 155.621 31.7532\n",
       "L 158.661 31.7532\n",
       "' fill='#7F4C19'/>\n",
       "</svg>\n"
      ],
      "text/plain": [
       "<rdkit.Chem.rdchem.Mol at 0x124e0a880>"
      ]
     },
     "execution_count": 32,
     "metadata": {},
     "output_type": "execute_result"
    }
   ],
   "source": [
    "Chem.MolFromSmiles(\"[C@H](C)(Cl)(Br)\")"
   ]
  },
  {
   "cell_type": "code",
   "execution_count": 33,
   "id": "0e6e0bc1",
   "metadata": {},
   "outputs": [
    {
     "data": {
      "image/png": "[encoded data removed]",
      "image/svg+xml": [
       "<?xml version='1.0' encoding='iso-8859-1'?>\n",
       "<svg version='1.1' baseProfile='full'\n",
       "              xmlns='http://www.w3.org/2000/svg'\n",
       "                      xmlns:rdkit='http://www.rdkit.org/xml'\n",
       "                      xmlns:xlink='http://www.w3.org/1999/xlink'\n",
       "                  xml:space='preserve'\n",
       "width='300px' height='300px' viewBox='0 0 300 300'>\n",
       "<!-- END OF HEADER -->\n",
       "<rect style='opacity:1.0;fill:#FFFFFF;stroke:none' width='300' height='300' x='0' y='0'> </rect>\n",
       "<path class='bond-0 atom-0 atom-1' d='M 142.068,186.15 L 7.01875,248.115 L 20.254,271.234 Z' style='fill:#000000;fill-rule:evenodd;fill-opacity:1;stroke:#000000;stroke-width:2.0px;stroke-linecap:butt;stroke-linejoin:miter;stroke-opacity:1;' />\n",
       "<path class='bond-1 atom-0 atom-2' d='M 142.068,186.15 L 198.708,219.117' style='fill:none;fill-rule:evenodd;stroke:#000000;stroke-width:2.0px;stroke-linecap:butt;stroke-linejoin:miter;stroke-opacity:1' />\n",
       "<path class='bond-1 atom-0 atom-2' d='M 198.708,219.117 L 255.347,252.083' style='fill:none;fill-rule:evenodd;stroke:#00CC00;stroke-width:2.0px;stroke-linecap:butt;stroke-linejoin:miter;stroke-opacity:1' />\n",
       "<path class='bond-2 atom-0 atom-3' d='M 142.068,186.15 L 142.302,121.082' style='fill:none;fill-rule:evenodd;stroke:#000000;stroke-width:2.0px;stroke-linecap:butt;stroke-linejoin:miter;stroke-opacity:1' />\n",
       "<path class='bond-2 atom-0 atom-3' d='M 142.302,121.082 L 142.537,56.0131' style='fill:none;fill-rule:evenodd;stroke:#7F4C19;stroke-width:2.0px;stroke-linecap:butt;stroke-linejoin:miter;stroke-opacity:1' />\n",
       "<path  class='atom-2' d='M 259.047 261.573\n",
       "Q 259.047 254.533, 262.327 250.853\n",
       "Q 265.647 247.133, 271.927 247.133\n",
       "Q 277.767 247.133, 280.887 251.253\n",
       "L 278.247 253.413\n",
       "Q 275.967 250.413, 271.927 250.413\n",
       "Q 267.647 250.413, 265.367 253.293\n",
       "Q 263.127 256.133, 263.127 261.573\n",
       "Q 263.127 267.173, 265.447 270.053\n",
       "Q 267.807 272.933, 272.367 272.933\n",
       "Q 275.487 272.933, 279.127 271.053\n",
       "L 280.247 274.053\n",
       "Q 278.767 275.013, 276.527 275.573\n",
       "Q 274.287 276.133, 271.807 276.133\n",
       "Q 265.647 276.133, 262.327 272.373\n",
       "Q 259.047 268.613, 259.047 261.573\n",
       "' fill='#00CC00'/>\n",
       "<path  class='atom-2' d='M 284.327 245.413\n",
       "L 288.007 245.413\n",
       "L 288.007 275.773\n",
       "L 284.327 275.773\n",
       "L 284.327 245.413\n",
       "' fill='#00CC00'/>\n",
       "<path  class='atom-3' d='M 146.741 37.4332\n",
       "Q 149.461 38.1932, 150.821 39.8732\n",
       "Q 152.221 41.5132, 152.221 43.9532\n",
       "Q 152.221 47.8732, 149.701 50.1132\n",
       "Q 147.221 52.3132, 142.501 52.3132\n",
       "L 132.981 52.3132\n",
       "L 132.981 23.9932\n",
       "L 141.341 23.9932\n",
       "Q 146.181 23.9932, 148.621 25.9532\n",
       "Q 151.061 27.9132, 151.061 31.5132\n",
       "Q 151.061 35.7932, 146.741 37.4332\n",
       "M 136.781 27.1932\n",
       "L 136.781 36.0732\n",
       "L 141.341 36.0732\n",
       "Q 144.141 36.0732, 145.581 34.9532\n",
       "Q 147.061 33.7932, 147.061 31.5132\n",
       "Q 147.061 27.1932, 141.341 27.1932\n",
       "L 136.781 27.1932\n",
       "M 142.501 49.1132\n",
       "Q 145.261 49.1132, 146.741 47.7932\n",
       "Q 148.221 46.4732, 148.221 43.9532\n",
       "Q 148.221 41.6332, 146.581 40.4732\n",
       "Q 144.981 39.2732, 141.901 39.2732\n",
       "L 136.781 39.2732\n",
       "L 136.781 49.1132\n",
       "L 142.501 49.1132\n",
       "' fill='#7F4C19'/>\n",
       "<path  class='atom-3' d='M 158.661 31.7532\n",
       "L 159.101 34.5932\n",
       "Q 161.261 31.3932, 164.781 31.3932\n",
       "Q 165.901 31.3932, 167.421 31.7932\n",
       "L 166.821 35.1532\n",
       "Q 165.101 34.7532, 164.141 34.7532\n",
       "Q 162.461 34.7532, 161.341 35.4332\n",
       "Q 160.261 36.0732, 159.381 37.6332\n",
       "L 159.381 52.3132\n",
       "L 155.621 52.3132\n",
       "L 155.621 31.7532\n",
       "L 158.661 31.7532\n",
       "' fill='#7F4C19'/>\n",
       "</svg>\n"
      ],
      "text/plain": [
       "<rdkit.Chem.rdchem.Mol at 0x124e0abe0>"
      ]
     },
     "execution_count": 33,
     "metadata": {},
     "output_type": "execute_result"
    }
   ],
   "source": [
    "Chem.MolFromSmiles(\"[C@@H](C)(Cl)(Br)\")"
   ]
  },
  {
   "cell_type": "markdown",
   "id": "308ef232",
   "metadata": {},
   "source": [
    "E,Z isomerism in double bonds is shown with \"/\" and \"\\\\\".  In the cells below, we can see the visual mnemonic with trans-2-butene as C/C=C/C and cis-2-butene as C/C=C\\C. "
   ]
  },
  {
   "cell_type": "code",
   "execution_count": 34,
   "id": "4d01257e",
   "metadata": {},
   "outputs": [
    {
     "data": {
      "image/png": "[encoded data removed]",
      "image/svg+xml": [
       "<?xml version='1.0' encoding='iso-8859-1'?>\n",
       "<svg version='1.1' baseProfile='full'\n",
       "              xmlns='http://www.w3.org/2000/svg'\n",
       "                      xmlns:rdkit='http://www.rdkit.org/xml'\n",
       "                      xmlns:xlink='http://www.w3.org/1999/xlink'\n",
       "                  xml:space='preserve'\n",
       "width='300px' height='300px' viewBox='0 0 300 300'>\n",
       "<!-- END OF HEADER -->\n",
       "<rect style='opacity:1.0;fill:#FFFFFF;stroke:none' width='300' height='300' x='0' y='0'> </rect>\n",
       "<path class='bond-0 atom-0 atom-1' d='M 286.364,123.865 L 195.427,176.282' style='fill:none;fill-rule:evenodd;stroke:#000000;stroke-width:2.0px;stroke-linecap:butt;stroke-linejoin:miter;stroke-opacity:1' />\n",
       "<path class='bond-1 atom-1 atom-2' d='M 195.427,176.282 L 104.573,123.718' style='fill:none;fill-rule:evenodd;stroke:#000000;stroke-width:2.0px;stroke-linecap:butt;stroke-linejoin:miter;stroke-opacity:1' />\n",
       "<path class='bond-1 atom-1 atom-2' d='M 191.26,152.044 L 127.663,115.25' style='fill:none;fill-rule:evenodd;stroke:#000000;stroke-width:2.0px;stroke-linecap:butt;stroke-linejoin:miter;stroke-opacity:1' />\n",
       "<path class='bond-2 atom-2 atom-3' d='M 104.573,123.718 L 13.6364,176.135' style='fill:none;fill-rule:evenodd;stroke:#000000;stroke-width:2.0px;stroke-linecap:butt;stroke-linejoin:miter;stroke-opacity:1' />\n",
       "</svg>\n"
      ],
      "text/plain": [
       "<rdkit.Chem.rdchem.Mol at 0x124e0a9a0>"
      ]
     },
     "execution_count": 34,
     "metadata": {},
     "output_type": "execute_result"
    }
   ],
   "source": [
    "Chem.MolFromSmiles(\"C/C=C/C\")"
   ]
  },
  {
   "cell_type": "code",
   "execution_count": 35,
   "id": "0a5b2a7e",
   "metadata": {},
   "outputs": [
    {
     "data": {
      "image/png": "[encoded data removed]",
      "image/svg+xml": [
       "<?xml version='1.0' encoding='iso-8859-1'?>\n",
       "<svg version='1.1' baseProfile='full'\n",
       "              xmlns='http://www.w3.org/2000/svg'\n",
       "                      xmlns:rdkit='http://www.rdkit.org/xml'\n",
       "                      xmlns:xlink='http://www.w3.org/1999/xlink'\n",
       "                  xml:space='preserve'\n",
       "width='300px' height='300px' viewBox='0 0 300 300'>\n",
       "<!-- END OF HEADER -->\n",
       "<rect style='opacity:1.0;fill:#FFFFFF;stroke:none' width='300' height='300' x='0' y='0'> </rect>\n",
       "<path class='bond-0 atom-0 atom-1' d='M 286.238,31.8549 L 286.364,189.319' style='fill:none;fill-rule:evenodd;stroke:#000000;stroke-width:2.0px;stroke-linecap:butt;stroke-linejoin:miter;stroke-opacity:1' />\n",
       "<path class='bond-1 atom-1 atom-2' d='M 286.364,189.319 L 150.063,268.145' style='fill:none;fill-rule:evenodd;stroke:#000000;stroke-width:2.0px;stroke-linecap:butt;stroke-linejoin:miter;stroke-opacity:1' />\n",
       "<path class='bond-1 atom-1 atom-2' d='M 251.729,176.607 L 156.318,231.785' style='fill:none;fill-rule:evenodd;stroke:#000000;stroke-width:2.0px;stroke-linecap:butt;stroke-linejoin:miter;stroke-opacity:1' />\n",
       "<path class='bond-2 atom-2 atom-3' d='M 150.063,268.145 L 13.6364,189.539' style='fill:none;fill-rule:evenodd;stroke:#000000;stroke-width:2.0px;stroke-linecap:butt;stroke-linejoin:miter;stroke-opacity:1' />\n",
       "</svg>\n"
      ],
      "text/plain": [
       "<rdkit.Chem.rdchem.Mol at 0x124e0aa60>"
      ]
     },
     "execution_count": 35,
     "metadata": {},
     "output_type": "execute_result"
    }
   ],
   "source": [
    "Chem.MolFromSmiles(\"C/C=C\\C\")"
   ]
  },
  {
   "cell_type": "markdown",
   "id": "907edc5b",
   "metadata": {},
   "source": [
    "### Canonical SMILES"
   ]
  },
  {
   "cell_type": "markdown",
   "id": "f12a768f",
   "metadata": {},
   "source": [
    "There are many ways to write a SMILES for the same molecule.  For instance, in the cell below, we show five different ways to write the SMILES for pentane. "
   ]
  },
  {
   "cell_type": "code",
   "execution_count": 36,
   "id": "29f3b247",
   "metadata": {},
   "outputs": [
    {
     "data": {
      "image/svg+xml": [
       "<svg xmlns=\"http://www.w3.org/2000/svg\" xmlns:rdkit=\"http://www.rdkit.org/xml\" xmlns:xlink=\"http://www.w3.org/1999/xlink\" version=\"1.1\" baseProfile=\"full\" xml:space=\"preserve\" width=\"600px\" height=\"400px\" viewBox=\"0 0 600 400\">\n",
       "<!-- END OF HEADER -->\n",
       "<rect style=\"opacity:1.0;fill:#FFFFFF;stroke:none\" width=\"600\" height=\"400\" x=\"0\" y=\"0\"> </rect>\n",
       "<rect style=\"opacity:1.0;fill:#FFFFFF;stroke:none\" width=\"600\" height=\"400\" x=\"0\" y=\"0\"> </rect>\n",
       "<rect style=\"opacity:1.0;fill:#FFFFFF;stroke:none\" width=\"600\" height=\"400\" x=\"0\" y=\"0\"> </rect>\n",
       "<rect style=\"opacity:1.0;fill:#FFFFFF;stroke:none\" width=\"600\" height=\"400\" x=\"0\" y=\"0\"> </rect>\n",
       "<rect style=\"opacity:1.0;fill:#FFFFFF;stroke:none\" width=\"600\" height=\"400\" x=\"0\" y=\"0\"> </rect>\n",
       "<rect style=\"opacity:1.0;fill:#FFFFFF;stroke:none\" width=\"600\" height=\"400\" x=\"0\" y=\"0\"> </rect>\n",
       "<path class=\"bond-0 atom-0 atom-1\" d=\"M 9.09091,113.028 L 54.5665,86.8255\" style=\"fill:none;fill-rule:evenodd;stroke:#000000;stroke-width:2.0px;stroke-linecap:butt;stroke-linejoin:miter;stroke-opacity:1\"/>\n",
       "<path class=\"bond-1 atom-1 atom-2\" d=\"M 54.5665,86.8255 L 100,113.101\" style=\"fill:none;fill-rule:evenodd;stroke:#000000;stroke-width:2.0px;stroke-linecap:butt;stroke-linejoin:miter;stroke-opacity:1\"/>\n",
       "<path class=\"bond-2 atom-2 atom-3\" d=\"M 100,113.101 L 145.476,86.8885\" style=\"fill:none;fill-rule:evenodd;stroke:#000000;stroke-width:2.0px;stroke-linecap:butt;stroke-linejoin:miter;stroke-opacity:1\"/>\n",
       "<path class=\"bond-3 atom-3 atom-4\" d=\"M 145.476,86.8885 L 190.909,113.174\" style=\"fill:none;fill-rule:evenodd;stroke:#000000;stroke-width:2.0px;stroke-linecap:butt;stroke-linejoin:miter;stroke-opacity:1\"/>\n",
       "<path class=\"bond-0 atom-0 atom-1\" d=\"M 209.091,113.028 L 254.566,86.8255\" style=\"fill:none;fill-rule:evenodd;stroke:#000000;stroke-width:2.0px;stroke-linecap:butt;stroke-linejoin:miter;stroke-opacity:1\"/>\n",
       "<path class=\"bond-1 atom-1 atom-2\" d=\"M 254.566,86.8255 L 300,113.101\" style=\"fill:none;fill-rule:evenodd;stroke:#000000;stroke-width:2.0px;stroke-linecap:butt;stroke-linejoin:miter;stroke-opacity:1\"/>\n",
       "<path class=\"bond-2 atom-2 atom-3\" d=\"M 300,113.101 L 345.476,86.8885\" style=\"fill:none;fill-rule:evenodd;stroke:#000000;stroke-width:2.0px;stroke-linecap:butt;stroke-linejoin:miter;stroke-opacity:1\"/>\n",
       "<path class=\"bond-3 atom-3 atom-4\" d=\"M 345.476,86.8885 L 390.909,113.174\" style=\"fill:none;fill-rule:evenodd;stroke:#000000;stroke-width:2.0px;stroke-linecap:butt;stroke-linejoin:miter;stroke-opacity:1\"/>\n",
       "<path class=\"bond-0 atom-0 atom-1\" d=\"M 409.091,113.028 L 454.566,86.8255\" style=\"fill:none;fill-rule:evenodd;stroke:#000000;stroke-width:2.0px;stroke-linecap:butt;stroke-linejoin:miter;stroke-opacity:1\"/>\n",
       "<path class=\"bond-1 atom-1 atom-2\" d=\"M 454.566,86.8255 L 500,113.101\" style=\"fill:none;fill-rule:evenodd;stroke:#000000;stroke-width:2.0px;stroke-linecap:butt;stroke-linejoin:miter;stroke-opacity:1\"/>\n",
       "<path class=\"bond-2 atom-2 atom-3\" d=\"M 500,113.101 L 545.476,86.8885\" style=\"fill:none;fill-rule:evenodd;stroke:#000000;stroke-width:2.0px;stroke-linecap:butt;stroke-linejoin:miter;stroke-opacity:1\"/>\n",
       "<path class=\"bond-3 atom-3 atom-4\" d=\"M 545.476,86.8885 L 590.909,113.174\" style=\"fill:none;fill-rule:evenodd;stroke:#000000;stroke-width:2.0px;stroke-linecap:butt;stroke-linejoin:miter;stroke-opacity:1\"/>\n",
       "<path class=\"bond-0 atom-0 atom-1\" d=\"M 9.09091,313.028 L 54.5665,286.826\" style=\"fill:none;fill-rule:evenodd;stroke:#000000;stroke-width:2.0px;stroke-linecap:butt;stroke-linejoin:miter;stroke-opacity:1\"/>\n",
       "<path class=\"bond-1 atom-1 atom-2\" d=\"M 54.5665,286.826 L 100,313.101\" style=\"fill:none;fill-rule:evenodd;stroke:#000000;stroke-width:2.0px;stroke-linecap:butt;stroke-linejoin:miter;stroke-opacity:1\"/>\n",
       "<path class=\"bond-2 atom-2 atom-3\" d=\"M 100,313.101 L 145.476,286.889\" style=\"fill:none;fill-rule:evenodd;stroke:#000000;stroke-width:2.0px;stroke-linecap:butt;stroke-linejoin:miter;stroke-opacity:1\"/>\n",
       "<path class=\"bond-3 atom-3 atom-4\" d=\"M 145.476,286.889 L 190.909,313.174\" style=\"fill:none;fill-rule:evenodd;stroke:#000000;stroke-width:2.0px;stroke-linecap:butt;stroke-linejoin:miter;stroke-opacity:1\"/>\n",
       "<path class=\"bond-0 atom-0 atom-1\" d=\"M 209.091,313.028 L 254.566,286.826\" style=\"fill:none;fill-rule:evenodd;stroke:#000000;stroke-width:2.0px;stroke-linecap:butt;stroke-linejoin:miter;stroke-opacity:1\"/>\n",
       "<path class=\"bond-1 atom-1 atom-2\" d=\"M 254.566,286.826 L 300,313.101\" style=\"fill:none;fill-rule:evenodd;stroke:#000000;stroke-width:2.0px;stroke-linecap:butt;stroke-linejoin:miter;stroke-opacity:1\"/>\n",
       "<path class=\"bond-2 atom-2 atom-3\" d=\"M 300,313.101 L 345.476,286.889\" style=\"fill:none;fill-rule:evenodd;stroke:#000000;stroke-width:2.0px;stroke-linecap:butt;stroke-linejoin:miter;stroke-opacity:1\"/>\n",
       "<path class=\"bond-3 atom-3 atom-4\" d=\"M 345.476,286.889 L 390.909,313.174\" style=\"fill:none;fill-rule:evenodd;stroke:#000000;stroke-width:2.0px;stroke-linecap:butt;stroke-linejoin:miter;stroke-opacity:1\"/>\n",
       "</svg>"
      ],
      "text/plain": [
       "<IPython.core.display.SVG object>"
      ]
     },
     "execution_count": 36,
     "metadata": {},
     "output_type": "execute_result"
    }
   ],
   "source": [
    "pentane_smiles_list = [\"CCCCC\",\"C(CCCC)\",\"C-C-C-C-C\",\"[CH3][CH2][CH2][CH2][CH3]\",\"CC(CCC)\"]\n",
    "# If the line below doesn't make sense to you, take a look at list comprehensions in Python\n",
    "pentane_mol_list = [Chem.MolFromSmiles(x) for x in pentane_smiles_list]\n",
    "Chem.Draw.MolsToGridImage(pentane_mol_list)"
   ]
  },
  {
   "cell_type": "markdown",
   "id": "e94994f8",
   "metadata": {},
   "source": [
    "It's convenient to be able to write many SMILES for the same molecule, but this can also be a problem.  Let's say we're trying to keep track of the number of unique molecules in a set.  If the same molecule can have several SMILES, it can be difficult to keep track of which molecules are the same.  Fortunately, [the RDKit](https://www.rdkit.org/docs/source/rdkit.Chem.rdmolfiles.html) and many other Cheminformatics toolkits have methods for creating what is called a **canonical** representation.  These methods should always create the same SMILES for a molecule.  Here's an example where we create a canonical SMILES for the pentane_smiles_list above. Note that all the input SMILES are different but all the output SMILES are the same.  It's important to know that all Cheminformatics toolkits do not generate the same canonical SMILES."
   ]
  },
  {
   "cell_type": "code",
   "execution_count": 37,
   "id": "ef032f90",
   "metadata": {},
   "outputs": [
    {
     "name": "stdout",
     "output_type": "stream",
     "text": [
      "CCCCC\n",
      "CCCCC\n",
      "CCCCC\n",
      "CCCCC\n",
      "CCCCC\n"
     ]
    }
   ],
   "source": [
    "pentane_smiles_list = [\"CCCCC\",\"C(CCCC)\",\"C-C-C-C-C\",\"[CH3][CH2][CH2][CH2][CH3]\",\"CC(CCC)\"]\n",
    "# If the line below doesn't make sense to you, take a look at list comprehensions in Python\n",
    "pentane_mol_list = [Chem.MolFromSmiles(x) for x in pentane_smiles_list]\n",
    "for mol in pentane_mol_list:\n",
    "    pentane_smiles = Chem.MolToSmiles(mol)\n",
    "    print(pentane_smiles)"
   ]
  },
  {
   "cell_type": "markdown",
   "id": "5dd4b2f5",
   "metadata": {},
   "source": [
    "Canonical SMILES typically don't resolve tautomers to the same structure.  Specialized methods that are beyond the scope of this discussion are often required to create the same SMILES from Tautomers. In the example below we look at the SMILES for the keto and enol tautomers of pyridone. "
   ]
  },
  {
   "cell_type": "code",
   "execution_count": 38,
   "id": "060e9ae5",
   "metadata": {},
   "outputs": [],
   "source": [
    "tautomer_smiles_list = [\"C1C=CC(=O)NC=1\",\"C1=CC=C(O)N=C1\"]\n",
    "tautomer_mol_list = [Chem.MolFromSmiles(x) for x in tautomer_smiles_list]"
   ]
  },
  {
   "cell_type": "code",
   "execution_count": 39,
   "id": "197369fc",
   "metadata": {},
   "outputs": [
    {
     "data": {
      "image/svg+xml": [
       "<svg xmlns=\"http://www.w3.org/2000/svg\" xmlns:rdkit=\"http://www.rdkit.org/xml\" xmlns:xlink=\"http://www.w3.org/1999/xlink\" version=\"1.1\" baseProfile=\"full\" xml:space=\"preserve\" width=\"600px\" height=\"200px\" viewBox=\"0 0 600 200\">\n",
       "<!-- END OF HEADER -->\n",
       "<rect style=\"opacity:1.0;fill:#FFFFFF;stroke:none\" width=\"600\" height=\"200\" x=\"0\" y=\"0\"> </rect>\n",
       "<rect style=\"opacity:1.0;fill:#FFFFFF;stroke:none\" width=\"600\" height=\"200\" x=\"0\" y=\"0\"> </rect>\n",
       "<rect style=\"opacity:1.0;fill:#FFFFFF;stroke:none\" width=\"600\" height=\"200\" x=\"0\" y=\"0\"> </rect>\n",
       "<path class=\"bond-0 atom-0 atom-1\" d=\"M 122.21,190.909 L 171.245,162.721\" style=\"fill:none;fill-rule:evenodd;stroke:#000000;stroke-width:2.0px;stroke-linecap:butt;stroke-linejoin:miter;stroke-opacity:1\"/>\n",
       "<path class=\"bond-6 atom-6 atom-0\" d=\"M 73.2889,162.529 L 122.21,190.909\" style=\"fill:none;fill-rule:evenodd;stroke:#000000;stroke-width:2.0px;stroke-linecap:butt;stroke-linejoin:miter;stroke-opacity:1\"/>\n",
       "<path class=\"bond-6 atom-6 atom-0\" d=\"M 85.7355,157.98 L 119.981,177.846\" style=\"fill:none;fill-rule:evenodd;stroke:#000000;stroke-width:2.0px;stroke-linecap:butt;stroke-linejoin:miter;stroke-opacity:1\"/>\n",
       "<path class=\"bond-1 atom-1 atom-2\" d=\"M 171.245,162.721 L 171.358,106.165\" style=\"fill:none;fill-rule:evenodd;stroke:#000000;stroke-width:2.0px;stroke-linecap:butt;stroke-linejoin:miter;stroke-opacity:1\"/>\n",
       "<path class=\"bond-1 atom-1 atom-2\" d=\"M 161.082,154.217 L 161.161,114.628\" style=\"fill:none;fill-rule:evenodd;stroke:#000000;stroke-width:2.0px;stroke-linecap:butt;stroke-linejoin:miter;stroke-opacity:1\"/>\n",
       "<path class=\"bond-2 atom-2 atom-3\" d=\"M 171.358,106.165 L 122.437,77.7959\" style=\"fill:none;fill-rule:evenodd;stroke:#000000;stroke-width:2.0px;stroke-linecap:butt;stroke-linejoin:miter;stroke-opacity:1\"/>\n",
       "<path class=\"bond-3 atom-3 atom-4\" d=\"M 127.527,77.8061 L 127.577,52.876\" style=\"fill:none;fill-rule:evenodd;stroke:#000000;stroke-width:2.0px;stroke-linecap:butt;stroke-linejoin:miter;stroke-opacity:1\"/>\n",
       "<path class=\"bond-3 atom-3 atom-4\" d=\"M 127.577,52.876 L 127.626,27.9459\" style=\"fill:none;fill-rule:evenodd;stroke:#FF0000;stroke-width:2.0px;stroke-linecap:butt;stroke-linejoin:miter;stroke-opacity:1\"/>\n",
       "<path class=\"bond-3 atom-3 atom-4\" d=\"M 117.347,77.7857 L 117.396,52.8556\" style=\"fill:none;fill-rule:evenodd;stroke:#000000;stroke-width:2.0px;stroke-linecap:butt;stroke-linejoin:miter;stroke-opacity:1\"/>\n",
       "<path class=\"bond-3 atom-3 atom-4\" d=\"M 117.396,52.8556 L 117.446,27.9256\" style=\"fill:none;fill-rule:evenodd;stroke:#FF0000;stroke-width:2.0px;stroke-linecap:butt;stroke-linejoin:miter;stroke-opacity:1\"/>\n",
       "<path class=\"bond-4 atom-3 atom-5\" d=\"M 122.437,77.7959 L 100.548,90.3735\" style=\"fill:none;fill-rule:evenodd;stroke:#000000;stroke-width:2.0px;stroke-linecap:butt;stroke-linejoin:miter;stroke-opacity:1\"/>\n",
       "<path class=\"bond-4 atom-3 atom-5\" d=\"M 100.548,90.3735 L 78.6597,102.951\" style=\"fill:none;fill-rule:evenodd;stroke:#0000FF;stroke-width:2.0px;stroke-linecap:butt;stroke-linejoin:miter;stroke-opacity:1\"/>\n",
       "<path class=\"bond-5 atom-5 atom-6\" d=\"M 73.3891,112.454 L 73.339,137.492\" style=\"fill:none;fill-rule:evenodd;stroke:#0000FF;stroke-width:2.0px;stroke-linecap:butt;stroke-linejoin:miter;stroke-opacity:1\"/>\n",
       "<path class=\"bond-5 atom-5 atom-6\" d=\"M 73.339,137.492 L 73.2889,162.529\" style=\"fill:none;fill-rule:evenodd;stroke:#000000;stroke-width:2.0px;stroke-linecap:butt;stroke-linejoin:miter;stroke-opacity:1\"/>\n",
       "<path class=\"atom-4\" d=\"M 117.897 21.2679 Q 117.897 18.8342, 119.1 17.4742 Q 120.302 16.1142, 122.55 16.1142 Q 124.797 16.1142, 126 17.4742 Q 127.202 18.8342, 127.202 21.2679 Q 127.202 23.7302, 125.986 25.1332 Q 124.769 26.5218, 122.55 26.5218 Q 120.316 26.5218, 119.1 25.1332 Q 117.897 23.7445, 117.897 21.2679 M 122.55 25.3766 Q 124.096 25.3766, 124.926 24.3458 Q 125.771 23.3008, 125.771 21.2679 Q 125.771 19.278, 124.926 18.2759 Q 124.096 17.2595, 122.55 17.2595 Q 121.004 17.2595, 120.159 18.2616 Q 119.329 19.2637, 119.329 21.2679 Q 119.329 23.3151, 120.159 24.3458 Q 121.004 25.3766, 122.55 25.3766 \" fill=\"#FF0000\"/>\n",
       "<path class=\"atom-5\" d=\"M 60.439 100.905 L 61.8133 100.905 L 61.8133 105.214 L 66.9957 105.214 L 66.9957 100.905 L 68.37 100.905 L 68.37 111.04 L 66.9957 111.04 L 66.9957 106.359 L 61.8133 106.359 L 61.8133 111.04 L 60.439 111.04 L 60.439 100.905 \" fill=\"#0000FF\"/>\n",
       "<path class=\"atom-5\" d=\"M 71.1616 100.905 L 74.4829 106.273 Q 74.8121 106.803, 75.3418 107.762 Q 75.8715 108.721, 75.9002 108.778 L 75.9002 100.905 L 77.2458 100.905 L 77.2458 111.04 L 75.8572 111.04 L 72.2926 105.171 Q 71.8774 104.484, 71.4336 103.696 Q 71.0041 102.909, 70.8753 102.665 L 70.8753 111.04 L 69.5582 111.04 L 69.5582 100.905 L 71.1616 100.905 \" fill=\"#0000FF\"/>\n",
       "<path class=\"bond-0 atom-0 atom-1\" d=\"M 385.56,82.2412 L 336.763,53.6462\" style=\"fill:none;fill-rule:evenodd;stroke:#000000;stroke-width:2.0px;stroke-linecap:butt;stroke-linejoin:miter;stroke-opacity:1\"/>\n",
       "<path class=\"bond-0 atom-0 atom-1\" d=\"M 373.094,86.7352 L 338.936,66.7187\" style=\"fill:none;fill-rule:evenodd;stroke:#000000;stroke-width:2.0px;stroke-linecap:butt;stroke-linejoin:miter;stroke-opacity:1\"/>\n",
       "<path class=\"bond-6 atom-6 atom-0\" d=\"M 385.198,138.787 L 385.56,82.2412\" style=\"fill:none;fill-rule:evenodd;stroke:#000000;stroke-width:2.0px;stroke-linecap:butt;stroke-linejoin:miter;stroke-opacity:1\"/>\n",
       "<path class=\"bond-1 atom-1 atom-2\" d=\"M 336.763,53.6462 L 287.604,81.6078\" style=\"fill:none;fill-rule:evenodd;stroke:#000000;stroke-width:2.0px;stroke-linecap:butt;stroke-linejoin:miter;stroke-opacity:1\"/>\n",
       "<path class=\"bond-2 atom-2 atom-3\" d=\"M 287.604,81.6078 L 287.242,138.164\" style=\"fill:none;fill-rule:evenodd;stroke:#000000;stroke-width:2.0px;stroke-linecap:butt;stroke-linejoin:miter;stroke-opacity:1\"/>\n",
       "<path class=\"bond-2 atom-2 atom-3\" d=\"M 297.73,90.1564 L 297.477,129.746\" style=\"fill:none;fill-rule:evenodd;stroke:#000000;stroke-width:2.0px;stroke-linecap:butt;stroke-linejoin:miter;stroke-opacity:1\"/>\n",
       "<path class=\"bond-3 atom-3 atom-4\" d=\"M 287.242,138.164 L 265.696,150.42\" style=\"fill:none;fill-rule:evenodd;stroke:#000000;stroke-width:2.0px;stroke-linecap:butt;stroke-linejoin:miter;stroke-opacity:1\"/>\n",
       "<path class=\"bond-3 atom-3 atom-4\" d=\"M 265.696,150.42 L 244.15,162.675\" style=\"fill:none;fill-rule:evenodd;stroke:#FF0000;stroke-width:2.0px;stroke-linecap:butt;stroke-linejoin:miter;stroke-opacity:1\"/>\n",
       "<path class=\"bond-4 atom-3 atom-5\" d=\"M 287.242,138.164 L 309.012,150.921\" style=\"fill:none;fill-rule:evenodd;stroke:#000000;stroke-width:2.0px;stroke-linecap:butt;stroke-linejoin:miter;stroke-opacity:1\"/>\n",
       "<path class=\"bond-4 atom-3 atom-5\" d=\"M 309.012,150.921 L 330.782,163.678\" style=\"fill:none;fill-rule:evenodd;stroke:#0000FF;stroke-width:2.0px;stroke-linecap:butt;stroke-linejoin:miter;stroke-opacity:1\"/>\n",
       "<path class=\"bond-5 atom-5 atom-6\" d=\"M 341.297,163.768 L 363.248,151.277\" style=\"fill:none;fill-rule:evenodd;stroke:#0000FF;stroke-width:2.0px;stroke-linecap:butt;stroke-linejoin:miter;stroke-opacity:1\"/>\n",
       "<path class=\"bond-5 atom-5 atom-6\" d=\"M 363.248,151.277 L 385.198,138.787\" style=\"fill:none;fill-rule:evenodd;stroke:#000000;stroke-width:2.0px;stroke-linecap:butt;stroke-linejoin:miter;stroke-opacity:1\"/>\n",
       "<path class=\"bond-5 atom-5 atom-6\" d=\"M 342.848,151.172 L 358.213,142.429\" style=\"fill:none;fill-rule:evenodd;stroke:#0000FF;stroke-width:2.0px;stroke-linecap:butt;stroke-linejoin:miter;stroke-opacity:1\"/>\n",
       "<path class=\"bond-5 atom-5 atom-6\" d=\"M 358.213,142.429 L 373.578,133.686\" style=\"fill:none;fill-rule:evenodd;stroke:#000000;stroke-width:2.0px;stroke-linecap:butt;stroke-linejoin:miter;stroke-opacity:1\"/>\n",
       "<path class=\"atom-4\" d=\"M 224.784 161.115 L 226.158 161.115 L 226.158 165.425 L 231.34 165.425 L 231.34 161.115 L 232.715 161.115 L 232.715 171.251 L 231.34 171.251 L 231.34 166.57 L 226.158 166.57 L 226.158 171.251 L 224.784 171.251 L 224.784 161.115 \" fill=\"#FF0000\"/>\n",
       "<path class=\"atom-4\" d=\"M 233.431 166.155 Q 233.431 163.721, 234.633 162.361 Q 235.836 161.001, 238.083 161.001 Q 240.331 161.001, 241.533 162.361 Q 242.736 163.721, 242.736 166.155 Q 242.736 168.617, 241.519 170.02 Q 240.302 171.409, 238.083 171.409 Q 235.85 171.409, 234.633 170.02 Q 233.431 168.631, 233.431 166.155 M 238.083 170.263 Q 239.629 170.263, 240.46 169.233 Q 241.304 168.187, 241.304 166.155 Q 241.304 164.165, 240.46 163.163 Q 239.629 162.146, 238.083 162.146 Q 236.537 162.146, 235.692 163.148 Q 234.862 164.15, 234.862 166.155 Q 234.862 168.202, 235.692 169.233 Q 236.537 170.263, 238.083 170.263 \" fill=\"#FF0000\"/>\n",
       "<path class=\"atom-5\" d=\"M 333.799 161.692 L 337.12 167.06 Q 337.449 167.59, 337.979 168.549 Q 338.509 169.508, 338.537 169.565 L 338.537 161.692 L 339.883 161.692 L 339.883 171.827 L 338.494 171.827 L 334.93 165.958 Q 334.515 165.271, 334.071 164.483 Q 333.641 163.696, 333.513 163.452 L 333.513 171.827 L 332.195 171.827 L 332.195 161.692 L 333.799 161.692 \" fill=\"#0000FF\"/>\n",
       "</svg>"
      ],
      "text/plain": [
       "<IPython.core.display.SVG object>"
      ]
     },
     "execution_count": 39,
     "metadata": {},
     "output_type": "execute_result"
    }
   ],
   "source": [
    "Chem.Draw.MolsToGridImage(tautomer_mol_list)"
   ]
  },
  {
   "cell_type": "markdown",
   "id": "3305a9a5",
   "metadata": {},
   "source": [
    "Now let's generate canonical SMILES for each of these species.  In looking at the SMILES below, please notice two things. \n",
    "- The SMILES for the ring atoms have been converted to lowercase, indicating that this is an aromatic system.\n",
    "- The two tautomers still have different SMILES"
   ]
  },
  {
   "cell_type": "code",
   "execution_count": 40,
   "id": "f5ac161c",
   "metadata": {},
   "outputs": [
    {
     "name": "stdout",
     "output_type": "stream",
     "text": [
      "O=c1cccc[nH]1\n",
      "Oc1ccccn1\n"
     ]
    }
   ],
   "source": [
    "for mol in tautomer_mol_list:\n",
    "    print(Chem.MolToSmiles(mol))"
   ]
  },
  {
   "cell_type": "markdown",
   "id": "6f88679b",
   "metadata": {},
   "source": [
    "### Exercise\n",
    "\n",
    "Complete the code below to determine the number of unqiue molecule represented by **smiles_list**"
   ]
  },
  {
   "cell_type": "code",
   "execution_count": 41,
   "id": "fd5ec830",
   "metadata": {},
   "outputs": [],
   "source": [
    "buff = \"\"\"C(=N)(N)N.Cl\n",
    "Cn1c(=O)c2[nH]cnc2n(C)c1=O.Cn1c(=O)c2[nH]cnc2n(C)c1=O.NCCN\n",
    "Nc1ccc(S(=O)(=O)Nc2ccccn2)cc1\n",
    "Cl.N=C(N)N\n",
    "CCC(C)C1(C(=O)NC(=O)[N-]C1=O)CC.[Na+]\n",
    "C[C@]12CCC(=O)C=C1CC[C@@H]3[C@@H]2CC[C@]4([C@H]3CC[C@]4(C)O)C\n",
    "CCC(C)C1(CC)C(=O)[N-]C(=O)NC1=O.[Na+]\n",
    "Cn1c2c(c(=O)n(c1=O)C)[nH]cn2.Cn1c2c(c(=O)n(c1=O)C)[nH]cn2.C(CN)N\n",
    "C[C@]1(O)CC[C@H]2[C@@H]3CCC4=CC(=O)CC[C@]4(C)[C@H]3CC[C@@]21C\n",
    "c1ccnc(c1)NS(=O)(=O)c2ccc(cc2)N\"\"\"\n",
    "smiles_list = buff.split(\"\\n\")"
   ]
  }
 ],
 "metadata": {
  "kernelspec": {
   "display_name": "Python 3 (ipykernel)",
   "language": "python",
   "name": "python3"
  },
  "language_info": {
   "codemirror_mode": {
    "name": "ipython",
    "version": 3
   },
   "file_extension": ".py",
   "mimetype": "text/x-python",
   "name": "python",
   "nbconvert_exporter": "python",
   "pygments_lexer": "ipython3",
   "version": "3.9.6"
  }
 },
 "nbformat": 4,
 "nbformat_minor": 5
}
