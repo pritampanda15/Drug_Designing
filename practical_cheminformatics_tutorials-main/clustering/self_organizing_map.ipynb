{
 "cells": [
  {
   "cell_type": "markdown",
   "metadata": {},
   "source": [
    "### Clustering Molecules With a Self-Organizing Map (SOM)\n",
    "This notebook provides an overview of the use of self-organizing maps (SOMs) in cheminformatics. For a bit of background on SOMs, please see this [blog post](http://practicalcheminformatics.blogspot.com/2018/10/self-organizing-maps-90s-fad-or-useful.html)"
   ]
  },
  {
   "cell_type": "markdown",
   "metadata": {},
   "source": [
    "### Setup"
   ]
  },
  {
   "cell_type": "markdown",
   "metadata": {},
   "source": [
    "Install the necessary Python libraries"
   ]
  },
  {
   "cell_type": "code",
   "execution_count": 1,
   "metadata": {},
   "outputs": [
    {
     "name": "stdout",
     "output_type": "stream",
     "text": [
      "Requirement already satisfied: minisom in /opt/anaconda3/envs/rdkit_2021_08/lib/python3.9/site-packages (2.2.9)\n",
      "Requirement already satisfied: tqdm in /opt/anaconda3/envs/rdkit_2021_08/lib/python3.9/site-packages (4.62.3)\n",
      "Requirement already satisfied: rdkit_pypi in /opt/anaconda3/envs/rdkit_2021_08/lib/python3.9/site-packages (2021.3.5.1)\n",
      "Requirement already satisfied: mols2grid in /opt/anaconda3/envs/rdkit_2021_08/lib/python3.9/site-packages (0.2.2)\n",
      "Requirement already satisfied: numpy>=1.19 in /opt/anaconda3/envs/rdkit_2021_08/lib/python3.9/site-packages (from rdkit_pypi) (1.22.2)\n",
      "Requirement already satisfied: pandas in /opt/anaconda3/envs/rdkit_2021_08/lib/python3.9/site-packages (from mols2grid) (1.3.2)\n",
      "Requirement already satisfied: jinja2>=2.11.0 in /opt/anaconda3/envs/rdkit_2021_08/lib/python3.9/site-packages (from mols2grid) (3.0.1)\n",
      "Requirement already satisfied: MarkupSafe>=2.0 in /opt/anaconda3/envs/rdkit_2021_08/lib/python3.9/site-packages (from jinja2>=2.11.0->mols2grid) (2.0.1)\n",
      "Requirement already satisfied: python-dateutil>=2.7.3 in /opt/anaconda3/envs/rdkit_2021_08/lib/python3.9/site-packages (from pandas->mols2grid) (2.8.2)\n",
      "Requirement already satisfied: pytz>=2017.3 in /opt/anaconda3/envs/rdkit_2021_08/lib/python3.9/site-packages (from pandas->mols2grid) (2021.1)\n",
      "Requirement already satisfied: six>=1.5 in /opt/anaconda3/envs/rdkit_2021_08/lib/python3.9/site-packages (from python-dateutil>=2.7.3->pandas->mols2grid) (1.16.0)\n"
     ]
    }
   ],
   "source": [
    "!pip install minisom tqdm rdkit_pypi mols2grid"
   ]
  },
  {
   "cell_type": "markdown",
   "metadata": {},
   "source": [
    "Import the necessary Python libraries"
   ]
  },
  {
   "cell_type": "code",
   "execution_count": 52,
   "metadata": {},
   "outputs": [],
   "source": [
    "from collections import Counter\n",
    "import pandas as pd\n",
    "from matplotlib import pyplot as plt\n",
    "from matplotlib.gridspec import GridSpec\n",
    "from rdkit import Chem\n",
    "from rdkit.Chem import AllChem, MACCSkeys, Draw\n",
    "from rdkit import DataStructs\n",
    "import numpy as np\n",
    "from tqdm.auto import tqdm\n",
    "from minisom import MiniSom\n",
    "import sys\n",
    "from time import time\n",
    "import math\n",
    "import mols2grid\n",
    "from ipywidgets import interact"
   ]
  },
  {
   "cell_type": "markdown",
   "metadata": {},
   "source": [
    "Enable matplotlib plots in this notebook"
   ]
  },
  {
   "cell_type": "code",
   "execution_count": 2,
   "metadata": {},
   "outputs": [],
   "source": [
    "%matplotlib inline"
   ]
  },
  {
   "cell_type": "markdown",
   "metadata": {},
   "source": [
    "#### Defining a Few Useful Functions\n",
    "A few functions to generate fingerprints. The first function generates 166-bit MACCS keys.  The second generates Morgan fingerprints.  While both will work for building a SOM, the process will be a bit faster with MACCS keys. I tend to like MACCS keys for generating SOMs.  These fingerprints typically do a good job of grouping a set of molecules by scaffold. The third function takes a list of SMILES as input and returns as a list of fingerprints. If this function is called with one argument, it generates MACCS keys.  We can also pass a function as a second argument to generate a different fingerprint type.  For instance, we could call it like this to generate Morgan fingerprints.  \n",
    "```\n",
    "generate_fps(my_smiles_list,morgan_as_np)\n",
    "```"
   ]
  },
  {
   "cell_type": "code",
   "execution_count": 3,
   "metadata": {},
   "outputs": [],
   "source": [
    "def maccs_as_np(mol):\n",
    "    \"\"\"\n",
    "    Generate MACCS fingerprints as a NumPy array\n",
    "    :param mol: input molecule\n",
    "    :return: fingerprint as a NumPy array\n",
    "    \"\"\"\n",
    "    bv = MACCSkeys.GenMACCSKeys(mol)\n",
    "    return np.array([int(x) for x in list(bv.ToBitString())], dtype=np.float32)\n",
    "\n",
    "\n",
    "def morgan_as_np(mol):\n",
    "    \"\"\"\n",
    "    Generate a 1024 bit Morgan fingerprint as a NumPy array\n",
    "    :param mol: input molecule\n",
    "    :return: fingerprint as a NumPy array\n",
    "    \"\"\"\n",
    "    bv = AllChem.GetMorganFingerprintAsBitVect(mol, 3, nBits=1024)\n",
    "    arr = np.zeros((1,), dtype=np.float32)\n",
    "    DataStructs.ConvertToNumpyArray(bv, arr)\n",
    "    return arr\n",
    "\n",
    "\n",
    "def generate_fps(smiles_list, fp_function=maccs_as_np):\n",
    "    \"\"\"\n",
    "    Take a list of SMILES as input and return a list of NumPy arrays\n",
    "    :param smiles_list: list of SMILES\n",
    "    :param fp_function: function to calculate fingerprints\n",
    "    :return: list of NumPy arrays containing fingerprints\n",
    "    \"\"\"\n",
    "    output_fp_list = []\n",
    "    for smiles in tqdm(smiles_list, desc=\"Generating Fingerprints\"):\n",
    "        output_fp_list.append(fp_function(Chem.MolFromSmiles(smiles)))\n",
    "    return output_fp_list"
   ]
  },
  {
   "cell_type": "markdown",
   "metadata": {},
   "source": [
    "A function to generate a grid of pie charts showing the distribution of active and inactive compounds in each grid cell. "
   ]
  },
  {
   "cell_type": "code",
   "execution_count": 13,
   "metadata": {},
   "outputs": [],
   "source": [
    "# Adapted from the MiniSom example notebook\n",
    "def depict_som(cluster_df, x_dim, y_dim, x_column=\"X\", y_column=\"Y\", activity_column=\"is_active\"):\n",
    "    \"\"\"\n",
    "    Draw a SOM with each cell depicted as a pie chart\n",
    "    :param cluster_df: data frame with SOM output, should have columns active, X, and Y\n",
    "    :param x_dim: X dimension of the SOM\n",
    "    :param y_dim: Y dimension of the SOM\n",
    "    :return:\n",
    "    \"\"\"\n",
    "    required_colums = [x_column, y_column, activity_column]\n",
    "    for col in required_colums:\n",
    "        if col not in cluster_df.columns:\n",
    "            print(f\"Error {col} not in dataframe columns\", file=sys.stderr)\n",
    "            sys.exit(1)\n",
    "    cell_dict = {}\n",
    "    for k, v in [x for x in cluster_df.groupby([x_column, y_column])]:\n",
    "        cell_dict[k] = Counter(v[activity_column])\n",
    "        cell_names = cluster_df[activity_column].unique()\n",
    "    plt.figure(figsize=(x_dim, y_dim))\n",
    "    the_grid = GridSpec(x_dim, y_dim)\n",
    "    for position in cell_dict.keys():\n",
    "        label_fracs = [cell_dict[position][l] for l in cell_names]\n",
    "        plt.subplot(the_grid[(x_dim - 1) - position[1], position[0]], aspect=1)\n",
    "        patches, texts = plt.pie(label_fracs)"
   ]
  },
  {
   "cell_type": "markdown",
   "metadata": {},
   "source": [
    "Build a SOM with minisom"
   ]
  },
  {
   "cell_type": "code",
   "execution_count": 14,
   "metadata": {},
   "outputs": [],
   "source": [
    "def build_minisom_som(fp_list_in, x_dim=10, y_dim=10, num_iters=20000):\n",
    "    \"\"\"\n",
    "    Build a SOM with MiniSom\n",
    "    :param fp_list_in: input list of fingerprints as NumPy arrays\n",
    "    :param x_dim: X dimension of the SOM\n",
    "    :param y_dim: Y dimension of the SOM\n",
    "    :param num_iters: number of iterations when building the SOM\n",
    "    :return: lists with X and Y coordinates in the SOM\n",
    "    \"\"\"\n",
    "    print(\"Training SOM\")\n",
    "    start_time = time()\n",
    "    som = MiniSom(x_dim, y_dim, len(fp_list_in[0]), sigma=0.3, learning_rate=0.5, random_seed=1)\n",
    "    som.train_random(fp_list_in, num_iters)\n",
    "    x = []\n",
    "    y = []\n",
    "    # find best matching units\n",
    "    print(\"Finding BMUs\")\n",
    "    for row in fp_list_in:\n",
    "        x_val, y_val = som.winner(row)\n",
    "        x.append(x_val)\n",
    "        y.append(y_val)\n",
    "    elapsed_time = time()-start_time\n",
    "    print(\"Done\\nElapsed time = %.2f sec\" % elapsed_time)\n",
    "    return x, y"
   ]
  },
  {
   "cell_type": "markdown",
   "metadata": {},
   "source": [
    "#### Reading the Input Data\n",
    "Now that we have the necessary functions in place, we can have some fun.  We will read in a csv file containing SMILES, a molecule name, and 1 or 0 indicating that the molecule is active into a Pandas data frame. \n",
    "\n",
    "We then use the function generate_fps to generate a list of fingerprints from the SMILES column in the dataframe. This list of fingerprints is then used to generate X and Y coordinates for each molecule in the grid.  The x and y coordinates generated by build_minisom_som are then added as columns to the original dataframe.  This dataframe, as well as the grid dimensions, are then passed to the depiction function to generate the plot below. "
   ]
  },
  {
   "cell_type": "code",
   "execution_count": 15,
   "metadata": {},
   "outputs": [
    {
     "data": {
      "text/html": [
       "<div>\n",
       "<style scoped>\n",
       "    .dataframe tbody tr th:only-of-type {\n",
       "        vertical-align: middle;\n",
       "    }\n",
       "\n",
       "    .dataframe tbody tr th {\n",
       "        vertical-align: top;\n",
       "    }\n",
       "\n",
       "    .dataframe thead th {\n",
       "        text-align: right;\n",
       "    }\n",
       "</style>\n",
       "<table border=\"1\" class=\"dataframe\">\n",
       "  <thead>\n",
       "    <tr style=\"text-align: right;\">\n",
       "      <th></th>\n",
       "      <th>Unnamed: 0</th>\n",
       "      <th>SMILES</th>\n",
       "      <th>ID</th>\n",
       "      <th>is_active</th>\n",
       "    </tr>\n",
       "  </thead>\n",
       "  <tbody>\n",
       "    <tr>\n",
       "      <th>0</th>\n",
       "      <td>0</td>\n",
       "      <td>Cn1ccnc1Sc2ccc(cc2Cl)Nc3c4cc(c(cc4ncc3C#N)OCCC...</td>\n",
       "      <td>168691</td>\n",
       "      <td>1</td>\n",
       "    </tr>\n",
       "    <tr>\n",
       "      <th>1</th>\n",
       "      <td>1</td>\n",
       "      <td>C[C@@]12[C@@H]([C@@H](CC(O1)n3c4ccccc4c5c3c6n2...</td>\n",
       "      <td>86358</td>\n",
       "      <td>1</td>\n",
       "    </tr>\n",
       "    <tr>\n",
       "      <th>2</th>\n",
       "      <td>2</td>\n",
       "      <td>Cc1cnc(nc1c2cc([nH]c2)C(=O)N[C@H](CO)c3cccc(c3...</td>\n",
       "      <td>575087</td>\n",
       "      <td>1</td>\n",
       "    </tr>\n",
       "    <tr>\n",
       "      <th>3</th>\n",
       "      <td>3</td>\n",
       "      <td>Cc1cnc(nc1c2cc([nH]c2)C(=O)N[C@H](CO)c3cccc(c3...</td>\n",
       "      <td>575065</td>\n",
       "      <td>1</td>\n",
       "    </tr>\n",
       "    <tr>\n",
       "      <th>4</th>\n",
       "      <td>4</td>\n",
       "      <td>Cc1cnc(nc1c2cc([nH]c2)C(=O)N[C@H](CO)c3cccc(c3...</td>\n",
       "      <td>575047</td>\n",
       "      <td>1</td>\n",
       "    </tr>\n",
       "  </tbody>\n",
       "</table>\n",
       "</div>"
      ],
      "text/plain": [
       "   Unnamed: 0                                             SMILES      ID  \\\n",
       "0           0  Cn1ccnc1Sc2ccc(cc2Cl)Nc3c4cc(c(cc4ncc3C#N)OCCC...  168691   \n",
       "1           1  C[C@@]12[C@@H]([C@@H](CC(O1)n3c4ccccc4c5c3c6n2...   86358   \n",
       "2           2  Cc1cnc(nc1c2cc([nH]c2)C(=O)N[C@H](CO)c3cccc(c3...  575087   \n",
       "3           3  Cc1cnc(nc1c2cc([nH]c2)C(=O)N[C@H](CO)c3cccc(c3...  575065   \n",
       "4           4  Cc1cnc(nc1c2cc([nH]c2)C(=O)N[C@H](CO)c3cccc(c3...  575047   \n",
       "\n",
       "   is_active  \n",
       "0          1  \n",
       "1          1  \n",
       "2          1  \n",
       "3          1  \n",
       "4          1  "
      ]
     },
     "execution_count": 15,
     "metadata": {},
     "output_type": "execute_result"
    }
   ],
   "source": [
    "act_df = pd.read_csv(\"https://raw.githubusercontent.com/PatWalters/practical_cheminformatics_tutorials/main/data/dude_erk2_mk01.csv\")\n",
    "act_df.head()"
   ]
  },
  {
   "cell_type": "markdown",
   "metadata": {},
   "source": [
    "#### Adding Labels\n",
    "Active and decoy are currently indicated by 1 and 0 in the dataframe.  To have better labels, we will convert 1 and 0 to the strings **active** and **decoy** and add new column called **label**."
   ]
  },
  {
   "cell_type": "code",
   "execution_count": 31,
   "metadata": {},
   "outputs": [],
   "source": [
    "act_df['label'] = [\"active\" if i == 1 else \"inactive\" for i in act_df.is_active]"
   ]
  },
  {
   "cell_type": "code",
   "execution_count": 32,
   "metadata": {},
   "outputs": [
    {
     "data": {
      "text/plain": [
       "inactive    4550\n",
       "active        79\n",
       "Name: label, dtype: int64"
      ]
     },
     "execution_count": 32,
     "metadata": {},
     "output_type": "execute_result"
    }
   ],
   "source": [
    "act_df.label.value_counts()"
   ]
  },
  {
   "cell_type": "code",
   "execution_count": 33,
   "metadata": {},
   "outputs": [
    {
     "data": {
      "text/html": [
       "<div>\n",
       "<style scoped>\n",
       "    .dataframe tbody tr th:only-of-type {\n",
       "        vertical-align: middle;\n",
       "    }\n",
       "\n",
       "    .dataframe tbody tr th {\n",
       "        vertical-align: top;\n",
       "    }\n",
       "\n",
       "    .dataframe thead th {\n",
       "        text-align: right;\n",
       "    }\n",
       "</style>\n",
       "<table border=\"1\" class=\"dataframe\">\n",
       "  <thead>\n",
       "    <tr style=\"text-align: right;\">\n",
       "      <th></th>\n",
       "      <th>Unnamed: 0</th>\n",
       "      <th>SMILES</th>\n",
       "      <th>ID</th>\n",
       "      <th>is_active</th>\n",
       "      <th>label</th>\n",
       "      <th>X</th>\n",
       "      <th>Y</th>\n",
       "      <th>morgan_X</th>\n",
       "      <th>morgan_Y</th>\n",
       "    </tr>\n",
       "  </thead>\n",
       "  <tbody>\n",
       "    <tr>\n",
       "      <th>0</th>\n",
       "      <td>0</td>\n",
       "      <td>Cn1ccnc1Sc2ccc(cc2Cl)Nc3c4cc(c(cc4ncc3C#N)OCCC...</td>\n",
       "      <td>168691</td>\n",
       "      <td>1</td>\n",
       "      <td>active</td>\n",
       "      <td>2</td>\n",
       "      <td>0</td>\n",
       "      <td>6</td>\n",
       "      <td>8</td>\n",
       "    </tr>\n",
       "    <tr>\n",
       "      <th>1</th>\n",
       "      <td>1</td>\n",
       "      <td>C[C@@]12[C@@H]([C@@H](CC(O1)n3c4ccccc4c5c3c6n2...</td>\n",
       "      <td>86358</td>\n",
       "      <td>1</td>\n",
       "      <td>active</td>\n",
       "      <td>6</td>\n",
       "      <td>6</td>\n",
       "      <td>6</td>\n",
       "      <td>3</td>\n",
       "    </tr>\n",
       "    <tr>\n",
       "      <th>2</th>\n",
       "      <td>2</td>\n",
       "      <td>Cc1cnc(nc1c2cc([nH]c2)C(=O)N[C@H](CO)c3cccc(c3...</td>\n",
       "      <td>575087</td>\n",
       "      <td>1</td>\n",
       "      <td>active</td>\n",
       "      <td>6</td>\n",
       "      <td>6</td>\n",
       "      <td>1</td>\n",
       "      <td>2</td>\n",
       "    </tr>\n",
       "    <tr>\n",
       "      <th>3</th>\n",
       "      <td>3</td>\n",
       "      <td>Cc1cnc(nc1c2cc([nH]c2)C(=O)N[C@H](CO)c3cccc(c3...</td>\n",
       "      <td>575065</td>\n",
       "      <td>1</td>\n",
       "      <td>active</td>\n",
       "      <td>6</td>\n",
       "      <td>6</td>\n",
       "      <td>1</td>\n",
       "      <td>2</td>\n",
       "    </tr>\n",
       "    <tr>\n",
       "      <th>4</th>\n",
       "      <td>4</td>\n",
       "      <td>Cc1cnc(nc1c2cc([nH]c2)C(=O)N[C@H](CO)c3cccc(c3...</td>\n",
       "      <td>575047</td>\n",
       "      <td>1</td>\n",
       "      <td>active</td>\n",
       "      <td>6</td>\n",
       "      <td>6</td>\n",
       "      <td>1</td>\n",
       "      <td>2</td>\n",
       "    </tr>\n",
       "  </tbody>\n",
       "</table>\n",
       "</div>"
      ],
      "text/plain": [
       "   Unnamed: 0                                             SMILES      ID  \\\n",
       "0           0  Cn1ccnc1Sc2ccc(cc2Cl)Nc3c4cc(c(cc4ncc3C#N)OCCC...  168691   \n",
       "1           1  C[C@@]12[C@@H]([C@@H](CC(O1)n3c4ccccc4c5c3c6n2...   86358   \n",
       "2           2  Cc1cnc(nc1c2cc([nH]c2)C(=O)N[C@H](CO)c3cccc(c3...  575087   \n",
       "3           3  Cc1cnc(nc1c2cc([nH]c2)C(=O)N[C@H](CO)c3cccc(c3...  575065   \n",
       "4           4  Cc1cnc(nc1c2cc([nH]c2)C(=O)N[C@H](CO)c3cccc(c3...  575047   \n",
       "\n",
       "   is_active   label  X  Y  morgan_X  morgan_Y  \n",
       "0          1  active  2  0         6         8  \n",
       "1          1  active  6  6         6         3  \n",
       "2          1  active  6  6         1         2  \n",
       "3          1  active  6  6         1         2  \n",
       "4          1  active  6  6         1         2  "
      ]
     },
     "execution_count": 33,
     "metadata": {},
     "output_type": "execute_result"
    }
   ],
   "source": [
    "act_df.head()"
   ]
  },
  {
   "cell_type": "markdown",
   "metadata": {},
   "source": []
  },
  {
   "cell_type": "markdown",
   "metadata": {},
   "source": [
    "#### Building and Displaying the SOM\n",
    "Now we'll generate fingerprints for the molecules, the build and display the SOM.\n",
    "\n",
    "The dataset we used above is the [ERK2 (aka MK01)](http://dude.docking.org/targets/mk01) dataset that is part of the [DUD-E dataset](http://dude.docking.org/), which was designed for the evaluation of docking programs.  The DUDE-E database consists of sets of active compounds, curated from the literature, and decoy compounds with similar calculated properties (molecular weight, LogP).  The compound sets in the database were designed to evaluate the ability of a docking program to distinguish active compounds from decoys.  \n",
    "\n",
    "In the plot below, the active compounds are shown in blue, while the decoy compounds are shown in orange.  As we can see, our fingerprints do a reasonably good job of separating the active compounds from the decoys.  In particular, we see that one cell at position 6,4 (we start counting from 0) is highly enriched in active compounds.  Let's take a closer look at molecules in that cell.  "
   ]
  },
  {
   "cell_type": "code",
   "execution_count": 23,
   "metadata": {},
   "outputs": [
    {
     "data": {
      "application/vnd.jupyter.widget-view+json": {
       "model_id": "dc7618ce7a5a419da258e33f7dc1c9fc",
       "version_major": 2,
       "version_minor": 0
      },
      "text/plain": [
       "Generating Fingerprints:   0%|          | 0/4629 [00:00<?, ?it/s]"
      ]
     },
     "metadata": {},
     "output_type": "display_data"
    },
    {
     "name": "stdout",
     "output_type": "stream",
     "text": [
      "Training SOM\n",
      "Finding BMUs\n",
      "Done\n",
      "Elapsed time = 8.03 sec\n"
     ]
    },
    {
     "data": {
      "image/png": "[encoded data removed]",
      "text/plain": [
       "<Figure size 720x720 with 100 Axes>"
      ]
     },
     "metadata": {},
     "output_type": "display_data"
    }
   ],
   "source": [
    "morgan_list = generate_fps(act_df.SMILES,morgan_as_np)\n",
    "x_dim = 10\n",
    "y_dim = 10\n",
    "morgan_x, morgan_y = build_minisom_som(morgan_list, x_dim, y_dim)\n",
    "act_df[\"morgan_X\"] = morgan_x\n",
    "act_df[\"morgan_Y\"] = morgan_y\n",
    "depict_som(act_df, x_dim, y_dim, x_column=\"morgan_X\",y_column=\"morgan_Y\")"
   ]
  },
  {
   "cell_type": "markdown",
   "metadata": {},
   "source": [
    "#### Creating an Interactive Viewer\n",
    "Let's define a function that will display the molecules in a particular cell.  We'll use the Jupyter [interact](https://colab.research.google.com/github/jupyter-widgets/ipywidgets/blob/master/docs/source/examples/Using%20Interact.ipynb) widget to make an interactive tool.  Note that cells are numbered from 0, with cell (0,0) in the bottom left corner. "
   ]
  },
  {
   "cell_type": "code",
   "execution_count": 51,
   "metadata": {},
   "outputs": [
    {
     "data": {
      "application/vnd.jupyter.widget-view+json": {
       "model_id": "6a23847a2ef14e408b8892721cf8b0ee",
       "version_major": 2,
       "version_minor": 0
      },
      "text/plain": [
       "interactive(children=(Dropdown(description='x', options=(0, 1, 2, 3, 4, 5, 6, 7, 8, 9), value=0), Dropdown(des…"
      ]
     },
     "metadata": {},
     "output_type": "display_data"
    }
   ],
   "source": [
    "@interact(x=range(0,x_dim), y=range(0,y_dim))\n",
    "def display_mols(x, y):\n",
    "    return mols2grid.display(act_df.query(\"morgan_X==@x and morgan_Y==@y\"),subset=[\"img\",\"ID\",\"label\"])"
   ]
  },
  {
   "cell_type": "code",
   "execution_count": null,
   "metadata": {},
   "outputs": [],
   "source": []
  }
 ],
 "metadata": {
  "kernelspec": {
   "display_name": "Python 3 (ipykernel)",
   "language": "python",
   "name": "python3"
  },
  "language_info": {
   "codemirror_mode": {
    "name": "ipython",
    "version": 3
   },
   "file_extension": ".py",
   "mimetype": "text/x-python",
   "name": "python",
   "nbconvert_exporter": "python",
   "pygments_lexer": "ipython3",
   "version": "3.9.6"
  }
 },
 "nbformat": 4,
 "nbformat_minor": 2
}