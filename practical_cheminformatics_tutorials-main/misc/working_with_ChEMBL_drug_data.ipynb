{
 "cells": [
  {
   "cell_type": "markdown",
   "id": "463e70b9",
   "metadata": {
    "pycharm": {
     "name": "#%% md\n"
    }
   },
   "source": [
    "## Working With Drug Data From the ChEMBL Database\n",
    "\n",
    "When working on drug discovery projects, it's handy to have access to a set of chemical structures and associated data for marketed drugs. If you're considering introducing new functionality, someone invariably asks whether that functionality has been used in a marketed drug. It's also helpful to compare the properties of a new compound or compounds to those of marketed drugs. Early in my career, I remember a new medicinal chemist asking Josh Boger, the founder of Vertex Pharmaceuticals, what they should do on their first day of work. Boger responded, \"read the Merck Index, so you can see what a drug is supposed to look like\". Recently a [few](https://pubs.acs.org/doi/10.1021/acs.jmedchem.8b00686) [papers](https://www.nature.com/articles/s41570-022-00451-0) have been published showing how the properties of drugs have changed over time. I thought it might be helpful to create a notebook showing how to extract and clean drug data from ChEMBL and use it to perform a similar analysis."
   ]
  },
  {
   "cell_type": "markdown",
   "id": "c370dabe",
   "metadata": {
    "pycharm": {
     "name": "#%% md\n"
    }
   },
   "source": [
    "### Overview\n",
    "\n",
    "In this notebook we'll perform the following steps.\n",
    "\n",
    "1. Download the ChEMBL database\n",
    "2. Query ChEMBL for drug data\n",
    "3. Remove duplicates from the ChEMBL data\n",
    "4. Divide the ChEMBL data into three groups based on the first approval date, before 1997, 1997-2017, after 2017\n",
    "5. Compare the molecular weight and calculated logp distributions for the three groups and determine if the differences between groups are statistically significant."
   ]
  },
  {
   "cell_type": "markdown",
   "id": "33c4140a",
   "metadata": {
    "pycharm": {
     "name": "#%% md\n"
    }
   },
   "source": [
    "Install the necessary Python libraries"
   ]
  },
  {
   "cell_type": "code",
   "execution_count": 6,
   "id": "2d1b3bae",
   "metadata": {
    "pycharm": {
     "name": "#%%\n"
    }
   },
   "outputs": [
    {
     "name": "stdout",
     "output_type": "stream",
     "text": [
      "Requirement already satisfied: pandas in /Users/pwalters/opt/anaconda3/envs/rdkit_2022_06/lib/python3.8/site-packages (1.4.3)\r\n",
      "Requirement already satisfied: rdkit in /Users/pwalters/opt/anaconda3/envs/rdkit_2022_06/lib/python3.8/site-packages (2022.3.3)\r\n",
      "Requirement already satisfied: tqdm in /Users/pwalters/opt/anaconda3/envs/rdkit_2022_06/lib/python3.8/site-packages (4.64.0)\r\n",
      "Requirement already satisfied: useful_rdkit_utils in /Users/pwalters/opt/anaconda3/envs/rdkit_2022_06/lib/python3.8/site-packages (0.1.6)\r\n",
      "Requirement already satisfied: seaborn in /Users/pwalters/opt/anaconda3/envs/rdkit_2022_06/lib/python3.8/site-packages (0.11.2)\r\n",
      "Requirement already satisfied: scikit-posthocs in /Users/pwalters/opt/anaconda3/envs/rdkit_2022_06/lib/python3.8/site-packages (0.7.0)\r\n",
      "Requirement already satisfied: chembl_downloader in /Users/pwalters/opt/anaconda3/envs/rdkit_2022_06/lib/python3.8/site-packages (0.4.2)\r\n",
      "Requirement already satisfied: python-dateutil>=2.8.1 in /Users/pwalters/opt/anaconda3/envs/rdkit_2022_06/lib/python3.8/site-packages (from pandas) (2.8.2)\r\n",
      "Requirement already satisfied: pytz>=2020.1 in /Users/pwalters/opt/anaconda3/envs/rdkit_2022_06/lib/python3.8/site-packages (from pandas) (2022.1)\r\n",
      "Requirement already satisfied: numpy>=1.18.5 in /Users/pwalters/opt/anaconda3/envs/rdkit_2022_06/lib/python3.8/site-packages (from pandas) (1.22.4)\r\n",
      "Requirement already satisfied: Pillow in /Users/pwalters/opt/anaconda3/envs/rdkit_2022_06/lib/python3.8/site-packages (from rdkit) (9.1.1)\r\n",
      "Requirement already satisfied: jupyter in /Users/pwalters/opt/anaconda3/envs/rdkit_2022_06/lib/python3.8/site-packages (from useful_rdkit_utils) (1.0.0)\r\n",
      "Requirement already satisfied: pytest in /Users/pwalters/opt/anaconda3/envs/rdkit_2022_06/lib/python3.8/site-packages (from useful_rdkit_utils) (7.1.2)\r\n",
      "Requirement already satisfied: pystow in /Users/pwalters/opt/anaconda3/envs/rdkit_2022_06/lib/python3.8/site-packages (from useful_rdkit_utils) (0.4.4)\r\n",
      "Requirement already satisfied: rdkit-pypi in /Users/pwalters/opt/anaconda3/envs/rdkit_2022_06/lib/python3.8/site-packages (from useful_rdkit_utils) (2022.3.3)\r\n",
      "Requirement already satisfied: py3DMol in /Users/pwalters/opt/anaconda3/envs/rdkit_2022_06/lib/python3.8/site-packages (from useful_rdkit_utils) (1.8.0)\r\n",
      "Requirement already satisfied: scipy>=1.0 in /Users/pwalters/opt/anaconda3/envs/rdkit_2022_06/lib/python3.8/site-packages (from seaborn) (1.8.1)\r\n",
      "Requirement already satisfied: matplotlib>=2.2 in /Users/pwalters/opt/anaconda3/envs/rdkit_2022_06/lib/python3.8/site-packages (from seaborn) (3.5.2)\r\n",
      "Requirement already satisfied: statsmodels in /Users/pwalters/opt/anaconda3/envs/rdkit_2022_06/lib/python3.8/site-packages (from scikit-posthocs) (0.13.2)\r\n",
      "Requirement already satisfied: click in /Users/pwalters/opt/anaconda3/envs/rdkit_2022_06/lib/python3.8/site-packages (from chembl_downloader) (8.1.3)\r\n",
      "Requirement already satisfied: more-click in /Users/pwalters/opt/anaconda3/envs/rdkit_2022_06/lib/python3.8/site-packages (from chembl_downloader) (0.1.2)\r\n",
      "Requirement already satisfied: pyparsing>=2.2.1 in /Users/pwalters/opt/anaconda3/envs/rdkit_2022_06/lib/python3.8/site-packages (from matplotlib>=2.2->seaborn) (3.0.9)\r\n",
      "Requirement already satisfied: cycler>=0.10 in /Users/pwalters/opt/anaconda3/envs/rdkit_2022_06/lib/python3.8/site-packages (from matplotlib>=2.2->seaborn) (0.11.0)\r\n",
      "Requirement already satisfied: packaging>=20.0 in /Users/pwalters/opt/anaconda3/envs/rdkit_2022_06/lib/python3.8/site-packages (from matplotlib>=2.2->seaborn) (21.3)\r\n",
      "Requirement already satisfied: kiwisolver>=1.0.1 in /Users/pwalters/opt/anaconda3/envs/rdkit_2022_06/lib/python3.8/site-packages (from matplotlib>=2.2->seaborn) (1.4.3)\r\n",
      "Requirement already satisfied: fonttools>=4.22.0 in /Users/pwalters/opt/anaconda3/envs/rdkit_2022_06/lib/python3.8/site-packages (from matplotlib>=2.2->seaborn) (4.33.3)\r\n",
      "Requirement already satisfied: six>=1.5 in /Users/pwalters/opt/anaconda3/envs/rdkit_2022_06/lib/python3.8/site-packages (from python-dateutil>=2.8.1->pandas) (1.16.0)\r\n",
      "Requirement already satisfied: notebook in /Users/pwalters/opt/anaconda3/envs/rdkit_2022_06/lib/python3.8/site-packages (from jupyter->useful_rdkit_utils) (6.4.12)\r\n",
      "Requirement already satisfied: jupyter-console in /Users/pwalters/opt/anaconda3/envs/rdkit_2022_06/lib/python3.8/site-packages (from jupyter->useful_rdkit_utils) (6.4.3)\r\n",
      "Requirement already satisfied: ipywidgets in /Users/pwalters/opt/anaconda3/envs/rdkit_2022_06/lib/python3.8/site-packages (from jupyter->useful_rdkit_utils) (7.7.0)\r\n",
      "Requirement already satisfied: nbconvert in /Users/pwalters/opt/anaconda3/envs/rdkit_2022_06/lib/python3.8/site-packages (from jupyter->useful_rdkit_utils) (6.5.0)\r\n",
      "Requirement already satisfied: ipykernel in /Users/pwalters/opt/anaconda3/envs/rdkit_2022_06/lib/python3.8/site-packages (from jupyter->useful_rdkit_utils) (6.15.0)\r\n",
      "Requirement already satisfied: qtconsole in /Users/pwalters/opt/anaconda3/envs/rdkit_2022_06/lib/python3.8/site-packages (from jupyter->useful_rdkit_utils) (5.3.1)\r\n",
      "Requirement already satisfied: appnope in /Users/pwalters/opt/anaconda3/envs/rdkit_2022_06/lib/python3.8/site-packages (from ipykernel->jupyter->useful_rdkit_utils) (0.1.3)\r\n",
      "Requirement already satisfied: psutil in /Users/pwalters/opt/anaconda3/envs/rdkit_2022_06/lib/python3.8/site-packages (from ipykernel->jupyter->useful_rdkit_utils) (5.9.1)\r\n",
      "Requirement already satisfied: traitlets>=5.1.0 in /Users/pwalters/opt/anaconda3/envs/rdkit_2022_06/lib/python3.8/site-packages (from ipykernel->jupyter->useful_rdkit_utils) (5.3.0)\r\n",
      "Requirement already satisfied: jupyter-client>=6.1.12 in /Users/pwalters/opt/anaconda3/envs/rdkit_2022_06/lib/python3.8/site-packages (from ipykernel->jupyter->useful_rdkit_utils) (7.3.4)\r\n",
      "Requirement already satisfied: ipython>=7.23.1 in /Users/pwalters/opt/anaconda3/envs/rdkit_2022_06/lib/python3.8/site-packages (from ipykernel->jupyter->useful_rdkit_utils) (8.4.0)\r\n",
      "Requirement already satisfied: tornado>=6.1 in /Users/pwalters/opt/anaconda3/envs/rdkit_2022_06/lib/python3.8/site-packages (from ipykernel->jupyter->useful_rdkit_utils) (6.2)\r\n",
      "Requirement already satisfied: pyzmq>=17 in /Users/pwalters/opt/anaconda3/envs/rdkit_2022_06/lib/python3.8/site-packages (from ipykernel->jupyter->useful_rdkit_utils) (23.1.0)\r\n",
      "Requirement already satisfied: debugpy>=1.0 in /Users/pwalters/opt/anaconda3/envs/rdkit_2022_06/lib/python3.8/site-packages (from ipykernel->jupyter->useful_rdkit_utils) (1.6.0)\r\n",
      "Requirement already satisfied: matplotlib-inline>=0.1 in /Users/pwalters/opt/anaconda3/envs/rdkit_2022_06/lib/python3.8/site-packages (from ipykernel->jupyter->useful_rdkit_utils) (0.1.3)\r\n",
      "Requirement already satisfied: nest-asyncio in /Users/pwalters/opt/anaconda3/envs/rdkit_2022_06/lib/python3.8/site-packages (from ipykernel->jupyter->useful_rdkit_utils) (1.5.5)\r\n",
      "Requirement already satisfied: pygments>=2.4.0 in /Users/pwalters/opt/anaconda3/envs/rdkit_2022_06/lib/python3.8/site-packages (from ipython>=7.23.1->ipykernel->jupyter->useful_rdkit_utils) (2.12.0)\r\n",
      "Requirement already satisfied: pickleshare in /Users/pwalters/opt/anaconda3/envs/rdkit_2022_06/lib/python3.8/site-packages (from ipython>=7.23.1->ipykernel->jupyter->useful_rdkit_utils) (0.7.5)\r\n",
      "Requirement already satisfied: jedi>=0.16 in /Users/pwalters/opt/anaconda3/envs/rdkit_2022_06/lib/python3.8/site-packages (from ipython>=7.23.1->ipykernel->jupyter->useful_rdkit_utils) (0.18.1)\r\n",
      "Requirement already satisfied: setuptools>=18.5 in /Users/pwalters/opt/anaconda3/envs/rdkit_2022_06/lib/python3.8/site-packages (from ipython>=7.23.1->ipykernel->jupyter->useful_rdkit_utils) (61.2.0)\r\n",
      "Requirement already satisfied: backcall in /Users/pwalters/opt/anaconda3/envs/rdkit_2022_06/lib/python3.8/site-packages (from ipython>=7.23.1->ipykernel->jupyter->useful_rdkit_utils) (0.2.0)\r\n",
      "Requirement already satisfied: prompt-toolkit!=3.0.0,!=3.0.1,<3.1.0,>=2.0.0 in /Users/pwalters/opt/anaconda3/envs/rdkit_2022_06/lib/python3.8/site-packages (from ipython>=7.23.1->ipykernel->jupyter->useful_rdkit_utils) (3.0.30)\r\n",
      "Requirement already satisfied: decorator in /Users/pwalters/opt/anaconda3/envs/rdkit_2022_06/lib/python3.8/site-packages (from ipython>=7.23.1->ipykernel->jupyter->useful_rdkit_utils) (5.1.1)\r\n",
      "Requirement already satisfied: stack-data in /Users/pwalters/opt/anaconda3/envs/rdkit_2022_06/lib/python3.8/site-packages (from ipython>=7.23.1->ipykernel->jupyter->useful_rdkit_utils) (0.3.0)\r\n",
      "Requirement already satisfied: pexpect>4.3 in /Users/pwalters/opt/anaconda3/envs/rdkit_2022_06/lib/python3.8/site-packages (from ipython>=7.23.1->ipykernel->jupyter->useful_rdkit_utils) (4.8.0)\r\n",
      "Requirement already satisfied: parso<0.9.0,>=0.8.0 in /Users/pwalters/opt/anaconda3/envs/rdkit_2022_06/lib/python3.8/site-packages (from jedi>=0.16->ipython>=7.23.1->ipykernel->jupyter->useful_rdkit_utils) (0.8.3)\r\n",
      "Requirement already satisfied: entrypoints in /Users/pwalters/opt/anaconda3/envs/rdkit_2022_06/lib/python3.8/site-packages (from jupyter-client>=6.1.12->ipykernel->jupyter->useful_rdkit_utils) (0.4)\r\n",
      "Requirement already satisfied: jupyter-core>=4.9.2 in /Users/pwalters/opt/anaconda3/envs/rdkit_2022_06/lib/python3.8/site-packages (from jupyter-client>=6.1.12->ipykernel->jupyter->useful_rdkit_utils) (4.11.1)\r\n",
      "Requirement already satisfied: ptyprocess>=0.5 in /Users/pwalters/opt/anaconda3/envs/rdkit_2022_06/lib/python3.8/site-packages (from pexpect>4.3->ipython>=7.23.1->ipykernel->jupyter->useful_rdkit_utils) (0.7.0)\r\n",
      "Requirement already satisfied: wcwidth in /Users/pwalters/opt/anaconda3/envs/rdkit_2022_06/lib/python3.8/site-packages (from prompt-toolkit!=3.0.0,!=3.0.1,<3.1.0,>=2.0.0->ipython>=7.23.1->ipykernel->jupyter->useful_rdkit_utils) (0.2.5)\r\n",
      "Requirement already satisfied: nbformat>=4.2.0 in /Users/pwalters/opt/anaconda3/envs/rdkit_2022_06/lib/python3.8/site-packages (from ipywidgets->jupyter->useful_rdkit_utils) (5.4.0)\r\n",
      "Requirement already satisfied: jupyterlab-widgets>=1.0.0 in /Users/pwalters/opt/anaconda3/envs/rdkit_2022_06/lib/python3.8/site-packages (from ipywidgets->jupyter->useful_rdkit_utils) (1.1.0)\r\n",
      "Requirement already satisfied: ipython-genutils~=0.2.0 in /Users/pwalters/opt/anaconda3/envs/rdkit_2022_06/lib/python3.8/site-packages (from ipywidgets->jupyter->useful_rdkit_utils) (0.2.0)\r\n",
      "Requirement already satisfied: widgetsnbextension~=3.6.0 in /Users/pwalters/opt/anaconda3/envs/rdkit_2022_06/lib/python3.8/site-packages (from ipywidgets->jupyter->useful_rdkit_utils) (3.6.0)\r\n",
      "Requirement already satisfied: jsonschema>=2.6 in /Users/pwalters/opt/anaconda3/envs/rdkit_2022_06/lib/python3.8/site-packages (from nbformat>=4.2.0->ipywidgets->jupyter->useful_rdkit_utils) (4.9.1)\r\n",
      "Requirement already satisfied: fastjsonschema in /Users/pwalters/opt/anaconda3/envs/rdkit_2022_06/lib/python3.8/site-packages (from nbformat>=4.2.0->ipywidgets->jupyter->useful_rdkit_utils) (2.16.1)\r\n",
      "Requirement already satisfied: importlib-resources>=1.4.0 in /Users/pwalters/opt/anaconda3/envs/rdkit_2022_06/lib/python3.8/site-packages (from jsonschema>=2.6->nbformat>=4.2.0->ipywidgets->jupyter->useful_rdkit_utils) (5.9.0)\r\n",
      "Requirement already satisfied: attrs>=17.4.0 in /Users/pwalters/opt/anaconda3/envs/rdkit_2022_06/lib/python3.8/site-packages (from jsonschema>=2.6->nbformat>=4.2.0->ipywidgets->jupyter->useful_rdkit_utils) (22.1.0)\r\n",
      "Requirement already satisfied: pkgutil-resolve-name>=1.3.10 in /Users/pwalters/opt/anaconda3/envs/rdkit_2022_06/lib/python3.8/site-packages (from jsonschema>=2.6->nbformat>=4.2.0->ipywidgets->jupyter->useful_rdkit_utils) (1.3.10)\r\n",
      "Requirement already satisfied: pyrsistent!=0.17.0,!=0.17.1,!=0.17.2,>=0.14.0 in /Users/pwalters/opt/anaconda3/envs/rdkit_2022_06/lib/python3.8/site-packages (from jsonschema>=2.6->nbformat>=4.2.0->ipywidgets->jupyter->useful_rdkit_utils) (0.18.1)\r\n",
      "Requirement already satisfied: zipp>=3.1.0 in /Users/pwalters/opt/anaconda3/envs/rdkit_2022_06/lib/python3.8/site-packages (from importlib-resources>=1.4.0->jsonschema>=2.6->nbformat>=4.2.0->ipywidgets->jupyter->useful_rdkit_utils) (3.8.1)\r\n",
      "Requirement already satisfied: jinja2 in /Users/pwalters/opt/anaconda3/envs/rdkit_2022_06/lib/python3.8/site-packages (from notebook->jupyter->useful_rdkit_utils) (3.1.2)\r\n",
      "Requirement already satisfied: argon2-cffi in /Users/pwalters/opt/anaconda3/envs/rdkit_2022_06/lib/python3.8/site-packages (from notebook->jupyter->useful_rdkit_utils) (21.3.0)\r\n",
      "Requirement already satisfied: prometheus-client in /Users/pwalters/opt/anaconda3/envs/rdkit_2022_06/lib/python3.8/site-packages (from notebook->jupyter->useful_rdkit_utils) (0.14.1)\r\n",
      "Requirement already satisfied: terminado>=0.8.3 in /Users/pwalters/opt/anaconda3/envs/rdkit_2022_06/lib/python3.8/site-packages (from notebook->jupyter->useful_rdkit_utils) (0.15.0)\r\n",
      "Requirement already satisfied: Send2Trash>=1.8.0 in /Users/pwalters/opt/anaconda3/envs/rdkit_2022_06/lib/python3.8/site-packages (from notebook->jupyter->useful_rdkit_utils) (1.8.0)\r\n",
      "Requirement already satisfied: bleach in /Users/pwalters/opt/anaconda3/envs/rdkit_2022_06/lib/python3.8/site-packages (from nbconvert->jupyter->useful_rdkit_utils) (5.0.1)\r\n",
      "Requirement already satisfied: mistune<2,>=0.8.1 in /Users/pwalters/opt/anaconda3/envs/rdkit_2022_06/lib/python3.8/site-packages (from nbconvert->jupyter->useful_rdkit_utils) (0.8.4)\r\n",
      "Requirement already satisfied: tinycss2 in /Users/pwalters/opt/anaconda3/envs/rdkit_2022_06/lib/python3.8/site-packages (from nbconvert->jupyter->useful_rdkit_utils) (1.1.1)\r\n",
      "Requirement already satisfied: defusedxml in /Users/pwalters/opt/anaconda3/envs/rdkit_2022_06/lib/python3.8/site-packages (from nbconvert->jupyter->useful_rdkit_utils) (0.7.1)\r\n",
      "Requirement already satisfied: pandocfilters>=1.4.1 in /Users/pwalters/opt/anaconda3/envs/rdkit_2022_06/lib/python3.8/site-packages (from nbconvert->jupyter->useful_rdkit_utils) (1.5.0)\r\n",
      "Requirement already satisfied: nbclient>=0.5.0 in /Users/pwalters/opt/anaconda3/envs/rdkit_2022_06/lib/python3.8/site-packages (from nbconvert->jupyter->useful_rdkit_utils) (0.6.6)\r\n",
      "Requirement already satisfied: beautifulsoup4 in /Users/pwalters/opt/anaconda3/envs/rdkit_2022_06/lib/python3.8/site-packages (from nbconvert->jupyter->useful_rdkit_utils) (4.11.1)\r\n",
      "Requirement already satisfied: MarkupSafe>=2.0 in /Users/pwalters/opt/anaconda3/envs/rdkit_2022_06/lib/python3.8/site-packages (from nbconvert->jupyter->useful_rdkit_utils) (2.1.1)\r\n",
      "Requirement already satisfied: jupyterlab-pygments in /Users/pwalters/opt/anaconda3/envs/rdkit_2022_06/lib/python3.8/site-packages (from nbconvert->jupyter->useful_rdkit_utils) (0.2.2)\r\n",
      "Requirement already satisfied: argon2-cffi-bindings in /Users/pwalters/opt/anaconda3/envs/rdkit_2022_06/lib/python3.8/site-packages (from argon2-cffi->notebook->jupyter->useful_rdkit_utils) (21.2.0)\r\n",
      "Requirement already satisfied: cffi>=1.0.1 in /Users/pwalters/opt/anaconda3/envs/rdkit_2022_06/lib/python3.8/site-packages (from argon2-cffi-bindings->argon2-cffi->notebook->jupyter->useful_rdkit_utils) (1.15.1)\r\n",
      "Requirement already satisfied: pycparser in /Users/pwalters/opt/anaconda3/envs/rdkit_2022_06/lib/python3.8/site-packages (from cffi>=1.0.1->argon2-cffi-bindings->argon2-cffi->notebook->jupyter->useful_rdkit_utils) (2.21)\r\n",
      "Requirement already satisfied: soupsieve>1.2 in /Users/pwalters/opt/anaconda3/envs/rdkit_2022_06/lib/python3.8/site-packages (from beautifulsoup4->nbconvert->jupyter->useful_rdkit_utils) (2.3.2.post1)\r\n",
      "Requirement already satisfied: webencodings in /Users/pwalters/opt/anaconda3/envs/rdkit_2022_06/lib/python3.8/site-packages (from bleach->nbconvert->jupyter->useful_rdkit_utils) (0.5.1)\r\n",
      "Requirement already satisfied: requests in /Users/pwalters/opt/anaconda3/envs/rdkit_2022_06/lib/python3.8/site-packages (from pystow->useful_rdkit_utils) (2.28.1)\r\n",
      "Requirement already satisfied: iniconfig in /Users/pwalters/opt/anaconda3/envs/rdkit_2022_06/lib/python3.8/site-packages (from pytest->useful_rdkit_utils) (1.1.1)\r\n",
      "Requirement already satisfied: pluggy<2.0,>=0.12 in /Users/pwalters/opt/anaconda3/envs/rdkit_2022_06/lib/python3.8/site-packages (from pytest->useful_rdkit_utils) (1.0.0)\r\n",
      "Requirement already satisfied: py>=1.8.2 in /Users/pwalters/opt/anaconda3/envs/rdkit_2022_06/lib/python3.8/site-packages (from pytest->useful_rdkit_utils) (1.11.0)\r\n",
      "Requirement already satisfied: tomli>=1.0.0 in /Users/pwalters/opt/anaconda3/envs/rdkit_2022_06/lib/python3.8/site-packages (from pytest->useful_rdkit_utils) (2.0.1)\r\n",
      "Requirement already satisfied: qtpy>=2.0.1 in /Users/pwalters/opt/anaconda3/envs/rdkit_2022_06/lib/python3.8/site-packages (from qtconsole->jupyter->useful_rdkit_utils) (2.1.0)\r\n",
      "Requirement already satisfied: certifi>=2017.4.17 in /Users/pwalters/opt/anaconda3/envs/rdkit_2022_06/lib/python3.8/site-packages (from requests->pystow->useful_rdkit_utils) (2022.9.14)\r\n",
      "Requirement already satisfied: urllib3<1.27,>=1.21.1 in /Users/pwalters/opt/anaconda3/envs/rdkit_2022_06/lib/python3.8/site-packages (from requests->pystow->useful_rdkit_utils) (1.26.11)\r\n",
      "Requirement already satisfied: idna<4,>=2.5 in /Users/pwalters/opt/anaconda3/envs/rdkit_2022_06/lib/python3.8/site-packages (from requests->pystow->useful_rdkit_utils) (3.3)\r\n",
      "Requirement already satisfied: charset-normalizer<3,>=2 in /Users/pwalters/opt/anaconda3/envs/rdkit_2022_06/lib/python3.8/site-packages (from requests->pystow->useful_rdkit_utils) (2.1.0)\r\n",
      "Requirement already satisfied: pure-eval in /Users/pwalters/opt/anaconda3/envs/rdkit_2022_06/lib/python3.8/site-packages (from stack-data->ipython>=7.23.1->ipykernel->jupyter->useful_rdkit_utils) (0.2.2)\r\n",
      "Requirement already satisfied: executing in /Users/pwalters/opt/anaconda3/envs/rdkit_2022_06/lib/python3.8/site-packages (from stack-data->ipython>=7.23.1->ipykernel->jupyter->useful_rdkit_utils) (0.9.1)\r\n",
      "Requirement already satisfied: asttokens in /Users/pwalters/opt/anaconda3/envs/rdkit_2022_06/lib/python3.8/site-packages (from stack-data->ipython>=7.23.1->ipykernel->jupyter->useful_rdkit_utils) (2.0.5)\r\n",
      "Requirement already satisfied: patsy>=0.5.2 in /Users/pwalters/opt/anaconda3/envs/rdkit_2022_06/lib/python3.8/site-packages (from statsmodels->scikit-posthocs) (0.5.2)\r\n"
     ]
    }
   ],
   "source": [
    "!pip install pandas rdkit tqdm useful_rdkit_utils seaborn scikit-posthocs chembl_downloader"
   ]
  },
  {
   "cell_type": "code",
   "execution_count": 42,
   "id": "2d002a56",
   "metadata": {
    "pycharm": {
     "name": "#%%\n"
    }
   },
   "outputs": [],
   "source": [
    "import re\n",
    "\n",
    "import chembl_downloader\n",
    "import pandas as pd\n",
    "import scikit_posthocs as sp\n",
    "import seaborn as sns\n",
    "import useful_rdkit_utils as uru\n",
    "from rdkit import Chem\n",
    "from rdkit.Chem.Draw import MolsToGridImage\n",
    "from rdkit.Chem.MolStandardize import rdMolStandardize\n",
    "from rdkit.rdBase import BlockLogs\n",
    "from tqdm.auto import tqdm"
   ]
  },
  {
   "cell_type": "markdown",
   "id": "3be133eb",
   "metadata": {
    "pycharm": {
     "name": "#%% md\n"
    }
   },
   "source": [
    "Enable progress bars in Pandas"
   ]
  },
  {
   "cell_type": "code",
   "execution_count": 43,
   "id": "496a50a1",
   "metadata": {
    "pycharm": {
     "name": "#%%\n"
    }
   },
   "outputs": [],
   "source": [
    "tqdm.pandas()"
   ]
  },
  {
   "cell_type": "markdown",
   "id": "4c3a355d",
   "metadata": {
    "pycharm": {
     "name": "#%% md\n"
    }
   },
   "source": [
    "### 1. Download the ChEMBL database"
   ]
  },
  {
   "cell_type": "markdown",
   "id": "33799c85",
   "metadata": {
    "pycharm": {
     "name": "#%% md\n"
    }
   },
   "source": [
    "We begin by using the awesome [ChEMBL downloader](https://github.com/cthoyt/chembl-downloader) by Charles Tapley Hoyt to download the latest version of the ChEMBL database.  On my laptop, this took 7 minutes and consumed 27GB of disk space. The ChEMBL downloader not only makes it easy to download the database, it also allows you to submit queries and returns the results as a Pandas dataframe. "
   ]
  },
  {
   "cell_type": "code",
   "execution_count": 44,
   "id": "f260f49f",
   "metadata": {
    "pycharm": {
     "name": "#%%\n"
    }
   },
   "outputs": [],
   "source": [
    "path = chembl_downloader.download_extract_sqlite()"
   ]
  },
  {
   "cell_type": "code",
   "execution_count": 45,
   "id": "2709d940",
   "metadata": {
    "pycharm": {
     "name": "#%%\n"
    }
   },
   "outputs": [
    {
     "data": {
      "text/plain": [
       "PosixPath('/Users/pwalters/.data/chembl/32/data/chembl_32/chembl_32_sqlite/chembl_32.db')"
      ]
     },
     "execution_count": 45,
     "metadata": {},
     "output_type": "execute_result"
    }
   ],
   "source": [
    "path"
   ]
  },
  {
   "cell_type": "markdown",
   "id": "1a590483",
   "metadata": {
    "pycharm": {
     "name": "#%% md\n"
    }
   },
   "source": [
    "Define SQL to extract drug data from ChEMBL. It would probably be useful to explain the query below.  We're joining three tables:\n",
    "- molecule_dictionary - Table storing a non-redundant list of curated compounds for ChEMBL (includes preclinical compounds, drugs and clinical candidate drugs) and some associated attributes.\n",
    "- compound_structures - Table storing various structure representations (e.g., Molfile, InChI) for each compound\n",
    "- compound properties - Table storing calculated physicochemical properties for compounds, now calculated with RDKit and ChemAxon software (note all but FULL_MWT and FULL_MOLFORMULA are calculated on the parent structure)\n",
    "\n",
    "\n",
    "We select records where\n",
    "- max_phase = 4 (approved drugs)\n",
    "- molecule_type = Small molecule\n",
    "- molecular weight is between 200 and 1000\n",
    "\n",
    "The group by ensures that we have one record for each canonical_smiles, molregno pair"
   ]
  },
  {
   "cell_type": "code",
   "execution_count": 46,
   "id": "f6c76d6a",
   "metadata": {
    "pycharm": {
     "name": "#%%\n"
    }
   },
   "outputs": [],
   "source": [
    "sql = \"\"\"\n",
    "select cs.canonical_smiles, cs.molregno, pref_name, first_approval, dosed_ingredient, oral, parenteral, topical,\n",
    "       black_box_warning, first_in_class from molecule_dictionary md\n",
    "join compound_structures cs on cs.molregno = md.molregno\n",
    "join compound_properties cp on md.molregno = cp.molregno\n",
    "where max_phase = 4 and molecule_type = 'Small molecule'\n",
    "and cp.full_mwt > 200 and cp.full_mwt < 1000\n",
    "group by cs.canonical_smiles, cs.molregno\n",
    "\"\"\""
   ]
  },
  {
   "cell_type": "code",
   "execution_count": 47,
   "id": "02f60c8c",
   "metadata": {
    "pycharm": {
     "name": "#%%\n"
    }
   },
   "outputs": [],
   "source": [
    "df = chembl_downloader.query(sql)"
   ]
  },
  {
   "cell_type": "code",
   "execution_count": 48,
   "id": "f0d58fab",
   "metadata": {
    "pycharm": {
     "name": "#%%\n"
    }
   },
   "outputs": [
    {
     "data": {
      "text/html": [
       "<div>\n",
       "<style scoped>\n",
       "    .dataframe tbody tr th:only-of-type {\n",
       "        vertical-align: middle;\n",
       "    }\n",
       "\n",
       "    .dataframe tbody tr th {\n",
       "        vertical-align: top;\n",
       "    }\n",
       "\n",
       "    .dataframe thead th {\n",
       "        text-align: right;\n",
       "    }\n",
       "</style>\n",
       "<table border=\"1\" class=\"dataframe\">\n",
       "  <thead>\n",
       "    <tr style=\"text-align: right;\">\n",
       "      <th></th>\n",
       "      <th>canonical_smiles</th>\n",
       "      <th>molregno</th>\n",
       "      <th>pref_name</th>\n",
       "      <th>first_approval</th>\n",
       "      <th>dosed_ingredient</th>\n",
       "      <th>oral</th>\n",
       "      <th>parenteral</th>\n",
       "      <th>topical</th>\n",
       "      <th>black_box_warning</th>\n",
       "      <th>first_in_class</th>\n",
       "    </tr>\n",
       "  </thead>\n",
       "  <tbody>\n",
       "    <tr>\n",
       "      <th>0</th>\n",
       "      <td>Br.CC(N)Cc1ccc(O)cc1</td>\n",
       "      <td>674656</td>\n",
       "      <td>HYDROXYAMPHETAMINE HYDROBROMIDE</td>\n",
       "      <td>1969.0</td>\n",
       "      <td>1</td>\n",
       "      <td>0</td>\n",
       "      <td>0</td>\n",
       "      <td>1</td>\n",
       "      <td>0</td>\n",
       "      <td>0</td>\n",
       "    </tr>\n",
       "    <tr>\n",
       "      <th>1</th>\n",
       "      <td>Br.CC(NC(C)(C)C)C(=O)c1cccc(Cl)c1</td>\n",
       "      <td>675686</td>\n",
       "      <td>BUPROPION HYDROBROMIDE</td>\n",
       "      <td>2008.0</td>\n",
       "      <td>1</td>\n",
       "      <td>1</td>\n",
       "      <td>0</td>\n",
       "      <td>0</td>\n",
       "      <td>1</td>\n",
       "      <td>0</td>\n",
       "    </tr>\n",
       "    <tr>\n",
       "      <th>2</th>\n",
       "      <td>Br.CC1C2Cc3ccc(O)cc3C1(C)CCN2CCc1ccccc1</td>\n",
       "      <td>1379567</td>\n",
       "      <td>PHENAZOCINE HYDROBROMIDE</td>\n",
       "      <td>NaN</td>\n",
       "      <td>1</td>\n",
       "      <td>0</td>\n",
       "      <td>0</td>\n",
       "      <td>0</td>\n",
       "      <td>0</td>\n",
       "      <td>0</td>\n",
       "    </tr>\n",
       "    <tr>\n",
       "      <th>3</th>\n",
       "      <td>Br.CCN(c1cc(-c2ccc(CN3CCOCC3)cc2)cc(C(=O)NCc2c...</td>\n",
       "      <td>2464691</td>\n",
       "      <td>TAZEMETOSTAT HYDROBROMIDE</td>\n",
       "      <td>2020.0</td>\n",
       "      <td>1</td>\n",
       "      <td>1</td>\n",
       "      <td>0</td>\n",
       "      <td>0</td>\n",
       "      <td>0</td>\n",
       "      <td>1</td>\n",
       "    </tr>\n",
       "    <tr>\n",
       "      <th>4</th>\n",
       "      <td>Br.CN(C)CCCC1(c2ccc(F)cc2)OCc2cc(C#N)ccc21</td>\n",
       "      <td>674732</td>\n",
       "      <td>CITALOPRAM HYDROBROMIDE</td>\n",
       "      <td>1998.0</td>\n",
       "      <td>1</td>\n",
       "      <td>1</td>\n",
       "      <td>0</td>\n",
       "      <td>0</td>\n",
       "      <td>1</td>\n",
       "      <td>0</td>\n",
       "    </tr>\n",
       "    <tr>\n",
       "      <th>...</th>\n",
       "      <td>...</td>\n",
       "      <td>...</td>\n",
       "      <td>...</td>\n",
       "      <td>...</td>\n",
       "      <td>...</td>\n",
       "      <td>...</td>\n",
       "      <td>...</td>\n",
       "      <td>...</td>\n",
       "      <td>...</td>\n",
       "      <td>...</td>\n",
       "    </tr>\n",
       "    <tr>\n",
       "      <th>2912</th>\n",
       "      <td>c1ccc2c(CCC3CCNCC3)c[nH]c2c1</td>\n",
       "      <td>16580</td>\n",
       "      <td>INDALPINE</td>\n",
       "      <td>NaN</td>\n",
       "      <td>1</td>\n",
       "      <td>0</td>\n",
       "      <td>0</td>\n",
       "      <td>0</td>\n",
       "      <td>0</td>\n",
       "      <td>0</td>\n",
       "    </tr>\n",
       "    <tr>\n",
       "      <th>2913</th>\n",
       "      <td>c1ccc2c(c1)CCCC2C1=NCCN1</td>\n",
       "      <td>245084</td>\n",
       "      <td>TETRAHYDROZOLINE</td>\n",
       "      <td>1979.0</td>\n",
       "      <td>0</td>\n",
       "      <td>0</td>\n",
       "      <td>0</td>\n",
       "      <td>1</td>\n",
       "      <td>0</td>\n",
       "      <td>0</td>\n",
       "    </tr>\n",
       "    <tr>\n",
       "      <th>2914</th>\n",
       "      <td>c1ccc2c(c1)Sc1ccccc1N2CC1CN2CCC1CC2</td>\n",
       "      <td>112175</td>\n",
       "      <td>MEQUITAZINE</td>\n",
       "      <td>NaN</td>\n",
       "      <td>1</td>\n",
       "      <td>0</td>\n",
       "      <td>0</td>\n",
       "      <td>0</td>\n",
       "      <td>0</td>\n",
       "      <td>0</td>\n",
       "    </tr>\n",
       "    <tr>\n",
       "      <th>2915</th>\n",
       "      <td>c1cnc(N2CCN(Cc3ccc4c(c3)OCO4)CC2)nc1</td>\n",
       "      <td>795654</td>\n",
       "      <td>PIRIBEDIL</td>\n",
       "      <td>NaN</td>\n",
       "      <td>1</td>\n",
       "      <td>0</td>\n",
       "      <td>0</td>\n",
       "      <td>0</td>\n",
       "      <td>0</td>\n",
       "      <td>0</td>\n",
       "    </tr>\n",
       "    <tr>\n",
       "      <th>2916</th>\n",
       "      <td>c1cnc2cc3c(cc2n1)C1CNCC3C1</td>\n",
       "      <td>330452</td>\n",
       "      <td>VARENICLINE</td>\n",
       "      <td>2006.0</td>\n",
       "      <td>1</td>\n",
       "      <td>1</td>\n",
       "      <td>0</td>\n",
       "      <td>0</td>\n",
       "      <td>0</td>\n",
       "      <td>0</td>\n",
       "    </tr>\n",
       "  </tbody>\n",
       "</table>\n",
       "<p>2917 rows × 10 columns</p>\n",
       "</div>"
      ],
      "text/plain": [
       "                                       canonical_smiles  molregno  \\\n",
       "0                                  Br.CC(N)Cc1ccc(O)cc1    674656   \n",
       "1                     Br.CC(NC(C)(C)C)C(=O)c1cccc(Cl)c1    675686   \n",
       "2               Br.CC1C2Cc3ccc(O)cc3C1(C)CCN2CCc1ccccc1   1379567   \n",
       "3     Br.CCN(c1cc(-c2ccc(CN3CCOCC3)cc2)cc(C(=O)NCc2c...   2464691   \n",
       "4            Br.CN(C)CCCC1(c2ccc(F)cc2)OCc2cc(C#N)ccc21    674732   \n",
       "...                                                 ...       ...   \n",
       "2912                       c1ccc2c(CCC3CCNCC3)c[nH]c2c1     16580   \n",
       "2913                           c1ccc2c(c1)CCCC2C1=NCCN1    245084   \n",
       "2914                c1ccc2c(c1)Sc1ccccc1N2CC1CN2CCC1CC2    112175   \n",
       "2915               c1cnc(N2CCN(Cc3ccc4c(c3)OCO4)CC2)nc1    795654   \n",
       "2916                         c1cnc2cc3c(cc2n1)C1CNCC3C1    330452   \n",
       "\n",
       "                            pref_name  first_approval  dosed_ingredient  oral  \\\n",
       "0     HYDROXYAMPHETAMINE HYDROBROMIDE          1969.0                 1     0   \n",
       "1              BUPROPION HYDROBROMIDE          2008.0                 1     1   \n",
       "2            PHENAZOCINE HYDROBROMIDE             NaN                 1     0   \n",
       "3           TAZEMETOSTAT HYDROBROMIDE          2020.0                 1     1   \n",
       "4             CITALOPRAM HYDROBROMIDE          1998.0                 1     1   \n",
       "...                               ...             ...               ...   ...   \n",
       "2912                        INDALPINE             NaN                 1     0   \n",
       "2913                 TETRAHYDROZOLINE          1979.0                 0     0   \n",
       "2914                      MEQUITAZINE             NaN                 1     0   \n",
       "2915                        PIRIBEDIL             NaN                 1     0   \n",
       "2916                      VARENICLINE          2006.0                 1     1   \n",
       "\n",
       "      parenteral  topical  black_box_warning  first_in_class  \n",
       "0              0        1                  0               0  \n",
       "1              0        0                  1               0  \n",
       "2              0        0                  0               0  \n",
       "3              0        0                  0               1  \n",
       "4              0        0                  1               0  \n",
       "...          ...      ...                ...             ...  \n",
       "2912           0        0                  0               0  \n",
       "2913           0        1                  0               0  \n",
       "2914           0        0                  0               0  \n",
       "2915           0        0                  0               0  \n",
       "2916           0        0                  0               0  \n",
       "\n",
       "[2917 rows x 10 columns]"
      ]
     },
     "execution_count": 48,
     "metadata": {},
     "output_type": "execute_result"
    }
   ],
   "source": [
    "df"
   ]
  },
  {
   "cell_type": "markdown",
   "id": "ca3adcf9",
   "metadata": {
    "pycharm": {
     "name": "#%% md\n"
    }
   },
   "source": [
    "### 3. Remove duplicates from the ChEMBL data\n",
    "\n",
    "Several drugs are in ChEMBL multiple times as different salt forms.  To simplify our analysis, we'd like to only have each drug represented once.  We can use the MolStandardize functionality in the RDKit to remove salts and add another column with the standardized SMILES (std_smiles).  I used the example code below from the bitsilla blog to standardize the SMILES. "
   ]
  },
  {
   "cell_type": "code",
   "execution_count": 49,
   "id": "46745ec5",
   "metadata": {
    "pycharm": {
     "name": "#%%\n"
    }
   },
   "outputs": [],
   "source": [
    "# Borrowed from https://bitsilla.com/blog/2021/06/standardizing-a-molecule-using-rdkit/\n",
    "def standardize(smiles):\n",
    "    # follows the steps in\n",
    "    # https://github.com/greglandrum/RSC_OpenScience_Standardization_202104/blob/main/MolStandardize%20pieces.ipynb\n",
    "    # as described **excellently** (by Greg) in\n",
    "    # https://www.youtube.com/watch?v=eWTApNX8dJQ\n",
    "    mol = Chem.MolFromSmiles(smiles)\n",
    "\n",
    "    # removeHs, disconnect metal atoms, normalize the molecule, reionize the molecule\n",
    "    clean_mol = rdMolStandardize.Cleanup(mol)\n",
    "\n",
    "    # if many fragments, get the \"parent\" (the actual mol we are interested in) \n",
    "    parent_clean_mol = rdMolStandardize.FragmentParent(clean_mol)\n",
    "\n",
    "    # try to neutralize molecule\n",
    "    uncharger = rdMolStandardize.Uncharger()  # annoying, but necessary as no convenience method exists\n",
    "    uncharged_parent_clean_mol = uncharger.uncharge(parent_clean_mol)\n",
    "\n",
    "    # note that no attempt is made at reionization at this step\n",
    "    # nor at ionization at some pH (rdkit has no pKa caculator)\n",
    "    # the main aim to represent all molecules from different sources\n",
    "    # in a (single) standard way, for use in ML, catalogue, etc.\n",
    "\n",
    "    te = rdMolStandardize.TautomerEnumerator()  # idem\n",
    "    taut_uncharged_parent_clean_mol = te.Canonicalize(uncharged_parent_clean_mol)\n",
    "\n",
    "    return Chem.MolToSmiles(taut_uncharged_parent_clean_mol)"
   ]
  },
  {
   "cell_type": "markdown",
   "id": "0c434fd5",
   "metadata": {
    "pycharm": {
     "name": "#%% md\n"
    }
   },
   "source": [
    "The code below performs the standardization and creates a new column.  Note the use of [BlockLogs](https://rdkit.org/docs/source/rdkit.rdBase.html).  The standardizer has a lot of logging messages that I prefer to ignore.   "
   ]
  },
  {
   "cell_type": "code",
   "execution_count": 50,
   "id": "0f82094e",
   "metadata": {
    "pycharm": {
     "name": "#%%\n"
    }
   },
   "outputs": [
    {
     "data": {
      "application/vnd.jupyter.widget-view+json": {
       "model_id": "c6ea3c8342584b44889e67e1eed1ccaf",
       "version_major": 2,
       "version_minor": 0
      },
      "text/plain": [
       "  0%|          | 0/2917 [00:00<?, ?it/s]"
      ]
     },
     "metadata": {},
     "output_type": "display_data"
    }
   ],
   "source": [
    "with BlockLogs():\n",
    "    df['std_smiles'] = df.canonical_smiles.progress_apply(standardize)"
   ]
  },
  {
   "cell_type": "markdown",
   "id": "6d6c354e",
   "metadata": {
    "pycharm": {
     "name": "#%% md\n"
    }
   },
   "source": [
    "Drop any rows that don't have a first_approval year. "
   ]
  },
  {
   "cell_type": "code",
   "execution_count": 51,
   "id": "c3363592",
   "metadata": {
    "pycharm": {
     "name": "#%%\n"
    }
   },
   "outputs": [],
   "source": [
    "df_ok = df.dropna(subset=[\"first_approval\"]).copy()"
   ]
  },
  {
   "cell_type": "markdown",
   "id": "fdd9c24a",
   "metadata": {
    "pycharm": {
     "name": "#%% md\n"
    }
   },
   "source": [
    "The **first_approval** field comes over from ChEMBL as a floating point number.  This bugs me, so I'll convert it to an integer."
   ]
  },
  {
   "cell_type": "code",
   "execution_count": 52,
   "id": "6ed615eb",
   "metadata": {
    "pycharm": {
     "name": "#%%\n"
    }
   },
   "outputs": [
    {
     "data": {
      "text/html": [
       "<div>\n",
       "<style scoped>\n",
       "    .dataframe tbody tr th:only-of-type {\n",
       "        vertical-align: middle;\n",
       "    }\n",
       "\n",
       "    .dataframe tbody tr th {\n",
       "        vertical-align: top;\n",
       "    }\n",
       "\n",
       "    .dataframe thead th {\n",
       "        text-align: right;\n",
       "    }\n",
       "</style>\n",
       "<table border=\"1\" class=\"dataframe\">\n",
       "  <thead>\n",
       "    <tr style=\"text-align: right;\">\n",
       "      <th></th>\n",
       "      <th>canonical_smiles</th>\n",
       "      <th>molregno</th>\n",
       "      <th>pref_name</th>\n",
       "      <th>first_approval</th>\n",
       "      <th>dosed_ingredient</th>\n",
       "      <th>oral</th>\n",
       "      <th>parenteral</th>\n",
       "      <th>topical</th>\n",
       "      <th>black_box_warning</th>\n",
       "      <th>first_in_class</th>\n",
       "      <th>std_smiles</th>\n",
       "    </tr>\n",
       "  </thead>\n",
       "  <tbody>\n",
       "    <tr>\n",
       "      <th>0</th>\n",
       "      <td>Br.CC(N)Cc1ccc(O)cc1</td>\n",
       "      <td>674656</td>\n",
       "      <td>HYDROXYAMPHETAMINE HYDROBROMIDE</td>\n",
       "      <td>1969</td>\n",
       "      <td>1</td>\n",
       "      <td>0</td>\n",
       "      <td>0</td>\n",
       "      <td>1</td>\n",
       "      <td>0</td>\n",
       "      <td>0</td>\n",
       "      <td>CC(N)Cc1ccc(O)cc1</td>\n",
       "    </tr>\n",
       "    <tr>\n",
       "      <th>1</th>\n",
       "      <td>Br.CC(NC(C)(C)C)C(=O)c1cccc(Cl)c1</td>\n",
       "      <td>675686</td>\n",
       "      <td>BUPROPION HYDROBROMIDE</td>\n",
       "      <td>2008</td>\n",
       "      <td>1</td>\n",
       "      <td>1</td>\n",
       "      <td>0</td>\n",
       "      <td>0</td>\n",
       "      <td>1</td>\n",
       "      <td>0</td>\n",
       "      <td>CC(NC(C)(C)C)C(=O)c1cccc(Cl)c1</td>\n",
       "    </tr>\n",
       "    <tr>\n",
       "      <th>3</th>\n",
       "      <td>Br.CCN(c1cc(-c2ccc(CN3CCOCC3)cc2)cc(C(=O)NCc2c...</td>\n",
       "      <td>2464691</td>\n",
       "      <td>TAZEMETOSTAT HYDROBROMIDE</td>\n",
       "      <td>2020</td>\n",
       "      <td>1</td>\n",
       "      <td>1</td>\n",
       "      <td>0</td>\n",
       "      <td>0</td>\n",
       "      <td>0</td>\n",
       "      <td>1</td>\n",
       "      <td>CCN(c1cc(-c2ccc(CN3CCOCC3)cc2)cc(C(=O)NCc2c(C)...</td>\n",
       "    </tr>\n",
       "    <tr>\n",
       "      <th>4</th>\n",
       "      <td>Br.CN(C)CCCC1(c2ccc(F)cc2)OCc2cc(C#N)ccc21</td>\n",
       "      <td>674732</td>\n",
       "      <td>CITALOPRAM HYDROBROMIDE</td>\n",
       "      <td>1998</td>\n",
       "      <td>1</td>\n",
       "      <td>1</td>\n",
       "      <td>0</td>\n",
       "      <td>0</td>\n",
       "      <td>1</td>\n",
       "      <td>0</td>\n",
       "      <td>CN(C)CCCC1(c2ccc(F)cc2)OCc2cc(C#N)ccc21</td>\n",
       "    </tr>\n",
       "    <tr>\n",
       "      <th>5</th>\n",
       "      <td>Br.CN1CCC[C@@H]1Cc1c[nH]c2ccc(CCS(=O)(=O)c3ccc...</td>\n",
       "      <td>674954</td>\n",
       "      <td>ELETRIPTAN HYDROBROMIDE</td>\n",
       "      <td>2002</td>\n",
       "      <td>1</td>\n",
       "      <td>1</td>\n",
       "      <td>0</td>\n",
       "      <td>0</td>\n",
       "      <td>0</td>\n",
       "      <td>0</td>\n",
       "      <td>CN1CCC[C@@H]1Cc1c[nH]c2ccc(CCS(=O)(=O)c3ccccc3...</td>\n",
       "    </tr>\n",
       "    <tr>\n",
       "      <th>...</th>\n",
       "      <td>...</td>\n",
       "      <td>...</td>\n",
       "      <td>...</td>\n",
       "      <td>...</td>\n",
       "      <td>...</td>\n",
       "      <td>...</td>\n",
       "      <td>...</td>\n",
       "      <td>...</td>\n",
       "      <td>...</td>\n",
       "      <td>...</td>\n",
       "      <td>...</td>\n",
       "    </tr>\n",
       "    <tr>\n",
       "      <th>2909</th>\n",
       "      <td>c1ccc([C@H]2CN3CCSC3=N2)cc1</td>\n",
       "      <td>384948</td>\n",
       "      <td>LEVAMISOLE</td>\n",
       "      <td>1990</td>\n",
       "      <td>0</td>\n",
       "      <td>1</td>\n",
       "      <td>0</td>\n",
       "      <td>0</td>\n",
       "      <td>0</td>\n",
       "      <td>0</td>\n",
       "      <td>c1ccc([C@H]2CN3CCSC3=N2)cc1</td>\n",
       "    </tr>\n",
       "    <tr>\n",
       "      <th>2910</th>\n",
       "      <td>c1ccc2[nH]c(-c3cscn3)nc2c1</td>\n",
       "      <td>26590</td>\n",
       "      <td>THIABENDAZOLE</td>\n",
       "      <td>1967</td>\n",
       "      <td>1</td>\n",
       "      <td>1</td>\n",
       "      <td>0</td>\n",
       "      <td>0</td>\n",
       "      <td>0</td>\n",
       "      <td>0</td>\n",
       "      <td>c1ccc2[nH]c(-c3cscn3)nc2c1</td>\n",
       "    </tr>\n",
       "    <tr>\n",
       "      <th>2911</th>\n",
       "      <td>c1ccc2c(CC3=NCCN3)cccc2c1</td>\n",
       "      <td>42468</td>\n",
       "      <td>NAPHAZOLINE</td>\n",
       "      <td>1971</td>\n",
       "      <td>0</td>\n",
       "      <td>0</td>\n",
       "      <td>0</td>\n",
       "      <td>1</td>\n",
       "      <td>0</td>\n",
       "      <td>0</td>\n",
       "      <td>c1ccc2c(CC3=NCCN3)cccc2c1</td>\n",
       "    </tr>\n",
       "    <tr>\n",
       "      <th>2913</th>\n",
       "      <td>c1ccc2c(c1)CCCC2C1=NCCN1</td>\n",
       "      <td>245084</td>\n",
       "      <td>TETRAHYDROZOLINE</td>\n",
       "      <td>1979</td>\n",
       "      <td>0</td>\n",
       "      <td>0</td>\n",
       "      <td>0</td>\n",
       "      <td>1</td>\n",
       "      <td>0</td>\n",
       "      <td>0</td>\n",
       "      <td>c1ccc2c(c1)CCCC2C1=NCCN1</td>\n",
       "    </tr>\n",
       "    <tr>\n",
       "      <th>2916</th>\n",
       "      <td>c1cnc2cc3c(cc2n1)C1CNCC3C1</td>\n",
       "      <td>330452</td>\n",
       "      <td>VARENICLINE</td>\n",
       "      <td>2006</td>\n",
       "      <td>1</td>\n",
       "      <td>1</td>\n",
       "      <td>0</td>\n",
       "      <td>0</td>\n",
       "      <td>0</td>\n",
       "      <td>0</td>\n",
       "      <td>c1cnc2cc3c(cc2n1)C1CNCC3C1</td>\n",
       "    </tr>\n",
       "  </tbody>\n",
       "</table>\n",
       "<p>2314 rows × 11 columns</p>\n",
       "</div>"
      ],
      "text/plain": [
       "                                       canonical_smiles  molregno  \\\n",
       "0                                  Br.CC(N)Cc1ccc(O)cc1    674656   \n",
       "1                     Br.CC(NC(C)(C)C)C(=O)c1cccc(Cl)c1    675686   \n",
       "3     Br.CCN(c1cc(-c2ccc(CN3CCOCC3)cc2)cc(C(=O)NCc2c...   2464691   \n",
       "4            Br.CN(C)CCCC1(c2ccc(F)cc2)OCc2cc(C#N)ccc21    674732   \n",
       "5     Br.CN1CCC[C@@H]1Cc1c[nH]c2ccc(CCS(=O)(=O)c3ccc...    674954   \n",
       "...                                                 ...       ...   \n",
       "2909                        c1ccc([C@H]2CN3CCSC3=N2)cc1    384948   \n",
       "2910                         c1ccc2[nH]c(-c3cscn3)nc2c1     26590   \n",
       "2911                          c1ccc2c(CC3=NCCN3)cccc2c1     42468   \n",
       "2913                           c1ccc2c(c1)CCCC2C1=NCCN1    245084   \n",
       "2916                         c1cnc2cc3c(cc2n1)C1CNCC3C1    330452   \n",
       "\n",
       "                            pref_name  first_approval  dosed_ingredient  oral  \\\n",
       "0     HYDROXYAMPHETAMINE HYDROBROMIDE            1969                 1     0   \n",
       "1              BUPROPION HYDROBROMIDE            2008                 1     1   \n",
       "3           TAZEMETOSTAT HYDROBROMIDE            2020                 1     1   \n",
       "4             CITALOPRAM HYDROBROMIDE            1998                 1     1   \n",
       "5             ELETRIPTAN HYDROBROMIDE            2002                 1     1   \n",
       "...                               ...             ...               ...   ...   \n",
       "2909                       LEVAMISOLE            1990                 0     1   \n",
       "2910                    THIABENDAZOLE            1967                 1     1   \n",
       "2911                      NAPHAZOLINE            1971                 0     0   \n",
       "2913                 TETRAHYDROZOLINE            1979                 0     0   \n",
       "2916                      VARENICLINE            2006                 1     1   \n",
       "\n",
       "      parenteral  topical  black_box_warning  first_in_class  \\\n",
       "0              0        1                  0               0   \n",
       "1              0        0                  1               0   \n",
       "3              0        0                  0               1   \n",
       "4              0        0                  1               0   \n",
       "5              0        0                  0               0   \n",
       "...          ...      ...                ...             ...   \n",
       "2909           0        0                  0               0   \n",
       "2910           0        0                  0               0   \n",
       "2911           0        1                  0               0   \n",
       "2913           0        1                  0               0   \n",
       "2916           0        0                  0               0   \n",
       "\n",
       "                                             std_smiles  \n",
       "0                                     CC(N)Cc1ccc(O)cc1  \n",
       "1                        CC(NC(C)(C)C)C(=O)c1cccc(Cl)c1  \n",
       "3     CCN(c1cc(-c2ccc(CN3CCOCC3)cc2)cc(C(=O)NCc2c(C)...  \n",
       "4               CN(C)CCCC1(c2ccc(F)cc2)OCc2cc(C#N)ccc21  \n",
       "5     CN1CCC[C@@H]1Cc1c[nH]c2ccc(CCS(=O)(=O)c3ccccc3...  \n",
       "...                                                 ...  \n",
       "2909                        c1ccc([C@H]2CN3CCSC3=N2)cc1  \n",
       "2910                         c1ccc2[nH]c(-c3cscn3)nc2c1  \n",
       "2911                          c1ccc2c(CC3=NCCN3)cccc2c1  \n",
       "2913                           c1ccc2c(c1)CCCC2C1=NCCN1  \n",
       "2916                         c1cnc2cc3c(cc2n1)C1CNCC3C1  \n",
       "\n",
       "[2314 rows x 11 columns]"
      ]
     },
     "execution_count": 52,
     "metadata": {},
     "output_type": "execute_result"
    }
   ],
   "source": [
    "df_ok.first_approval = df_ok.first_approval.astype(int)\n",
    "df_ok"
   ]
  },
  {
   "cell_type": "markdown",
   "id": "2bd595a7",
   "metadata": {
    "pycharm": {
     "name": "#%% md\n"
    }
   },
   "source": [
    "Let's take a look a structures that occur multiple times.  The first one is citrate. This is an odd case where we have things like sodium citrate where the salt is larger than the parent.  There aren't a lot of these and I don't find them interesting so I'm ignoring them.  The second example, which occurs six times is more interesting. "
   ]
  },
  {
   "cell_type": "code",
   "execution_count": 53,
   "id": "a81d1176",
   "metadata": {
    "pycharm": {
     "name": "#%%\n"
    }
   },
   "outputs": [
    {
     "data": {
      "text/html": [
       "<div>\n",
       "<style scoped>\n",
       "    .dataframe tbody tr th:only-of-type {\n",
       "        vertical-align: middle;\n",
       "    }\n",
       "\n",
       "    .dataframe tbody tr th {\n",
       "        vertical-align: top;\n",
       "    }\n",
       "\n",
       "    .dataframe thead th {\n",
       "        text-align: right;\n",
       "    }\n",
       "</style>\n",
       "<table border=\"1\" class=\"dataframe\">\n",
       "  <thead>\n",
       "    <tr style=\"text-align: right;\">\n",
       "      <th></th>\n",
       "      <th>std_smiles</th>\n",
       "      <th>count</th>\n",
       "    </tr>\n",
       "  </thead>\n",
       "  <tbody>\n",
       "    <tr>\n",
       "      <th>0</th>\n",
       "      <td>O=C(O)CC(O)(CC(=O)O)C(=O)O</td>\n",
       "      <td>7</td>\n",
       "    </tr>\n",
       "    <tr>\n",
       "      <th>1</th>\n",
       "      <td>CC1(C)SC2C(NC(=O)Cc3ccccc3)C(=O)N2C1C(=O)O</td>\n",
       "      <td>6</td>\n",
       "    </tr>\n",
       "    <tr>\n",
       "      <th>2</th>\n",
       "      <td>CC(N)Cc1ccccc1</td>\n",
       "      <td>5</td>\n",
       "    </tr>\n",
       "    <tr>\n",
       "      <th>3</th>\n",
       "      <td>COc1ccc2[nH]c([S@@+]([O-])Cc3ncc(C)c(OC)c3C)nc2c1</td>\n",
       "      <td>4</td>\n",
       "    </tr>\n",
       "    <tr>\n",
       "      <th>4</th>\n",
       "      <td>O=C(O)CN(CCN(CC(=O)O)CC(=O)O)CC(=O)O</td>\n",
       "      <td>4</td>\n",
       "    </tr>\n",
       "    <tr>\n",
       "      <th>...</th>\n",
       "      <td>...</td>\n",
       "      <td>...</td>\n",
       "    </tr>\n",
       "    <tr>\n",
       "      <th>1541</th>\n",
       "      <td>CC[C@]1(O)CC[C@H]2[C@@H]3CCC4=CCCC[C@@H]4[C@H]...</td>\n",
       "      <td>1</td>\n",
       "    </tr>\n",
       "    <tr>\n",
       "      <th>1542</th>\n",
       "      <td>CC[N+](C)(C)c1cccc(O)c1</td>\n",
       "      <td>1</td>\n",
       "    </tr>\n",
       "    <tr>\n",
       "      <th>1543</th>\n",
       "      <td>CCc1cc(C(C)=NOCc2ccc(C3CCCCC3)c(C(F)(F)F)c2)cc...</td>\n",
       "      <td>1</td>\n",
       "    </tr>\n",
       "    <tr>\n",
       "      <th>1544</th>\n",
       "      <td>CCc1cccc2c3c([nH]c12)C(CC)(CC(=O)O)OCC3</td>\n",
       "      <td>1</td>\n",
       "    </tr>\n",
       "    <tr>\n",
       "      <th>1545</th>\n",
       "      <td>c1ccc2[nH]c(-c3cscn3)nc2c1</td>\n",
       "      <td>1</td>\n",
       "    </tr>\n",
       "  </tbody>\n",
       "</table>\n",
       "<p>1546 rows × 2 columns</p>\n",
       "</div>"
      ],
      "text/plain": [
       "                                             std_smiles  count\n",
       "0                            O=C(O)CC(O)(CC(=O)O)C(=O)O      7\n",
       "1            CC1(C)SC2C(NC(=O)Cc3ccccc3)C(=O)N2C1C(=O)O      6\n",
       "2                                        CC(N)Cc1ccccc1      5\n",
       "3     COc1ccc2[nH]c([S@@+]([O-])Cc3ncc(C)c(OC)c3C)nc2c1      4\n",
       "4                  O=C(O)CN(CCN(CC(=O)O)CC(=O)O)CC(=O)O      4\n",
       "...                                                 ...    ...\n",
       "1541  CC[C@]1(O)CC[C@H]2[C@@H]3CCC4=CCCC[C@@H]4[C@H]...      1\n",
       "1542                            CC[N+](C)(C)c1cccc(O)c1      1\n",
       "1543  CCc1cc(C(C)=NOCc2ccc(C3CCCCC3)c(C(F)(F)F)c2)cc...      1\n",
       "1544            CCc1cccc2c3c([nH]c12)C(CC)(CC(=O)O)OCC3      1\n",
       "1545                         c1ccc2[nH]c(-c3cscn3)nc2c1      1\n",
       "\n",
       "[1546 rows x 2 columns]"
      ]
     },
     "execution_count": 53,
     "metadata": {},
     "output_type": "execute_result"
    }
   ],
   "source": [
    "df_freq = uru.value_counts_df(df_ok, \"std_smiles\")\n",
    "df_freq"
   ]
  },
  {
   "cell_type": "markdown",
   "id": "6b2a11d5",
   "metadata": {
    "pycharm": {
     "name": "#%% md\n"
    }
   },
   "source": [
    "If we take a look at this one, we see various forms of penicillin."
   ]
  },
  {
   "cell_type": "code",
   "execution_count": 54,
   "id": "7094c4ea",
   "metadata": {
    "pycharm": {
     "name": "#%%\n"
    }
   },
   "outputs": [
    {
     "name": "stdout",
     "output_type": "stream",
     "text": [
      "CC1(C)SC2C(NC(=O)Cc3ccccc3)C(=O)N2C1C(=O)O\n"
     ]
    },
    {
     "data": {
      "text/html": [
       "<div>\n",
       "<style scoped>\n",
       "    .dataframe tbody tr th:only-of-type {\n",
       "        vertical-align: middle;\n",
       "    }\n",
       "\n",
       "    .dataframe tbody tr th {\n",
       "        vertical-align: top;\n",
       "    }\n",
       "\n",
       "    .dataframe thead th {\n",
       "        text-align: right;\n",
       "    }\n",
       "</style>\n",
       "<table border=\"1\" class=\"dataframe\">\n",
       "  <thead>\n",
       "    <tr style=\"text-align: right;\">\n",
       "      <th></th>\n",
       "      <th>canonical_smiles</th>\n",
       "      <th>molregno</th>\n",
       "      <th>pref_name</th>\n",
       "      <th>first_approval</th>\n",
       "      <th>dosed_ingredient</th>\n",
       "      <th>oral</th>\n",
       "      <th>parenteral</th>\n",
       "      <th>topical</th>\n",
       "      <th>black_box_warning</th>\n",
       "      <th>first_in_class</th>\n",
       "      <th>std_smiles</th>\n",
       "    </tr>\n",
       "  </thead>\n",
       "  <tbody>\n",
       "    <tr>\n",
       "      <th>569</th>\n",
       "      <td>CC1(C)S[C@@H]2[C@H](NC(=O)Cc3ccccc3)C(=O)N2[C@...</td>\n",
       "      <td>1615</td>\n",
       "      <td>BENZYLPENICILLIN</td>\n",
       "      <td>1947</td>\n",
       "      <td>1</td>\n",
       "      <td>1</td>\n",
       "      <td>1</td>\n",
       "      <td>0</td>\n",
       "      <td>1</td>\n",
       "      <td>0</td>\n",
       "      <td>CC1(C)SC2C(NC(=O)Cc3ccccc3)C(=O)N2C1C(=O)O</td>\n",
       "    </tr>\n",
       "    <tr>\n",
       "      <th>574</th>\n",
       "      <td>CC1(C)S[C@@H]2[C@H](NC(=O)Cc3ccccc3)C(=O)N2[C@...</td>\n",
       "      <td>226400</td>\n",
       "      <td>PENICILLIN G POTASSIUM</td>\n",
       "      <td>1947</td>\n",
       "      <td>1</td>\n",
       "      <td>1</td>\n",
       "      <td>1</td>\n",
       "      <td>0</td>\n",
       "      <td>0</td>\n",
       "      <td>0</td>\n",
       "      <td>CC1(C)SC2C(NC(=O)Cc3ccccc3)C(=O)N2C1C(=O)O</td>\n",
       "    </tr>\n",
       "    <tr>\n",
       "      <th>571</th>\n",
       "      <td>CC1(C)S[C@@H]2[C@H](NC(=O)Cc3ccccc3)C(=O)N2[C@...</td>\n",
       "      <td>1051276</td>\n",
       "      <td>PROCAINE BENZYLPENICILLIN</td>\n",
       "      <td>1948</td>\n",
       "      <td>1</td>\n",
       "      <td>0</td>\n",
       "      <td>1</td>\n",
       "      <td>0</td>\n",
       "      <td>0</td>\n",
       "      <td>0</td>\n",
       "      <td>CC1(C)SC2C(NC(=O)Cc3ccccc3)C(=O)N2C1C(=O)O</td>\n",
       "    </tr>\n",
       "    <tr>\n",
       "      <th>572</th>\n",
       "      <td>CC1(C)S[C@@H]2[C@H](NC(=O)Cc3ccccc3)C(=O)N2[C@...</td>\n",
       "      <td>674887</td>\n",
       "      <td>PENICILLIN G PROCAINE</td>\n",
       "      <td>1948</td>\n",
       "      <td>1</td>\n",
       "      <td>0</td>\n",
       "      <td>1</td>\n",
       "      <td>0</td>\n",
       "      <td>0</td>\n",
       "      <td>0</td>\n",
       "      <td>CC1(C)SC2C(NC(=O)Cc3ccccc3)C(=O)N2C1C(=O)O</td>\n",
       "    </tr>\n",
       "    <tr>\n",
       "      <th>570</th>\n",
       "      <td>CC1(C)S[C@@H]2[C@H](NC(=O)Cc3ccccc3)C(=O)N2[C@...</td>\n",
       "      <td>2197386</td>\n",
       "      <td>PENICILLIN G BENZATHINE</td>\n",
       "      <td>1952</td>\n",
       "      <td>1</td>\n",
       "      <td>1</td>\n",
       "      <td>1</td>\n",
       "      <td>0</td>\n",
       "      <td>1</td>\n",
       "      <td>0</td>\n",
       "      <td>CC1(C)SC2C(NC(=O)Cc3ccccc3)C(=O)N2C1C(=O)O</td>\n",
       "    </tr>\n",
       "    <tr>\n",
       "      <th>575</th>\n",
       "      <td>CC1(C)S[C@@H]2[C@H](NC(=O)Cc3ccccc3)C(=O)N2[C@...</td>\n",
       "      <td>167260</td>\n",
       "      <td>PENICILLIN G SODIUM</td>\n",
       "      <td>1988</td>\n",
       "      <td>1</td>\n",
       "      <td>0</td>\n",
       "      <td>1</td>\n",
       "      <td>0</td>\n",
       "      <td>0</td>\n",
       "      <td>0</td>\n",
       "      <td>CC1(C)SC2C(NC(=O)Cc3ccccc3)C(=O)N2C1C(=O)O</td>\n",
       "    </tr>\n",
       "  </tbody>\n",
       "</table>\n",
       "</div>"
      ],
      "text/plain": [
       "                                      canonical_smiles  molregno  \\\n",
       "569  CC1(C)S[C@@H]2[C@H](NC(=O)Cc3ccccc3)C(=O)N2[C@...      1615   \n",
       "574  CC1(C)S[C@@H]2[C@H](NC(=O)Cc3ccccc3)C(=O)N2[C@...    226400   \n",
       "571  CC1(C)S[C@@H]2[C@H](NC(=O)Cc3ccccc3)C(=O)N2[C@...   1051276   \n",
       "572  CC1(C)S[C@@H]2[C@H](NC(=O)Cc3ccccc3)C(=O)N2[C@...    674887   \n",
       "570  CC1(C)S[C@@H]2[C@H](NC(=O)Cc3ccccc3)C(=O)N2[C@...   2197386   \n",
       "575  CC1(C)S[C@@H]2[C@H](NC(=O)Cc3ccccc3)C(=O)N2[C@...    167260   \n",
       "\n",
       "                     pref_name  first_approval  dosed_ingredient  oral  \\\n",
       "569           BENZYLPENICILLIN            1947                 1     1   \n",
       "574     PENICILLIN G POTASSIUM            1947                 1     1   \n",
       "571  PROCAINE BENZYLPENICILLIN            1948                 1     0   \n",
       "572      PENICILLIN G PROCAINE            1948                 1     0   \n",
       "570    PENICILLIN G BENZATHINE            1952                 1     1   \n",
       "575        PENICILLIN G SODIUM            1988                 1     0   \n",
       "\n",
       "     parenteral  topical  black_box_warning  first_in_class  \\\n",
       "569           1        0                  1               0   \n",
       "574           1        0                  0               0   \n",
       "571           1        0                  0               0   \n",
       "572           1        0                  0               0   \n",
       "570           1        0                  1               0   \n",
       "575           1        0                  0               0   \n",
       "\n",
       "                                     std_smiles  \n",
       "569  CC1(C)SC2C(NC(=O)Cc3ccccc3)C(=O)N2C1C(=O)O  \n",
       "574  CC1(C)SC2C(NC(=O)Cc3ccccc3)C(=O)N2C1C(=O)O  \n",
       "571  CC1(C)SC2C(NC(=O)Cc3ccccc3)C(=O)N2C1C(=O)O  \n",
       "572  CC1(C)SC2C(NC(=O)Cc3ccccc3)C(=O)N2C1C(=O)O  \n",
       "570  CC1(C)SC2C(NC(=O)Cc3ccccc3)C(=O)N2C1C(=O)O  \n",
       "575  CC1(C)SC2C(NC(=O)Cc3ccccc3)C(=O)N2C1C(=O)O  "
      ]
     },
     "execution_count": 54,
     "metadata": {},
     "output_type": "execute_result"
    }
   ],
   "source": [
    "query_smi = df_freq.std_smiles.values[1]\n",
    "print(query_smi)\n",
    "df_ok.query(\"std_smiles == @query_smi\").sort_values(\"first_approval\")"
   ]
  },
  {
   "cell_type": "markdown",
   "id": "81a13cb5",
   "metadata": {
    "pycharm": {
     "name": "#%% md\n"
    }
   },
   "source": [
    "Now let's remove the duplicate structures. To do this, we sort by **first_approval** then remove duplicate **std_smiles**\""
   ]
  },
  {
   "cell_type": "code",
   "execution_count": 55,
   "id": "96ba3857",
   "metadata": {
    "pycharm": {
     "name": "#%%\n"
    }
   },
   "outputs": [
    {
     "data": {
      "text/plain": [
       "(2314, 1546)"
      ]
     },
     "execution_count": 55,
     "metadata": {},
     "output_type": "execute_result"
    }
   ],
   "source": [
    "df_ok_nodupe = df_ok.sort_values(\"first_approval\").drop_duplicates(\"std_smiles\").copy()\n",
    "len(df_ok), len(df_ok_nodupe)"
   ]
  },
  {
   "cell_type": "markdown",
   "id": "5ffbd52a",
   "metadata": {
    "pycharm": {
     "name": "#%% md\n"
    }
   },
   "source": [
    "Next, let's limit our analysis to oral drugs. "
   ]
  },
  {
   "cell_type": "code",
   "execution_count": 56,
   "id": "3ee2cba4",
   "metadata": {
    "pycharm": {
     "name": "#%%\n"
    }
   },
   "outputs": [
    {
     "data": {
      "text/plain": [
       "1034"
      ]
     },
     "execution_count": 56,
     "metadata": {},
     "output_type": "execute_result"
    }
   ],
   "source": [
    "df_oral_ok_nodupe = df_ok_nodupe.query(\"oral == 1\").copy()\n",
    "len(df_oral_ok_nodupe)"
   ]
  },
  {
   "cell_type": "markdown",
   "id": "4a50a0a0",
   "metadata": {
    "pycharm": {
     "name": "#%% md\n"
    }
   },
   "source": [
    "There still may be duplicates that are the same structure with different charge states.  One way to handle this is to generate an InChI for each structure and remove the charge layer.  In this way, the charged and uncharged versions will have the same InChI string. "
   ]
  },
  {
   "cell_type": "markdown",
   "id": "d2a2c09f",
   "metadata": {
    "pycharm": {
     "name": "#%% md\n"
    }
   },
   "source": [
    "Define a function to generate an InChI without the charge field.  This is a bit of a hack.  I should probably be passing the \"nochg\" option to Chem.MolToInchi but I can't figure out how to do that. "
   ]
  },
  {
   "cell_type": "code",
   "execution_count": 59,
   "id": "4bdc8df7",
   "metadata": {
    "pycharm": {
     "name": "#%%\n"
    }
   },
   "outputs": [],
   "source": [
    "def smi_to_inchi_nochg(smi):\n",
    "    mol = Chem.MolFromSmiles(smi)\n",
    "    inchi = Chem.MolToInchi(mol)\n",
    "    return re.sub(\"/p\\+[0-9]+\", \"\", inchi)"
   ]
  },
  {
   "cell_type": "markdown",
   "id": "8342397c",
   "metadata": {
    "pycharm": {
     "name": "#%% md\n"
    }
   },
   "source": [
    "To test our function we'll generate InChi strings for the neutral and protonated forms of propylamine.  We can then check to see if the InChi strings are the same."
   ]
  },
  {
   "cell_type": "code",
   "execution_count": 60,
   "id": "339617f3",
   "metadata": {
    "pycharm": {
     "name": "#%%\n"
    }
   },
   "outputs": [
    {
     "name": "stderr",
     "output_type": "stream",
     "text": [
      "[06:51:33] WARNING: Proton(s) added/removed\n",
      "\n"
     ]
    },
    {
     "data": {
      "text/plain": [
       "('InChI=1S/C3H9N/c1-2-3-4/h2-4H2,1H3',\n",
       " 'InChI=1S/C3H9N/c1-2-3-4/h2-4H2,1H3',\n",
       " True)"
      ]
     },
     "execution_count": 60,
     "metadata": {},
     "output_type": "execute_result"
    }
   ],
   "source": [
    "no_chg_inchi = smi_to_inchi_nochg(\"CCCN\")\n",
    "chg_inchi = smi_to_inchi_nochg(\"CCC[NH3+]\")\n",
    "no_chg_inchi, chg_inchi, chg_inchi == no_chg_inchi"
   ]
  },
  {
   "cell_type": "markdown",
   "id": "2eace57e",
   "metadata": {
    "pycharm": {
     "name": "#%% md\n"
    }
   },
   "source": [
    "Now we'll apply this function to all the structures in our dataframe. As above, I'm using **BlockLogs** to ignore the logging messages."
   ]
  },
  {
   "cell_type": "code",
   "execution_count": 61,
   "id": "256f927c",
   "metadata": {
    "pycharm": {
     "name": "#%%\n"
    }
   },
   "outputs": [],
   "source": [
    "with BlockLogs():\n",
    "    df_oral_ok_nodupe['inchi'] = df_oral_ok_nodupe.std_smiles.apply(smi_to_inchi_nochg)"
   ]
  },
  {
   "cell_type": "markdown",
   "id": "e2f55005",
   "metadata": {
    "pycharm": {
     "name": "#%% md\n"
    }
   },
   "source": [
    "Let's see if we have any InChI duplicates.  We can use the function **value_counts_df** from the [useful_rdkit_utils](https://github.com/PatWalters/useful_rdkit_utils) package to convert the results of the Pandas value_counts method to a nicely formatted dataframe.  It looks like there's only one example with two different charge states."
   ]
  },
  {
   "cell_type": "code",
   "execution_count": 62,
   "id": "219c0733",
   "metadata": {
    "pycharm": {
     "name": "#%%\n"
    }
   },
   "outputs": [
    {
     "data": {
      "text/html": [
       "<div>\n",
       "<style scoped>\n",
       "    .dataframe tbody tr th:only-of-type {\n",
       "        vertical-align: middle;\n",
       "    }\n",
       "\n",
       "    .dataframe tbody tr th {\n",
       "        vertical-align: top;\n",
       "    }\n",
       "\n",
       "    .dataframe thead th {\n",
       "        text-align: right;\n",
       "    }\n",
       "</style>\n",
       "<table border=\"1\" class=\"dataframe\">\n",
       "  <thead>\n",
       "    <tr style=\"text-align: right;\">\n",
       "      <th></th>\n",
       "      <th>inchi</th>\n",
       "      <th>count</th>\n",
       "    </tr>\n",
       "  </thead>\n",
       "  <tbody>\n",
       "    <tr>\n",
       "      <th>0</th>\n",
       "      <td>InChI=1S/C31H35F6N4O5P/c1-20-8-6-7-9-24(20)25-...</td>\n",
       "      <td>2</td>\n",
       "    </tr>\n",
       "    <tr>\n",
       "      <th>1</th>\n",
       "      <td>InChI=1S/C11H11N3O2S/c12-9-4-6-10(7-5-9)17(15,...</td>\n",
       "      <td>1</td>\n",
       "    </tr>\n",
       "    <tr>\n",
       "      <th>2</th>\n",
       "      <td>InChI=1S/C22H26N2O2S/c1-24-12-5-6-19(24)15-18-...</td>\n",
       "      <td>1</td>\n",
       "    </tr>\n",
       "    <tr>\n",
       "      <th>3</th>\n",
       "      <td>InChI=1S/C16H23N5O/c1-3-4-5-8-18-16(17)21-20-1...</td>\n",
       "      <td>1</td>\n",
       "    </tr>\n",
       "    <tr>\n",
       "      <th>4</th>\n",
       "      <td>InChI=1S/C20H21FN2O/c1-23(2)11-3-10-20(17-5-7-...</td>\n",
       "      <td>1</td>\n",
       "    </tr>\n",
       "    <tr>\n",
       "      <th>...</th>\n",
       "      <td>...</td>\n",
       "      <td>...</td>\n",
       "    </tr>\n",
       "    <tr>\n",
       "      <th>1028</th>\n",
       "      <td>InChI=1S/C21H34NO3/c1-4-22(3,5-2)16-17-25-20(2...</td>\n",
       "      <td>1</td>\n",
       "    </tr>\n",
       "    <tr>\n",
       "      <th>1029</th>\n",
       "      <td>InChI=1S/C25H32O2/c1-3-25(26)15-13-23-22-10-8-...</td>\n",
       "      <td>1</td>\n",
       "    </tr>\n",
       "    <tr>\n",
       "      <th>1030</th>\n",
       "      <td>InChI=1S/C22H22N2O8/c1-7-8-5-4-6-9(25)11(8)16(...</td>\n",
       "      <td>1</td>\n",
       "    </tr>\n",
       "    <tr>\n",
       "      <th>1031</th>\n",
       "      <td>InChI=1S/C20H23NS/c1-21-12-6-7-15(14-21)13-18-...</td>\n",
       "      <td>1</td>\n",
       "    </tr>\n",
       "    <tr>\n",
       "      <th>1032</th>\n",
       "      <td>InChI=1S/C15H19N3O2/c1-10(2)18-14(19)9-13(17-1...</td>\n",
       "      <td>1</td>\n",
       "    </tr>\n",
       "  </tbody>\n",
       "</table>\n",
       "<p>1033 rows × 2 columns</p>\n",
       "</div>"
      ],
      "text/plain": [
       "                                                  inchi  count\n",
       "0     InChI=1S/C31H35F6N4O5P/c1-20-8-6-7-9-24(20)25-...      2\n",
       "1     InChI=1S/C11H11N3O2S/c12-9-4-6-10(7-5-9)17(15,...      1\n",
       "2     InChI=1S/C22H26N2O2S/c1-24-12-5-6-19(24)15-18-...      1\n",
       "3     InChI=1S/C16H23N5O/c1-3-4-5-8-18-16(17)21-20-1...      1\n",
       "4     InChI=1S/C20H21FN2O/c1-23(2)11-3-10-20(17-5-7-...      1\n",
       "...                                                 ...    ...\n",
       "1028  InChI=1S/C21H34NO3/c1-4-22(3,5-2)16-17-25-20(2...      1\n",
       "1029  InChI=1S/C25H32O2/c1-3-25(26)15-13-23-22-10-8-...      1\n",
       "1030  InChI=1S/C22H22N2O8/c1-7-8-5-4-6-9(25)11(8)16(...      1\n",
       "1031  InChI=1S/C20H23NS/c1-21-12-6-7-15(14-21)13-18-...      1\n",
       "1032  InChI=1S/C15H19N3O2/c1-10(2)18-14(19)9-13(17-1...      1\n",
       "\n",
       "[1033 rows x 2 columns]"
      ]
     },
     "execution_count": 62,
     "metadata": {},
     "output_type": "execute_result"
    }
   ],
   "source": [
    "df_dupe_inchi = uru.value_counts_df(df_oral_ok_nodupe, \"inchi\")\n",
    "df_dupe_inchi"
   ]
  },
  {
   "cell_type": "markdown",
   "id": "8bdbab18",
   "metadata": {
    "pycharm": {
     "name": "#%% md\n"
    }
   },
   "source": [
    "Let's take a closer look at this example."
   ]
  },
  {
   "cell_type": "code",
   "execution_count": 63,
   "id": "32ef4572",
   "metadata": {
    "pycharm": {
     "name": "#%%\n"
    }
   },
   "outputs": [
    {
     "data": {
      "text/html": [
       "<div>\n",
       "<style scoped>\n",
       "    .dataframe tbody tr th:only-of-type {\n",
       "        vertical-align: middle;\n",
       "    }\n",
       "\n",
       "    .dataframe tbody tr th {\n",
       "        vertical-align: top;\n",
       "    }\n",
       "\n",
       "    .dataframe thead th {\n",
       "        text-align: right;\n",
       "    }\n",
       "</style>\n",
       "<table border=\"1\" class=\"dataframe\">\n",
       "  <thead>\n",
       "    <tr style=\"text-align: right;\">\n",
       "      <th></th>\n",
       "      <th>canonical_smiles</th>\n",
       "      <th>molregno</th>\n",
       "      <th>pref_name</th>\n",
       "      <th>first_approval</th>\n",
       "      <th>dosed_ingredient</th>\n",
       "      <th>oral</th>\n",
       "      <th>parenteral</th>\n",
       "      <th>topical</th>\n",
       "      <th>black_box_warning</th>\n",
       "      <th>first_in_class</th>\n",
       "      <th>std_smiles</th>\n",
       "      <th>inchi</th>\n",
       "    </tr>\n",
       "  </thead>\n",
       "  <tbody>\n",
       "    <tr>\n",
       "      <th>2210</th>\n",
       "      <td>Cc1ccccc1-c1cc(N2CC[N+](C)(COP(=O)(O)O)CC2)ncc...</td>\n",
       "      <td>2197790</td>\n",
       "      <td>FOSNETUPITANT CHLORIDE HYDROCHLORIDE</td>\n",
       "      <td>2018</td>\n",
       "      <td>1</td>\n",
       "      <td>1</td>\n",
       "      <td>1</td>\n",
       "      <td>0</td>\n",
       "      <td>0</td>\n",
       "      <td>0</td>\n",
       "      <td>Cc1ccccc1-c1cc(N2CC[N+](C)(COP(=O)(O)O)CC2)ncc...</td>\n",
       "      <td>InChI=1S/C31H35F6N4O5P/c1-20-8-6-7-9-24(20)25-...</td>\n",
       "    </tr>\n",
       "    <tr>\n",
       "      <th>2211</th>\n",
       "      <td>Cc1ccccc1-c1cc(N2CC[N+](C)(COP(=O)([O-])O)CC2)...</td>\n",
       "      <td>2197788</td>\n",
       "      <td>FOSNETUPITANT</td>\n",
       "      <td>2018</td>\n",
       "      <td>0</td>\n",
       "      <td>1</td>\n",
       "      <td>1</td>\n",
       "      <td>0</td>\n",
       "      <td>0</td>\n",
       "      <td>0</td>\n",
       "      <td>Cc1ccccc1-c1cc(N2CC[N+](C)(COP(=O)([O-])O)CC2)...</td>\n",
       "      <td>InChI=1S/C31H35F6N4O5P/c1-20-8-6-7-9-24(20)25-...</td>\n",
       "    </tr>\n",
       "  </tbody>\n",
       "</table>\n",
       "</div>"
      ],
      "text/plain": [
       "                                       canonical_smiles  molregno  \\\n",
       "2210  Cc1ccccc1-c1cc(N2CC[N+](C)(COP(=O)(O)O)CC2)ncc...   2197790   \n",
       "2211  Cc1ccccc1-c1cc(N2CC[N+](C)(COP(=O)([O-])O)CC2)...   2197788   \n",
       "\n",
       "                                 pref_name  first_approval  dosed_ingredient  \\\n",
       "2210  FOSNETUPITANT CHLORIDE HYDROCHLORIDE            2018                 1   \n",
       "2211                         FOSNETUPITANT            2018                 0   \n",
       "\n",
       "      oral  parenteral  topical  black_box_warning  first_in_class  \\\n",
       "2210     1           1        0                  0               0   \n",
       "2211     1           1        0                  0               0   \n",
       "\n",
       "                                             std_smiles  \\\n",
       "2210  Cc1ccccc1-c1cc(N2CC[N+](C)(COP(=O)(O)O)CC2)ncc...   \n",
       "2211  Cc1ccccc1-c1cc(N2CC[N+](C)(COP(=O)([O-])O)CC2)...   \n",
       "\n",
       "                                                  inchi  \n",
       "2210  InChI=1S/C31H35F6N4O5P/c1-20-8-6-7-9-24(20)25-...  \n",
       "2211  InChI=1S/C31H35F6N4O5P/c1-20-8-6-7-9-24(20)25-...  "
      ]
     },
     "execution_count": 63,
     "metadata": {},
     "output_type": "execute_result"
    }
   ],
   "source": [
    "inchi_val = df_dupe_inchi.inchi.values[0]\n",
    "dupe_inchi_df = df_oral_ok_nodupe.query(\"inchi == @inchi_val\")\n",
    "dupe_inchi_df"
   ]
  },
  {
   "cell_type": "code",
   "execution_count": 64,
   "id": "827acd3d",
   "metadata": {
    "pycharm": {
     "name": "#%%\n"
    }
   },
   "outputs": [
    {
     "data": {
      "text/plain": [
       "array(['Cc1ccccc1-c1cc(N2CC[N+](C)(COP(=O)(O)O)CC2)ncc1N(C)C(=O)C(C)(C)c1cc(C(F)(F)F)cc(C(F)(F)F)c1',\n",
       "       'Cc1ccccc1-c1cc(N2CC[N+](C)(COP(=O)([O-])O)CC2)ncc1N(C)C(=O)C(C)(C)c1cc(C(F)(F)F)cc(C(F)(F)F)c1'],\n",
       "      dtype=object)"
      ]
     },
     "execution_count": 64,
     "metadata": {},
     "output_type": "execute_result"
    }
   ],
   "source": [
    "dupe_inchi_df.std_smiles.values"
   ]
  },
  {
   "cell_type": "code",
   "execution_count": 65,
   "id": "0b11489e",
   "metadata": {
    "pycharm": {
     "name": "#%%\n"
    }
   },
   "outputs": [
    {
     "data": {
      "image/svg+xml": [
       "<svg xmlns=\"http://www.w3.org/2000/svg\" xmlns:rdkit=\"http://www.rdkit.org/xml\" xmlns:xlink=\"http://www.w3.org/1999/xlink\" version=\"1.1\" baseProfile=\"full\" xml:space=\"preserve\" width=\"1050px\" height=\"350px\" viewBox=\"0 0 1050 350\">\n",
       "<!-- END OF HEADER -->\n",
       "<rect style=\"opacity:1.0;fill:#FFFFFF;stroke:none\" width=\"1050.0\" height=\"350.0\" x=\"0.0\" y=\"0.0\"> </rect>\n",
       "<path class=\"bond-0 atom-0 atom-1\" d=\"M 144.8,140.5 L 166.0,136.1\" style=\"fill:none;fill-rule:evenodd;stroke:#000000;stroke-width:2.0px;stroke-linecap:butt;stroke-linejoin:miter;stroke-opacity:1\"/>\n",
       "<path class=\"bond-1 atom-1 atom-2\" d=\"M 166.0,136.1 L 172.8,115.6\" style=\"fill:none;fill-rule:evenodd;stroke:#000000;stroke-width:2.0px;stroke-linecap:butt;stroke-linejoin:miter;stroke-opacity:1\"/>\n",
       "<path class=\"bond-1 atom-1 atom-2\" d=\"M 171.1,134.4 L 175.9,120.0\" style=\"fill:none;fill-rule:evenodd;stroke:#000000;stroke-width:2.0px;stroke-linecap:butt;stroke-linejoin:miter;stroke-opacity:1\"/>\n",
       "<path class=\"bond-2 atom-2 atom-3\" d=\"M 172.8,115.6 L 194.0,111.1\" style=\"fill:none;fill-rule:evenodd;stroke:#000000;stroke-width:2.0px;stroke-linecap:butt;stroke-linejoin:miter;stroke-opacity:1\"/>\n",
       "<path class=\"bond-3 atom-3 atom-4\" d=\"M 194.0,111.1 L 208.4,127.3\" style=\"fill:none;fill-rule:evenodd;stroke:#000000;stroke-width:2.0px;stroke-linecap:butt;stroke-linejoin:miter;stroke-opacity:1\"/>\n",
       "<path class=\"bond-3 atom-3 atom-4\" d=\"M 192.9,116.4 L 203.0,127.7\" style=\"fill:none;fill-rule:evenodd;stroke:#000000;stroke-width:2.0px;stroke-linecap:butt;stroke-linejoin:miter;stroke-opacity:1\"/>\n",
       "<path class=\"bond-4 atom-4 atom-5\" d=\"M 208.4,127.3 L 201.6,147.8\" style=\"fill:none;fill-rule:evenodd;stroke:#000000;stroke-width:2.0px;stroke-linecap:butt;stroke-linejoin:miter;stroke-opacity:1\"/>\n",
       "<path class=\"bond-5 atom-5 atom-6\" d=\"M 201.6,147.8 L 180.4,152.3\" style=\"fill:none;fill-rule:evenodd;stroke:#000000;stroke-width:2.0px;stroke-linecap:butt;stroke-linejoin:miter;stroke-opacity:1\"/>\n",
       "<path class=\"bond-5 atom-5 atom-6\" d=\"M 197.6,144.3 L 182.7,147.4\" style=\"fill:none;fill-rule:evenodd;stroke:#000000;stroke-width:2.0px;stroke-linecap:butt;stroke-linejoin:miter;stroke-opacity:1\"/>\n",
       "<path class=\"bond-6 atom-6 atom-7\" d=\"M 180.4,152.3 L 173.7,172.8\" style=\"fill:none;fill-rule:evenodd;stroke:#000000;stroke-width:2.0px;stroke-linecap:butt;stroke-linejoin:miter;stroke-opacity:1\"/>\n",
       "<path class=\"bond-7 atom-7 atom-8\" d=\"M 173.7,172.8 L 152.5,177.2\" style=\"fill:none;fill-rule:evenodd;stroke:#000000;stroke-width:2.0px;stroke-linecap:butt;stroke-linejoin:miter;stroke-opacity:1\"/>\n",
       "<path class=\"bond-7 atom-7 atom-8\" d=\"M 171.4,177.7 L 156.5,180.8\" style=\"fill:none;fill-rule:evenodd;stroke:#000000;stroke-width:2.0px;stroke-linecap:butt;stroke-linejoin:miter;stroke-opacity:1\"/>\n",
       "<path class=\"bond-8 atom-8 atom-9\" d=\"M 152.5,177.2 L 145.7,197.8\" style=\"fill:none;fill-rule:evenodd;stroke:#000000;stroke-width:2.0px;stroke-linecap:butt;stroke-linejoin:miter;stroke-opacity:1\"/>\n",
       "<path class=\"bond-9 atom-9 atom-10\" d=\"M 145.7,197.8 L 136.6,199.7\" style=\"fill:none;fill-rule:evenodd;stroke:#000000;stroke-width:2.0px;stroke-linecap:butt;stroke-linejoin:miter;stroke-opacity:1\"/>\n",
       "<path class=\"bond-9 atom-9 atom-10\" d=\"M 136.6,199.7 L 127.6,201.6\" style=\"fill:none;fill-rule:evenodd;stroke:#0000FF;stroke-width:2.0px;stroke-linecap:butt;stroke-linejoin:miter;stroke-opacity:1\"/>\n",
       "<path class=\"bond-10 atom-10 atom-11\" d=\"M 121.5,198.8 L 115.8,192.5\" style=\"fill:none;fill-rule:evenodd;stroke:#0000FF;stroke-width:2.0px;stroke-linecap:butt;stroke-linejoin:miter;stroke-opacity:1\"/>\n",
       "<path class=\"bond-10 atom-10 atom-11\" d=\"M 115.8,192.5 L 110.1,186.1\" style=\"fill:none;fill-rule:evenodd;stroke:#000000;stroke-width:2.0px;stroke-linecap:butt;stroke-linejoin:miter;stroke-opacity:1\"/>\n",
       "<path class=\"bond-11 atom-11 atom-12\" d=\"M 110.1,186.1 L 88.9,190.5\" style=\"fill:none;fill-rule:evenodd;stroke:#000000;stroke-width:2.0px;stroke-linecap:butt;stroke-linejoin:miter;stroke-opacity:1\"/>\n",
       "<path class=\"bond-12 atom-12 atom-13\" d=\"M 88.9,190.5 L 86.2,198.9\" style=\"fill:none;fill-rule:evenodd;stroke:#000000;stroke-width:2.0px;stroke-linecap:butt;stroke-linejoin:miter;stroke-opacity:1\"/>\n",
       "<path class=\"bond-12 atom-12 atom-13\" d=\"M 86.2,198.9 L 83.4,207.3\" style=\"fill:none;fill-rule:evenodd;stroke:#0000FF;stroke-width:2.0px;stroke-linecap:butt;stroke-linejoin:miter;stroke-opacity:1\"/>\n",
       "<path class=\"bond-13 atom-13 atom-14\" d=\"M 79.2,214.9 L 74.0,221.5\" style=\"fill:none;fill-rule:evenodd;stroke:#0000FF;stroke-width:2.0px;stroke-linecap:butt;stroke-linejoin:miter;stroke-opacity:1\"/>\n",
       "<path class=\"bond-13 atom-13 atom-14\" d=\"M 74.0,221.5 L 68.8,228.1\" style=\"fill:none;fill-rule:evenodd;stroke:#000000;stroke-width:2.0px;stroke-linecap:butt;stroke-linejoin:miter;stroke-opacity:1\"/>\n",
       "<path class=\"bond-14 atom-13 atom-15\" d=\"M 79.1,209.4 L 71.1,205.1\" style=\"fill:none;fill-rule:evenodd;stroke:#0000FF;stroke-width:2.0px;stroke-linecap:butt;stroke-linejoin:miter;stroke-opacity:1\"/>\n",
       "<path class=\"bond-14 atom-13 atom-15\" d=\"M 71.1,205.1 L 63.1,200.8\" style=\"fill:none;fill-rule:evenodd;stroke:#000000;stroke-width:2.0px;stroke-linecap:butt;stroke-linejoin:miter;stroke-opacity:1\"/>\n",
       "<path class=\"bond-15 atom-15 atom-16\" d=\"M 63.1,200.8 L 62.8,192.0\" style=\"fill:none;fill-rule:evenodd;stroke:#000000;stroke-width:2.0px;stroke-linecap:butt;stroke-linejoin:miter;stroke-opacity:1\"/>\n",
       "<path class=\"bond-15 atom-15 atom-16\" d=\"M 62.8,192.0 L 62.5,183.1\" style=\"fill:none;fill-rule:evenodd;stroke:#FF0000;stroke-width:2.0px;stroke-linecap:butt;stroke-linejoin:miter;stroke-opacity:1\"/>\n",
       "<path class=\"bond-16 atom-16 atom-17\" d=\"M 58.9,177.3 L 52.4,173.9\" style=\"fill:none;fill-rule:evenodd;stroke:#FF0000;stroke-width:2.0px;stroke-linecap:butt;stroke-linejoin:miter;stroke-opacity:1\"/>\n",
       "<path class=\"bond-16 atom-16 atom-17\" d=\"M 52.4,173.9 L 46.0,170.4\" style=\"fill:none;fill-rule:evenodd;stroke:#FF7F00;stroke-width:2.0px;stroke-linecap:butt;stroke-linejoin:miter;stroke-opacity:1\"/>\n",
       "<path class=\"bond-17 atom-17 atom-18\" d=\"M 43.5,164.2 L 46.5,158.5\" style=\"fill:none;fill-rule:evenodd;stroke:#FF7F00;stroke-width:2.0px;stroke-linecap:butt;stroke-linejoin:miter;stroke-opacity:1\"/>\n",
       "<path class=\"bond-17 atom-17 atom-18\" d=\"M 46.5,158.5 L 49.6,152.8\" style=\"fill:none;fill-rule:evenodd;stroke:#FF0000;stroke-width:2.0px;stroke-linecap:butt;stroke-linejoin:miter;stroke-opacity:1\"/>\n",
       "<path class=\"bond-17 atom-17 atom-18\" d=\"M 47.3,166.2 L 50.3,160.5\" style=\"fill:none;fill-rule:evenodd;stroke:#FF7F00;stroke-width:2.0px;stroke-linecap:butt;stroke-linejoin:miter;stroke-opacity:1\"/>\n",
       "<path class=\"bond-17 atom-17 atom-18\" d=\"M 50.3,160.5 L 53.4,154.8\" style=\"fill:none;fill-rule:evenodd;stroke:#FF0000;stroke-width:2.0px;stroke-linecap:butt;stroke-linejoin:miter;stroke-opacity:1\"/>\n",
       "<path class=\"bond-18 atom-17 atom-19\" d=\"M 41.3,172.8 L 38.2,178.5\" style=\"fill:none;fill-rule:evenodd;stroke:#FF7F00;stroke-width:2.0px;stroke-linecap:butt;stroke-linejoin:miter;stroke-opacity:1\"/>\n",
       "<path class=\"bond-18 atom-17 atom-19\" d=\"M 38.2,178.5 L 35.1,184.2\" style=\"fill:none;fill-rule:evenodd;stroke:#FF0000;stroke-width:2.0px;stroke-linecap:butt;stroke-linejoin:miter;stroke-opacity:1\"/>\n",
       "<path class=\"bond-19 atom-17 atom-20\" d=\"M 40.7,167.5 L 34.2,164.1\" style=\"fill:none;fill-rule:evenodd;stroke:#FF7F00;stroke-width:2.0px;stroke-linecap:butt;stroke-linejoin:miter;stroke-opacity:1\"/>\n",
       "<path class=\"bond-19 atom-17 atom-20\" d=\"M 34.2,164.1 L 27.8,160.6\" style=\"fill:none;fill-rule:evenodd;stroke:#FF0000;stroke-width:2.0px;stroke-linecap:butt;stroke-linejoin:miter;stroke-opacity:1\"/>\n",
       "<path class=\"bond-20 atom-13 atom-21\" d=\"M 85.2,214.5 L 90.9,220.8\" style=\"fill:none;fill-rule:evenodd;stroke:#0000FF;stroke-width:2.0px;stroke-linecap:butt;stroke-linejoin:miter;stroke-opacity:1\"/>\n",
       "<path class=\"bond-20 atom-13 atom-21\" d=\"M 90.9,220.8 L 96.6,227.2\" style=\"fill:none;fill-rule:evenodd;stroke:#000000;stroke-width:2.0px;stroke-linecap:butt;stroke-linejoin:miter;stroke-opacity:1\"/>\n",
       "<path class=\"bond-21 atom-21 atom-22\" d=\"M 96.6,227.2 L 117.8,222.8\" style=\"fill:none;fill-rule:evenodd;stroke:#000000;stroke-width:2.0px;stroke-linecap:butt;stroke-linejoin:miter;stroke-opacity:1\"/>\n",
       "<path class=\"bond-22 atom-9 atom-23\" d=\"M 145.7,197.8 L 151.4,204.2\" style=\"fill:none;fill-rule:evenodd;stroke:#000000;stroke-width:2.0px;stroke-linecap:butt;stroke-linejoin:miter;stroke-opacity:1\"/>\n",
       "<path class=\"bond-22 atom-9 atom-23\" d=\"M 151.4,204.2 L 157.1,210.5\" style=\"fill:none;fill-rule:evenodd;stroke:#0000FF;stroke-width:2.0px;stroke-linecap:butt;stroke-linejoin:miter;stroke-opacity:1\"/>\n",
       "<path class=\"bond-22 atom-9 atom-23\" d=\"M 150.7,196.8 L 154.6,201.3\" style=\"fill:none;fill-rule:evenodd;stroke:#000000;stroke-width:2.0px;stroke-linecap:butt;stroke-linejoin:miter;stroke-opacity:1\"/>\n",
       "<path class=\"bond-22 atom-9 atom-23\" d=\"M 154.6,201.3 L 158.6,205.7\" style=\"fill:none;fill-rule:evenodd;stroke:#0000FF;stroke-width:2.0px;stroke-linecap:butt;stroke-linejoin:miter;stroke-opacity:1\"/>\n",
       "<path class=\"bond-23 atom-23 atom-24\" d=\"M 163.2,213.3 L 172.3,211.4\" style=\"fill:none;fill-rule:evenodd;stroke:#0000FF;stroke-width:2.0px;stroke-linecap:butt;stroke-linejoin:miter;stroke-opacity:1\"/>\n",
       "<path class=\"bond-23 atom-23 atom-24\" d=\"M 172.3,211.4 L 181.3,209.5\" style=\"fill:none;fill-rule:evenodd;stroke:#000000;stroke-width:2.0px;stroke-linecap:butt;stroke-linejoin:miter;stroke-opacity:1\"/>\n",
       "<path class=\"bond-24 atom-24 atom-25\" d=\"M 181.3,209.5 L 188.1,189.0\" style=\"fill:none;fill-rule:evenodd;stroke:#000000;stroke-width:2.0px;stroke-linecap:butt;stroke-linejoin:miter;stroke-opacity:1\"/>\n",
       "<path class=\"bond-24 atom-24 atom-25\" d=\"M 178.2,205.1 L 183.0,190.7\" style=\"fill:none;fill-rule:evenodd;stroke:#000000;stroke-width:2.0px;stroke-linecap:butt;stroke-linejoin:miter;stroke-opacity:1\"/>\n",
       "<path class=\"bond-25 atom-25 atom-26\" d=\"M 188.1,189.0 L 197.2,187.1\" style=\"fill:none;fill-rule:evenodd;stroke:#000000;stroke-width:2.0px;stroke-linecap:butt;stroke-linejoin:miter;stroke-opacity:1\"/>\n",
       "<path class=\"bond-25 atom-25 atom-26\" d=\"M 197.2,187.1 L 206.2,185.2\" style=\"fill:none;fill-rule:evenodd;stroke:#0000FF;stroke-width:2.0px;stroke-linecap:butt;stroke-linejoin:miter;stroke-opacity:1\"/>\n",
       "<path class=\"bond-26 atom-26 atom-27\" d=\"M 210.5,180.7 L 213.3,172.4\" style=\"fill:none;fill-rule:evenodd;stroke:#0000FF;stroke-width:2.0px;stroke-linecap:butt;stroke-linejoin:miter;stroke-opacity:1\"/>\n",
       "<path class=\"bond-26 atom-26 atom-27\" d=\"M 213.3,172.4 L 216.1,164.0\" style=\"fill:none;fill-rule:evenodd;stroke:#000000;stroke-width:2.0px;stroke-linecap:butt;stroke-linejoin:miter;stroke-opacity:1\"/>\n",
       "<path class=\"bond-27 atom-26 atom-28\" d=\"M 212.3,187.9 L 218.0,194.3\" style=\"fill:none;fill-rule:evenodd;stroke:#0000FF;stroke-width:2.0px;stroke-linecap:butt;stroke-linejoin:miter;stroke-opacity:1\"/>\n",
       "<path class=\"bond-27 atom-26 atom-28\" d=\"M 218.0,194.3 L 223.7,200.7\" style=\"fill:none;fill-rule:evenodd;stroke:#000000;stroke-width:2.0px;stroke-linecap:butt;stroke-linejoin:miter;stroke-opacity:1\"/>\n",
       "<path class=\"bond-28 atom-28 atom-29\" d=\"M 225.8,201.3 L 223.0,209.7\" style=\"fill:none;fill-rule:evenodd;stroke:#000000;stroke-width:2.0px;stroke-linecap:butt;stroke-linejoin:miter;stroke-opacity:1\"/>\n",
       "<path class=\"bond-28 atom-28 atom-29\" d=\"M 223.0,209.7 L 220.3,218.1\" style=\"fill:none;fill-rule:evenodd;stroke:#FF0000;stroke-width:2.0px;stroke-linecap:butt;stroke-linejoin:miter;stroke-opacity:1\"/>\n",
       "<path class=\"bond-28 atom-28 atom-29\" d=\"M 221.7,200.0 L 218.9,208.4\" style=\"fill:none;fill-rule:evenodd;stroke:#000000;stroke-width:2.0px;stroke-linecap:butt;stroke-linejoin:miter;stroke-opacity:1\"/>\n",
       "<path class=\"bond-28 atom-28 atom-29\" d=\"M 218.9,208.4 L 216.1,216.7\" style=\"fill:none;fill-rule:evenodd;stroke:#FF0000;stroke-width:2.0px;stroke-linecap:butt;stroke-linejoin:miter;stroke-opacity:1\"/>\n",
       "<path class=\"bond-29 atom-28 atom-30\" d=\"M 223.7,200.7 L 244.9,196.2\" style=\"fill:none;fill-rule:evenodd;stroke:#000000;stroke-width:2.0px;stroke-linecap:butt;stroke-linejoin:miter;stroke-opacity:1\"/>\n",
       "<path class=\"bond-30 atom-30 atom-31\" d=\"M 244.9,196.2 L 249.3,217.4\" style=\"fill:none;fill-rule:evenodd;stroke:#000000;stroke-width:2.0px;stroke-linecap:butt;stroke-linejoin:miter;stroke-opacity:1\"/>\n",
       "<path class=\"bond-31 atom-30 atom-32\" d=\"M 244.9,196.2 L 240.5,175.1\" style=\"fill:none;fill-rule:evenodd;stroke:#000000;stroke-width:2.0px;stroke-linecap:butt;stroke-linejoin:miter;stroke-opacity:1\"/>\n",
       "<path class=\"bond-32 atom-30 atom-33\" d=\"M 244.9,196.2 L 266.1,191.8\" style=\"fill:none;fill-rule:evenodd;stroke:#000000;stroke-width:2.0px;stroke-linecap:butt;stroke-linejoin:miter;stroke-opacity:1\"/>\n",
       "<path class=\"bond-33 atom-33 atom-34\" d=\"M 266.1,191.8 L 272.9,171.3\" style=\"fill:none;fill-rule:evenodd;stroke:#000000;stroke-width:2.0px;stroke-linecap:butt;stroke-linejoin:miter;stroke-opacity:1\"/>\n",
       "<path class=\"bond-33 atom-33 atom-34\" d=\"M 271.2,190.1 L 276.0,175.7\" style=\"fill:none;fill-rule:evenodd;stroke:#000000;stroke-width:2.0px;stroke-linecap:butt;stroke-linejoin:miter;stroke-opacity:1\"/>\n",
       "<path class=\"bond-34 atom-34 atom-35\" d=\"M 272.9,171.3 L 294.0,166.8\" style=\"fill:none;fill-rule:evenodd;stroke:#000000;stroke-width:2.0px;stroke-linecap:butt;stroke-linejoin:miter;stroke-opacity:1\"/>\n",
       "<path class=\"bond-35 atom-35 atom-36\" d=\"M 294.0,166.8 L 300.8,146.3\" style=\"fill:none;fill-rule:evenodd;stroke:#000000;stroke-width:2.0px;stroke-linecap:butt;stroke-linejoin:miter;stroke-opacity:1\"/>\n",
       "<path class=\"bond-36 atom-36 atom-37\" d=\"M 300.8,146.3 L 303.6,137.9\" style=\"fill:none;fill-rule:evenodd;stroke:#000000;stroke-width:2.0px;stroke-linecap:butt;stroke-linejoin:miter;stroke-opacity:1\"/>\n",
       "<path class=\"bond-36 atom-36 atom-37\" d=\"M 303.6,137.9 L 306.3,129.5\" style=\"fill:none;fill-rule:evenodd;stroke:#33CCCC;stroke-width:2.0px;stroke-linecap:butt;stroke-linejoin:miter;stroke-opacity:1\"/>\n",
       "<path class=\"bond-37 atom-36 atom-38\" d=\"M 300.8,146.3 L 291.8,143.3\" style=\"fill:none;fill-rule:evenodd;stroke:#000000;stroke-width:2.0px;stroke-linecap:butt;stroke-linejoin:miter;stroke-opacity:1\"/>\n",
       "<path class=\"bond-37 atom-36 atom-38\" d=\"M 291.8,143.3 L 282.8,140.3\" style=\"fill:none;fill-rule:evenodd;stroke:#33CCCC;stroke-width:2.0px;stroke-linecap:butt;stroke-linejoin:miter;stroke-opacity:1\"/>\n",
       "<path class=\"bond-38 atom-36 atom-39\" d=\"M 300.8,146.3 L 309.8,149.2\" style=\"fill:none;fill-rule:evenodd;stroke:#000000;stroke-width:2.0px;stroke-linecap:butt;stroke-linejoin:miter;stroke-opacity:1\"/>\n",
       "<path class=\"bond-38 atom-36 atom-39\" d=\"M 309.8,149.2 L 318.8,152.2\" style=\"fill:none;fill-rule:evenodd;stroke:#33CCCC;stroke-width:2.0px;stroke-linecap:butt;stroke-linejoin:miter;stroke-opacity:1\"/>\n",
       "<path class=\"bond-39 atom-35 atom-40\" d=\"M 294.0,166.8 L 308.5,183.0\" style=\"fill:none;fill-rule:evenodd;stroke:#000000;stroke-width:2.0px;stroke-linecap:butt;stroke-linejoin:miter;stroke-opacity:1\"/>\n",
       "<path class=\"bond-39 atom-35 atom-40\" d=\"M 293.0,172.1 L 303.1,183.4\" style=\"fill:none;fill-rule:evenodd;stroke:#000000;stroke-width:2.0px;stroke-linecap:butt;stroke-linejoin:miter;stroke-opacity:1\"/>\n",
       "<path class=\"bond-40 atom-40 atom-41\" d=\"M 308.5,183.0 L 301.7,203.5\" style=\"fill:none;fill-rule:evenodd;stroke:#000000;stroke-width:2.0px;stroke-linecap:butt;stroke-linejoin:miter;stroke-opacity:1\"/>\n",
       "<path class=\"bond-41 atom-41 atom-42\" d=\"M 301.7,203.5 L 316.1,219.7\" style=\"fill:none;fill-rule:evenodd;stroke:#000000;stroke-width:2.0px;stroke-linecap:butt;stroke-linejoin:miter;stroke-opacity:1\"/>\n",
       "<path class=\"bond-42 atom-42 atom-43\" d=\"M 316.1,219.7 L 322.1,226.3\" style=\"fill:none;fill-rule:evenodd;stroke:#000000;stroke-width:2.0px;stroke-linecap:butt;stroke-linejoin:miter;stroke-opacity:1\"/>\n",
       "<path class=\"bond-42 atom-42 atom-43\" d=\"M 322.1,226.3 L 328.0,233.0\" style=\"fill:none;fill-rule:evenodd;stroke:#33CCCC;stroke-width:2.0px;stroke-linecap:butt;stroke-linejoin:miter;stroke-opacity:1\"/>\n",
       "<path class=\"bond-43 atom-42 atom-44\" d=\"M 316.1,219.7 L 322.9,213.6\" style=\"fill:none;fill-rule:evenodd;stroke:#000000;stroke-width:2.0px;stroke-linecap:butt;stroke-linejoin:miter;stroke-opacity:1\"/>\n",
       "<path class=\"bond-43 atom-42 atom-44\" d=\"M 322.9,213.6 L 329.7,207.5\" style=\"fill:none;fill-rule:evenodd;stroke:#33CCCC;stroke-width:2.0px;stroke-linecap:butt;stroke-linejoin:miter;stroke-opacity:1\"/>\n",
       "<path class=\"bond-44 atom-42 atom-45\" d=\"M 316.1,219.7 L 309.3,225.7\" style=\"fill:none;fill-rule:evenodd;stroke:#000000;stroke-width:2.0px;stroke-linecap:butt;stroke-linejoin:miter;stroke-opacity:1\"/>\n",
       "<path class=\"bond-44 atom-42 atom-45\" d=\"M 309.3,225.7 L 302.5,231.8\" style=\"fill:none;fill-rule:evenodd;stroke:#33CCCC;stroke-width:2.0px;stroke-linecap:butt;stroke-linejoin:miter;stroke-opacity:1\"/>\n",
       "<path class=\"bond-45 atom-41 atom-46\" d=\"M 301.7,203.5 L 280.5,208.0\" style=\"fill:none;fill-rule:evenodd;stroke:#000000;stroke-width:2.0px;stroke-linecap:butt;stroke-linejoin:miter;stroke-opacity:1\"/>\n",
       "<path class=\"bond-45 atom-41 atom-46\" d=\"M 297.6,200.0 L 282.8,203.1\" style=\"fill:none;fill-rule:evenodd;stroke:#000000;stroke-width:2.0px;stroke-linecap:butt;stroke-linejoin:miter;stroke-opacity:1\"/>\n",
       "<path class=\"bond-46 atom-6 atom-1\" d=\"M 180.4,152.3 L 166.0,136.1\" style=\"fill:none;fill-rule:evenodd;stroke:#000000;stroke-width:2.0px;stroke-linecap:butt;stroke-linejoin:miter;stroke-opacity:1\"/>\n",
       "<path class=\"bond-47 atom-25 atom-7\" d=\"M 188.1,189.0 L 173.7,172.8\" style=\"fill:none;fill-rule:evenodd;stroke:#000000;stroke-width:2.0px;stroke-linecap:butt;stroke-linejoin:miter;stroke-opacity:1\"/>\n",
       "<path class=\"bond-48 atom-46 atom-33\" d=\"M 280.5,208.0 L 266.1,191.8\" style=\"fill:none;fill-rule:evenodd;stroke:#000000;stroke-width:2.0px;stroke-linecap:butt;stroke-linejoin:miter;stroke-opacity:1\"/>\n",
       "<path class=\"bond-49 atom-22 atom-10\" d=\"M 117.8,222.8 L 120.5,214.4\" style=\"fill:none;fill-rule:evenodd;stroke:#000000;stroke-width:2.0px;stroke-linecap:butt;stroke-linejoin:miter;stroke-opacity:1\"/>\n",
       "<path class=\"bond-49 atom-22 atom-10\" d=\"M 120.5,214.4 L 123.3,206.0\" style=\"fill:none;fill-rule:evenodd;stroke:#0000FF;stroke-width:2.0px;stroke-linecap:butt;stroke-linejoin:miter;stroke-opacity:1\"/>\n",
       "<path class=\"atom-10\" d=\"M 123.2 199.2 L 125.2 202.4 Q 125.4 202.7, 125.7 203.3 Q 126.0 203.9, 126.0 203.9 L 126.0 199.2 L 126.9 199.2 L 126.9 205.3 L 126.0 205.3 L 123.9 201.7 Q 123.6 201.3, 123.3 200.8 Q 123.1 200.4, 123.0 200.2 L 123.0 205.3 L 122.2 205.3 L 122.2 199.2 L 123.2 199.2 \" fill=\"#0000FF\"/>\n",
       "<path class=\"atom-13\" d=\"M 80.8 208.0 L 82.8 211.3 Q 83.0 211.6, 83.3 212.2 Q 83.7 212.7, 83.7 212.8 L 83.7 208.0 L 84.5 208.0 L 84.5 214.1 L 83.6 214.1 L 81.5 210.6 Q 81.2 210.2, 81.0 209.7 Q 80.7 209.2, 80.6 209.1 L 80.6 214.1 L 79.8 214.1 L 79.8 208.0 L 80.8 208.0 \" fill=\"#0000FF\"/>\n",
       "<path class=\"atom-13\" d=\"M 85.2 209.1 L 86.3 209.1 L 86.3 208.0 L 86.8 208.0 L 86.8 209.1 L 87.9 209.1 L 87.9 209.5 L 86.8 209.5 L 86.8 210.7 L 86.3 210.7 L 86.3 209.5 L 85.2 209.5 L 85.2 209.1 \" fill=\"#0000FF\"/>\n",
       "<path class=\"atom-16\" d=\"M 59.6 179.2 Q 59.6 177.8, 60.3 176.9 Q 61.0 176.1, 62.4 176.1 Q 63.8 176.1, 64.5 176.9 Q 65.2 177.8, 65.2 179.2 Q 65.2 180.7, 64.5 181.6 Q 63.7 182.4, 62.4 182.4 Q 61.1 182.4, 60.3 181.6 Q 59.6 180.7, 59.6 179.2 M 62.4 181.7 Q 63.3 181.7, 63.8 181.1 Q 64.4 180.5, 64.4 179.2 Q 64.4 178.0, 63.8 177.4 Q 63.3 176.8, 62.4 176.8 Q 61.5 176.8, 61.0 177.4 Q 60.5 178.0, 60.5 179.2 Q 60.5 180.5, 61.0 181.1 Q 61.5 181.7, 62.4 181.7 \" fill=\"#FF0000\"/>\n",
       "<path class=\"atom-17\" d=\"M 43.2 165.9 Q 44.2 165.9, 44.8 166.4 Q 45.3 166.9, 45.3 167.7 Q 45.3 168.6, 44.7 169.0 Q 44.2 169.5, 43.2 169.5 L 42.2 169.5 L 42.2 172.0 L 41.4 172.0 L 41.4 165.9 L 43.2 165.9 M 43.2 168.8 Q 43.8 168.8, 44.1 168.5 Q 44.4 168.3, 44.4 167.7 Q 44.4 167.2, 44.1 166.9 Q 43.8 166.6, 43.2 166.6 L 42.2 166.6 L 42.2 168.8 L 43.2 168.8 \" fill=\"#FF7F00\"/>\n",
       "<path class=\"atom-18\" d=\"M 50.7 149.9 Q 50.7 148.4, 51.5 147.6 Q 52.2 146.8, 53.6 146.8 Q 54.9 146.8, 55.6 147.6 Q 56.4 148.4, 56.4 149.9 Q 56.4 151.4, 55.6 152.3 Q 54.9 153.1, 53.6 153.1 Q 52.2 153.1, 51.5 152.3 Q 50.7 151.4, 50.7 149.9 M 53.6 152.4 Q 54.5 152.4, 55.0 151.8 Q 55.5 151.1, 55.5 149.9 Q 55.5 148.7, 55.0 148.1 Q 54.5 147.5, 53.6 147.5 Q 52.6 147.5, 52.1 148.1 Q 51.6 148.7, 51.6 149.9 Q 51.6 151.2, 52.1 151.8 Q 52.6 152.4, 53.6 152.4 \" fill=\"#FF0000\"/>\n",
       "<path class=\"atom-19\" d=\"M 24.8 185.0 L 25.6 185.0 L 25.6 187.6 L 28.7 187.6 L 28.7 185.0 L 29.5 185.0 L 29.5 191.1 L 28.7 191.1 L 28.7 188.3 L 25.6 188.3 L 25.6 191.1 L 24.8 191.1 L 24.8 185.0 \" fill=\"#FF0000\"/>\n",
       "<path class=\"atom-19\" d=\"M 30.3 188.1 Q 30.3 186.6, 31.0 185.8 Q 31.7 184.9, 33.1 184.9 Q 34.5 184.9, 35.2 185.8 Q 35.9 186.6, 35.9 188.1 Q 35.9 189.6, 35.2 190.4 Q 34.4 191.2, 33.1 191.2 Q 31.7 191.2, 31.0 190.4 Q 30.3 189.6, 30.3 188.1 M 33.1 190.6 Q 34.0 190.6, 34.5 189.9 Q 35.0 189.3, 35.0 188.1 Q 35.0 186.9, 34.5 186.3 Q 34.0 185.6, 33.1 185.6 Q 32.2 185.6, 31.7 186.2 Q 31.2 186.9, 31.2 188.1 Q 31.2 189.3, 31.7 189.9 Q 32.2 190.6, 33.1 190.6 \" fill=\"#FF0000\"/>\n",
       "<path class=\"atom-20\" d=\"M 15.9 155.7 L 16.7 155.7 L 16.7 158.3 L 19.9 158.3 L 19.9 155.7 L 20.7 155.7 L 20.7 161.8 L 19.9 161.8 L 19.9 159.0 L 16.7 159.0 L 16.7 161.8 L 15.9 161.8 L 15.9 155.7 \" fill=\"#FF0000\"/>\n",
       "<path class=\"atom-20\" d=\"M 21.4 158.8 Q 21.4 157.3, 22.2 156.5 Q 22.9 155.6, 24.3 155.6 Q 25.6 155.6, 26.3 156.5 Q 27.1 157.3, 27.1 158.8 Q 27.1 160.3, 26.3 161.1 Q 25.6 161.9, 24.3 161.9 Q 22.9 161.9, 22.2 161.1 Q 21.4 160.3, 21.4 158.8 M 24.3 161.2 Q 25.2 161.2, 25.7 160.6 Q 26.2 160.0, 26.2 158.8 Q 26.2 157.6, 25.7 157.0 Q 25.2 156.3, 24.3 156.3 Q 23.3 156.3, 22.8 156.9 Q 22.3 157.5, 22.3 158.8 Q 22.3 160.0, 22.8 160.6 Q 23.3 161.2, 24.3 161.2 \" fill=\"#FF0000\"/>\n",
       "<path class=\"atom-23\" d=\"M 158.8 210.9 L 160.8 214.1 Q 161.0 214.4, 161.3 215.0 Q 161.6 215.6, 161.7 215.6 L 161.7 210.9 L 162.5 210.9 L 162.5 217.0 L 161.6 217.0 L 159.5 213.5 Q 159.2 213.0, 159.0 212.6 Q 158.7 212.1, 158.6 211.9 L 158.6 217.0 L 157.8 217.0 L 157.8 210.9 L 158.8 210.9 \" fill=\"#0000FF\"/>\n",
       "<path class=\"atom-26\" d=\"M 207.9 181.5 L 209.9 184.7 Q 210.1 185.0, 210.5 185.6 Q 210.8 186.2, 210.8 186.2 L 210.8 181.5 L 211.6 181.5 L 211.6 187.6 L 210.8 187.6 L 208.6 184.0 Q 208.4 183.6, 208.1 183.2 Q 207.8 182.7, 207.8 182.5 L 207.8 187.6 L 207.0 187.6 L 207.0 181.5 L 207.9 181.5 \" fill=\"#0000FF\"/>\n",
       "<path class=\"atom-29\" d=\"M 214.1 221.2 Q 214.1 219.8, 214.9 218.9 Q 215.6 218.1, 217.0 218.1 Q 218.3 218.1, 219.0 218.9 Q 219.8 219.8, 219.8 221.2 Q 219.8 222.7, 219.0 223.6 Q 218.3 224.4, 217.0 224.4 Q 215.6 224.4, 214.9 223.6 Q 214.1 222.7, 214.1 221.2 M 217.0 223.7 Q 217.9 223.7, 218.4 223.1 Q 218.9 222.5, 218.9 221.2 Q 218.9 220.0, 218.4 219.4 Q 217.9 218.8, 217.0 218.8 Q 216.0 218.8, 215.5 219.4 Q 215.0 220.0, 215.0 221.2 Q 215.0 222.5, 215.5 223.1 Q 216.0 223.7, 217.0 223.7 \" fill=\"#FF0000\"/>\n",
       "<path class=\"atom-37\" d=\"M 305.7 122.6 L 309.4 122.6 L 309.4 123.3 L 306.6 123.3 L 306.6 125.2 L 309.1 125.2 L 309.1 125.9 L 306.6 125.9 L 306.6 128.8 L 305.7 128.8 L 305.7 122.6 \" fill=\"#33CCCC\"/>\n",
       "<path class=\"atom-38\" d=\"M 278.4 136.4 L 282.1 136.4 L 282.1 137.1 L 279.2 137.1 L 279.2 139.0 L 281.8 139.0 L 281.8 139.7 L 279.2 139.7 L 279.2 142.6 L 278.4 142.6 L 278.4 136.4 \" fill=\"#33CCCC\"/>\n",
       "<path class=\"atom-39\" d=\"M 319.5 150.0 L 323.2 150.0 L 323.2 150.7 L 320.4 150.7 L 320.4 152.5 L 322.9 152.5 L 322.9 153.2 L 320.4 153.2 L 320.4 156.1 L 319.5 156.1 L 319.5 150.0 \" fill=\"#33CCCC\"/>\n",
       "<path class=\"atom-43\" d=\"M 328.7 232.7 L 332.4 232.7 L 332.4 233.4 L 329.6 233.4 L 329.6 235.3 L 332.1 235.3 L 332.1 236.0 L 329.6 236.0 L 329.6 238.9 L 328.7 238.9 L 328.7 232.7 \" fill=\"#33CCCC\"/>\n",
       "<path class=\"atom-44\" d=\"M 330.4 202.2 L 334.1 202.2 L 334.1 202.9 L 331.3 202.9 L 331.3 204.7 L 333.8 204.7 L 333.8 205.5 L 331.3 205.5 L 331.3 208.3 L 330.4 208.3 L 330.4 202.2 \" fill=\"#33CCCC\"/>\n",
       "<path class=\"atom-45\" d=\"M 298.2 231.0 L 301.8 231.0 L 301.8 231.7 L 299.0 231.7 L 299.0 233.6 L 301.5 233.6 L 301.5 234.3 L 299.0 234.3 L 299.0 237.2 L 298.2 237.2 L 298.2 231.0 \" fill=\"#33CCCC\"/>\n",
       "<path class=\"bond-0 atom-0 atom-1\" d=\"M 494.8,140.5 L 516.0,136.1\" style=\"fill:none;fill-rule:evenodd;stroke:#000000;stroke-width:2.0px;stroke-linecap:butt;stroke-linejoin:miter;stroke-opacity:1\"/>\n",
       "<path class=\"bond-1 atom-1 atom-2\" d=\"M 516.0,136.1 L 522.8,115.6\" style=\"fill:none;fill-rule:evenodd;stroke:#000000;stroke-width:2.0px;stroke-linecap:butt;stroke-linejoin:miter;stroke-opacity:1\"/>\n",
       "<path class=\"bond-1 atom-1 atom-2\" d=\"M 521.1,134.4 L 525.9,120.0\" style=\"fill:none;fill-rule:evenodd;stroke:#000000;stroke-width:2.0px;stroke-linecap:butt;stroke-linejoin:miter;stroke-opacity:1\"/>\n",
       "<path class=\"bond-2 atom-2 atom-3\" d=\"M 522.8,115.6 L 544.0,111.1\" style=\"fill:none;fill-rule:evenodd;stroke:#000000;stroke-width:2.0px;stroke-linecap:butt;stroke-linejoin:miter;stroke-opacity:1\"/>\n",
       "<path class=\"bond-3 atom-3 atom-4\" d=\"M 544.0,111.1 L 558.4,127.3\" style=\"fill:none;fill-rule:evenodd;stroke:#000000;stroke-width:2.0px;stroke-linecap:butt;stroke-linejoin:miter;stroke-opacity:1\"/>\n",
       "<path class=\"bond-3 atom-3 atom-4\" d=\"M 542.9,116.4 L 553.0,127.7\" style=\"fill:none;fill-rule:evenodd;stroke:#000000;stroke-width:2.0px;stroke-linecap:butt;stroke-linejoin:miter;stroke-opacity:1\"/>\n",
       "<path class=\"bond-4 atom-4 atom-5\" d=\"M 558.4,127.3 L 551.6,147.8\" style=\"fill:none;fill-rule:evenodd;stroke:#000000;stroke-width:2.0px;stroke-linecap:butt;stroke-linejoin:miter;stroke-opacity:1\"/>\n",
       "<path class=\"bond-5 atom-5 atom-6\" d=\"M 551.6,147.8 L 530.4,152.3\" style=\"fill:none;fill-rule:evenodd;stroke:#000000;stroke-width:2.0px;stroke-linecap:butt;stroke-linejoin:miter;stroke-opacity:1\"/>\n",
       "<path class=\"bond-5 atom-5 atom-6\" d=\"M 547.6,144.3 L 532.7,147.4\" style=\"fill:none;fill-rule:evenodd;stroke:#000000;stroke-width:2.0px;stroke-linecap:butt;stroke-linejoin:miter;stroke-opacity:1\"/>\n",
       "<path class=\"bond-6 atom-6 atom-7\" d=\"M 530.4,152.3 L 523.7,172.8\" style=\"fill:none;fill-rule:evenodd;stroke:#000000;stroke-width:2.0px;stroke-linecap:butt;stroke-linejoin:miter;stroke-opacity:1\"/>\n",
       "<path class=\"bond-7 atom-7 atom-8\" d=\"M 523.7,172.8 L 502.5,177.2\" style=\"fill:none;fill-rule:evenodd;stroke:#000000;stroke-width:2.0px;stroke-linecap:butt;stroke-linejoin:miter;stroke-opacity:1\"/>\n",
       "<path class=\"bond-7 atom-7 atom-8\" d=\"M 521.4,177.7 L 506.5,180.8\" style=\"fill:none;fill-rule:evenodd;stroke:#000000;stroke-width:2.0px;stroke-linecap:butt;stroke-linejoin:miter;stroke-opacity:1\"/>\n",
       "<path class=\"bond-8 atom-8 atom-9\" d=\"M 502.5,177.2 L 495.7,197.8\" style=\"fill:none;fill-rule:evenodd;stroke:#000000;stroke-width:2.0px;stroke-linecap:butt;stroke-linejoin:miter;stroke-opacity:1\"/>\n",
       "<path class=\"bond-9 atom-9 atom-10\" d=\"M 495.7,197.8 L 486.6,199.7\" style=\"fill:none;fill-rule:evenodd;stroke:#000000;stroke-width:2.0px;stroke-linecap:butt;stroke-linejoin:miter;stroke-opacity:1\"/>\n",
       "<path class=\"bond-9 atom-9 atom-10\" d=\"M 486.6,199.7 L 477.6,201.6\" style=\"fill:none;fill-rule:evenodd;stroke:#0000FF;stroke-width:2.0px;stroke-linecap:butt;stroke-linejoin:miter;stroke-opacity:1\"/>\n",
       "<path class=\"bond-10 atom-10 atom-11\" d=\"M 471.5,198.8 L 465.8,192.5\" style=\"fill:none;fill-rule:evenodd;stroke:#0000FF;stroke-width:2.0px;stroke-linecap:butt;stroke-linejoin:miter;stroke-opacity:1\"/>\n",
       "<path class=\"bond-10 atom-10 atom-11\" d=\"M 465.8,192.5 L 460.1,186.1\" style=\"fill:none;fill-rule:evenodd;stroke:#000000;stroke-width:2.0px;stroke-linecap:butt;stroke-linejoin:miter;stroke-opacity:1\"/>\n",
       "<path class=\"bond-11 atom-11 atom-12\" d=\"M 460.1,186.1 L 438.9,190.5\" style=\"fill:none;fill-rule:evenodd;stroke:#000000;stroke-width:2.0px;stroke-linecap:butt;stroke-linejoin:miter;stroke-opacity:1\"/>\n",
       "<path class=\"bond-12 atom-12 atom-13\" d=\"M 438.9,190.5 L 436.2,198.9\" style=\"fill:none;fill-rule:evenodd;stroke:#000000;stroke-width:2.0px;stroke-linecap:butt;stroke-linejoin:miter;stroke-opacity:1\"/>\n",
       "<path class=\"bond-12 atom-12 atom-13\" d=\"M 436.2,198.9 L 433.4,207.3\" style=\"fill:none;fill-rule:evenodd;stroke:#0000FF;stroke-width:2.0px;stroke-linecap:butt;stroke-linejoin:miter;stroke-opacity:1\"/>\n",
       "<path class=\"bond-13 atom-13 atom-14\" d=\"M 429.2,214.9 L 424.0,221.5\" style=\"fill:none;fill-rule:evenodd;stroke:#0000FF;stroke-width:2.0px;stroke-linecap:butt;stroke-linejoin:miter;stroke-opacity:1\"/>\n",
       "<path class=\"bond-13 atom-13 atom-14\" d=\"M 424.0,221.5 L 418.8,228.1\" style=\"fill:none;fill-rule:evenodd;stroke:#000000;stroke-width:2.0px;stroke-linecap:butt;stroke-linejoin:miter;stroke-opacity:1\"/>\n",
       "<path class=\"bond-14 atom-13 atom-15\" d=\"M 429.1,209.4 L 421.1,205.1\" style=\"fill:none;fill-rule:evenodd;stroke:#0000FF;stroke-width:2.0px;stroke-linecap:butt;stroke-linejoin:miter;stroke-opacity:1\"/>\n",
       "<path class=\"bond-14 atom-13 atom-15\" d=\"M 421.1,205.1 L 413.1,200.8\" style=\"fill:none;fill-rule:evenodd;stroke:#000000;stroke-width:2.0px;stroke-linecap:butt;stroke-linejoin:miter;stroke-opacity:1\"/>\n",
       "<path class=\"bond-15 atom-15 atom-16\" d=\"M 413.1,200.8 L 412.8,192.0\" style=\"fill:none;fill-rule:evenodd;stroke:#000000;stroke-width:2.0px;stroke-linecap:butt;stroke-linejoin:miter;stroke-opacity:1\"/>\n",
       "<path class=\"bond-15 atom-15 atom-16\" d=\"M 412.8,192.0 L 412.5,183.1\" style=\"fill:none;fill-rule:evenodd;stroke:#FF0000;stroke-width:2.0px;stroke-linecap:butt;stroke-linejoin:miter;stroke-opacity:1\"/>\n",
       "<path class=\"bond-16 atom-16 atom-17\" d=\"M 408.9,177.3 L 402.4,173.9\" style=\"fill:none;fill-rule:evenodd;stroke:#FF0000;stroke-width:2.0px;stroke-linecap:butt;stroke-linejoin:miter;stroke-opacity:1\"/>\n",
       "<path class=\"bond-16 atom-16 atom-17\" d=\"M 402.4,173.9 L 396.0,170.4\" style=\"fill:none;fill-rule:evenodd;stroke:#FF7F00;stroke-width:2.0px;stroke-linecap:butt;stroke-linejoin:miter;stroke-opacity:1\"/>\n",
       "<path class=\"bond-17 atom-17 atom-18\" d=\"M 393.5,164.2 L 396.5,158.5\" style=\"fill:none;fill-rule:evenodd;stroke:#FF7F00;stroke-width:2.0px;stroke-linecap:butt;stroke-linejoin:miter;stroke-opacity:1\"/>\n",
       "<path class=\"bond-17 atom-17 atom-18\" d=\"M 396.5,158.5 L 399.6,152.8\" style=\"fill:none;fill-rule:evenodd;stroke:#FF0000;stroke-width:2.0px;stroke-linecap:butt;stroke-linejoin:miter;stroke-opacity:1\"/>\n",
       "<path class=\"bond-17 atom-17 atom-18\" d=\"M 397.3,166.2 L 400.3,160.5\" style=\"fill:none;fill-rule:evenodd;stroke:#FF7F00;stroke-width:2.0px;stroke-linecap:butt;stroke-linejoin:miter;stroke-opacity:1\"/>\n",
       "<path class=\"bond-17 atom-17 atom-18\" d=\"M 400.3,160.5 L 403.4,154.8\" style=\"fill:none;fill-rule:evenodd;stroke:#FF0000;stroke-width:2.0px;stroke-linecap:butt;stroke-linejoin:miter;stroke-opacity:1\"/>\n",
       "<path class=\"bond-18 atom-17 atom-19\" d=\"M 391.3,172.8 L 388.2,178.5\" style=\"fill:none;fill-rule:evenodd;stroke:#FF7F00;stroke-width:2.0px;stroke-linecap:butt;stroke-linejoin:miter;stroke-opacity:1\"/>\n",
       "<path class=\"bond-18 atom-17 atom-19\" d=\"M 388.2,178.5 L 385.1,184.2\" style=\"fill:none;fill-rule:evenodd;stroke:#FF0000;stroke-width:2.0px;stroke-linecap:butt;stroke-linejoin:miter;stroke-opacity:1\"/>\n",
       "<path class=\"bond-19 atom-17 atom-20\" d=\"M 390.7,167.5 L 384.2,164.1\" style=\"fill:none;fill-rule:evenodd;stroke:#FF7F00;stroke-width:2.0px;stroke-linecap:butt;stroke-linejoin:miter;stroke-opacity:1\"/>\n",
       "<path class=\"bond-19 atom-17 atom-20\" d=\"M 384.2,164.1 L 377.8,160.6\" style=\"fill:none;fill-rule:evenodd;stroke:#FF0000;stroke-width:2.0px;stroke-linecap:butt;stroke-linejoin:miter;stroke-opacity:1\"/>\n",
       "<path class=\"bond-20 atom-13 atom-21\" d=\"M 435.2,214.5 L 440.9,220.8\" style=\"fill:none;fill-rule:evenodd;stroke:#0000FF;stroke-width:2.0px;stroke-linecap:butt;stroke-linejoin:miter;stroke-opacity:1\"/>\n",
       "<path class=\"bond-20 atom-13 atom-21\" d=\"M 440.9,220.8 L 446.6,227.2\" style=\"fill:none;fill-rule:evenodd;stroke:#000000;stroke-width:2.0px;stroke-linecap:butt;stroke-linejoin:miter;stroke-opacity:1\"/>\n",
       "<path class=\"bond-21 atom-21 atom-22\" d=\"M 446.6,227.2 L 467.8,222.8\" style=\"fill:none;fill-rule:evenodd;stroke:#000000;stroke-width:2.0px;stroke-linecap:butt;stroke-linejoin:miter;stroke-opacity:1\"/>\n",
       "<path class=\"bond-22 atom-9 atom-23\" d=\"M 495.7,197.8 L 501.4,204.2\" style=\"fill:none;fill-rule:evenodd;stroke:#000000;stroke-width:2.0px;stroke-linecap:butt;stroke-linejoin:miter;stroke-opacity:1\"/>\n",
       "<path class=\"bond-22 atom-9 atom-23\" d=\"M 501.4,204.2 L 507.1,210.5\" style=\"fill:none;fill-rule:evenodd;stroke:#0000FF;stroke-width:2.0px;stroke-linecap:butt;stroke-linejoin:miter;stroke-opacity:1\"/>\n",
       "<path class=\"bond-22 atom-9 atom-23\" d=\"M 500.7,196.8 L 504.6,201.3\" style=\"fill:none;fill-rule:evenodd;stroke:#000000;stroke-width:2.0px;stroke-linecap:butt;stroke-linejoin:miter;stroke-opacity:1\"/>\n",
       "<path class=\"bond-22 atom-9 atom-23\" d=\"M 504.6,201.3 L 508.6,205.7\" style=\"fill:none;fill-rule:evenodd;stroke:#0000FF;stroke-width:2.0px;stroke-linecap:butt;stroke-linejoin:miter;stroke-opacity:1\"/>\n",
       "<path class=\"bond-23 atom-23 atom-24\" d=\"M 513.2,213.3 L 522.3,211.4\" style=\"fill:none;fill-rule:evenodd;stroke:#0000FF;stroke-width:2.0px;stroke-linecap:butt;stroke-linejoin:miter;stroke-opacity:1\"/>\n",
       "<path class=\"bond-23 atom-23 atom-24\" d=\"M 522.3,211.4 L 531.3,209.5\" style=\"fill:none;fill-rule:evenodd;stroke:#000000;stroke-width:2.0px;stroke-linecap:butt;stroke-linejoin:miter;stroke-opacity:1\"/>\n",
       "<path class=\"bond-24 atom-24 atom-25\" d=\"M 531.3,209.5 L 538.1,189.0\" style=\"fill:none;fill-rule:evenodd;stroke:#000000;stroke-width:2.0px;stroke-linecap:butt;stroke-linejoin:miter;stroke-opacity:1\"/>\n",
       "<path class=\"bond-24 atom-24 atom-25\" d=\"M 528.2,205.1 L 533.0,190.7\" style=\"fill:none;fill-rule:evenodd;stroke:#000000;stroke-width:2.0px;stroke-linecap:butt;stroke-linejoin:miter;stroke-opacity:1\"/>\n",
       "<path class=\"bond-25 atom-25 atom-26\" d=\"M 538.1,189.0 L 547.2,187.1\" style=\"fill:none;fill-rule:evenodd;stroke:#000000;stroke-width:2.0px;stroke-linecap:butt;stroke-linejoin:miter;stroke-opacity:1\"/>\n",
       "<path class=\"bond-25 atom-25 atom-26\" d=\"M 547.2,187.1 L 556.2,185.2\" style=\"fill:none;fill-rule:evenodd;stroke:#0000FF;stroke-width:2.0px;stroke-linecap:butt;stroke-linejoin:miter;stroke-opacity:1\"/>\n",
       "<path class=\"bond-26 atom-26 atom-27\" d=\"M 560.5,180.7 L 563.3,172.4\" style=\"fill:none;fill-rule:evenodd;stroke:#0000FF;stroke-width:2.0px;stroke-linecap:butt;stroke-linejoin:miter;stroke-opacity:1\"/>\n",
       "<path class=\"bond-26 atom-26 atom-27\" d=\"M 563.3,172.4 L 566.1,164.0\" style=\"fill:none;fill-rule:evenodd;stroke:#000000;stroke-width:2.0px;stroke-linecap:butt;stroke-linejoin:miter;stroke-opacity:1\"/>\n",
       "<path class=\"bond-27 atom-26 atom-28\" d=\"M 562.3,187.9 L 568.0,194.3\" style=\"fill:none;fill-rule:evenodd;stroke:#0000FF;stroke-width:2.0px;stroke-linecap:butt;stroke-linejoin:miter;stroke-opacity:1\"/>\n",
       "<path class=\"bond-27 atom-26 atom-28\" d=\"M 568.0,194.3 L 573.7,200.7\" style=\"fill:none;fill-rule:evenodd;stroke:#000000;stroke-width:2.0px;stroke-linecap:butt;stroke-linejoin:miter;stroke-opacity:1\"/>\n",
       "<path class=\"bond-28 atom-28 atom-29\" d=\"M 575.8,201.3 L 573.0,209.7\" style=\"fill:none;fill-rule:evenodd;stroke:#000000;stroke-width:2.0px;stroke-linecap:butt;stroke-linejoin:miter;stroke-opacity:1\"/>\n",
       "<path class=\"bond-28 atom-28 atom-29\" d=\"M 573.0,209.7 L 570.3,218.1\" style=\"fill:none;fill-rule:evenodd;stroke:#FF0000;stroke-width:2.0px;stroke-linecap:butt;stroke-linejoin:miter;stroke-opacity:1\"/>\n",
       "<path class=\"bond-28 atom-28 atom-29\" d=\"M 571.7,200.0 L 568.9,208.4\" style=\"fill:none;fill-rule:evenodd;stroke:#000000;stroke-width:2.0px;stroke-linecap:butt;stroke-linejoin:miter;stroke-opacity:1\"/>\n",
       "<path class=\"bond-28 atom-28 atom-29\" d=\"M 568.9,208.4 L 566.1,216.7\" style=\"fill:none;fill-rule:evenodd;stroke:#FF0000;stroke-width:2.0px;stroke-linecap:butt;stroke-linejoin:miter;stroke-opacity:1\"/>\n",
       "<path class=\"bond-29 atom-28 atom-30\" d=\"M 573.7,200.7 L 594.9,196.2\" style=\"fill:none;fill-rule:evenodd;stroke:#000000;stroke-width:2.0px;stroke-linecap:butt;stroke-linejoin:miter;stroke-opacity:1\"/>\n",
       "<path class=\"bond-30 atom-30 atom-31\" d=\"M 594.9,196.2 L 599.3,217.4\" style=\"fill:none;fill-rule:evenodd;stroke:#000000;stroke-width:2.0px;stroke-linecap:butt;stroke-linejoin:miter;stroke-opacity:1\"/>\n",
       "<path class=\"bond-31 atom-30 atom-32\" d=\"M 594.9,196.2 L 590.5,175.1\" style=\"fill:none;fill-rule:evenodd;stroke:#000000;stroke-width:2.0px;stroke-linecap:butt;stroke-linejoin:miter;stroke-opacity:1\"/>\n",
       "<path class=\"bond-32 atom-30 atom-33\" d=\"M 594.9,196.2 L 616.1,191.8\" style=\"fill:none;fill-rule:evenodd;stroke:#000000;stroke-width:2.0px;stroke-linecap:butt;stroke-linejoin:miter;stroke-opacity:1\"/>\n",
       "<path class=\"bond-33 atom-33 atom-34\" d=\"M 616.1,191.8 L 622.9,171.3\" style=\"fill:none;fill-rule:evenodd;stroke:#000000;stroke-width:2.0px;stroke-linecap:butt;stroke-linejoin:miter;stroke-opacity:1\"/>\n",
       "<path class=\"bond-33 atom-33 atom-34\" d=\"M 621.2,190.1 L 626.0,175.7\" style=\"fill:none;fill-rule:evenodd;stroke:#000000;stroke-width:2.0px;stroke-linecap:butt;stroke-linejoin:miter;stroke-opacity:1\"/>\n",
       "<path class=\"bond-34 atom-34 atom-35\" d=\"M 622.9,171.3 L 644.0,166.8\" style=\"fill:none;fill-rule:evenodd;stroke:#000000;stroke-width:2.0px;stroke-linecap:butt;stroke-linejoin:miter;stroke-opacity:1\"/>\n",
       "<path class=\"bond-35 atom-35 atom-36\" d=\"M 644.0,166.8 L 650.8,146.3\" style=\"fill:none;fill-rule:evenodd;stroke:#000000;stroke-width:2.0px;stroke-linecap:butt;stroke-linejoin:miter;stroke-opacity:1\"/>\n",
       "<path class=\"bond-36 atom-36 atom-37\" d=\"M 650.8,146.3 L 653.6,137.9\" style=\"fill:none;fill-rule:evenodd;stroke:#000000;stroke-width:2.0px;stroke-linecap:butt;stroke-linejoin:miter;stroke-opacity:1\"/>\n",
       "<path class=\"bond-36 atom-36 atom-37\" d=\"M 653.6,137.9 L 656.3,129.5\" style=\"fill:none;fill-rule:evenodd;stroke:#33CCCC;stroke-width:2.0px;stroke-linecap:butt;stroke-linejoin:miter;stroke-opacity:1\"/>\n",
       "<path class=\"bond-37 atom-36 atom-38\" d=\"M 650.8,146.3 L 641.8,143.3\" style=\"fill:none;fill-rule:evenodd;stroke:#000000;stroke-width:2.0px;stroke-linecap:butt;stroke-linejoin:miter;stroke-opacity:1\"/>\n",
       "<path class=\"bond-37 atom-36 atom-38\" d=\"M 641.8,143.3 L 632.8,140.3\" style=\"fill:none;fill-rule:evenodd;stroke:#33CCCC;stroke-width:2.0px;stroke-linecap:butt;stroke-linejoin:miter;stroke-opacity:1\"/>\n",
       "<path class=\"bond-38 atom-36 atom-39\" d=\"M 650.8,146.3 L 659.8,149.2\" style=\"fill:none;fill-rule:evenodd;stroke:#000000;stroke-width:2.0px;stroke-linecap:butt;stroke-linejoin:miter;stroke-opacity:1\"/>\n",
       "<path class=\"bond-38 atom-36 atom-39\" d=\"M 659.8,149.2 L 668.8,152.2\" style=\"fill:none;fill-rule:evenodd;stroke:#33CCCC;stroke-width:2.0px;stroke-linecap:butt;stroke-linejoin:miter;stroke-opacity:1\"/>\n",
       "<path class=\"bond-39 atom-35 atom-40\" d=\"M 644.0,166.8 L 658.5,183.0\" style=\"fill:none;fill-rule:evenodd;stroke:#000000;stroke-width:2.0px;stroke-linecap:butt;stroke-linejoin:miter;stroke-opacity:1\"/>\n",
       "<path class=\"bond-39 atom-35 atom-40\" d=\"M 643.0,172.1 L 653.1,183.4\" style=\"fill:none;fill-rule:evenodd;stroke:#000000;stroke-width:2.0px;stroke-linecap:butt;stroke-linejoin:miter;stroke-opacity:1\"/>\n",
       "<path class=\"bond-40 atom-40 atom-41\" d=\"M 658.5,183.0 L 651.7,203.5\" style=\"fill:none;fill-rule:evenodd;stroke:#000000;stroke-width:2.0px;stroke-linecap:butt;stroke-linejoin:miter;stroke-opacity:1\"/>\n",
       "<path class=\"bond-41 atom-41 atom-42\" d=\"M 651.7,203.5 L 666.1,219.7\" style=\"fill:none;fill-rule:evenodd;stroke:#000000;stroke-width:2.0px;stroke-linecap:butt;stroke-linejoin:miter;stroke-opacity:1\"/>\n",
       "<path class=\"bond-42 atom-42 atom-43\" d=\"M 666.1,219.7 L 672.1,226.3\" style=\"fill:none;fill-rule:evenodd;stroke:#000000;stroke-width:2.0px;stroke-linecap:butt;stroke-linejoin:miter;stroke-opacity:1\"/>\n",
       "<path class=\"bond-42 atom-42 atom-43\" d=\"M 672.1,226.3 L 678.0,233.0\" style=\"fill:none;fill-rule:evenodd;stroke:#33CCCC;stroke-width:2.0px;stroke-linecap:butt;stroke-linejoin:miter;stroke-opacity:1\"/>\n",
       "<path class=\"bond-43 atom-42 atom-44\" d=\"M 666.1,219.7 L 672.9,213.6\" style=\"fill:none;fill-rule:evenodd;stroke:#000000;stroke-width:2.0px;stroke-linecap:butt;stroke-linejoin:miter;stroke-opacity:1\"/>\n",
       "<path class=\"bond-43 atom-42 atom-44\" d=\"M 672.9,213.6 L 679.7,207.5\" style=\"fill:none;fill-rule:evenodd;stroke:#33CCCC;stroke-width:2.0px;stroke-linecap:butt;stroke-linejoin:miter;stroke-opacity:1\"/>\n",
       "<path class=\"bond-44 atom-42 atom-45\" d=\"M 666.1,219.7 L 659.3,225.7\" style=\"fill:none;fill-rule:evenodd;stroke:#000000;stroke-width:2.0px;stroke-linecap:butt;stroke-linejoin:miter;stroke-opacity:1\"/>\n",
       "<path class=\"bond-44 atom-42 atom-45\" d=\"M 659.3,225.7 L 652.5,231.8\" style=\"fill:none;fill-rule:evenodd;stroke:#33CCCC;stroke-width:2.0px;stroke-linecap:butt;stroke-linejoin:miter;stroke-opacity:1\"/>\n",
       "<path class=\"bond-45 atom-41 atom-46\" d=\"M 651.7,203.5 L 630.5,208.0\" style=\"fill:none;fill-rule:evenodd;stroke:#000000;stroke-width:2.0px;stroke-linecap:butt;stroke-linejoin:miter;stroke-opacity:1\"/>\n",
       "<path class=\"bond-45 atom-41 atom-46\" d=\"M 647.6,200.0 L 632.8,203.1\" style=\"fill:none;fill-rule:evenodd;stroke:#000000;stroke-width:2.0px;stroke-linecap:butt;stroke-linejoin:miter;stroke-opacity:1\"/>\n",
       "<path class=\"bond-46 atom-6 atom-1\" d=\"M 530.4,152.3 L 516.0,136.1\" style=\"fill:none;fill-rule:evenodd;stroke:#000000;stroke-width:2.0px;stroke-linecap:butt;stroke-linejoin:miter;stroke-opacity:1\"/>\n",
       "<path class=\"bond-47 atom-25 atom-7\" d=\"M 538.1,189.0 L 523.7,172.8\" style=\"fill:none;fill-rule:evenodd;stroke:#000000;stroke-width:2.0px;stroke-linecap:butt;stroke-linejoin:miter;stroke-opacity:1\"/>\n",
       "<path class=\"bond-48 atom-46 atom-33\" d=\"M 630.5,208.0 L 616.1,191.8\" style=\"fill:none;fill-rule:evenodd;stroke:#000000;stroke-width:2.0px;stroke-linecap:butt;stroke-linejoin:miter;stroke-opacity:1\"/>\n",
       "<path class=\"bond-49 atom-22 atom-10\" d=\"M 467.8,222.8 L 470.5,214.4\" style=\"fill:none;fill-rule:evenodd;stroke:#000000;stroke-width:2.0px;stroke-linecap:butt;stroke-linejoin:miter;stroke-opacity:1\"/>\n",
       "<path class=\"bond-49 atom-22 atom-10\" d=\"M 470.5,214.4 L 473.3,206.0\" style=\"fill:none;fill-rule:evenodd;stroke:#0000FF;stroke-width:2.0px;stroke-linecap:butt;stroke-linejoin:miter;stroke-opacity:1\"/>\n",
       "<path class=\"atom-10\" d=\"M 473.2 199.2 L 475.2 202.4 Q 475.4 202.7, 475.7 203.3 Q 476.0 203.9, 476.0 203.9 L 476.0 199.2 L 476.9 199.2 L 476.9 205.3 L 476.0 205.3 L 473.9 201.7 Q 473.6 201.3, 473.3 200.8 Q 473.1 200.4, 473.0 200.2 L 473.0 205.3 L 472.2 205.3 L 472.2 199.2 L 473.2 199.2 \" fill=\"#0000FF\"/>\n",
       "<path class=\"atom-13\" d=\"M 430.8 208.0 L 432.8 211.3 Q 433.0 211.6, 433.3 212.2 Q 433.7 212.7, 433.7 212.8 L 433.7 208.0 L 434.5 208.0 L 434.5 214.1 L 433.6 214.1 L 431.5 210.6 Q 431.2 210.2, 431.0 209.7 Q 430.7 209.2, 430.6 209.1 L 430.6 214.1 L 429.8 214.1 L 429.8 208.0 L 430.8 208.0 \" fill=\"#0000FF\"/>\n",
       "<path class=\"atom-13\" d=\"M 435.2 209.1 L 436.3 209.1 L 436.3 208.0 L 436.8 208.0 L 436.8 209.1 L 437.9 209.1 L 437.9 209.5 L 436.8 209.5 L 436.8 210.7 L 436.3 210.7 L 436.3 209.5 L 435.2 209.5 L 435.2 209.1 \" fill=\"#0000FF\"/>\n",
       "<path class=\"atom-16\" d=\"M 409.6 179.2 Q 409.6 177.8, 410.3 176.9 Q 411.0 176.1, 412.4 176.1 Q 413.8 176.1, 414.5 176.9 Q 415.2 177.8, 415.2 179.2 Q 415.2 180.7, 414.5 181.6 Q 413.7 182.4, 412.4 182.4 Q 411.1 182.4, 410.3 181.6 Q 409.6 180.7, 409.6 179.2 M 412.4 181.7 Q 413.3 181.7, 413.8 181.1 Q 414.4 180.5, 414.4 179.2 Q 414.4 178.0, 413.8 177.4 Q 413.3 176.8, 412.4 176.8 Q 411.5 176.8, 411.0 177.4 Q 410.5 178.0, 410.5 179.2 Q 410.5 180.5, 411.0 181.1 Q 411.5 181.7, 412.4 181.7 \" fill=\"#FF0000\"/>\n",
       "<path class=\"atom-17\" d=\"M 393.2 165.9 Q 394.2 165.9, 394.8 166.4 Q 395.3 166.9, 395.3 167.7 Q 395.3 168.6, 394.7 169.0 Q 394.2 169.5, 393.2 169.5 L 392.2 169.5 L 392.2 172.0 L 391.4 172.0 L 391.4 165.9 L 393.2 165.9 M 393.2 168.8 Q 393.8 168.8, 394.1 168.5 Q 394.4 168.3, 394.4 167.7 Q 394.4 167.2, 394.1 166.9 Q 393.8 166.6, 393.2 166.6 L 392.2 166.6 L 392.2 168.8 L 393.2 168.8 \" fill=\"#FF7F00\"/>\n",
       "<path class=\"atom-18\" d=\"M 400.7 149.9 Q 400.7 148.4, 401.5 147.6 Q 402.2 146.8, 403.6 146.8 Q 404.9 146.8, 405.6 147.6 Q 406.4 148.4, 406.4 149.9 Q 406.4 151.4, 405.6 152.3 Q 404.9 153.1, 403.6 153.1 Q 402.2 153.1, 401.5 152.3 Q 400.7 151.4, 400.7 149.9 M 403.6 152.4 Q 404.5 152.4, 405.0 151.8 Q 405.5 151.1, 405.5 149.9 Q 405.5 148.7, 405.0 148.1 Q 404.5 147.5, 403.6 147.5 Q 402.6 147.5, 402.1 148.1 Q 401.6 148.7, 401.6 149.9 Q 401.6 151.2, 402.1 151.8 Q 402.6 152.4, 403.6 152.4 \" fill=\"#FF0000\"/>\n",
       "<path class=\"atom-19\" d=\"M 380.3 188.1 Q 380.3 186.6, 381.0 185.8 Q 381.7 184.9, 383.1 184.9 Q 384.5 184.9, 385.2 185.8 Q 385.9 186.6, 385.9 188.1 Q 385.9 189.6, 385.2 190.4 Q 384.4 191.2, 383.1 191.2 Q 381.7 191.2, 381.0 190.4 Q 380.3 189.6, 380.3 188.1 M 383.1 190.6 Q 384.0 190.6, 384.5 189.9 Q 385.0 189.3, 385.0 188.1 Q 385.0 186.9, 384.5 186.3 Q 384.0 185.6, 383.1 185.6 Q 382.2 185.6, 381.7 186.2 Q 381.2 186.9, 381.2 188.1 Q 381.2 189.3, 381.7 189.9 Q 382.2 190.6, 383.1 190.6 \" fill=\"#FF0000\"/>\n",
       "<path class=\"atom-19\" d=\"M 386.3 186.0 L 388.4 186.0 L 388.4 186.4 L 386.3 186.4 L 386.3 186.0 \" fill=\"#FF0000\"/>\n",
       "<path class=\"atom-20\" d=\"M 365.9 155.7 L 366.7 155.7 L 366.7 158.3 L 369.9 158.3 L 369.9 155.7 L 370.7 155.7 L 370.7 161.8 L 369.9 161.8 L 369.9 159.0 L 366.7 159.0 L 366.7 161.8 L 365.9 161.8 L 365.9 155.7 \" fill=\"#FF0000\"/>\n",
       "<path class=\"atom-20\" d=\"M 371.4 158.8 Q 371.4 157.3, 372.2 156.5 Q 372.9 155.6, 374.3 155.6 Q 375.6 155.6, 376.3 156.5 Q 377.1 157.3, 377.1 158.8 Q 377.1 160.3, 376.3 161.1 Q 375.6 161.9, 374.3 161.9 Q 372.9 161.9, 372.2 161.1 Q 371.4 160.3, 371.4 158.8 M 374.3 161.2 Q 375.2 161.2, 375.7 160.6 Q 376.2 160.0, 376.2 158.8 Q 376.2 157.6, 375.7 157.0 Q 375.2 156.3, 374.3 156.3 Q 373.3 156.3, 372.8 156.9 Q 372.3 157.5, 372.3 158.8 Q 372.3 160.0, 372.8 160.6 Q 373.3 161.2, 374.3 161.2 \" fill=\"#FF0000\"/>\n",
       "<path class=\"atom-23\" d=\"M 508.8 210.9 L 510.8 214.1 Q 511.0 214.4, 511.3 215.0 Q 511.6 215.6, 511.7 215.6 L 511.7 210.9 L 512.5 210.9 L 512.5 217.0 L 511.6 217.0 L 509.5 213.5 Q 509.2 213.0, 509.0 212.6 Q 508.7 212.1, 508.6 211.9 L 508.6 217.0 L 507.8 217.0 L 507.8 210.9 L 508.8 210.9 \" fill=\"#0000FF\"/>\n",
       "<path class=\"atom-26\" d=\"M 557.9 181.5 L 559.9 184.7 Q 560.1 185.0, 560.5 185.6 Q 560.8 186.2, 560.8 186.2 L 560.8 181.5 L 561.6 181.5 L 561.6 187.6 L 560.8 187.6 L 558.6 184.0 Q 558.4 183.6, 558.1 183.2 Q 557.8 182.7, 557.8 182.5 L 557.8 187.6 L 557.0 187.6 L 557.0 181.5 L 557.9 181.5 \" fill=\"#0000FF\"/>\n",
       "<path class=\"atom-29\" d=\"M 564.1 221.2 Q 564.1 219.8, 564.9 218.9 Q 565.6 218.1, 567.0 218.1 Q 568.3 218.1, 569.0 218.9 Q 569.8 219.8, 569.8 221.2 Q 569.8 222.7, 569.0 223.6 Q 568.3 224.4, 567.0 224.4 Q 565.6 224.4, 564.9 223.6 Q 564.1 222.7, 564.1 221.2 M 567.0 223.7 Q 567.9 223.7, 568.4 223.1 Q 568.9 222.5, 568.9 221.2 Q 568.9 220.0, 568.4 219.4 Q 567.9 218.8, 567.0 218.8 Q 566.0 218.8, 565.5 219.4 Q 565.0 220.0, 565.0 221.2 Q 565.0 222.5, 565.5 223.1 Q 566.0 223.7, 567.0 223.7 \" fill=\"#FF0000\"/>\n",
       "<path class=\"atom-37\" d=\"M 655.7 122.6 L 659.4 122.6 L 659.4 123.3 L 656.6 123.3 L 656.6 125.2 L 659.1 125.2 L 659.1 125.9 L 656.6 125.9 L 656.6 128.8 L 655.7 128.8 L 655.7 122.6 \" fill=\"#33CCCC\"/>\n",
       "<path class=\"atom-38\" d=\"M 628.4 136.4 L 632.1 136.4 L 632.1 137.1 L 629.2 137.1 L 629.2 139.0 L 631.8 139.0 L 631.8 139.7 L 629.2 139.7 L 629.2 142.6 L 628.4 142.6 L 628.4 136.4 \" fill=\"#33CCCC\"/>\n",
       "<path class=\"atom-39\" d=\"M 669.5 150.0 L 673.2 150.0 L 673.2 150.7 L 670.4 150.7 L 670.4 152.5 L 672.9 152.5 L 672.9 153.2 L 670.4 153.2 L 670.4 156.1 L 669.5 156.1 L 669.5 150.0 \" fill=\"#33CCCC\"/>\n",
       "<path class=\"atom-43\" d=\"M 678.7 232.7 L 682.4 232.7 L 682.4 233.4 L 679.6 233.4 L 679.6 235.3 L 682.1 235.3 L 682.1 236.0 L 679.6 236.0 L 679.6 238.9 L 678.7 238.9 L 678.7 232.7 \" fill=\"#33CCCC\"/>\n",
       "<path class=\"atom-44\" d=\"M 680.4 202.2 L 684.1 202.2 L 684.1 202.9 L 681.3 202.9 L 681.3 204.7 L 683.8 204.7 L 683.8 205.5 L 681.3 205.5 L 681.3 208.3 L 680.4 208.3 L 680.4 202.2 \" fill=\"#33CCCC\"/>\n",
       "<path class=\"atom-45\" d=\"M 648.2 231.0 L 651.8 231.0 L 651.8 231.7 L 649.0 231.7 L 649.0 233.6 L 651.5 233.6 L 651.5 234.3 L 649.0 234.3 L 649.0 237.2 L 648.2 237.2 L 648.2 231.0 \" fill=\"#33CCCC\"/>\n",
       "</svg>"
      ],
      "text/plain": [
       "<IPython.core.display.SVG object>"
      ]
     },
     "execution_count": 65,
     "metadata": {},
     "output_type": "execute_result"
    }
   ],
   "source": [
    "dupe_mol_list = [Chem.MolFromSmiles(x) for x in dupe_inchi_df.std_smiles]\n",
    "MolsToGridImage(dupe_mol_list, useSVG=True, subImgSize=(350, 350))"
   ]
  },
  {
   "cell_type": "markdown",
   "id": "6ff5c9e9",
   "metadata": {
    "pycharm": {
     "name": "#%% md\n"
    }
   },
   "source": [
    "In order to clean things up a bit, we can drop the duplicate record. "
   ]
  },
  {
   "cell_type": "code",
   "execution_count": 66,
   "id": "d2b90bb8",
   "metadata": {
    "pycharm": {
     "name": "#%%\n"
    }
   },
   "outputs": [
    {
     "data": {
      "text/plain": [
       "1033"
      ]
     },
     "execution_count": 66,
     "metadata": {},
     "output_type": "execute_result"
    }
   ],
   "source": [
    "df_final_drug = df_oral_ok_nodupe.sort_values(\"first_approval\").drop_duplicates(\"inchi\").copy()\n",
    "len(df_final_drug)"
   ]
  },
  {
   "cell_type": "markdown",
   "id": "d59f9d8d",
   "metadata": {
    "pycharm": {
     "name": "#%% md\n"
    }
   },
   "source": [
    "### 4. Divide the ChEMBL data into three groups, before 1997, 1997-2017, after 2017\n",
    "\n",
    "Now that we have a clean datset, we can do some analysis.  We'll start dividing the data into three sets based on the first approval year.  To do this we'll use the criteria defined in a 2023 paper by [Hartung, Webb, and Crespo](https://www.nature.com/articles/s41570-022-00451-0). Note how the Pandas cut function makes it easy to bin the data. "
   ]
  },
  {
   "cell_type": "code",
   "execution_count": 67,
   "id": "31edb73d",
   "metadata": {
    "pycharm": {
     "name": "#%%\n"
    }
   },
   "outputs": [],
   "source": [
    "df_final_drug['era'] = pd.cut(df_final_drug.first_approval, [0, 1996, 2017, 5000],\n",
    "                              labels=[\"before 1997\", \"1997-2017\", \"after 2017\"])"
   ]
  },
  {
   "cell_type": "code",
   "execution_count": 68,
   "id": "7ccfb80e",
   "metadata": {
    "pycharm": {
     "name": "#%%\n"
    }
   },
   "outputs": [
    {
     "data": {
      "text/html": [
       "<div>\n",
       "<style scoped>\n",
       "    .dataframe tbody tr th:only-of-type {\n",
       "        vertical-align: middle;\n",
       "    }\n",
       "\n",
       "    .dataframe tbody tr th {\n",
       "        vertical-align: top;\n",
       "    }\n",
       "\n",
       "    .dataframe thead th {\n",
       "        text-align: right;\n",
       "    }\n",
       "</style>\n",
       "<table border=\"1\" class=\"dataframe\">\n",
       "  <thead>\n",
       "    <tr style=\"text-align: right;\">\n",
       "      <th></th>\n",
       "      <th>canonical_smiles</th>\n",
       "      <th>molregno</th>\n",
       "      <th>pref_name</th>\n",
       "      <th>first_approval</th>\n",
       "      <th>dosed_ingredient</th>\n",
       "      <th>oral</th>\n",
       "      <th>parenteral</th>\n",
       "      <th>topical</th>\n",
       "      <th>black_box_warning</th>\n",
       "      <th>first_in_class</th>\n",
       "      <th>std_smiles</th>\n",
       "      <th>inchi</th>\n",
       "      <th>era</th>\n",
       "    </tr>\n",
       "  </thead>\n",
       "  <tbody>\n",
       "    <tr>\n",
       "      <th>2549</th>\n",
       "      <td>Nc1ccc(S(=O)(=O)Nc2ccccn2)cc1</td>\n",
       "      <td>32842</td>\n",
       "      <td>SULFAPYRIDINE</td>\n",
       "      <td>1939</td>\n",
       "      <td>1</td>\n",
       "      <td>1</td>\n",
       "      <td>0</td>\n",
       "      <td>0</td>\n",
       "      <td>0</td>\n",
       "      <td>0</td>\n",
       "      <td>Nc1ccc(S(=O)(=O)Nc2ccccn2)cc1</td>\n",
       "      <td>InChI=1S/C11H11N3O2S/c12-9-4-6-10(7-5-9)17(15,...</td>\n",
       "      <td>before 1997</td>\n",
       "    </tr>\n",
       "    <tr>\n",
       "      <th>667</th>\n",
       "      <td>CCC(C)C1(CC)C(=O)NC(=O)NC1=O</td>\n",
       "      <td>2393</td>\n",
       "      <td>BUTABARBITAL</td>\n",
       "      <td>1939</td>\n",
       "      <td>0</td>\n",
       "      <td>1</td>\n",
       "      <td>0</td>\n",
       "      <td>0</td>\n",
       "      <td>0</td>\n",
       "      <td>0</td>\n",
       "      <td>CCC(C)C1(CC)C(=O)NC(=O)NC1=O</td>\n",
       "      <td>InChI=1S/C10H16N2O3/c1-4-6(3)10(5-2)7(13)11-9(...</td>\n",
       "      <td>before 1997</td>\n",
       "    </tr>\n",
       "    <tr>\n",
       "      <th>2370</th>\n",
       "      <td>Cn1c(=O)c2[nH]cnc2n(C)c1=O.Cn1c(=O)c2[nH]cnc2n...</td>\n",
       "      <td>794445</td>\n",
       "      <td>AMINOPHYLLINE</td>\n",
       "      <td>1940</td>\n",
       "      <td>1</td>\n",
       "      <td>1</td>\n",
       "      <td>1</td>\n",
       "      <td>1</td>\n",
       "      <td>0</td>\n",
       "      <td>0</td>\n",
       "      <td>Cn1c(=O)c2[nH]cnc2n(C)c1=O</td>\n",
       "      <td>InChI=1S/C7H8N4O2/c1-10-5-4(8-3-9-5)6(12)11(2)...</td>\n",
       "      <td>before 1997</td>\n",
       "    </tr>\n",
       "    <tr>\n",
       "      <th>2551</th>\n",
       "      <td>Nc1ccc(S(=O)(=O)Nc2ncccn2)cc1</td>\n",
       "      <td>2131</td>\n",
       "      <td>SULFADIAZINE</td>\n",
       "      <td>1941</td>\n",
       "      <td>1</td>\n",
       "      <td>1</td>\n",
       "      <td>1</td>\n",
       "      <td>1</td>\n",
       "      <td>0</td>\n",
       "      <td>0</td>\n",
       "      <td>Nc1ccc(S(=O)(=O)Nc2ncccn2)cc1</td>\n",
       "      <td>InChI=1S/C10H10N4O2S/c11-8-2-4-9(5-3-8)17(15,1...</td>\n",
       "      <td>before 1997</td>\n",
       "    </tr>\n",
       "    <tr>\n",
       "      <th>73</th>\n",
       "      <td>C=C1CC[C@H](O)C/C1=C/C=C1\\CCC[C@]2(C)[C@@H]([C...</td>\n",
       "      <td>430124</td>\n",
       "      <td>ERGOCALCIFEROL</td>\n",
       "      <td>1941</td>\n",
       "      <td>1</td>\n",
       "      <td>1</td>\n",
       "      <td>1</td>\n",
       "      <td>0</td>\n",
       "      <td>0</td>\n",
       "      <td>0</td>\n",
       "      <td>C=C1CC[C@H](O)C/C1=C/C=C1\\CCC[C@@]2(C)[C@H]1CC...</td>\n",
       "      <td>InChI=1S/C28H44O/c1-19(2)20(3)9-10-22(5)26-15-...</td>\n",
       "      <td>before 1997</td>\n",
       "    </tr>\n",
       "    <tr>\n",
       "      <th>...</th>\n",
       "      <td>...</td>\n",
       "      <td>...</td>\n",
       "      <td>...</td>\n",
       "      <td>...</td>\n",
       "      <td>...</td>\n",
       "      <td>...</td>\n",
       "      <td>...</td>\n",
       "      <td>...</td>\n",
       "      <td>...</td>\n",
       "      <td>...</td>\n",
       "      <td>...</td>\n",
       "      <td>...</td>\n",
       "      <td>...</td>\n",
       "    </tr>\n",
       "    <tr>\n",
       "      <th>888</th>\n",
       "      <td>CCCS(=O)(=O)N[C@H]1C[C@@H](N(C)c2ncnc3[nH]ccc2...</td>\n",
       "      <td>1987927</td>\n",
       "      <td>ABROCITINIB</td>\n",
       "      <td>2022</td>\n",
       "      <td>1</td>\n",
       "      <td>1</td>\n",
       "      <td>0</td>\n",
       "      <td>0</td>\n",
       "      <td>1</td>\n",
       "      <td>0</td>\n",
       "      <td>CCCS(=O)(=O)N[C@H]1C[C@@H](N(C)c2ncnc3[nH]ccc2...</td>\n",
       "      <td>InChI=1S/C14H21N5O2S/c1-3-6-22(20,21)18-10-7-1...</td>\n",
       "      <td>after 2017</td>\n",
       "    </tr>\n",
       "    <tr>\n",
       "      <th>2902</th>\n",
       "      <td>[2H]C([2H])([2H])NC(=O)c1nnc(NC(=O)C2CC2)cc1Nc...</td>\n",
       "      <td>2342179</td>\n",
       "      <td>DEUCRAVACITINIB</td>\n",
       "      <td>2022</td>\n",
       "      <td>1</td>\n",
       "      <td>1</td>\n",
       "      <td>0</td>\n",
       "      <td>0</td>\n",
       "      <td>0</td>\n",
       "      <td>0</td>\n",
       "      <td>[2H]C([2H])([2H])NC(=O)c1nnc(NC(=O)C2CC2)cc1Nc...</td>\n",
       "      <td>InChI=1S/C20H22N8O3/c1-21-20(30)16-14(9-15(25-...</td>\n",
       "      <td>after 2017</td>\n",
       "    </tr>\n",
       "    <tr>\n",
       "      <th>1488</th>\n",
       "      <td>CNC(=O)c1nnc(NC(=O)C2CC2)cc1Nc1cccc(-c2ncn(C)n...</td>\n",
       "      <td>2466823</td>\n",
       "      <td>DEUCRAVACITINIB</td>\n",
       "      <td>2022</td>\n",
       "      <td>0</td>\n",
       "      <td>1</td>\n",
       "      <td>0</td>\n",
       "      <td>0</td>\n",
       "      <td>0</td>\n",
       "      <td>0</td>\n",
       "      <td>CNC(=O)c1nnc(NC(=O)C2CC2)cc1Nc1cccc(-c2ncn(C)n...</td>\n",
       "      <td>InChI=1S/C20H22N8O3/c1-21-20(30)16-14(9-15(25-...</td>\n",
       "      <td>after 2017</td>\n",
       "    </tr>\n",
       "    <tr>\n",
       "      <th>1521</th>\n",
       "      <td>CNCc1cc(-c2ccccc2F)n(S(=O)(=O)c2cccnc2)c1</td>\n",
       "      <td>1363360</td>\n",
       "      <td>VONOPRAZAN</td>\n",
       "      <td>2022</td>\n",
       "      <td>0</td>\n",
       "      <td>1</td>\n",
       "      <td>0</td>\n",
       "      <td>0</td>\n",
       "      <td>0</td>\n",
       "      <td>0</td>\n",
       "      <td>CNCc1cc(-c2ccccc2F)n(S(=O)(=O)c2cccnc2)c1</td>\n",
       "      <td>InChI=1S/C17H16FN3O2S/c1-19-10-13-9-17(15-6-2-...</td>\n",
       "      <td>after 2017</td>\n",
       "    </tr>\n",
       "    <tr>\n",
       "      <th>466</th>\n",
       "      <td>CC(C)n1c(=O)cc(N[C@@H](C)c2ccccc2)[nH]c1=O</td>\n",
       "      <td>2335488</td>\n",
       "      <td>MAVACAMTEN</td>\n",
       "      <td>2022</td>\n",
       "      <td>1</td>\n",
       "      <td>1</td>\n",
       "      <td>0</td>\n",
       "      <td>0</td>\n",
       "      <td>1</td>\n",
       "      <td>0</td>\n",
       "      <td>CC(C)n1c(=O)cc(N[C@@H](C)c2ccccc2)[nH]c1=O</td>\n",
       "      <td>InChI=1S/C15H19N3O2/c1-10(2)18-14(19)9-13(17-1...</td>\n",
       "      <td>after 2017</td>\n",
       "    </tr>\n",
       "  </tbody>\n",
       "</table>\n",
       "<p>1033 rows × 13 columns</p>\n",
       "</div>"
      ],
      "text/plain": [
       "                                       canonical_smiles  molregno  \\\n",
       "2549                      Nc1ccc(S(=O)(=O)Nc2ccccn2)cc1     32842   \n",
       "667                        CCC(C)C1(CC)C(=O)NC(=O)NC1=O      2393   \n",
       "2370  Cn1c(=O)c2[nH]cnc2n(C)c1=O.Cn1c(=O)c2[nH]cnc2n...    794445   \n",
       "2551                      Nc1ccc(S(=O)(=O)Nc2ncccn2)cc1      2131   \n",
       "73    C=C1CC[C@H](O)C/C1=C/C=C1\\CCC[C@]2(C)[C@@H]([C...    430124   \n",
       "...                                                 ...       ...   \n",
       "888   CCCS(=O)(=O)N[C@H]1C[C@@H](N(C)c2ncnc3[nH]ccc2...   1987927   \n",
       "2902  [2H]C([2H])([2H])NC(=O)c1nnc(NC(=O)C2CC2)cc1Nc...   2342179   \n",
       "1488  CNC(=O)c1nnc(NC(=O)C2CC2)cc1Nc1cccc(-c2ncn(C)n...   2466823   \n",
       "1521          CNCc1cc(-c2ccccc2F)n(S(=O)(=O)c2cccnc2)c1   1363360   \n",
       "466          CC(C)n1c(=O)cc(N[C@@H](C)c2ccccc2)[nH]c1=O   2335488   \n",
       "\n",
       "            pref_name  first_approval  dosed_ingredient  oral  parenteral  \\\n",
       "2549    SULFAPYRIDINE            1939                 1     1           0   \n",
       "667      BUTABARBITAL            1939                 0     1           0   \n",
       "2370    AMINOPHYLLINE            1940                 1     1           1   \n",
       "2551     SULFADIAZINE            1941                 1     1           1   \n",
       "73     ERGOCALCIFEROL            1941                 1     1           1   \n",
       "...               ...             ...               ...   ...         ...   \n",
       "888       ABROCITINIB            2022                 1     1           0   \n",
       "2902  DEUCRAVACITINIB            2022                 1     1           0   \n",
       "1488  DEUCRAVACITINIB            2022                 0     1           0   \n",
       "1521       VONOPRAZAN            2022                 0     1           0   \n",
       "466        MAVACAMTEN            2022                 1     1           0   \n",
       "\n",
       "      topical  black_box_warning  first_in_class  \\\n",
       "2549        0                  0               0   \n",
       "667         0                  0               0   \n",
       "2370        1                  0               0   \n",
       "2551        1                  0               0   \n",
       "73          0                  0               0   \n",
       "...       ...                ...             ...   \n",
       "888         0                  1               0   \n",
       "2902        0                  0               0   \n",
       "1488        0                  0               0   \n",
       "1521        0                  0               0   \n",
       "466         0                  1               0   \n",
       "\n",
       "                                             std_smiles  \\\n",
       "2549                      Nc1ccc(S(=O)(=O)Nc2ccccn2)cc1   \n",
       "667                        CCC(C)C1(CC)C(=O)NC(=O)NC1=O   \n",
       "2370                         Cn1c(=O)c2[nH]cnc2n(C)c1=O   \n",
       "2551                      Nc1ccc(S(=O)(=O)Nc2ncccn2)cc1   \n",
       "73    C=C1CC[C@H](O)C/C1=C/C=C1\\CCC[C@@]2(C)[C@H]1CC...   \n",
       "...                                                 ...   \n",
       "888   CCCS(=O)(=O)N[C@H]1C[C@@H](N(C)c2ncnc3[nH]ccc2...   \n",
       "2902  [2H]C([2H])([2H])NC(=O)c1nnc(NC(=O)C2CC2)cc1Nc...   \n",
       "1488  CNC(=O)c1nnc(NC(=O)C2CC2)cc1Nc1cccc(-c2ncn(C)n...   \n",
       "1521          CNCc1cc(-c2ccccc2F)n(S(=O)(=O)c2cccnc2)c1   \n",
       "466          CC(C)n1c(=O)cc(N[C@@H](C)c2ccccc2)[nH]c1=O   \n",
       "\n",
       "                                                  inchi          era  \n",
       "2549  InChI=1S/C11H11N3O2S/c12-9-4-6-10(7-5-9)17(15,...  before 1997  \n",
       "667   InChI=1S/C10H16N2O3/c1-4-6(3)10(5-2)7(13)11-9(...  before 1997  \n",
       "2370  InChI=1S/C7H8N4O2/c1-10-5-4(8-3-9-5)6(12)11(2)...  before 1997  \n",
       "2551  InChI=1S/C10H10N4O2S/c11-8-2-4-9(5-3-8)17(15,1...  before 1997  \n",
       "73    InChI=1S/C28H44O/c1-19(2)20(3)9-10-22(5)26-15-...  before 1997  \n",
       "...                                                 ...          ...  \n",
       "888   InChI=1S/C14H21N5O2S/c1-3-6-22(20,21)18-10-7-1...   after 2017  \n",
       "2902  InChI=1S/C20H22N8O3/c1-21-20(30)16-14(9-15(25-...   after 2017  \n",
       "1488  InChI=1S/C20H22N8O3/c1-21-20(30)16-14(9-15(25-...   after 2017  \n",
       "1521  InChI=1S/C17H16FN3O2S/c1-19-10-13-9-17(15-6-2-...   after 2017  \n",
       "466   InChI=1S/C15H19N3O2/c1-10(2)18-14(19)9-13(17-1...   after 2017  \n",
       "\n",
       "[1033 rows x 13 columns]"
      ]
     },
     "execution_count": 68,
     "metadata": {},
     "output_type": "execute_result"
    }
   ],
   "source": [
    "df_final_drug"
   ]
  },
  {
   "cell_type": "markdown",
   "id": "e8ea847e",
   "metadata": {
    "pycharm": {
     "name": "#%% md\n"
    }
   },
   "source": [
    "### 5. Compare the molecular weight and calculated logp distributions for the three groups, and determine if the differences between groups are statistically significant.\n",
    "Now let's calculate the parameters that define Lipinski's Rule of 5.  Fortunately, the [useful_rdkit_utils](https://github.com/PatWalters/useful_rdkit_utils) package has a convenience function to make this easy."
   ]
  },
  {
   "cell_type": "code",
   "execution_count": 69,
   "id": "4884beb1",
   "metadata": {
    "pycharm": {
     "name": "#%%\n"
    }
   },
   "outputs": [],
   "source": [
    "ro5_calc = uru.Ro5Calculator()\n",
    "df_final_drug[ro5_calc.names] = df_final_drug.std_smiles.apply(ro5_calc.calc_smiles).tolist()"
   ]
  },
  {
   "cell_type": "code",
   "execution_count": 70,
   "id": "bfbc449e",
   "metadata": {
    "pycharm": {
     "name": "#%%\n"
    }
   },
   "outputs": [
    {
     "data": {
      "text/html": [
       "<div>\n",
       "<style scoped>\n",
       "    .dataframe tbody tr th:only-of-type {\n",
       "        vertical-align: middle;\n",
       "    }\n",
       "\n",
       "    .dataframe tbody tr th {\n",
       "        vertical-align: top;\n",
       "    }\n",
       "\n",
       "    .dataframe thead th {\n",
       "        text-align: right;\n",
       "    }\n",
       "</style>\n",
       "<table border=\"1\" class=\"dataframe\">\n",
       "  <thead>\n",
       "    <tr style=\"text-align: right;\">\n",
       "      <th></th>\n",
       "      <th>canonical_smiles</th>\n",
       "      <th>molregno</th>\n",
       "      <th>pref_name</th>\n",
       "      <th>first_approval</th>\n",
       "      <th>dosed_ingredient</th>\n",
       "      <th>oral</th>\n",
       "      <th>parenteral</th>\n",
       "      <th>topical</th>\n",
       "      <th>black_box_warning</th>\n",
       "      <th>first_in_class</th>\n",
       "      <th>std_smiles</th>\n",
       "      <th>inchi</th>\n",
       "      <th>era</th>\n",
       "      <th>MolWt</th>\n",
       "      <th>LogP</th>\n",
       "      <th>HBD</th>\n",
       "      <th>HBA</th>\n",
       "      <th>TPSA</th>\n",
       "    </tr>\n",
       "  </thead>\n",
       "  <tbody>\n",
       "    <tr>\n",
       "      <th>2549</th>\n",
       "      <td>Nc1ccc(S(=O)(=O)Nc2ccccn2)cc1</td>\n",
       "      <td>32842</td>\n",
       "      <td>SULFAPYRIDINE</td>\n",
       "      <td>1939</td>\n",
       "      <td>1</td>\n",
       "      <td>1</td>\n",
       "      <td>0</td>\n",
       "      <td>0</td>\n",
       "      <td>0</td>\n",
       "      <td>0</td>\n",
       "      <td>Nc1ccc(S(=O)(=O)Nc2ccccn2)cc1</td>\n",
       "      <td>InChI=1S/C11H11N3O2S/c12-9-4-6-10(7-5-9)17(15,...</td>\n",
       "      <td>before 1997</td>\n",
       "      <td>249.295000</td>\n",
       "      <td>1.4646</td>\n",
       "      <td>2.0</td>\n",
       "      <td>4.0</td>\n",
       "      <td>85.08</td>\n",
       "    </tr>\n",
       "    <tr>\n",
       "      <th>667</th>\n",
       "      <td>CCC(C)C1(CC)C(=O)NC(=O)NC1=O</td>\n",
       "      <td>2393</td>\n",
       "      <td>BUTABARBITAL</td>\n",
       "      <td>1939</td>\n",
       "      <td>0</td>\n",
       "      <td>1</td>\n",
       "      <td>0</td>\n",
       "      <td>0</td>\n",
       "      <td>0</td>\n",
       "      <td>0</td>\n",
       "      <td>CCC(C)C1(CC)C(=O)NC(=O)NC1=O</td>\n",
       "      <td>InChI=1S/C10H16N2O3/c1-4-6(3)10(5-2)7(13)11-9(...</td>\n",
       "      <td>before 1997</td>\n",
       "      <td>212.249000</td>\n",
       "      <td>0.7949</td>\n",
       "      <td>2.0</td>\n",
       "      <td>3.0</td>\n",
       "      <td>75.27</td>\n",
       "    </tr>\n",
       "    <tr>\n",
       "      <th>2370</th>\n",
       "      <td>Cn1c(=O)c2[nH]cnc2n(C)c1=O.Cn1c(=O)c2[nH]cnc2n...</td>\n",
       "      <td>794445</td>\n",
       "      <td>AMINOPHYLLINE</td>\n",
       "      <td>1940</td>\n",
       "      <td>1</td>\n",
       "      <td>1</td>\n",
       "      <td>1</td>\n",
       "      <td>1</td>\n",
       "      <td>0</td>\n",
       "      <td>0</td>\n",
       "      <td>Cn1c(=O)c2[nH]cnc2n(C)c1=O</td>\n",
       "      <td>InChI=1S/C7H8N4O2/c1-10-5-4(8-3-9-5)6(12)11(2)...</td>\n",
       "      <td>before 1997</td>\n",
       "      <td>180.167000</td>\n",
       "      <td>-1.0397</td>\n",
       "      <td>1.0</td>\n",
       "      <td>5.0</td>\n",
       "      <td>72.68</td>\n",
       "    </tr>\n",
       "    <tr>\n",
       "      <th>2551</th>\n",
       "      <td>Nc1ccc(S(=O)(=O)Nc2ncccn2)cc1</td>\n",
       "      <td>2131</td>\n",
       "      <td>SULFADIAZINE</td>\n",
       "      <td>1941</td>\n",
       "      <td>1</td>\n",
       "      <td>1</td>\n",
       "      <td>1</td>\n",
       "      <td>1</td>\n",
       "      <td>0</td>\n",
       "      <td>0</td>\n",
       "      <td>Nc1ccc(S(=O)(=O)Nc2ncccn2)cc1</td>\n",
       "      <td>InChI=1S/C10H10N4O2S/c11-8-2-4-9(5-3-8)17(15,1...</td>\n",
       "      <td>before 1997</td>\n",
       "      <td>250.283000</td>\n",
       "      <td>0.8596</td>\n",
       "      <td>2.0</td>\n",
       "      <td>5.0</td>\n",
       "      <td>97.97</td>\n",
       "    </tr>\n",
       "    <tr>\n",
       "      <th>73</th>\n",
       "      <td>C=C1CC[C@H](O)C/C1=C/C=C1\\CCC[C@]2(C)[C@@H]([C...</td>\n",
       "      <td>430124</td>\n",
       "      <td>ERGOCALCIFEROL</td>\n",
       "      <td>1941</td>\n",
       "      <td>1</td>\n",
       "      <td>1</td>\n",
       "      <td>1</td>\n",
       "      <td>0</td>\n",
       "      <td>0</td>\n",
       "      <td>0</td>\n",
       "      <td>C=C1CC[C@H](O)C/C1=C/C=C1\\CCC[C@@]2(C)[C@H]1CC...</td>\n",
       "      <td>InChI=1S/C28H44O/c1-19(2)20(3)9-10-22(5)26-15-...</td>\n",
       "      <td>before 1997</td>\n",
       "      <td>396.659000</td>\n",
       "      <td>7.6410</td>\n",
       "      <td>1.0</td>\n",
       "      <td>1.0</td>\n",
       "      <td>20.23</td>\n",
       "    </tr>\n",
       "    <tr>\n",
       "      <th>...</th>\n",
       "      <td>...</td>\n",
       "      <td>...</td>\n",
       "      <td>...</td>\n",
       "      <td>...</td>\n",
       "      <td>...</td>\n",
       "      <td>...</td>\n",
       "      <td>...</td>\n",
       "      <td>...</td>\n",
       "      <td>...</td>\n",
       "      <td>...</td>\n",
       "      <td>...</td>\n",
       "      <td>...</td>\n",
       "      <td>...</td>\n",
       "      <td>...</td>\n",
       "      <td>...</td>\n",
       "      <td>...</td>\n",
       "      <td>...</td>\n",
       "      <td>...</td>\n",
       "    </tr>\n",
       "    <tr>\n",
       "      <th>888</th>\n",
       "      <td>CCCS(=O)(=O)N[C@H]1C[C@@H](N(C)c2ncnc3[nH]ccc2...</td>\n",
       "      <td>1987927</td>\n",
       "      <td>ABROCITINIB</td>\n",
       "      <td>2022</td>\n",
       "      <td>1</td>\n",
       "      <td>1</td>\n",
       "      <td>0</td>\n",
       "      <td>0</td>\n",
       "      <td>1</td>\n",
       "      <td>0</td>\n",
       "      <td>CCCS(=O)(=O)N[C@H]1C[C@@H](N(C)c2ncnc3[nH]ccc2...</td>\n",
       "      <td>InChI=1S/C14H21N5O2S/c1-3-6-22(20,21)18-10-7-1...</td>\n",
       "      <td>after 2017</td>\n",
       "      <td>323.422000</td>\n",
       "      <td>1.2545</td>\n",
       "      <td>2.0</td>\n",
       "      <td>5.0</td>\n",
       "      <td>90.98</td>\n",
       "    </tr>\n",
       "    <tr>\n",
       "      <th>2902</th>\n",
       "      <td>[2H]C([2H])([2H])NC(=O)c1nnc(NC(=O)C2CC2)cc1Nc...</td>\n",
       "      <td>2342179</td>\n",
       "      <td>DEUCRAVACITINIB</td>\n",
       "      <td>2022</td>\n",
       "      <td>1</td>\n",
       "      <td>1</td>\n",
       "      <td>0</td>\n",
       "      <td>0</td>\n",
       "      <td>0</td>\n",
       "      <td>0</td>\n",
       "      <td>[2H]C([2H])([2H])NC(=O)c1nnc(NC(=O)C2CC2)cc1Nc...</td>\n",
       "      <td>InChI=1S/C20H22N8O3/c1-21-20(30)16-14(9-15(25-...</td>\n",
       "      <td>after 2017</td>\n",
       "      <td>425.467305</td>\n",
       "      <td>1.7324</td>\n",
       "      <td>3.0</td>\n",
       "      <td>9.0</td>\n",
       "      <td>135.95</td>\n",
       "    </tr>\n",
       "    <tr>\n",
       "      <th>1488</th>\n",
       "      <td>CNC(=O)c1nnc(NC(=O)C2CC2)cc1Nc1cccc(-c2ncn(C)n...</td>\n",
       "      <td>2466823</td>\n",
       "      <td>DEUCRAVACITINIB</td>\n",
       "      <td>2022</td>\n",
       "      <td>0</td>\n",
       "      <td>1</td>\n",
       "      <td>0</td>\n",
       "      <td>0</td>\n",
       "      <td>0</td>\n",
       "      <td>0</td>\n",
       "      <td>CNC(=O)c1nnc(NC(=O)C2CC2)cc1Nc1cccc(-c2ncn(C)n...</td>\n",
       "      <td>InChI=1S/C20H22N8O3/c1-21-20(30)16-14(9-15(25-...</td>\n",
       "      <td>after 2017</td>\n",
       "      <td>422.449000</td>\n",
       "      <td>1.7324</td>\n",
       "      <td>3.0</td>\n",
       "      <td>9.0</td>\n",
       "      <td>135.95</td>\n",
       "    </tr>\n",
       "    <tr>\n",
       "      <th>1521</th>\n",
       "      <td>CNCc1cc(-c2ccccc2F)n(S(=O)(=O)c2cccnc2)c1</td>\n",
       "      <td>1363360</td>\n",
       "      <td>VONOPRAZAN</td>\n",
       "      <td>2022</td>\n",
       "      <td>0</td>\n",
       "      <td>1</td>\n",
       "      <td>0</td>\n",
       "      <td>0</td>\n",
       "      <td>0</td>\n",
       "      <td>0</td>\n",
       "      <td>CNCc1cc(-c2ccccc2F)n(S(=O)(=O)c2cccnc2)c1</td>\n",
       "      <td>InChI=1S/C17H16FN3O2S/c1-19-10-13-9-17(15-6-2-...</td>\n",
       "      <td>after 2017</td>\n",
       "      <td>345.399000</td>\n",
       "      <td>2.6456</td>\n",
       "      <td>1.0</td>\n",
       "      <td>5.0</td>\n",
       "      <td>63.99</td>\n",
       "    </tr>\n",
       "    <tr>\n",
       "      <th>466</th>\n",
       "      <td>CC(C)n1c(=O)cc(N[C@@H](C)c2ccccc2)[nH]c1=O</td>\n",
       "      <td>2335488</td>\n",
       "      <td>MAVACAMTEN</td>\n",
       "      <td>2022</td>\n",
       "      <td>1</td>\n",
       "      <td>1</td>\n",
       "      <td>0</td>\n",
       "      <td>0</td>\n",
       "      <td>1</td>\n",
       "      <td>0</td>\n",
       "      <td>CC(C)n1c(=O)cc(N[C@@H](C)c2ccccc2)[nH]c1=O</td>\n",
       "      <td>InChI=1S/C15H19N3O2/c1-10(2)18-14(19)9-13(17-1...</td>\n",
       "      <td>after 2017</td>\n",
       "      <td>273.336000</td>\n",
       "      <td>2.2906</td>\n",
       "      <td>2.0</td>\n",
       "      <td>4.0</td>\n",
       "      <td>66.89</td>\n",
       "    </tr>\n",
       "  </tbody>\n",
       "</table>\n",
       "<p>1033 rows × 18 columns</p>\n",
       "</div>"
      ],
      "text/plain": [
       "                                       canonical_smiles  molregno  \\\n",
       "2549                      Nc1ccc(S(=O)(=O)Nc2ccccn2)cc1     32842   \n",
       "667                        CCC(C)C1(CC)C(=O)NC(=O)NC1=O      2393   \n",
       "2370  Cn1c(=O)c2[nH]cnc2n(C)c1=O.Cn1c(=O)c2[nH]cnc2n...    794445   \n",
       "2551                      Nc1ccc(S(=O)(=O)Nc2ncccn2)cc1      2131   \n",
       "73    C=C1CC[C@H](O)C/C1=C/C=C1\\CCC[C@]2(C)[C@@H]([C...    430124   \n",
       "...                                                 ...       ...   \n",
       "888   CCCS(=O)(=O)N[C@H]1C[C@@H](N(C)c2ncnc3[nH]ccc2...   1987927   \n",
       "2902  [2H]C([2H])([2H])NC(=O)c1nnc(NC(=O)C2CC2)cc1Nc...   2342179   \n",
       "1488  CNC(=O)c1nnc(NC(=O)C2CC2)cc1Nc1cccc(-c2ncn(C)n...   2466823   \n",
       "1521          CNCc1cc(-c2ccccc2F)n(S(=O)(=O)c2cccnc2)c1   1363360   \n",
       "466          CC(C)n1c(=O)cc(N[C@@H](C)c2ccccc2)[nH]c1=O   2335488   \n",
       "\n",
       "            pref_name  first_approval  dosed_ingredient  oral  parenteral  \\\n",
       "2549    SULFAPYRIDINE            1939                 1     1           0   \n",
       "667      BUTABARBITAL            1939                 0     1           0   \n",
       "2370    AMINOPHYLLINE            1940                 1     1           1   \n",
       "2551     SULFADIAZINE            1941                 1     1           1   \n",
       "73     ERGOCALCIFEROL            1941                 1     1           1   \n",
       "...               ...             ...               ...   ...         ...   \n",
       "888       ABROCITINIB            2022                 1     1           0   \n",
       "2902  DEUCRAVACITINIB            2022                 1     1           0   \n",
       "1488  DEUCRAVACITINIB            2022                 0     1           0   \n",
       "1521       VONOPRAZAN            2022                 0     1           0   \n",
       "466        MAVACAMTEN            2022                 1     1           0   \n",
       "\n",
       "      topical  black_box_warning  first_in_class  \\\n",
       "2549        0                  0               0   \n",
       "667         0                  0               0   \n",
       "2370        1                  0               0   \n",
       "2551        1                  0               0   \n",
       "73          0                  0               0   \n",
       "...       ...                ...             ...   \n",
       "888         0                  1               0   \n",
       "2902        0                  0               0   \n",
       "1488        0                  0               0   \n",
       "1521        0                  0               0   \n",
       "466         0                  1               0   \n",
       "\n",
       "                                             std_smiles  \\\n",
       "2549                      Nc1ccc(S(=O)(=O)Nc2ccccn2)cc1   \n",
       "667                        CCC(C)C1(CC)C(=O)NC(=O)NC1=O   \n",
       "2370                         Cn1c(=O)c2[nH]cnc2n(C)c1=O   \n",
       "2551                      Nc1ccc(S(=O)(=O)Nc2ncccn2)cc1   \n",
       "73    C=C1CC[C@H](O)C/C1=C/C=C1\\CCC[C@@]2(C)[C@H]1CC...   \n",
       "...                                                 ...   \n",
       "888   CCCS(=O)(=O)N[C@H]1C[C@@H](N(C)c2ncnc3[nH]ccc2...   \n",
       "2902  [2H]C([2H])([2H])NC(=O)c1nnc(NC(=O)C2CC2)cc1Nc...   \n",
       "1488  CNC(=O)c1nnc(NC(=O)C2CC2)cc1Nc1cccc(-c2ncn(C)n...   \n",
       "1521          CNCc1cc(-c2ccccc2F)n(S(=O)(=O)c2cccnc2)c1   \n",
       "466          CC(C)n1c(=O)cc(N[C@@H](C)c2ccccc2)[nH]c1=O   \n",
       "\n",
       "                                                  inchi          era  \\\n",
       "2549  InChI=1S/C11H11N3O2S/c12-9-4-6-10(7-5-9)17(15,...  before 1997   \n",
       "667   InChI=1S/C10H16N2O3/c1-4-6(3)10(5-2)7(13)11-9(...  before 1997   \n",
       "2370  InChI=1S/C7H8N4O2/c1-10-5-4(8-3-9-5)6(12)11(2)...  before 1997   \n",
       "2551  InChI=1S/C10H10N4O2S/c11-8-2-4-9(5-3-8)17(15,1...  before 1997   \n",
       "73    InChI=1S/C28H44O/c1-19(2)20(3)9-10-22(5)26-15-...  before 1997   \n",
       "...                                                 ...          ...   \n",
       "888   InChI=1S/C14H21N5O2S/c1-3-6-22(20,21)18-10-7-1...   after 2017   \n",
       "2902  InChI=1S/C20H22N8O3/c1-21-20(30)16-14(9-15(25-...   after 2017   \n",
       "1488  InChI=1S/C20H22N8O3/c1-21-20(30)16-14(9-15(25-...   after 2017   \n",
       "1521  InChI=1S/C17H16FN3O2S/c1-19-10-13-9-17(15-6-2-...   after 2017   \n",
       "466   InChI=1S/C15H19N3O2/c1-10(2)18-14(19)9-13(17-1...   after 2017   \n",
       "\n",
       "           MolWt    LogP  HBD  HBA    TPSA  \n",
       "2549  249.295000  1.4646  2.0  4.0   85.08  \n",
       "667   212.249000  0.7949  2.0  3.0   75.27  \n",
       "2370  180.167000 -1.0397  1.0  5.0   72.68  \n",
       "2551  250.283000  0.8596  2.0  5.0   97.97  \n",
       "73    396.659000  7.6410  1.0  1.0   20.23  \n",
       "...          ...     ...  ...  ...     ...  \n",
       "888   323.422000  1.2545  2.0  5.0   90.98  \n",
       "2902  425.467305  1.7324  3.0  9.0  135.95  \n",
       "1488  422.449000  1.7324  3.0  9.0  135.95  \n",
       "1521  345.399000  2.6456  1.0  5.0   63.99  \n",
       "466   273.336000  2.2906  2.0  4.0   66.89  \n",
       "\n",
       "[1033 rows x 18 columns]"
      ]
     },
     "execution_count": 70,
     "metadata": {},
     "output_type": "execute_result"
    }
   ],
   "source": [
    "df_final_drug"
   ]
  },
  {
   "cell_type": "markdown",
   "id": "9c9a17db",
   "metadata": {
    "pycharm": {
     "name": "#%% md\n"
    }
   },
   "source": [
    "With that data in hand, we can make boxplots to show the molecular weight distributions over the three time periods in question.  Based on the boxplots, it appears that there is a trend toward increasing molecular weight over time.  However, we also want to look at whether there is a statistically signficant difference between the distributions. We'll look at this below. "
   ]
  },
  {
   "cell_type": "code",
   "execution_count": 71,
   "id": "3e2fc6fc",
   "metadata": {
    "pycharm": {
     "name": "#%%\n"
    }
   },
   "outputs": [
    {
     "data": {
      "image/png": "[encoded data removed]",
      "text/plain": [
       "<Figure size 576x432 with 1 Axes>"
      ]
     },
     "metadata": {},
     "output_type": "display_data"
    }
   ],
   "source": [
    "ax = sns.boxplot(x=\"era\", y=\"MolWt\", data=df_final_drug)\n",
    "ax.set_xlabel(\"Era\");"
   ]
  },
  {
   "cell_type": "markdown",
   "id": "68d476ff",
   "metadata": {
    "pycharm": {
     "name": "#%% md\n"
    }
   },
   "source": [
    "As mentioned above, we want to evaluate whether the molecular weight distributions above are different.  When working with normally distributed data, we would use something like Student's t-test to compare two distributions.  Since the distributions we're dealing with are not normally distributed we'll use the non-parametric Wilcoxon Rank Sum Test.  We're dealing with three distributions, so we need to correct the p-value to account for multiple comparisons.  Fortunately for us, there's the **scikit-posthocs** Python package to do the heavy lifting.  For more on multiple comparisons and post-hoc tests, please see this Practical Cheminformatics blog post. Looking at the plot below, we see that we can invalidate the null hypothesis that the means of the distributions are the same with at least p < 0.01."
   ]
  },
  {
   "cell_type": "code",
   "execution_count": 72,
   "id": "29d39bc3",
   "metadata": {
    "pycharm": {
     "name": "#%%\n"
    }
   },
   "outputs": [
    {
     "data": {
      "image/png": "[encoded data removed]",
      "text/plain": [
       "<Figure size 576x432 with 2 Axes>"
      ]
     },
     "metadata": {},
     "output_type": "display_data"
    }
   ],
   "source": [
    "sns.set(rc={'figure.figsize': (8, 6)}, font_scale=1.5)\n",
    "pc = sp.posthoc_mannwhitney(df_final_drug, val_col=\"MolWt\", group_col=\"era\", p_adjust='holm')\n",
    "heatmap_args = {'linewidths': 0.25, 'linecolor': '0.5', 'clip_on': False, 'square': True,\n",
    "                'cbar_ax_bbox': [0.80, 0.35, 0.04, 0.3]}\n",
    "_ = sp.sign_plot(pc, **heatmap_args)"
   ]
  },
  {
   "cell_type": "markdown",
   "id": "f8b76348",
   "metadata": {
    "pycharm": {
     "name": "#%% md\n"
    }
   },
   "source": [
    "Following the pattern above, we can look do the same analysis with the calculated LogP.  In this case, the two distributions on the right look similar.  Let's look at the statistics and see if they are different. "
   ]
  },
  {
   "cell_type": "code",
   "execution_count": 73,
   "id": "fa66ebc8",
   "metadata": {
    "pycharm": {
     "name": "#%%\n"
    }
   },
   "outputs": [
    {
     "data": {
      "image/png": "[encoded data removed]",
      "text/plain": [
       "<Figure size 576x432 with 1 Axes>"
      ]
     },
     "metadata": {},
     "output_type": "display_data"
    }
   ],
   "source": [
    "ax = sns.boxplot(x=\"era\", y=\"LogP\", data=df_final_drug)\n",
    "ax.set_xlabel(\"Era\");"
   ]
  },
  {
   "cell_type": "markdown",
   "id": "1aad9ff7",
   "metadata": {
    "pycharm": {
     "name": "#%% md\n"
    }
   },
   "source": [
    "Again, we'll use scikit-posthocs to create a heatmap.  In this case we can see that for \"1997-2017\" and \"after 2017\" sets, we cannot invalidate the null hypothesis that that distributions are the same. "
   ]
  },
  {
   "cell_type": "code",
   "execution_count": 74,
   "id": "a2694837",
   "metadata": {
    "pycharm": {
     "name": "#%%\n"
    }
   },
   "outputs": [
    {
     "data": {
      "image/png": "[encoded data removed]",
      "text/plain": [
       "<Figure size 576x432 with 2 Axes>"
      ]
     },
     "metadata": {},
     "output_type": "display_data"
    }
   ],
   "source": [
    "sns.set(rc={'figure.figsize': (8, 6)}, font_scale=1.5)\n",
    "pc = sp.posthoc_mannwhitney(df_final_drug, val_col=\"LogP\", group_col=\"era\", p_adjust='holm')\n",
    "heatmap_args = {'linewidths': 0.25, 'linecolor': '0.5', 'clip_on': False, 'square': True,\n",
    "                'cbar_ax_bbox': [0.80, 0.35, 0.04, 0.3]}\n",
    "_ = sp.sign_plot(pc, **heatmap_args)"
   ]
  },
  {
   "cell_type": "markdown",
   "id": "cacfcbb6",
   "metadata": {
    "pycharm": {
     "name": "#%% md\n"
    }
   },
   "source": [
    "### Acknowledgements\n",
    "\n",
    "I'd like to thank Emanuele Perola for motivating this notebook and Brian Kelley and Joann Prescott-Roy for helpful discussions."
   ]
  },
  {
   "cell_type": "code",
   "execution_count": null,
   "id": "6873d013",
   "metadata": {
    "pycharm": {
     "name": "#%%\n"
    }
   },
   "outputs": [],
   "source": []
  }
 ],
 "metadata": {
  "kernelspec": {
   "display_name": "Python 3 (ipykernel)",
   "language": "python",
   "name": "python3"
  },
  "language_info": {
   "codemirror_mode": {
    "name": "ipython",
    "version": 3
   },
   "file_extension": ".py",
   "mimetype": "text/x-python",
   "name": "python",
   "nbconvert_exporter": "python",
   "pygments_lexer": "ipython3",
   "version": "3.11.3"
  }
 },
 "nbformat": 4,
 "nbformat_minor": 5
}
