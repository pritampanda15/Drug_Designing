{
 "cells": [
  {
   "cell_type": "code",
   "execution_count": 15,
   "id": "d07074e3",
   "metadata": {},
   "outputs": [
    {
     "name": "stdout",
     "output_type": "stream",
     "text": [
      "Requirement already satisfied: useful_rdkit_utils in /Users/pwalters/opt/anaconda3/envs/test3/lib/python3.8/site-packages (0.2)\n",
      "Requirement already satisfied: mols2grid in /Users/pwalters/opt/anaconda3/envs/test3/lib/python3.8/site-packages (1.0.0)\n",
      "Requirement already satisfied: click in /Users/pwalters/opt/anaconda3/envs/test3/lib/python3.8/site-packages (from useful_rdkit_utils) (8.1.3)\n",
      "Requirement already satisfied: rdkit-pypi in /Users/pwalters/opt/anaconda3/envs/test3/lib/python3.8/site-packages (from useful_rdkit_utils) (2022.9.2)\n",
      "Requirement already satisfied: py3DMol in /Users/pwalters/opt/anaconda3/envs/test3/lib/python3.8/site-packages (from useful_rdkit_utils) (1.8.1)\n",
      "Requirement already satisfied: jupyter in /Users/pwalters/opt/anaconda3/envs/test3/lib/python3.8/site-packages (from useful_rdkit_utils) (1.0.0)\n",
      "Requirement already satisfied: Pillow in /Users/pwalters/opt/anaconda3/envs/test3/lib/python3.8/site-packages (from useful_rdkit_utils) (9.3.0)\n",
      "Requirement already satisfied: numpy in /Users/pwalters/opt/anaconda3/envs/test3/lib/python3.8/site-packages (from useful_rdkit_utils) (1.23.5)\n",
      "Requirement already satisfied: pystow in /Users/pwalters/opt/anaconda3/envs/test3/lib/python3.8/site-packages (from useful_rdkit_utils) (0.4.7)\n",
      "Requirement already satisfied: seaborn in /Users/pwalters/opt/anaconda3/envs/test3/lib/python3.8/site-packages (from useful_rdkit_utils) (0.12.1)\n",
      "Requirement already satisfied: pandas in /Users/pwalters/opt/anaconda3/envs/test3/lib/python3.8/site-packages (from useful_rdkit_utils) (1.5.2)\n",
      "Requirement already satisfied: pytest in /Users/pwalters/opt/anaconda3/envs/test3/lib/python3.8/site-packages (from useful_rdkit_utils) (7.2.0)\n",
      "Requirement already satisfied: ipywidgets<8,>=7 in /Users/pwalters/opt/anaconda3/envs/test3/lib/python3.8/site-packages (from mols2grid) (7.7.2)\n",
      "Requirement already satisfied: jinja2>=2.11.0 in /Users/pwalters/opt/anaconda3/envs/test3/lib/python3.8/site-packages (from mols2grid) (3.1.2)\n",
      "Requirement already satisfied: traitlets>=4.3.1 in /Users/pwalters/opt/anaconda3/envs/test3/lib/python3.8/site-packages (from ipywidgets<8,>=7->mols2grid) (5.6.0)\n",
      "Requirement already satisfied: ipykernel>=4.5.1 in /Users/pwalters/opt/anaconda3/envs/test3/lib/python3.8/site-packages (from ipywidgets<8,>=7->mols2grid) (6.17.1)\n",
      "Requirement already satisfied: ipython>=4.0.0 in /Users/pwalters/opt/anaconda3/envs/test3/lib/python3.8/site-packages (from ipywidgets<8,>=7->mols2grid) (8.7.0)\n",
      "Requirement already satisfied: ipython-genutils~=0.2.0 in /Users/pwalters/opt/anaconda3/envs/test3/lib/python3.8/site-packages (from ipywidgets<8,>=7->mols2grid) (0.2.0)\n",
      "Requirement already satisfied: widgetsnbextension~=3.6.0 in /Users/pwalters/opt/anaconda3/envs/test3/lib/python3.8/site-packages (from ipywidgets<8,>=7->mols2grid) (3.6.1)\n",
      "Requirement already satisfied: jupyterlab-widgets<3,>=1.0.0 in /Users/pwalters/opt/anaconda3/envs/test3/lib/python3.8/site-packages (from ipywidgets<8,>=7->mols2grid) (1.1.1)\n",
      "Requirement already satisfied: MarkupSafe>=2.0 in /Users/pwalters/opt/anaconda3/envs/test3/lib/python3.8/site-packages (from jinja2>=2.11.0->mols2grid) (2.1.1)\n",
      "Requirement already satisfied: nbconvert in /Users/pwalters/opt/anaconda3/envs/test3/lib/python3.8/site-packages (from jupyter->useful_rdkit_utils) (7.2.5)\n",
      "Requirement already satisfied: notebook in /Users/pwalters/opt/anaconda3/envs/test3/lib/python3.8/site-packages (from jupyter->useful_rdkit_utils) (6.5.2)\n",
      "Requirement already satisfied: jupyter-console in /Users/pwalters/opt/anaconda3/envs/test3/lib/python3.8/site-packages (from jupyter->useful_rdkit_utils) (6.4.4)\n",
      "Requirement already satisfied: qtconsole in /Users/pwalters/opt/anaconda3/envs/test3/lib/python3.8/site-packages (from jupyter->useful_rdkit_utils) (5.4.0)\n",
      "Requirement already satisfied: python-dateutil>=2.8.1 in /Users/pwalters/opt/anaconda3/envs/test3/lib/python3.8/site-packages (from pandas->useful_rdkit_utils) (2.8.2)\n",
      "Requirement already satisfied: pytz>=2020.1 in /Users/pwalters/opt/anaconda3/envs/test3/lib/python3.8/site-packages (from pandas->useful_rdkit_utils) (2022.6)\n",
      "Requirement already satisfied: tqdm in /Users/pwalters/opt/anaconda3/envs/test3/lib/python3.8/site-packages (from pystow->useful_rdkit_utils) (4.64.1)\n",
      "Requirement already satisfied: requests in /Users/pwalters/opt/anaconda3/envs/test3/lib/python3.8/site-packages (from pystow->useful_rdkit_utils) (2.28.1)\n",
      "Requirement already satisfied: exceptiongroup>=1.0.0rc8 in /Users/pwalters/opt/anaconda3/envs/test3/lib/python3.8/site-packages (from pytest->useful_rdkit_utils) (1.0.4)\n",
      "Requirement already satisfied: pluggy<2.0,>=0.12 in /Users/pwalters/opt/anaconda3/envs/test3/lib/python3.8/site-packages (from pytest->useful_rdkit_utils) (1.0.0)\n",
      "Requirement already satisfied: packaging in /Users/pwalters/opt/anaconda3/envs/test3/lib/python3.8/site-packages (from pytest->useful_rdkit_utils) (21.3)\n",
      "Requirement already satisfied: tomli>=1.0.0 in /Users/pwalters/opt/anaconda3/envs/test3/lib/python3.8/site-packages (from pytest->useful_rdkit_utils) (2.0.1)\n",
      "Requirement already satisfied: attrs>=19.2.0 in /Users/pwalters/opt/anaconda3/envs/test3/lib/python3.8/site-packages (from pytest->useful_rdkit_utils) (22.1.0)\n",
      "Requirement already satisfied: iniconfig in /Users/pwalters/opt/anaconda3/envs/test3/lib/python3.8/site-packages (from pytest->useful_rdkit_utils) (1.1.1)\n",
      "Requirement already satisfied: matplotlib!=3.6.1,>=3.1 in /Users/pwalters/opt/anaconda3/envs/test3/lib/python3.8/site-packages (from seaborn->useful_rdkit_utils) (3.6.2)\n",
      "Requirement already satisfied: appnope in /Users/pwalters/opt/anaconda3/envs/test3/lib/python3.8/site-packages (from ipykernel>=4.5.1->ipywidgets<8,>=7->mols2grid) (0.1.3)\n",
      "Requirement already satisfied: debugpy>=1.0 in /Users/pwalters/opt/anaconda3/envs/test3/lib/python3.8/site-packages (from ipykernel>=4.5.1->ipywidgets<8,>=7->mols2grid) (1.6.4)\n",
      "Requirement already satisfied: psutil in /Users/pwalters/opt/anaconda3/envs/test3/lib/python3.8/site-packages (from ipykernel>=4.5.1->ipywidgets<8,>=7->mols2grid) (5.9.4)\n",
      "Requirement already satisfied: tornado>=6.1 in /Users/pwalters/opt/anaconda3/envs/test3/lib/python3.8/site-packages (from ipykernel>=4.5.1->ipywidgets<8,>=7->mols2grid) (6.2)\n",
      "Requirement already satisfied: matplotlib-inline>=0.1 in /Users/pwalters/opt/anaconda3/envs/test3/lib/python3.8/site-packages (from ipykernel>=4.5.1->ipywidgets<8,>=7->mols2grid) (0.1.6)\n",
      "Requirement already satisfied: jupyter-client>=6.1.12 in /Users/pwalters/opt/anaconda3/envs/test3/lib/python3.8/site-packages (from ipykernel>=4.5.1->ipywidgets<8,>=7->mols2grid) (7.4.7)\n",
      "Requirement already satisfied: nest-asyncio in /Users/pwalters/opt/anaconda3/envs/test3/lib/python3.8/site-packages (from ipykernel>=4.5.1->ipywidgets<8,>=7->mols2grid) (1.5.6)\n",
      "Requirement already satisfied: pyzmq>=17 in /Users/pwalters/opt/anaconda3/envs/test3/lib/python3.8/site-packages (from ipykernel>=4.5.1->ipywidgets<8,>=7->mols2grid) (24.0.1)\n",
      "Requirement already satisfied: pexpect>4.3 in /Users/pwalters/opt/anaconda3/envs/test3/lib/python3.8/site-packages (from ipython>=4.0.0->ipywidgets<8,>=7->mols2grid) (4.8.0)\n",
      "Requirement already satisfied: jedi>=0.16 in /Users/pwalters/opt/anaconda3/envs/test3/lib/python3.8/site-packages (from ipython>=4.0.0->ipywidgets<8,>=7->mols2grid) (0.18.2)\n",
      "Requirement already satisfied: backcall in /Users/pwalters/opt/anaconda3/envs/test3/lib/python3.8/site-packages (from ipython>=4.0.0->ipywidgets<8,>=7->mols2grid) (0.2.0)\n",
      "Requirement already satisfied: stack-data in /Users/pwalters/opt/anaconda3/envs/test3/lib/python3.8/site-packages (from ipython>=4.0.0->ipywidgets<8,>=7->mols2grid) (0.6.2)\n",
      "Requirement already satisfied: pygments>=2.4.0 in /Users/pwalters/opt/anaconda3/envs/test3/lib/python3.8/site-packages (from ipython>=4.0.0->ipywidgets<8,>=7->mols2grid) (2.13.0)\n",
      "Requirement already satisfied: pickleshare in /Users/pwalters/opt/anaconda3/envs/test3/lib/python3.8/site-packages (from ipython>=4.0.0->ipywidgets<8,>=7->mols2grid) (0.7.5)\n",
      "Requirement already satisfied: prompt-toolkit<3.1.0,>=3.0.11 in /Users/pwalters/opt/anaconda3/envs/test3/lib/python3.8/site-packages (from ipython>=4.0.0->ipywidgets<8,>=7->mols2grid) (3.0.33)\n",
      "Requirement already satisfied: decorator in /Users/pwalters/opt/anaconda3/envs/test3/lib/python3.8/site-packages (from ipython>=4.0.0->ipywidgets<8,>=7->mols2grid) (5.1.1)\n",
      "Requirement already satisfied: fonttools>=4.22.0 in /Users/pwalters/opt/anaconda3/envs/test3/lib/python3.8/site-packages (from matplotlib!=3.6.1,>=3.1->seaborn->useful_rdkit_utils) (4.38.0)\n",
      "Requirement already satisfied: cycler>=0.10 in /Users/pwalters/opt/anaconda3/envs/test3/lib/python3.8/site-packages (from matplotlib!=3.6.1,>=3.1->seaborn->useful_rdkit_utils) (0.11.0)\n",
      "Requirement already satisfied: kiwisolver>=1.0.1 in /Users/pwalters/opt/anaconda3/envs/test3/lib/python3.8/site-packages (from matplotlib!=3.6.1,>=3.1->seaborn->useful_rdkit_utils) (1.4.4)\n",
      "Requirement already satisfied: contourpy>=1.0.1 in /Users/pwalters/opt/anaconda3/envs/test3/lib/python3.8/site-packages (from matplotlib!=3.6.1,>=3.1->seaborn->useful_rdkit_utils) (1.0.6)\n",
      "Requirement already satisfied: pyparsing>=2.2.1 in /Users/pwalters/opt/anaconda3/envs/test3/lib/python3.8/site-packages (from matplotlib!=3.6.1,>=3.1->seaborn->useful_rdkit_utils) (3.0.9)\n",
      "Requirement already satisfied: six>=1.5 in /Users/pwalters/opt/anaconda3/envs/test3/lib/python3.8/site-packages (from python-dateutil>=2.8.1->pandas->useful_rdkit_utils) (1.16.0)\n",
      "Requirement already satisfied: prometheus-client in /Users/pwalters/opt/anaconda3/envs/test3/lib/python3.8/site-packages (from notebook->jupyter->useful_rdkit_utils) (0.15.0)\n"
     ]
    },
    {
     "name": "stdout",
     "output_type": "stream",
     "text": [
      "Requirement already satisfied: Send2Trash>=1.8.0 in /Users/pwalters/opt/anaconda3/envs/test3/lib/python3.8/site-packages (from notebook->jupyter->useful_rdkit_utils) (1.8.0)\n",
      "Requirement already satisfied: terminado>=0.8.3 in /Users/pwalters/opt/anaconda3/envs/test3/lib/python3.8/site-packages (from notebook->jupyter->useful_rdkit_utils) (0.17.0)\n",
      "Requirement already satisfied: nbclassic>=0.4.7 in /Users/pwalters/opt/anaconda3/envs/test3/lib/python3.8/site-packages (from notebook->jupyter->useful_rdkit_utils) (0.4.8)\n",
      "Requirement already satisfied: jupyter-core>=4.6.1 in /Users/pwalters/opt/anaconda3/envs/test3/lib/python3.8/site-packages (from notebook->jupyter->useful_rdkit_utils) (5.1.0)\n",
      "Requirement already satisfied: nbformat in /Users/pwalters/opt/anaconda3/envs/test3/lib/python3.8/site-packages (from notebook->jupyter->useful_rdkit_utils) (5.7.0)\n",
      "Requirement already satisfied: argon2-cffi in /Users/pwalters/opt/anaconda3/envs/test3/lib/python3.8/site-packages (from notebook->jupyter->useful_rdkit_utils) (21.3.0)\n",
      "Requirement already satisfied: mistune<3,>=2.0.3 in /Users/pwalters/opt/anaconda3/envs/test3/lib/python3.8/site-packages (from nbconvert->jupyter->useful_rdkit_utils) (2.0.4)\n",
      "Requirement already satisfied: importlib-metadata>=3.6 in /Users/pwalters/opt/anaconda3/envs/test3/lib/python3.8/site-packages (from nbconvert->jupyter->useful_rdkit_utils) (5.1.0)\n",
      "Requirement already satisfied: defusedxml in /Users/pwalters/opt/anaconda3/envs/test3/lib/python3.8/site-packages (from nbconvert->jupyter->useful_rdkit_utils) (0.7.1)\n",
      "Requirement already satisfied: jupyterlab-pygments in /Users/pwalters/opt/anaconda3/envs/test3/lib/python3.8/site-packages (from nbconvert->jupyter->useful_rdkit_utils) (0.2.2)\n",
      "Requirement already satisfied: tinycss2 in /Users/pwalters/opt/anaconda3/envs/test3/lib/python3.8/site-packages (from nbconvert->jupyter->useful_rdkit_utils) (1.2.1)\n",
      "Requirement already satisfied: bleach in /Users/pwalters/opt/anaconda3/envs/test3/lib/python3.8/site-packages (from nbconvert->jupyter->useful_rdkit_utils) (5.0.1)\n",
      "Requirement already satisfied: beautifulsoup4 in /Users/pwalters/opt/anaconda3/envs/test3/lib/python3.8/site-packages (from nbconvert->jupyter->useful_rdkit_utils) (4.11.1)\n",
      "Requirement already satisfied: pandocfilters>=1.4.1 in /Users/pwalters/opt/anaconda3/envs/test3/lib/python3.8/site-packages (from nbconvert->jupyter->useful_rdkit_utils) (1.5.0)\n",
      "Requirement already satisfied: nbclient>=0.5.0 in /Users/pwalters/opt/anaconda3/envs/test3/lib/python3.8/site-packages (from nbconvert->jupyter->useful_rdkit_utils) (0.7.2)\n",
      "Requirement already satisfied: qtpy>=2.0.1 in /Users/pwalters/opt/anaconda3/envs/test3/lib/python3.8/site-packages (from qtconsole->jupyter->useful_rdkit_utils) (2.3.0)\n",
      "Requirement already satisfied: certifi>=2017.4.17 in /Users/pwalters/opt/anaconda3/envs/test3/lib/python3.8/site-packages (from requests->pystow->useful_rdkit_utils) (2022.9.24)\n",
      "Requirement already satisfied: idna<4,>=2.5 in /Users/pwalters/opt/anaconda3/envs/test3/lib/python3.8/site-packages (from requests->pystow->useful_rdkit_utils) (3.4)\n",
      "Requirement already satisfied: urllib3<1.27,>=1.21.1 in /Users/pwalters/opt/anaconda3/envs/test3/lib/python3.8/site-packages (from requests->pystow->useful_rdkit_utils) (1.26.13)\n",
      "Requirement already satisfied: charset-normalizer<3,>=2 in /Users/pwalters/opt/anaconda3/envs/test3/lib/python3.8/site-packages (from requests->pystow->useful_rdkit_utils) (2.1.1)\n",
      "Requirement already satisfied: zipp>=0.5 in /Users/pwalters/opt/anaconda3/envs/test3/lib/python3.8/site-packages (from importlib-metadata>=3.6->nbconvert->jupyter->useful_rdkit_utils) (3.11.0)\n",
      "Requirement already satisfied: parso<0.9.0,>=0.8.0 in /Users/pwalters/opt/anaconda3/envs/test3/lib/python3.8/site-packages (from jedi>=0.16->ipython>=4.0.0->ipywidgets<8,>=7->mols2grid) (0.8.3)\n",
      "Requirement already satisfied: entrypoints in /Users/pwalters/opt/anaconda3/envs/test3/lib/python3.8/site-packages (from jupyter-client>=6.1.12->ipykernel>=4.5.1->ipywidgets<8,>=7->mols2grid) (0.4)\n",
      "Requirement already satisfied: platformdirs>=2.5 in /Users/pwalters/opt/anaconda3/envs/test3/lib/python3.8/site-packages (from jupyter-core>=4.6.1->notebook->jupyter->useful_rdkit_utils) (2.5.4)\n",
      "Requirement already satisfied: jupyter-server>=1.8 in /Users/pwalters/opt/anaconda3/envs/test3/lib/python3.8/site-packages (from nbclassic>=0.4.7->notebook->jupyter->useful_rdkit_utils) (1.23.3)\n",
      "Requirement already satisfied: notebook-shim>=0.1.0 in /Users/pwalters/opt/anaconda3/envs/test3/lib/python3.8/site-packages (from nbclassic>=0.4.7->notebook->jupyter->useful_rdkit_utils) (0.2.2)\n",
      "Requirement already satisfied: jsonschema>=2.6 in /Users/pwalters/opt/anaconda3/envs/test3/lib/python3.8/site-packages (from nbformat->notebook->jupyter->useful_rdkit_utils) (4.17.3)\n",
      "Requirement already satisfied: fastjsonschema in /Users/pwalters/opt/anaconda3/envs/test3/lib/python3.8/site-packages (from nbformat->notebook->jupyter->useful_rdkit_utils) (2.16.2)\n",
      "Requirement already satisfied: ptyprocess>=0.5 in /Users/pwalters/opt/anaconda3/envs/test3/lib/python3.8/site-packages (from pexpect>4.3->ipython>=4.0.0->ipywidgets<8,>=7->mols2grid) (0.7.0)\n",
      "Requirement already satisfied: wcwidth in /Users/pwalters/opt/anaconda3/envs/test3/lib/python3.8/site-packages (from prompt-toolkit<3.1.0,>=3.0.11->ipython>=4.0.0->ipywidgets<8,>=7->mols2grid) (0.2.5)\n",
      "Requirement already satisfied: argon2-cffi-bindings in /Users/pwalters/opt/anaconda3/envs/test3/lib/python3.8/site-packages (from argon2-cffi->notebook->jupyter->useful_rdkit_utils) (21.2.0)\n",
      "Requirement already satisfied: soupsieve>1.2 in /Users/pwalters/opt/anaconda3/envs/test3/lib/python3.8/site-packages (from beautifulsoup4->nbconvert->jupyter->useful_rdkit_utils) (2.3.2.post1)\n",
      "Requirement already satisfied: webencodings in /Users/pwalters/opt/anaconda3/envs/test3/lib/python3.8/site-packages (from bleach->nbconvert->jupyter->useful_rdkit_utils) (0.5.1)\n",
      "Requirement already satisfied: asttokens>=2.1.0 in /Users/pwalters/opt/anaconda3/envs/test3/lib/python3.8/site-packages (from stack-data->ipython>=4.0.0->ipywidgets<8,>=7->mols2grid) (2.2.0)\n",
      "Requirement already satisfied: pure-eval in /Users/pwalters/opt/anaconda3/envs/test3/lib/python3.8/site-packages (from stack-data->ipython>=4.0.0->ipywidgets<8,>=7->mols2grid) (0.2.2)\n",
      "Requirement already satisfied: executing>=1.2.0 in /Users/pwalters/opt/anaconda3/envs/test3/lib/python3.8/site-packages (from stack-data->ipython>=4.0.0->ipywidgets<8,>=7->mols2grid) (1.2.0)\n",
      "Requirement already satisfied: importlib-resources>=1.4.0 in /Users/pwalters/opt/anaconda3/envs/test3/lib/python3.8/site-packages (from jsonschema>=2.6->nbformat->notebook->jupyter->useful_rdkit_utils) (5.10.0)\n",
      "Requirement already satisfied: pkgutil-resolve-name>=1.3.10 in /Users/pwalters/opt/anaconda3/envs/test3/lib/python3.8/site-packages (from jsonschema>=2.6->nbformat->notebook->jupyter->useful_rdkit_utils) (1.3.10)\n",
      "Requirement already satisfied: pyrsistent!=0.17.0,!=0.17.1,!=0.17.2,>=0.14.0 in /Users/pwalters/opt/anaconda3/envs/test3/lib/python3.8/site-packages (from jsonschema>=2.6->nbformat->notebook->jupyter->useful_rdkit_utils) (0.19.2)\n",
      "Requirement already satisfied: websocket-client in /Users/pwalters/opt/anaconda3/envs/test3/lib/python3.8/site-packages (from jupyter-server>=1.8->nbclassic>=0.4.7->notebook->jupyter->useful_rdkit_utils) (1.4.2)\n",
      "Requirement already satisfied: anyio<4,>=3.1.0 in /Users/pwalters/opt/anaconda3/envs/test3/lib/python3.8/site-packages (from jupyter-server>=1.8->nbclassic>=0.4.7->notebook->jupyter->useful_rdkit_utils) (3.6.2)\n",
      "Requirement already satisfied: cffi>=1.0.1 in /Users/pwalters/opt/anaconda3/envs/test3/lib/python3.8/site-packages (from argon2-cffi-bindings->argon2-cffi->notebook->jupyter->useful_rdkit_utils) (1.15.1)\n",
      "Requirement already satisfied: sniffio>=1.1 in /Users/pwalters/opt/anaconda3/envs/test3/lib/python3.8/site-packages (from anyio<4,>=3.1.0->jupyter-server>=1.8->nbclassic>=0.4.7->notebook->jupyter->useful_rdkit_utils) (1.3.0)\n",
      "Requirement already satisfied: pycparser in /Users/pwalters/opt/anaconda3/envs/test3/lib/python3.8/site-packages (from cffi>=1.0.1->argon2-cffi-bindings->argon2-cffi->notebook->jupyter->useful_rdkit_utils) (2.21)\n"
     ]
    }
   ],
   "source": [
    "!pip install useful_rdkit_utils mols2grid"
   ]
  },
  {
   "cell_type": "code",
   "execution_count": 4,
   "id": "8b4de6bc",
   "metadata": {},
   "outputs": [],
   "source": [
    "import pandas as pd\n",
    "from rdkit import Chem\n",
    "import mols2grid\n",
    "import useful_rdkit_utils as uru\n",
    "from tqdm.auto import tqdm\n",
    "from itertools import chain"
   ]
  },
  {
   "cell_type": "markdown",
   "id": "d80fcebe",
   "metadata": {},
   "source": [
    "In this notebook we'll analyze a set of marketed drugs from the ChEMBL database and find the most commonly occuring ring systems.  To do this, we'll follow these steps. \n",
    "1. Read the drugs as SMILES\n",
    "2. Convert the SMILES to RDKit Molecules\n",
    "3. Indentify the ring systems in the molecules\n",
    "4. Collect the individual ring systems and count their frequencies\n",
    "\n",
    "This analysis is similar to the one performed in Taylor, R. D., MacCoss, M., & Lawson, A. D. (2014). [Rings in drugs: Miniperspective](https://pubs.acs.org/doi/10.1021/jm4017625), Journal of Medicinal Chemistry, 57(14), 5845-5859."
   ]
  },
  {
   "cell_type": "markdown",
   "id": "9a024d6e",
   "metadata": {},
   "source": [
    "Enable progress_apply in Pandas"
   ]
  },
  {
   "cell_type": "code",
   "execution_count": 5,
   "id": "78623866",
   "metadata": {},
   "outputs": [],
   "source": [
    "tqdm.pandas()"
   ]
  },
  {
   "cell_type": "markdown",
   "id": "13fee674",
   "metadata": {},
   "source": [
    "### 1. Read drugs from ChEMBL as SMILES\n",
    "Read the drugs from the ChEMBL database"
   ]
  },
  {
   "cell_type": "code",
   "execution_count": 6,
   "id": "24c01157",
   "metadata": {},
   "outputs": [],
   "source": [
    "chembl_drugs_url = \"https://raw.githubusercontent.com/PatWalters/datafiles/main/chembl_drugs.smi\"\n",
    "df = pd.read_csv(chembl_drugs_url,sep=\" \",names=[\"SMILES\",\"Name\"])"
   ]
  },
  {
   "cell_type": "markdown",
   "id": "27472be6",
   "metadata": {},
   "source": [
    "### 2. Convert the SMILES to RDKit Molecules\n",
    "Add a molecule column to the dataframe"
   ]
  },
  {
   "cell_type": "code",
   "execution_count": 7,
   "id": "c7532978",
   "metadata": {},
   "outputs": [
    {
     "data": {
      "application/vnd.jupyter.widget-view+json": {
       "model_id": "b0449ce02ca743819b00f7bc4a508544",
       "version_major": 2,
       "version_minor": 0
      },
      "text/plain": [
       "  0%|          | 0/1203 [00:00<?, ?it/s]"
      ]
     },
     "metadata": {},
     "output_type": "display_data"
    }
   ],
   "source": [
    "df['mol'] = df.SMILES.progress_apply(Chem.MolFromSmiles)"
   ]
  },
  {
   "cell_type": "markdown",
   "id": "5355befe",
   "metadata": {},
   "source": [
    "### 3. Indentify the ring systems in the molecules\n",
    "Instantiate a RingSystemFinder object"
   ]
  },
  {
   "cell_type": "code",
   "execution_count": 8,
   "id": "7c4bc822",
   "metadata": {},
   "outputs": [],
   "source": [
    "ring_system_finder = uru.RingSystemFinder()"
   ]
  },
  {
   "cell_type": "markdown",
   "id": "72580a9b",
   "metadata": {},
   "source": [
    "Find the ring systems in the ChEMBL drugs"
   ]
  },
  {
   "cell_type": "code",
   "execution_count": 9,
   "id": "7e1ed04a",
   "metadata": {},
   "outputs": [
    {
     "data": {
      "application/vnd.jupyter.widget-view+json": {
       "model_id": "83891ddb79d1452cac3729dcb951991d",
       "version_major": 2,
       "version_minor": 0
      },
      "text/plain": [
       "  0%|          | 0/1203 [00:00<?, ?it/s]"
      ]
     },
     "metadata": {},
     "output_type": "display_data"
    }
   ],
   "source": [
    "df['ring_systems'] = df.mol.progress_apply(ring_system_finder.find_ring_systems)"
   ]
  },
  {
   "cell_type": "markdown",
   "id": "a335a91f",
   "metadata": {},
   "source": [
    "### 4. Collect the individual ring systems and count their frequencies\n",
    "The ring_system column in **df** is a list of lists.  We need to flatten that list so we can count the number of times each ring system occurs.  The **chain** method in the itertools package provides a convenient was to do this. "
   ]
  },
  {
   "cell_type": "code",
   "execution_count": 10,
   "id": "8fbcf98d",
   "metadata": {},
   "outputs": [
    {
     "data": {
      "text/plain": [
       "<itertools.chain at 0x7fee3203ba00>"
      ]
     },
     "execution_count": 10,
     "metadata": {},
     "output_type": "execute_result"
    }
   ],
   "source": [
    "ring_list = chain(*df.ring_systems.values)\n",
    "ring_list"
   ]
  },
  {
   "cell_type": "markdown",
   "id": "a589af2f",
   "metadata": {},
   "source": [
    "The **chain** method used above returns an iterator.  We can use that iterator to create a Pandas series. "
   ]
  },
  {
   "cell_type": "code",
   "execution_count": 11,
   "id": "eabd8005",
   "metadata": {},
   "outputs": [
    {
     "data": {
      "text/plain": [
       "0                           c1ccccc1\n",
       "1                           c1ccncc1\n",
       "2              O=C1CC(=O)NC(=O)[N-]1\n",
       "3              O=C1C=CC(=O)c2ccccc21\n",
       "4       O=c1[nH]c(=O)c2[nH]cnc2[nH]1\n",
       "                    ...             \n",
       "2453                        c1ccccc1\n",
       "2454                        c1ccccc1\n",
       "2455       O=c1[nH]c(=O)c2ccsc2[nH]1\n",
       "2456                        c1ccnnc1\n",
       "2457                        c1ccccc1\n",
       "Length: 2458, dtype: object"
      ]
     },
     "execution_count": 11,
     "metadata": {},
     "output_type": "execute_result"
    }
   ],
   "source": [
    "ring_series = pd.Series(ring_list)\n",
    "ring_series"
   ]
  },
  {
   "cell_type": "markdown",
   "id": "d742ac4f",
   "metadata": {},
   "source": [
    "Now that we have a Pandas series, we can use the value_counts method to count the occurences of the different ring systems."
   ]
  },
  {
   "cell_type": "code",
   "execution_count": 12,
   "id": "dddaab44",
   "metadata": {},
   "outputs": [
    {
     "data": {
      "text/plain": [
       "c1ccccc1                                                       911\n",
       "c1ccncc1                                                        94\n",
       "C1CNCCN1                                                        83\n",
       "C1CCNCC1                                                        74\n",
       "C1CC1                                                           48\n",
       "                                                              ... \n",
       "O=C1Nc2cccnc2Nc2ncccc21                                          1\n",
       "c1nc2c(s1)CCCC2                                                  1\n",
       "O=C1CCc2ccccc21                                                  1\n",
       "C=C1C[C@H]2[C@@H]3CCC(=O)[C@H]3CC[C@@H]2[C@H]2C=CC(=O)C=C12      1\n",
       "c1ccnnc1                                                         1\n",
       "Length: 415, dtype: int64"
      ]
     },
     "execution_count": 12,
     "metadata": {},
     "output_type": "execute_result"
    }
   ],
   "source": [
    "ring_series.value_counts()"
   ]
  },
  {
   "cell_type": "markdown",
   "id": "7dba5896",
   "metadata": {},
   "source": [
    "In order to make the **value_counts** output easier to work with, we'll convert it into a dataframe. "
   ]
  },
  {
   "cell_type": "code",
   "execution_count": 13,
   "id": "3cee125b",
   "metadata": {},
   "outputs": [
    {
     "data": {
      "text/html": [
       "<div>\n",
       "<style scoped>\n",
       "    .dataframe tbody tr th:only-of-type {\n",
       "        vertical-align: middle;\n",
       "    }\n",
       "\n",
       "    .dataframe tbody tr th {\n",
       "        vertical-align: top;\n",
       "    }\n",
       "\n",
       "    .dataframe thead th {\n",
       "        text-align: right;\n",
       "    }\n",
       "</style>\n",
       "<table border=\"1\" class=\"dataframe\">\n",
       "  <thead>\n",
       "    <tr style=\"text-align: right;\">\n",
       "      <th></th>\n",
       "      <th>SMILES</th>\n",
       "      <th>Count</th>\n",
       "    </tr>\n",
       "  </thead>\n",
       "  <tbody>\n",
       "    <tr>\n",
       "      <th>0</th>\n",
       "      <td>c1ccccc1</td>\n",
       "      <td>911</td>\n",
       "    </tr>\n",
       "    <tr>\n",
       "      <th>1</th>\n",
       "      <td>c1ccncc1</td>\n",
       "      <td>94</td>\n",
       "    </tr>\n",
       "    <tr>\n",
       "      <th>2</th>\n",
       "      <td>C1CNCCN1</td>\n",
       "      <td>83</td>\n",
       "    </tr>\n",
       "    <tr>\n",
       "      <th>3</th>\n",
       "      <td>C1CCNCC1</td>\n",
       "      <td>74</td>\n",
       "    </tr>\n",
       "    <tr>\n",
       "      <th>4</th>\n",
       "      <td>C1CC1</td>\n",
       "      <td>48</td>\n",
       "    </tr>\n",
       "    <tr>\n",
       "      <th>...</th>\n",
       "      <td>...</td>\n",
       "      <td>...</td>\n",
       "    </tr>\n",
       "    <tr>\n",
       "      <th>410</th>\n",
       "      <td>O=C1Nc2cccnc2Nc2ncccc21</td>\n",
       "      <td>1</td>\n",
       "    </tr>\n",
       "    <tr>\n",
       "      <th>411</th>\n",
       "      <td>c1nc2c(s1)CCCC2</td>\n",
       "      <td>1</td>\n",
       "    </tr>\n",
       "    <tr>\n",
       "      <th>412</th>\n",
       "      <td>O=C1CCc2ccccc21</td>\n",
       "      <td>1</td>\n",
       "    </tr>\n",
       "    <tr>\n",
       "      <th>413</th>\n",
       "      <td>C=C1C[C@H]2[C@@H]3CCC(=O)[C@H]3CC[C@@H]2[C@H]2...</td>\n",
       "      <td>1</td>\n",
       "    </tr>\n",
       "    <tr>\n",
       "      <th>414</th>\n",
       "      <td>c1ccnnc1</td>\n",
       "      <td>1</td>\n",
       "    </tr>\n",
       "  </tbody>\n",
       "</table>\n",
       "<p>415 rows × 2 columns</p>\n",
       "</div>"
      ],
      "text/plain": [
       "                                                SMILES  Count\n",
       "0                                             c1ccccc1    911\n",
       "1                                             c1ccncc1     94\n",
       "2                                             C1CNCCN1     83\n",
       "3                                             C1CCNCC1     74\n",
       "4                                                C1CC1     48\n",
       "..                                                 ...    ...\n",
       "410                            O=C1Nc2cccnc2Nc2ncccc21      1\n",
       "411                                    c1nc2c(s1)CCCC2      1\n",
       "412                                    O=C1CCc2ccccc21      1\n",
       "413  C=C1C[C@H]2[C@@H]3CCC(=O)[C@H]3CC[C@@H]2[C@H]2...      1\n",
       "414                                           c1ccnnc1      1\n",
       "\n",
       "[415 rows x 2 columns]"
      ]
     },
     "execution_count": 13,
     "metadata": {},
     "output_type": "execute_result"
    }
   ],
   "source": [
    "ring_df = pd.DataFrame(ring_series.value_counts()).reset_index()\n",
    "ring_df.columns = [\"SMILES\",\"Count\"]\n",
    "ring_df"
   ]
  },
  {
   "cell_type": "markdown",
   "id": "967e59ea",
   "metadata": {},
   "source": [
    "Now that we have our results in a dataframe, we can use mols2grid to display the chemical structures of the ring systems along with the associated counts. "
   ]
  },
  {
   "cell_type": "code",
   "execution_count": 14,
   "id": "f13099ac",
   "metadata": {},
   "outputs": [
    {
     "data": {
      "application/vnd.jupyter.widget-view+json": {
       "model_id": "c61daf162aff41c98716663e98ea970e",
       "version_major": 2,
       "version_minor": 0
      },
      "text/plain": [
       "MolGridWidget()"
      ]
     },
     "metadata": {},
     "output_type": "display_data"
    },
    {
     "data": {
      "text/html": [
       "<iframe class=\"mols2grid-iframe\" frameborder=\"0\" width=\"100%\"\n",
       "\n",
       "height=\"200\"\n",
       "\n",
       "\n",
       "allow=\"clipboard-write\"\n",
       "\n",
       "srcdoc=\"&lt;html&gt;\n",
       "  &lt;meta charset=&quot;utf-8&quot;&gt;\n",
       "  &lt;head&gt;\n",
       "    &lt;style&gt;\n",
       "    #mols2grid.gridcontainer {\n",
       "    display: block;\n",
       "    padding-left: 1em;\n",
       "    max-width: 820px;\n",
       "    width: 820px;\n",
       "}\n",
       "#mols2grid .cell {\n",
       "    border: 1px solid #cccccc;\n",
       "    text-align: center;\n",
       "    vertical-align: top;\n",
       "    max-width: 160px;\n",
       "    width: 160px;\n",
       "    font-family: &#x27;DejaVu&#x27;, sans-serif;\n",
       "    font-size: 12pt;\n",
       "    padding: 0;\n",
       "    margin: 0px;\n",
       "    float: left;\n",
       "}\n",
       "#mols2grid .cell:hover {\n",
       "    background-color: #e7e7e7 !important;\n",
       "}\n",
       "#mols2grid .cell .data-img {\n",
       "    padding: 0;\n",
       "    margin: 0;\n",
       "}\n",
       "#mols2grid .cell img, #mols2grid .cell svg {\n",
       "    max-width: 100%;\n",
       "    height: auto;\n",
       "    padding: 0;\n",
       "}\n",
       "#mols2grid .data {\n",
       "    overflow: hidden;\n",
       "    white-space: nowrap;\n",
       "    text-overflow: ellipsis;\n",
       "    display: block;\n",
       "}\n",
       "#mols2grid .arrow-asc:after {\n",
       "    content: &#x27;↑&#x27;;\n",
       "    text-align: right;\n",
       "    float:right;\n",
       "}\n",
       "#mols2grid .arrow-desc:after {\n",
       "    content: &#x27;↓&#x27;;\n",
       "    text-align: right;\n",
       "    float:right;\n",
       "}\n",
       "    /* custom CSS */\n",
       "    \n",
       "    &lt;/style&gt;\n",
       "    &lt;script src=&quot;https://cdnjs.cloudflare.com/ajax/libs/list.js/2.3.1/list.min.js&quot;&gt;&lt;/script&gt;\n",
       "&lt;script src=&quot;https://code.jquery.com/jquery-3.6.0.min.js&quot; integrity=&quot;sha256-/xUj+3OJU5yExlq6GSYGSHk7tPXikynS7ogEvDej/m4=&quot; crossorigin=&quot;anonymous&quot;&gt;&lt;/script&gt;\n",
       "&lt;script&gt;\n",
       "    function fit_height(obj) {\n",
       "        obj.style.height = 0;\n",
       "        var height = obj.contentDocument.body.scrollHeight + 18 + &#x27;px&#x27;;\n",
       "        obj.style.height = height;\n",
       "    }\n",
       "&lt;/script&gt;\n",
       "&lt;link rel=&quot;stylesheet&quot; href=&quot;https://cdn.jsdelivr.net/npm/bootstrap@4.6.0/dist/css/bootstrap.min.css&quot; integrity=&quot;sha384-B0vP5xmATw1+K9KRQjQERJvTumQW0nPEzvF6L/Z6nronJ3oUOFUFpCjEUQouq2+l&quot; crossorigin=&quot;anonymous&quot;&gt;\n",
       "&lt;script src=&quot;https://cdn.jsdelivr.net/npm/bootstrap@4.6.0/dist/js/bootstrap.bundle.min.js&quot; integrity=&quot;sha384-Piv4xVNRyMGpqkS2by6br4gNJ7DXjqk09RmUpJ8jgGtD7zP9yug3goQfGII0yAns&quot; crossorigin=&quot;anonymous&quot;&gt;&lt;/script&gt;\n",
       "&lt;script src=&quot;https://unpkg.com/@rdkit/rdkit@2022.3.1/Code/MinimalLib/dist/RDKit_minimal.js&quot;&gt;&lt;/script&gt;\n",
       "    &lt;!-- custom header --&gt;\n",
       "    \n",
       "  &lt;/head&gt;\n",
       "  &lt;body&gt;\n",
       "    &lt;div id=&quot;mols2grid&quot; class=&quot;gridcontainer grid-default&quot;&gt;\n",
       "      &lt;div class=&quot;row mb-3&quot;&gt;\n",
       "        &lt;div class=&quot;list&quot;&gt;&lt;div class=&quot;cell&quot; data-mols2grid-id=&quot;0&quot;&gt;&lt;div class=&quot;data data-img&quot;&gt;&lt;/div&gt;&lt;div class=&quot;data data-Count&quot;&gt;&lt;/div&gt;&lt;div class=&quot;data data-SMILES&quot; style=&quot;display: none;&quot;&gt;&lt;/div&gt;&lt;/div&gt;&lt;/div&gt;\n",
       "      &lt;/div&gt;\n",
       "      &lt;div class=&quot;d-inline&quot;&gt;\n",
       "        &lt;ul class=&quot;pagination float-left&quot;&gt;&lt;/ul&gt;\n",
       "        &lt;div id=&quot;controls&quot; class=&quot;d-flex flex-row float-right&quot;&gt;\n",
       "          \n",
       "          &lt;div id=&quot;sort-dropdown&quot; class=&quot;dropdown pl-2&quot;&gt;\n",
       "            &lt;button class=&quot;btn btn-light dropdown-toggle&quot; type=&quot;button&quot; id=&quot;sortDropdown&quot; data-toggle=&quot;dropdown&quot; aria-haspopup=&quot;true&quot; aria-expanded=&quot;false&quot;&gt;\n",
       "              Sort by\n",
       "            &lt;/button&gt;\n",
       "            &lt;div class=&quot;dropdown-menu&quot; aria-labelledby=&quot;sortDropdownMenu&quot;&gt;\n",
       "              \n",
       "              \n",
       "              \n",
       "              \n",
       "              \n",
       "              &lt;button class=&quot;dropdown-item sort-btn arrow-asc active&quot; type=&quot;button&quot; data-name=&quot;mols2grid-id&quot;&gt;Index&lt;/button&gt;\n",
       "              \n",
       "              \n",
       "              \n",
       "              \n",
       "              \n",
       "              &lt;button class=&quot;dropdown-item sort-btn &quot; type=&quot;button&quot; data-name=&quot;data-Count&quot;&gt;Count&lt;/button&gt;\n",
       "              \n",
       "              \n",
       "              \n",
       "            &lt;/div&gt;\n",
       "          &lt;/div&gt;\n",
       "          &lt;div class=&quot;input-group row pl-4&quot;&gt;\n",
       "            &lt;input type=&quot;text&quot; id=&quot;searchbar&quot; class=&quot;form-control&quot; placeholder=&quot;Search&quot; aria-label=&quot;Search&quot; aria-describedby=&quot;basic-addon1&quot;&gt;\n",
       "            &lt;div class=&quot;input-group-append&quot;&gt;\n",
       "              &lt;button id=&quot;searchBtn&quot; class=&quot;btn btn-light dropdown-toggle&quot; type=&quot;button&quot; data-toggle=&quot;dropdown&quot; aria-haspopup=&quot;true&quot; aria-expanded=&quot;false&quot;&gt;🔎&lt;/button&gt;\n",
       "              &lt;div class=&quot;dropdown-menu dropdown-menu-right&quot;&gt;\n",
       "                &lt;button id=&quot;txtSearch&quot; class=&quot;search-btn dropdown-item active&quot;&gt;Text&lt;/button&gt;\n",
       "                &lt;button id=&quot;smartsSearch&quot; class=&quot;search-btn dropdown-item&quot;&gt;SMARTS&lt;/button&gt;\n",
       "              &lt;/div&gt;\n",
       "            &lt;/div&gt;\n",
       "          &lt;/div&gt;\n",
       "        &lt;/div&gt;\n",
       "      &lt;/div&gt;\n",
       "    &lt;/div&gt;\n",
       "    &lt;script&gt;\n",
       "    // list.js\n",
       "var listObj = new List(&#x27;mols2grid&#x27;, {\n",
       "    valueNames: [{data: [&#x27;mols2grid-id&#x27;]}, &#x27;data-img&#x27;, &#x27;data-Count&#x27;, &#x27;data-SMILES&#x27;],\n",
       "    item: &#x27;&lt;div class=&quot;cell&quot; data-mols2grid-id=&quot;0&quot;&gt;&lt;div class=&quot;data data-img&quot;&gt;&lt;/div&gt;&lt;div class=&quot;data data-Count&quot;&gt;&lt;/div&gt;&lt;div class=&quot;data data-SMILES&quot; style=&quot;display: none;&quot;&gt;&lt;/div&gt;&lt;/div&gt;&#x27;,\n",
       "    page: 15,\n",
       "    pagination: {\n",
       "        name: &quot;pagination&quot;,\n",
       "        item: &#x27;&lt;li class=&quot;page-item&quot;&gt;&lt;a class=&quot;page page-link&quot; href=&quot;#&quot; onclick=&quot;event.preventDefault()&quot;&gt;&lt;/a&gt;&lt;/li&gt;&#x27;,\n",
       "        innerWindow: 1,\n",
       "        outerWindow: 1,\n",
       "    },\n",
       "});\n",
       "listObj.remove(&quot;mols2grid-id&quot;, &quot;0&quot;);\n",
       "listObj.add([{&quot;data-img&quot;: null, &quot;mols2grid-id&quot;: 0, &quot;data-Count&quot;: 911, &quot;data-SMILES&quot;: &quot;c1ccccc1&quot;}, {&quot;data-img&quot;: null, &quot;mols2grid-id&quot;: 1, &quot;data-Count&quot;: 94, &quot;data-SMILES&quot;: &quot;c1ccncc1&quot;}, {&quot;data-img&quot;: null, &quot;mols2grid-id&quot;: 2, &quot;data-Count&quot;: 83, &quot;data-SMILES&quot;: &quot;C1CNCCN1&quot;}, {&quot;data-img&quot;: null, &quot;mols2grid-id&quot;: 3, &quot;data-Count&quot;: 74, &quot;data-SMILES&quot;: &quot;C1CCNCC1&quot;}, {&quot;data-img&quot;: null, &quot;mols2grid-id&quot;: 4, &quot;data-Count&quot;: 48, &quot;data-SMILES&quot;: &quot;C1CC1&quot;}, {&quot;data-img&quot;: null, &quot;mols2grid-id&quot;: 5, &quot;data-Count&quot;: 47, &quot;data-SMILES&quot;: &quot;C1CCOCC1&quot;}, {&quot;data-img&quot;: null, &quot;mols2grid-id&quot;: 6, &quot;data-Count&quot;: 45, &quot;data-SMILES&quot;: &quot;C1CCCCC1&quot;}, {&quot;data-img&quot;: null, &quot;mols2grid-id&quot;: 7, &quot;data-Count&quot;: 39, &quot;data-SMILES&quot;: &quot;c1cncnc1&quot;}, {&quot;data-img&quot;: null, &quot;mols2grid-id&quot;: 8, &quot;data-Count&quot;: 38, &quot;data-SMILES&quot;: &quot;C1CCNC1&quot;}, {&quot;data-img&quot;: null, &quot;mols2grid-id&quot;: 9, &quot;data-Count&quot;: 27, &quot;data-SMILES&quot;: &quot;c1ccc2ncccc2c1&quot;}, {&quot;data-img&quot;: null, &quot;mols2grid-id&quot;: 10, &quot;data-Count&quot;: 25, &quot;data-SMILES&quot;: &quot;c1c[nH]cn1&quot;}, {&quot;data-img&quot;: null, &quot;mols2grid-id&quot;: 11, &quot;data-Count&quot;: 24, &quot;data-SMILES&quot;: &quot;c1cscn1&quot;}, {&quot;data-img&quot;: null, &quot;mols2grid-id&quot;: 12, &quot;data-Count&quot;: 23, &quot;data-SMILES&quot;: &quot;C1CCOC1&quot;}, {&quot;data-img&quot;: null, &quot;mols2grid-id&quot;: 13, &quot;data-Count&quot;: 23, &quot;data-SMILES&quot;: &quot;c1ccc2c(c1)Nc1ccccc1S2&quot;}, {&quot;data-img&quot;: null, &quot;mols2grid-id&quot;: 14, &quot;data-Count&quot;: 20, &quot;data-SMILES&quot;: &quot;c1ccc2ccccc2c1&quot;}, {&quot;data-img&quot;: null, &quot;mols2grid-id&quot;: 15, &quot;data-Count&quot;: 20, &quot;data-SMILES&quot;: &quot;c1ccc2[nH]ccc2c1&quot;}, {&quot;data-img&quot;: null, &quot;mols2grid-id&quot;: 16, &quot;data-Count&quot;: 17, &quot;data-SMILES&quot;: &quot;c1ccc2[nH]cnc2c1&quot;}, {&quot;data-img&quot;: null, &quot;mols2grid-id&quot;: 17, &quot;data-Count&quot;: 17, &quot;data-SMILES&quot;: &quot;c1cn[nH]c1&quot;}, {&quot;data-img&quot;: null, &quot;mols2grid-id&quot;: 18, &quot;data-Count&quot;: 16, &quot;data-SMILES&quot;: &quot;O=C1C[C@H]2SCCN12&quot;}, {&quot;data-img&quot;: null, &quot;mols2grid-id&quot;: 19, &quot;data-Count&quot;: 15, &quot;data-SMILES&quot;: &quot;O=C1C2=C[C@@H]3C(=O)C=CC[C@@H]3C[C@@H]2Cc2ccccc21&quot;}, {&quot;data-img&quot;: null, &quot;mols2grid-id&quot;: 20, &quot;data-Count&quot;: 14, &quot;data-SMILES&quot;: &quot;C1COCCN1&quot;}, {&quot;data-img&quot;: null, &quot;mols2grid-id&quot;: 21, &quot;data-Count&quot;: 13, &quot;data-SMILES&quot;: &quot;O=C1C[C@H]2SCC=CN12&quot;}, {&quot;data-img&quot;: null, &quot;mols2grid-id&quot;: 22, &quot;data-Count&quot;: 13, &quot;data-SMILES&quot;: &quot;c1nc[nH]n1&quot;}, {&quot;data-img&quot;: null, &quot;mols2grid-id&quot;: 23, &quot;data-Count&quot;: 12, &quot;data-SMILES&quot;: &quot;c1ccc2ncncc2c1&quot;}, {&quot;data-img&quot;: null, &quot;mols2grid-id&quot;: 24, &quot;data-Count&quot;: 12, &quot;data-SMILES&quot;: &quot;O=C1C=C2CC[C@H]3[C@@H]4CCC[C@H]4CC[C@@H]3[C@H]2CC1&quot;}, {&quot;data-img&quot;: null, &quot;mols2grid-id&quot;: 25, &quot;data-Count&quot;: 12, &quot;data-SMILES&quot;: &quot;c1ncc2nc[nH]c2n1&quot;}, {&quot;data-img&quot;: null, &quot;mols2grid-id&quot;: 26, &quot;data-Count&quot;: 12, &quot;data-SMILES&quot;: &quot;C1CCCC1&quot;}, {&quot;data-img&quot;: null, &quot;mols2grid-id&quot;: 27, &quot;data-Count&quot;: 11, &quot;data-SMILES&quot;: &quot;O=c1cc[nH]c2ccccc12&quot;}, {&quot;data-img&quot;: null, &quot;mols2grid-id&quot;: 28, &quot;data-Count&quot;: 10, &quot;data-SMILES&quot;: &quot;O=C1C=C[C@H]2C(=C1)CC[C@H]1[C@@H]3CCC[C@H]3CC[C@@H]12&quot;}, {&quot;data-img&quot;: null, &quot;mols2grid-id&quot;: 29, &quot;data-Count&quot;: 10, &quot;data-SMILES&quot;: &quot;C1=CCCCC1&quot;}, {&quot;data-img&quot;: null, &quot;mols2grid-id&quot;: 30, &quot;data-Count&quot;: 10, &quot;data-SMILES&quot;: &quot;c1ccoc1&quot;}, {&quot;data-img&quot;: null, &quot;mols2grid-id&quot;: 31, &quot;data-Count&quot;: 10, &quot;data-SMILES&quot;: &quot;O=c1cc[nH]c(=O)[nH]1&quot;}, {&quot;data-img&quot;: null, &quot;mols2grid-id&quot;: 32, &quot;data-Count&quot;: 10, &quot;data-SMILES&quot;: &quot;C1=CNC=CC1&quot;}, {&quot;data-img&quot;: null, &quot;mols2grid-id&quot;: 33, &quot;data-Count&quot;: 10, &quot;data-SMILES&quot;: &quot;O=c1[nH]c(=O)c2[nH]cnc2[nH]1&quot;}, {&quot;data-img&quot;: null, &quot;mols2grid-id&quot;: 34, &quot;data-Count&quot;: 10, &quot;data-SMILES&quot;: &quot;c1cnoc1&quot;}, {&quot;data-img&quot;: null, &quot;mols2grid-id&quot;: 35, &quot;data-Count&quot;: 9, &quot;data-SMILES&quot;: &quot;c1cnccn1&quot;}, {&quot;data-img&quot;: null, &quot;mols2grid-id&quot;: 36, &quot;data-Count&quot;: 9, &quot;data-SMILES&quot;: &quot;O=C1CN=Cc2ccccc2N1&quot;}, {&quot;data-img&quot;: null, &quot;mols2grid-id&quot;: 37, &quot;data-Count&quot;: 9, &quot;data-SMILES&quot;: &quot;O=C1CC[C@H]2[C@H]3Cc4cccc5c4[C@@]2(CCN3)[C@H]1O5&quot;}, {&quot;data-img&quot;: null, &quot;mols2grid-id&quot;: 38, &quot;data-Count&quot;: 8, &quot;data-SMILES&quot;: &quot;c1ccc2[n-]cnc2c1&quot;}, {&quot;data-img&quot;: null, &quot;mols2grid-id&quot;: 39, &quot;data-Count&quot;: 7, &quot;data-SMILES&quot;: &quot;c1ccc2c(c1)OCO2&quot;}, {&quot;data-img&quot;: null, &quot;mols2grid-id&quot;: 40, &quot;data-Count&quot;: 7, &quot;data-SMILES&quot;: &quot;c1ccsc1&quot;}, {&quot;data-img&quot;: null, &quot;mols2grid-id&quot;: 41, &quot;data-Count&quot;: 7, &quot;data-SMILES&quot;: &quot;O=S1(=O)NCNc2ccccc21&quot;}, {&quot;data-img&quot;: null, &quot;mols2grid-id&quot;: 42, &quot;data-Count&quot;: 7, &quot;data-SMILES&quot;: &quot;c1ccc2c(c1)CCc1ccccc1N2&quot;}, {&quot;data-img&quot;: null, &quot;mols2grid-id&quot;: 43, &quot;data-Count&quot;: 7, &quot;data-SMILES&quot;: &quot;C1CN2CCC1CC2&quot;}, {&quot;data-img&quot;: null, &quot;mols2grid-id&quot;: 44, &quot;data-Count&quot;: 7, &quot;data-SMILES&quot;: &quot;c1ccc2c(c1)CC[C@H]1[C@@H]3CCC[C@H]3CC[C@H]21&quot;}, {&quot;data-img&quot;: null, &quot;mols2grid-id&quot;: 45, &quot;data-Count&quot;: 6, &quot;data-SMILES&quot;: &quot;c1cc[nH]c1&quot;}, {&quot;data-img&quot;: null, &quot;mols2grid-id&quot;: 46, &quot;data-Count&quot;: 6, &quot;data-SMILES&quot;: &quot;O=C1NCCO1&quot;}, {&quot;data-img&quot;: null, &quot;mols2grid-id&quot;: 47, &quot;data-Count&quot;: 6, &quot;data-SMILES&quot;: &quot;O=c1ccc2ccccc2o1&quot;}, {&quot;data-img&quot;: null, &quot;mols2grid-id&quot;: 48, &quot;data-Count&quot;: 6, &quot;data-SMILES&quot;: &quot;O=c1nccc[nH]1&quot;}, {&quot;data-img&quot;: null, &quot;mols2grid-id&quot;: 49, &quot;data-Count&quot;: 6, &quot;data-SMILES&quot;: &quot;C=C1CCC[C@@H]2CCC[C@@H]12&quot;}, {&quot;data-img&quot;: null, &quot;mols2grid-id&quot;: 50, &quot;data-Count&quot;: 6, &quot;data-SMILES&quot;: &quot;C1CNC1&quot;}, {&quot;data-img&quot;: null, &quot;mols2grid-id&quot;: 51, &quot;data-Count&quot;: 5, &quot;data-SMILES&quot;: &quot;O=C1CCCCCCCC(=O)OCCCC1&quot;}, {&quot;data-img&quot;: null, &quot;mols2grid-id&quot;: 52, &quot;data-Count&quot;: 5, &quot;data-SMILES&quot;: &quot;C=C1CCCCC1=C&quot;}, {&quot;data-img&quot;: null, &quot;mols2grid-id&quot;: 53, &quot;data-Count&quot;: 5, &quot;data-SMILES&quot;: &quot;C1=C2c3cccc4[nH]cc(c34)C[C@H]2NCC1&quot;}, {&quot;data-img&quot;: null, &quot;mols2grid-id&quot;: 54, &quot;data-Count&quot;: 5, &quot;data-SMILES&quot;: &quot;C1=C[C@H]2[C@H]3Cc4cccc5c4[C@@]2(CCN3)[C@H](C1)O5&quot;}, {&quot;data-img&quot;: null, &quot;mols2grid-id&quot;: 55, &quot;data-Count&quot;: 5, &quot;data-SMILES&quot;: &quot;O=C1CCCC(=O)N1&quot;}, {&quot;data-img&quot;: null, &quot;mols2grid-id&quot;: 56, &quot;data-Count&quot;: 5, &quot;data-SMILES&quot;: &quot;O=C1C=CCO1&quot;}, {&quot;data-img&quot;: null, &quot;mols2grid-id&quot;: 57, &quot;data-Count&quot;: 5, &quot;data-SMILES&quot;: &quot;O=c1[nH]cn[nH]1&quot;}, {&quot;data-img&quot;: null, &quot;mols2grid-id&quot;: 58, &quot;data-Count&quot;: 4, &quot;data-SMILES&quot;: &quot;O=c1ccoc2ccccc12&quot;}, {&quot;data-img&quot;: null, &quot;mols2grid-id&quot;: 59, &quot;data-Count&quot;: 4, &quot;data-SMILES&quot;: &quot;C1C2CC3CC1CC(C2)C3&quot;}, {&quot;data-img&quot;: null, &quot;mols2grid-id&quot;: 60, &quot;data-Count&quot;: 4, &quot;data-SMILES&quot;: &quot;c1ncc2cc[nH]c2n1&quot;}, {&quot;data-img&quot;: null, &quot;mols2grid-id&quot;: 61, &quot;data-Count&quot;: 4, &quot;data-SMILES&quot;: &quot;O=c1cc[nH]c2ncccc12&quot;}, {&quot;data-img&quot;: null, &quot;mols2grid-id&quot;: 62, &quot;data-Count&quot;: 4, &quot;data-SMILES&quot;: &quot;c1ccc2c(c1)CCC2&quot;}, {&quot;data-img&quot;: null, &quot;mols2grid-id&quot;: 63, &quot;data-Count&quot;: 4, &quot;data-SMILES&quot;: &quot;C1CC[C@H]2[C@@H](C1)CC[C@@H]1[C@@H]2CC[C@@H]2CCC[C@H]21&quot;}, {&quot;data-img&quot;: null, &quot;mols2grid-id&quot;: 64, &quot;data-Count&quot;: 4, &quot;data-SMILES&quot;: &quot;c1ccc2oncc2c1&quot;}, {&quot;data-img&quot;: null, &quot;mols2grid-id&quot;: 65, &quot;data-Count&quot;: 4, &quot;data-SMILES&quot;: &quot;O=C1CNC(=O)N1&quot;}, {&quot;data-img&quot;: null, &quot;mols2grid-id&quot;: 66, &quot;data-Count&quot;: 4, &quot;data-SMILES&quot;: &quot;O=c1cccc[nH]1&quot;}, {&quot;data-img&quot;: null, &quot;mols2grid-id&quot;: 67, &quot;data-Count&quot;: 4, &quot;data-SMILES&quot;: &quot;O=C1CC(=O)NC(=O)N1&quot;}, {&quot;data-img&quot;: null, &quot;mols2grid-id&quot;: 68, &quot;data-Count&quot;: 4, &quot;data-SMILES&quot;: &quot;c1nn[nH]n1&quot;}, {&quot;data-img&quot;: null, &quot;mols2grid-id&quot;: 69, &quot;data-Count&quot;: 4, &quot;data-SMILES&quot;: &quot;O=C1CCC(=O)N1&quot;}, {&quot;data-img&quot;: null, &quot;mols2grid-id&quot;: 70, &quot;data-Count&quot;: 3, &quot;data-SMILES&quot;: &quot;c1ncon1&quot;}, {&quot;data-img&quot;: null, &quot;mols2grid-id&quot;: 71, &quot;data-Count&quot;: 3, &quot;data-SMILES&quot;: &quot;c1nnn[nH]1&quot;}, {&quot;data-img&quot;: null, &quot;mols2grid-id&quot;: 72, &quot;data-Count&quot;: 3, &quot;data-SMILES&quot;: &quot;C1C[C@@H]2CC[C@H](C1)N2&quot;}, {&quot;data-img&quot;: null, &quot;mols2grid-id&quot;: 73, &quot;data-Count&quot;: 3, &quot;data-SMILES&quot;: &quot;c1ccc2c3c([nH]c2c1)[C@H]1C[C@@H]2CCCC[C@@H]2CN1CC3&quot;}, {&quot;data-img&quot;: null, &quot;mols2grid-id&quot;: 74, &quot;data-Count&quot;: 3, &quot;data-SMILES&quot;: &quot;c1ncc2[nH]cnc2n1&quot;}, {&quot;data-img&quot;: null, &quot;mols2grid-id&quot;: 75, &quot;data-Count&quot;: 3, &quot;data-SMILES&quot;: &quot;c1ccc2c(c1)CCNC2&quot;}, {&quot;data-img&quot;: null, &quot;mols2grid-id&quot;: 76, &quot;data-Count&quot;: 3, &quot;data-SMILES&quot;: &quot;c1ccc2c(c1)Cc1ccccc1-2&quot;}, {&quot;data-img&quot;: null, &quot;mols2grid-id&quot;: 77, &quot;data-Count&quot;: 3, &quot;data-SMILES&quot;: &quot;c1ccc2c(c1)OCCO2&quot;}, {&quot;data-img&quot;: null, &quot;mols2grid-id&quot;: 78, &quot;data-Count&quot;: 3, &quot;data-SMILES&quot;: &quot;C1=CC2=CCCC[C@@H]2CC1&quot;}, {&quot;data-img&quot;: null, &quot;mols2grid-id&quot;: 79, &quot;data-Count&quot;: 3, &quot;data-SMILES&quot;: &quot;O=C1/C=C\\\\C=C\\\\CCCCCCCC/C=C/O[C@H]2Oc3ccc4cc(ccc4c3C2=O)N1&quot;}, {&quot;data-img&quot;: null, &quot;mols2grid-id&quot;: 80, &quot;data-Count&quot;: 3, &quot;data-SMILES&quot;: &quot;O=C1C=C2CC[C@@H]3C(=C2CC1)CC[C@@H]1CCC[C@H]13&quot;}, {&quot;data-img&quot;: null, &quot;mols2grid-id&quot;: 81, &quot;data-Count&quot;: 3, &quot;data-SMILES&quot;: &quot;C1=NCCN1&quot;}, {&quot;data-img&quot;: null, &quot;mols2grid-id&quot;: 82, &quot;data-Count&quot;: 3, &quot;data-SMILES&quot;: &quot;c1ccc2ocnc2c1&quot;}, {&quot;data-img&quot;: null, &quot;mols2grid-id&quot;: 83, &quot;data-Count&quot;: 3, &quot;data-SMILES&quot;: &quot;O=C1CCc2ccccc2N1&quot;}, {&quot;data-img&quot;: null, &quot;mols2grid-id&quot;: 84, &quot;data-Count&quot;: 3, &quot;data-SMILES&quot;: &quot;C1=Nc2ccccc2Oc2ccccc21&quot;}, {&quot;data-img&quot;: null, &quot;mols2grid-id&quot;: 85, &quot;data-Count&quot;: 3, &quot;data-SMILES&quot;: &quot;c1ccc2occc2c1&quot;}, {&quot;data-img&quot;: null, &quot;mols2grid-id&quot;: 86, &quot;data-Count&quot;: 3, &quot;data-SMILES&quot;: &quot;c1ccc2c(c1)CCc1cccnc1C2=C1CCNCC1&quot;}, {&quot;data-img&quot;: null, &quot;mols2grid-id&quot;: 87, &quot;data-Count&quot;: 3, &quot;data-SMILES&quot;: &quot;O=C1C=CC(=O)c2ccccc21&quot;}, {&quot;data-img&quot;: null, &quot;mols2grid-id&quot;: 88, &quot;data-Count&quot;: 3, &quot;data-SMILES&quot;: &quot;O=C1CC(=O)NC(=O)[N-]1&quot;}, {&quot;data-img&quot;: null, &quot;mols2grid-id&quot;: 89, &quot;data-Count&quot;: 3, &quot;data-SMILES&quot;: &quot;C1=NCc2nncn2-c2ccccc21&quot;}, {&quot;data-img&quot;: null, &quot;mols2grid-id&quot;: 90, &quot;data-Count&quot;: 3, &quot;data-SMILES&quot;: &quot;c1ccc2c(c1)[nH]c1ccccc12&quot;}, {&quot;data-img&quot;: null, &quot;mols2grid-id&quot;: 91, &quot;data-Count&quot;: 3, &quot;data-SMILES&quot;: &quot;c1ccc2c(c1)CCCC2&quot;}, {&quot;data-img&quot;: null, &quot;mols2grid-id&quot;: 92, &quot;data-Count&quot;: 3, &quot;data-SMILES&quot;: &quot;O=C1CCCN1&quot;}, {&quot;data-img&quot;: null, &quot;mols2grid-id&quot;: 93, &quot;data-Count&quot;: 3, &quot;data-SMILES&quot;: &quot;c1cc2c(s1)CCNC2&quot;}, {&quot;data-img&quot;: null, &quot;mols2grid-id&quot;: 94, &quot;data-Count&quot;: 3, &quot;data-SMILES&quot;: &quot;C1CCC1&quot;}, {&quot;data-img&quot;: null, &quot;mols2grid-id&quot;: 95, &quot;data-Count&quot;: 3, &quot;data-SMILES&quot;: &quot;C1CC[C@@H]2CNCC[C@@H]2C1&quot;}, {&quot;data-img&quot;: null, &quot;mols2grid-id&quot;: 96, &quot;data-Count&quot;: 3, &quot;data-SMILES&quot;: &quot;c1ccc2c(c1)CCO2&quot;}, {&quot;data-img&quot;: null, &quot;mols2grid-id&quot;: 97, &quot;data-Count&quot;: 3, &quot;data-SMILES&quot;: &quot;c1cnc2[nH]ccc2c1&quot;}, {&quot;data-img&quot;: null, &quot;mols2grid-id&quot;: 98, &quot;data-Count&quot;: 3, &quot;data-SMILES&quot;: &quot;O=C1CN2C(=O)CO[C@H]2[C@@H]2CCCN12&quot;}, {&quot;data-img&quot;: null, &quot;mols2grid-id&quot;: 99, &quot;data-Count&quot;: 3, &quot;data-SMILES&quot;: &quot;c1cc[nH+]cc1&quot;}, {&quot;data-img&quot;: null, &quot;mols2grid-id&quot;: 100, &quot;data-Count&quot;: 3, &quot;data-SMILES&quot;: &quot;C1C[C@H]2OCC[C@H]2O1&quot;}, {&quot;data-img&quot;: null, &quot;mols2grid-id&quot;: 101, &quot;data-Count&quot;: 3, &quot;data-SMILES&quot;: &quot;c1ccc2[nH]ncc2c1&quot;}, {&quot;data-img&quot;: null, &quot;mols2grid-id&quot;: 102, &quot;data-Count&quot;: 3, &quot;data-SMILES&quot;: &quot;O=C1NC(=O)c2ccccc21&quot;}, {&quot;data-img&quot;: null, &quot;mols2grid-id&quot;: 103, &quot;data-Count&quot;: 3, &quot;data-SMILES&quot;: &quot;O=C1CC(=O)NN1&quot;}, {&quot;data-img&quot;: null, &quot;mols2grid-id&quot;: 104, &quot;data-Count&quot;: 3, &quot;data-SMILES&quot;: &quot;C=C1c2ccccc2Sc2ccccc21&quot;}, {&quot;data-img&quot;: null, &quot;mols2grid-id&quot;: 105, &quot;data-Count&quot;: 3, &quot;data-SMILES&quot;: &quot;c1ccc2sccc2c1&quot;}, {&quot;data-img&quot;: null, &quot;mols2grid-id&quot;: 106, &quot;data-Count&quot;: 3, &quot;data-SMILES&quot;: &quot;c1ccc2c(c1)CCCO2&quot;}, {&quot;data-img&quot;: null, &quot;mols2grid-id&quot;: 107, &quot;data-Count&quot;: 3, &quot;data-SMILES&quot;: &quot;O=C1CSC(=O)N1&quot;}, {&quot;data-img&quot;: null, &quot;mols2grid-id&quot;: 108, &quot;data-Count&quot;: 2, &quot;data-SMILES&quot;: &quot;C1NC[C@H]2C[C@@H]12&quot;}, {&quot;data-img&quot;: null, &quot;mols2grid-id&quot;: 109, &quot;data-Count&quot;: 2, &quot;data-SMILES&quot;: &quot;C1COCO1&quot;}, {&quot;data-img&quot;: null, &quot;mols2grid-id&quot;: 110, &quot;data-Count&quot;: 2, &quot;data-SMILES&quot;: &quot;c1ccc2c(c1)CCN2&quot;}, {&quot;data-img&quot;: null, &quot;mols2grid-id&quot;: 111, &quot;data-Count&quot;: 2, &quot;data-SMILES&quot;: &quot;O=C1Cc2ccccc2N1&quot;}, {&quot;data-img&quot;: null, &quot;mols2grid-id&quot;: 112, &quot;data-Count&quot;: 2, &quot;data-SMILES&quot;: &quot;c1cc2c3c(c[nH]c3c1)C[C@H]1NCCC[C@H]21&quot;}, {&quot;data-img&quot;: null, &quot;mols2grid-id&quot;: 113, &quot;data-Count&quot;: 2, &quot;data-SMILES&quot;: &quot;O=C1C/C=C/CCC(=O)CCC/C=C/C=C/C=C/CC[C@@H]2CCC[C@@H](O2)C(=O)C(=O)N2CCCC[C@H]2C(=O)OCC1&quot;}, {&quot;data-img&quot;: null, &quot;mols2grid-id&quot;: 114, &quot;data-Count&quot;: 2, &quot;data-SMILES&quot;: &quot;O=C1NCCCN1&quot;}, {&quot;data-img&quot;: null, &quot;mols2grid-id&quot;: 115, &quot;data-Count&quot;: 2, &quot;data-SMILES&quot;: &quot;O=C1CCSc2ccccc2N1&quot;}, {&quot;data-img&quot;: null, &quot;mols2grid-id&quot;: 116, &quot;data-Count&quot;: 2, &quot;data-SMILES&quot;: &quot;O=C1CCCCN1&quot;}, {&quot;data-img&quot;: null, &quot;mols2grid-id&quot;: 117, &quot;data-Count&quot;: 2, &quot;data-SMILES&quot;: &quot;C1=Nc2ccccc2Sc2ccccc21&quot;}, {&quot;data-img&quot;: null, &quot;mols2grid-id&quot;: 118, &quot;data-Count&quot;: 2, &quot;data-SMILES&quot;: &quot;c1cocn1&quot;}, {&quot;data-img&quot;: null, &quot;mols2grid-id&quot;: 119, &quot;data-Count&quot;: 2, &quot;data-SMILES&quot;: &quot;O=C1CNCN1&quot;}, {&quot;data-img&quot;: null, &quot;mols2grid-id&quot;: 120, &quot;data-Count&quot;: 2, &quot;data-SMILES&quot;: &quot;O=c1nc[nH]c2[nH]cnc12&quot;}, {&quot;data-img&quot;: null, &quot;mols2grid-id&quot;: 121, &quot;data-Count&quot;: 2, &quot;data-SMILES&quot;: &quot;O=C1NCC(=O)N2CC[C@H](C2)Oc2nc3ccccc3nc2CCCCC[C@@H]2C[C@H]2O1&quot;}, {&quot;data-img&quot;: null, &quot;mols2grid-id&quot;: 122, &quot;data-Count&quot;: 2, &quot;data-SMILES&quot;: &quot;C1CSCO1&quot;}, {&quot;data-img&quot;: null, &quot;mols2grid-id&quot;: 123, &quot;data-Count&quot;: 2, &quot;data-SMILES&quot;: &quot;C1CC[C@@H]2NCC[C@@H]2C1&quot;}, {&quot;data-img&quot;: null, &quot;mols2grid-id&quot;: 124, &quot;data-Count&quot;: 2, &quot;data-SMILES&quot;: &quot;O=C1C=C[C@@H]2[C@H]3CC[C@@H]4CCC[C@H]4[C@@H]3CC[C@H]2N1&quot;}, {&quot;data-img&quot;: null, &quot;mols2grid-id&quot;: 125, &quot;data-Count&quot;: 2, &quot;data-SMILES&quot;: &quot;O=C1OCc2ccccc21&quot;}, {&quot;data-img&quot;: null, &quot;mols2grid-id&quot;: 126, &quot;data-Count&quot;: 2, &quot;data-SMILES&quot;: &quot;O=C1CCN2CCc3ccccc3C2C1&quot;}, {&quot;data-img&quot;: null, &quot;mols2grid-id&quot;: 127, &quot;data-Count&quot;: 2, &quot;data-SMILES&quot;: &quot;O=c1nc[nH]c2c1NCCN2&quot;}, {&quot;data-img&quot;: null, &quot;mols2grid-id&quot;: 128, &quot;data-Count&quot;: 2, &quot;data-SMILES&quot;: &quot;c1ccc2sncc2c1&quot;}, {&quot;data-img&quot;: null, &quot;mols2grid-id&quot;: 129, &quot;data-Count&quot;: 2, &quot;data-SMILES&quot;: &quot;O=c1[nH]cnc2[nH]cnc12&quot;}, {&quot;data-img&quot;: null, &quot;mols2grid-id&quot;: 130, &quot;data-Count&quot;: 2, &quot;data-SMILES&quot;: &quot;O=C1CCCc2[nH]c3ccccc3c21&quot;}, {&quot;data-img&quot;: null, &quot;mols2grid-id&quot;: 131, &quot;data-Count&quot;: 2, &quot;data-SMILES&quot;: &quot;c1cnc2ccnn2c1&quot;}, {&quot;data-img&quot;: null, &quot;mols2grid-id&quot;: 132, &quot;data-Count&quot;: 2, &quot;data-SMILES&quot;: &quot;c1cnc2[nH]ncc2c1&quot;}, {&quot;data-img&quot;: null, &quot;mols2grid-id&quot;: 133, &quot;data-Count&quot;: 2, &quot;data-SMILES&quot;: &quot;c1ccc2c(c1)COC2&quot;}, {&quot;data-img&quot;: null, &quot;mols2grid-id&quot;: 134, &quot;data-Count&quot;: 2, &quot;data-SMILES&quot;: &quot;O=c1ccnc2n1CCCC2&quot;}, {&quot;data-img&quot;: null, &quot;mols2grid-id&quot;: 135, &quot;data-Count&quot;: 2, &quot;data-SMILES&quot;: &quot;c1cnn2ccnc2c1&quot;}, {&quot;data-img&quot;: null, &quot;mols2grid-id&quot;: 136, &quot;data-Count&quot;: 2, &quot;data-SMILES&quot;: &quot;c1ccc2n[nH]cc2c1&quot;}, {&quot;data-img&quot;: null, &quot;mols2grid-id&quot;: 137, &quot;data-Count&quot;: 2, &quot;data-SMILES&quot;: &quot;C1=CCCC1&quot;}, {&quot;data-img&quot;: null, &quot;mols2grid-id&quot;: 138, &quot;data-Count&quot;: 2, &quot;data-SMILES&quot;: &quot;C=C1C(=O)Nc2ccccc21&quot;}, {&quot;data-img&quot;: null, &quot;mols2grid-id&quot;: 139, &quot;data-Count&quot;: 2, &quot;data-SMILES&quot;: &quot;c1ncncn1&quot;}, {&quot;data-img&quot;: null, &quot;mols2grid-id&quot;: 140, &quot;data-Count&quot;: 2, &quot;data-SMILES&quot;: &quot;c1ccn2ccnc2c1&quot;}, {&quot;data-img&quot;: null, &quot;mols2grid-id&quot;: 141, &quot;data-Count&quot;: 2, &quot;data-SMILES&quot;: &quot;c1ncc2cn[nH]c2n1&quot;}, {&quot;data-img&quot;: null, &quot;mols2grid-id&quot;: 142, &quot;data-Count&quot;: 2, &quot;data-SMILES&quot;: &quot;O=c1occo1&quot;}, {&quot;data-img&quot;: null, &quot;mols2grid-id&quot;: 143, &quot;data-Count&quot;: 2, &quot;data-SMILES&quot;: &quot;O=c1ccn2c3c(cccc13)OCC2&quot;}, {&quot;data-img&quot;: null, &quot;mols2grid-id&quot;: 144, &quot;data-Count&quot;: 2, &quot;data-SMILES&quot;: &quot;O=C1CCCCO1&quot;}, {&quot;data-img&quot;: null, &quot;mols2grid-id&quot;: 145, &quot;data-Count&quot;: 2, &quot;data-SMILES&quot;: &quot;C1CO1&quot;}, {&quot;data-img&quot;: null, &quot;mols2grid-id&quot;: 146, &quot;data-Count&quot;: 2, &quot;data-SMILES&quot;: &quot;c1ccc2[nH+]cccc2c1&quot;}, {&quot;data-img&quot;: null, &quot;mols2grid-id&quot;: 147, &quot;data-Count&quot;: 2, &quot;data-SMILES&quot;: &quot;O=c1[nH]c2ccccc2[nH]1&quot;}, {&quot;data-img&quot;: null, &quot;mols2grid-id&quot;: 148, &quot;data-Count&quot;: 2, &quot;data-SMILES&quot;: &quot;O=C1NCNc2ccccc21&quot;}, {&quot;data-img&quot;: null, &quot;mols2grid-id&quot;: 149, &quot;data-Count&quot;: 2, &quot;data-SMILES&quot;: &quot;C1CCCNCC1&quot;}, {&quot;data-img&quot;: null, &quot;mols2grid-id&quot;: 150, &quot;data-Count&quot;: 2, &quot;data-SMILES&quot;: &quot;O=c1ccc2cc3ccoc3cc2o1&quot;}, {&quot;data-img&quot;: null, &quot;mols2grid-id&quot;: 151, &quot;data-Count&quot;: 2, &quot;data-SMILES&quot;: &quot;O=C1CC(=O)c2ccccc21&quot;}, {&quot;data-img&quot;: null, &quot;mols2grid-id&quot;: 152, &quot;data-Count&quot;: 2, &quot;data-SMILES&quot;: &quot;O=C1CNC=N1&quot;}, {&quot;data-img&quot;: null, &quot;mols2grid-id&quot;: 153, &quot;data-Count&quot;: 2, &quot;data-SMILES&quot;: &quot;C1CC[C@H]2[C@@H](C1)CC[C@@H]1[C@@H]2CC[C@@H]2CCC[C@@H]21&quot;}, {&quot;data-img&quot;: null, &quot;mols2grid-id&quot;: 154, &quot;data-Count&quot;: 2, &quot;data-SMILES&quot;: &quot;C=C1c2ccccc2CCc2ccccc21&quot;}, {&quot;data-img&quot;: null, &quot;mols2grid-id&quot;: 155, &quot;data-Count&quot;: 2, &quot;data-SMILES&quot;: &quot;c1nncs1&quot;}, {&quot;data-img&quot;: null, &quot;mols2grid-id&quot;: 156, &quot;data-Count&quot;: 2, &quot;data-SMILES&quot;: &quot;O=C1C=C[C@H]2C(=C1)CC[C@H]1[C@@H]3CCC[C@H]3CC(=O)[C@@H]12&quot;}, {&quot;data-img&quot;: null, &quot;mols2grid-id&quot;: 157, &quot;data-Count&quot;: 2, &quot;data-SMILES&quot;: &quot;c1cnc2ncncc2n1&quot;}, {&quot;data-img&quot;: null, &quot;mols2grid-id&quot;: 158, &quot;data-Count&quot;: 2, &quot;data-SMILES&quot;: &quot;O=C1NCc2ccccc21&quot;}, {&quot;data-img&quot;: null, &quot;mols2grid-id&quot;: 159, &quot;data-Count&quot;: 2, &quot;data-SMILES&quot;: &quot;C1=Nc2ccccc2C=[NH+]C1&quot;}, {&quot;data-img&quot;: null, &quot;mols2grid-id&quot;: 160, &quot;data-Count&quot;: 2, &quot;data-SMILES&quot;: &quot;c1ccc2c(c1)Cc1ccccc1O2&quot;}, {&quot;data-img&quot;: null, &quot;mols2grid-id&quot;: 161, &quot;data-Count&quot;: 2, &quot;data-SMILES&quot;: &quot;O=c1ncnc[nH]1&quot;}, {&quot;data-img&quot;: null, &quot;mols2grid-id&quot;: 162, &quot;data-Count&quot;: 2, &quot;data-SMILES&quot;: &quot;C1=C2CC[C@H]3[C@@H]4CCC[C@H]4CC[C@@H]3[C@H]2CCC1&quot;}, {&quot;data-img&quot;: null, &quot;mols2grid-id&quot;: 163, &quot;data-Count&quot;: 2, &quot;data-SMILES&quot;: &quot;O=c1[nH]c2cccnc2[nH]1&quot;}, {&quot;data-img&quot;: null, &quot;mols2grid-id&quot;: 164, &quot;data-Count&quot;: 2, &quot;data-SMILES&quot;: &quot;C1=CC2CCC1C2&quot;}, {&quot;data-img&quot;: null, &quot;mols2grid-id&quot;: 165, &quot;data-Count&quot;: 2, &quot;data-SMILES&quot;: &quot;O=S1(=O)NC=Cc2ccccc21&quot;}, {&quot;data-img&quot;: null, &quot;mols2grid-id&quot;: 166, &quot;data-Count&quot;: 2, &quot;data-SMILES&quot;: &quot;C1CCC2(CC1)OCCO2&quot;}, {&quot;data-img&quot;: null, &quot;mols2grid-id&quot;: 167, &quot;data-Count&quot;: 2, &quot;data-SMILES&quot;: &quot;O=S1(=O)NC=Nc2ccccc21&quot;}, {&quot;data-img&quot;: null, &quot;mols2grid-id&quot;: 168, &quot;data-Count&quot;: 2, &quot;data-SMILES&quot;: &quot;c1nnc[nH]1&quot;}, {&quot;data-img&quot;: null, &quot;mols2grid-id&quot;: 169, &quot;data-Count&quot;: 2, &quot;data-SMILES&quot;: &quot;c1cc2c3c(c1)O[C@H]1CCC[C@H]4[C@@H](C2)NCC[C@]314&quot;}, {&quot;data-img&quot;: null, &quot;mols2grid-id&quot;: 170, &quot;data-Count&quot;: 2, &quot;data-SMILES&quot;: &quot;C1C[C@@H]2CC[C@H](C1)[NH2+]2&quot;}, {&quot;data-img&quot;: null, &quot;mols2grid-id&quot;: 171, &quot;data-Count&quot;: 2, &quot;data-SMILES&quot;: &quot;c1cnc2c(c1)CCCCC2&quot;}, {&quot;data-img&quot;: null, &quot;mols2grid-id&quot;: 172, &quot;data-Count&quot;: 2, &quot;data-SMILES&quot;: &quot;c1ccc2scnc2c1&quot;}, {&quot;data-img&quot;: null, &quot;mols2grid-id&quot;: 173, &quot;data-Count&quot;: 2, &quot;data-SMILES&quot;: &quot;O=C1COC(=O)N1&quot;}, {&quot;data-img&quot;: null, &quot;mols2grid-id&quot;: 174, &quot;data-Count&quot;: 1, &quot;data-SMILES&quot;: &quot;c1ccn2ncnc2c1&quot;}, {&quot;data-img&quot;: null, &quot;mols2grid-id&quot;: 175, &quot;data-Count&quot;: 1, &quot;data-SMILES&quot;: &quot;O=C1CCCCCCC[C@H]2C[C@H](CCO1)OCN2&quot;}, {&quot;data-img&quot;: null, &quot;mols2grid-id&quot;: 176, &quot;data-Count&quot;: 1, &quot;data-SMILES&quot;: &quot;O=S1(=O)CCNCC1&quot;}, {&quot;data-img&quot;: null, &quot;mols2grid-id&quot;: 177, &quot;data-Count&quot;: 1, &quot;data-SMILES&quot;: &quot;O=C1/C=C\\\\C=C\\\\CCCCCCCC/C=C/O[C@H]2Oc3ccc4c(c3C2=O)C2=NC3(CCNCC3)NC2=C(N1)C4=O&quot;}, {&quot;data-img&quot;: null, &quot;mols2grid-id&quot;: 178, &quot;data-Count&quot;: 1, &quot;data-SMILES&quot;: &quot;O=C1C/C=C/CCCC[C@@H]2CCC[C@@H](O2)C(=O)C(=O)N2CCCC[C@H]2C(=O)OCCCC1&quot;}, {&quot;data-img&quot;: null, &quot;mols2grid-id&quot;: 179, &quot;data-Count&quot;: 1, &quot;data-SMILES&quot;: &quot;O=C1NC(=O)[C@H]2[C@@H]3CC[C@@H](C3)[C@@H]12&quot;}, {&quot;data-img&quot;: null, &quot;mols2grid-id&quot;: 180, &quot;data-Count&quot;: 1, &quot;data-SMILES&quot;: &quot;O=c1ccnc2n1CCC2&quot;}, {&quot;data-img&quot;: null, &quot;mols2grid-id&quot;: 181, &quot;data-Count&quot;: 1, &quot;data-SMILES&quot;: &quot;C1=NCCO1&quot;}, {&quot;data-img&quot;: null, &quot;mols2grid-id&quot;: 182, &quot;data-Count&quot;: 1, &quot;data-SMILES&quot;: &quot;c1ccn2nccc2c1&quot;}, {&quot;data-img&quot;: null, &quot;mols2grid-id&quot;: 183, &quot;data-Count&quot;: 1, &quot;data-SMILES&quot;: &quot;O=c1[n-]cno1&quot;}, {&quot;data-img&quot;: null, &quot;mols2grid-id&quot;: 184, &quot;data-Count&quot;: 1, &quot;data-SMILES&quot;: &quot;O=C1CCON1&quot;}, {&quot;data-img&quot;: null, &quot;mols2grid-id&quot;: 185, &quot;data-Count&quot;: 1, &quot;data-SMILES&quot;: &quot;C1NCC2CC1N2&quot;}, {&quot;data-img&quot;: null, &quot;mols2grid-id&quot;: 186, &quot;data-Count&quot;: 1, &quot;data-SMILES&quot;: &quot;c1cc2n(n1)CCCN2&quot;}, {&quot;data-img&quot;: null, &quot;mols2grid-id&quot;: 187, &quot;data-Count&quot;: 1, &quot;data-SMILES&quot;: &quot;O=C1CCCCCCCCNCCCCO1&quot;}, {&quot;data-img&quot;: null, &quot;mols2grid-id&quot;: 188, &quot;data-Count&quot;: 1, &quot;data-SMILES&quot;: &quot;c1cc2cc[nH]c2cn1&quot;}, {&quot;data-img&quot;: null, &quot;mols2grid-id&quot;: 189, &quot;data-Count&quot;: 1, &quot;data-SMILES&quot;: &quot;C=C1c2ccccc2C(=O)C2=C[C@@H]3C(=O)C=CC[C@@H]3C[C@H]12&quot;}, {&quot;data-img&quot;: null, &quot;mols2grid-id&quot;: 190, &quot;data-Count&quot;: 1, &quot;data-SMILES&quot;: &quot;C1=CCC=CC1&quot;}, {&quot;data-img&quot;: null, &quot;mols2grid-id&quot;: 191, &quot;data-Count&quot;: 1, &quot;data-SMILES&quot;: &quot;O=C1C[C@H]2CCC=CN12&quot;}, {&quot;data-img&quot;: null, &quot;mols2grid-id&quot;: 192, &quot;data-Count&quot;: 1, &quot;data-SMILES&quot;: &quot;c1ccc2c(c1)CCNCC2&quot;}, {&quot;data-img&quot;: null, &quot;mols2grid-id&quot;: 193, &quot;data-Count&quot;: 1, &quot;data-SMILES&quot;: &quot;c1nnco1&quot;}, {&quot;data-img&quot;: null, &quot;mols2grid-id&quot;: 194, &quot;data-Count&quot;: 1, &quot;data-SMILES&quot;: &quot;O=c1ccnc[nH]1&quot;}, {&quot;data-img&quot;: null, &quot;mols2grid-id&quot;: 195, &quot;data-Count&quot;: 1, &quot;data-SMILES&quot;: &quot;O=C1NC[C@H]2CCCc3cccc1c32&quot;}, {&quot;data-img&quot;: null, &quot;mols2grid-id&quot;: 196, &quot;data-Count&quot;: 1, &quot;data-SMILES&quot;: &quot;C=C1c2ccccc2-c2ccccc21&quot;}, {&quot;data-img&quot;: null, &quot;mols2grid-id&quot;: 197, &quot;data-Count&quot;: 1, &quot;data-SMILES&quot;: &quot;O=c1[nH]c(=O)c2ccsc2[nH]1&quot;}, {&quot;data-img&quot;: null, &quot;mols2grid-id&quot;: 198, &quot;data-Count&quot;: 1, &quot;data-SMILES&quot;: &quot;C1C[C@@H]2CC[C@H]3OO[C@@]24[C@@H](C1)CCO[C@@H]4O3&quot;}, {&quot;data-img&quot;: null, &quot;mols2grid-id&quot;: 199, &quot;data-Count&quot;: 1, &quot;data-SMILES&quot;: &quot;c1ccc2c(c1)CCCCN2&quot;}, {&quot;data-img&quot;: null, &quot;mols2grid-id&quot;: 200, &quot;data-Count&quot;: 1, &quot;data-SMILES&quot;: &quot;N=C1C=NNC1=O&quot;}, {&quot;data-img&quot;: null, &quot;mols2grid-id&quot;: 201, &quot;data-Count&quot;: 1, &quot;data-SMILES&quot;: &quot;C1C[C@@H]2C[C@@H]2N1&quot;}, {&quot;data-img&quot;: null, &quot;mols2grid-id&quot;: 202, &quot;data-Count&quot;: 1, &quot;data-SMILES&quot;: &quot;O=C1COCCN1&quot;}, {&quot;data-img&quot;: null, &quot;mols2grid-id&quot;: 203, &quot;data-Count&quot;: 1, &quot;data-SMILES&quot;: &quot;c1ncc2nn[nH]c2n1&quot;}, {&quot;data-img&quot;: null, &quot;mols2grid-id&quot;: 204, &quot;data-Count&quot;: 1, &quot;data-SMILES&quot;: &quot;O=c1cccn[nH]1&quot;}, {&quot;data-img&quot;: null, &quot;mols2grid-id&quot;: 205, &quot;data-Count&quot;: 1, &quot;data-SMILES&quot;: &quot;N=C1NCCN1&quot;}, {&quot;data-img&quot;: null, &quot;mols2grid-id&quot;: 206, &quot;data-Count&quot;: 1, &quot;data-SMILES&quot;: &quot;O=c1ccc2cnccc2[nH]1&quot;}, {&quot;data-img&quot;: null, &quot;mols2grid-id&quot;: 207, &quot;data-Count&quot;: 1, &quot;data-SMILES&quot;: &quot;C=C1CN2C(=O)C[C@H]2O1&quot;}, {&quot;data-img&quot;: null, &quot;mols2grid-id&quot;: 208, &quot;data-Count&quot;: 1, &quot;data-SMILES&quot;: &quot;O=c1[nH]c(=O)c2nc[nH]c2[nH]1&quot;}, {&quot;data-img&quot;: null, &quot;mols2grid-id&quot;: 209, &quot;data-Count&quot;: 1, &quot;data-SMILES&quot;: &quot;O=C1CC[C@H]2[C@@H]3CCc4ccccc4[C@H]3CC[C@H]12&quot;}, {&quot;data-img&quot;: null, &quot;mols2grid-id&quot;: 210, &quot;data-Count&quot;: 1, &quot;data-SMILES&quot;: &quot;c1ccc2c(c1)CCc1cccnc1C2&quot;}, {&quot;data-img&quot;: null, &quot;mols2grid-id&quot;: 211, &quot;data-Count&quot;: 1, &quot;data-SMILES&quot;: &quot;O=C1NCc2cnc3[nH]ccc3c2N1&quot;}, {&quot;data-img&quot;: null, &quot;mols2grid-id&quot;: 212, &quot;data-Count&quot;: 1, &quot;data-SMILES&quot;: &quot;c1cnn2ccnc2n1&quot;}, {&quot;data-img&quot;: null, &quot;mols2grid-id&quot;: 213, &quot;data-Count&quot;: 1, &quot;data-SMILES&quot;: &quot;C1CNC2(CC2)CN1&quot;}, {&quot;data-img&quot;: null, &quot;mols2grid-id&quot;: 214, &quot;data-Count&quot;: 1, &quot;data-SMILES&quot;: &quot;O=C1C=C[C@]2(CC1)Oc1ccccc1C2=O&quot;}, {&quot;data-img&quot;: null, &quot;mols2grid-id&quot;: 215, &quot;data-Count&quot;: 1, &quot;data-SMILES&quot;: &quot;O=c1ccnc2ccccn12&quot;}, {&quot;data-img&quot;: null, &quot;mols2grid-id&quot;: 216, &quot;data-Count&quot;: 1, &quot;data-SMILES&quot;: &quot;O=C1CCCCCCCCCCC[C@@H]2CCC[C@H](CC/C=C/C=C/C=C/C=C/CC/C=C/C=C/CCCCO1)O2&quot;}, {&quot;data-img&quot;: null, &quot;mols2grid-id&quot;: 217, &quot;data-Count&quot;: 1, &quot;data-SMILES&quot;: &quot;O=C1CCCCCC[C@@]2(CO2)C(=O)CCCCO1&quot;}, {&quot;data-img&quot;: null, &quot;mols2grid-id&quot;: 218, &quot;data-Count&quot;: 1, &quot;data-SMILES&quot;: &quot;O=C1CCCCCCCCCCC[C@@H]2CCC[C@H](CC/C=C/C=C/C=C/C=C/C=C/C=C/C=C/CCCCO1)O2&quot;}, {&quot;data-img&quot;: null, &quot;mols2grid-id&quot;: 219, &quot;data-Count&quot;: 1, &quot;data-SMILES&quot;: &quot;O=C1c2cc(=O)ccn2C[C@H]2OCCN12&quot;}, {&quot;data-img&quot;: null, &quot;mols2grid-id&quot;: 220, &quot;data-Count&quot;: 1, &quot;data-SMILES&quot;: &quot;C=C1SC(=N)NC1=O&quot;}, {&quot;data-img&quot;: null, &quot;mols2grid-id&quot;: 221, &quot;data-Count&quot;: 1, &quot;data-SMILES&quot;: &quot;C1C[C@@H]2CNC[C@@H]2C1&quot;}, {&quot;data-img&quot;: null, &quot;mols2grid-id&quot;: 222, &quot;data-Count&quot;: 1, &quot;data-SMILES&quot;: &quot;O=C1NCc2c1c1c3ccccc3n3c1c1c2c2ccccc2n1[C@@H]1CCC[C@H]3O1&quot;}, {&quot;data-img&quot;: null, &quot;mols2grid-id&quot;: 223, &quot;data-Count&quot;: 1, &quot;data-SMILES&quot;: &quot;c1cn2c(n1)OCCC2&quot;}, {&quot;data-img&quot;: null, &quot;mols2grid-id&quot;: 224, &quot;data-Count&quot;: 1, &quot;data-SMILES&quot;: &quot;c1ncn2c1CCC2&quot;}, {&quot;data-img&quot;: null, &quot;mols2grid-id&quot;: 225, &quot;data-Count&quot;: 1, &quot;data-SMILES&quot;: &quot;c1cc2c3c(c1)[C@@H]1CNCC[C@@H]1N3CCN2&quot;}, {&quot;data-img&quot;: null, &quot;mols2grid-id&quot;: 226, &quot;data-Count&quot;: 1, &quot;data-SMILES&quot;: &quot;O=C1NCC(=O)N2CC[C@H](C2)Oc2nc3ccccc3nc2C/C=C/CO[C@@H]2CCC[C@H]2O1&quot;}, {&quot;data-img&quot;: null, &quot;mols2grid-id&quot;: 227, &quot;data-Count&quot;: 1, &quot;data-SMILES&quot;: &quot;O=C1COc2cccnc2N1&quot;}, {&quot;data-img&quot;: null, &quot;mols2grid-id&quot;: 228, &quot;data-Count&quot;: 1, &quot;data-SMILES&quot;: &quot;C1C[C@@H]2C[C@H]1CN2&quot;}, {&quot;data-img&quot;: null, &quot;mols2grid-id&quot;: 229, &quot;data-Count&quot;: 1, &quot;data-SMILES&quot;: &quot;O=c1[nH]cnc2ccccc12&quot;}, {&quot;data-img&quot;: null, &quot;mols2grid-id&quot;: 230, &quot;data-Count&quot;: 1, &quot;data-SMILES&quot;: &quot;c1ccc2c(c1)CCN1CCCC[C@H]21&quot;}, {&quot;data-img&quot;: null, &quot;mols2grid-id&quot;: 231, &quot;data-Count&quot;: 1, &quot;data-SMILES&quot;: &quot;O=C1NCCc2c[nH]c3cccc1c23&quot;}, {&quot;data-img&quot;: null, &quot;mols2grid-id&quot;: 232, &quot;data-Count&quot;: 1, &quot;data-SMILES&quot;: &quot;O=C1Cc2ccccc2CCN1&quot;}, {&quot;data-img&quot;: null, &quot;mols2grid-id&quot;: 233, &quot;data-Count&quot;: 1, &quot;data-SMILES&quot;: &quot;c1ccc2c(c1)CC2&quot;}, {&quot;data-img&quot;: null, &quot;mols2grid-id&quot;: 234, &quot;data-Count&quot;: 1, &quot;data-SMILES&quot;: &quot;O=c1[nH]ncc2ccccc12&quot;}, {&quot;data-img&quot;: null, &quot;mols2grid-id&quot;: 235, &quot;data-Count&quot;: 1, &quot;data-SMILES&quot;: &quot;O=C1C[C@H]2CC[C@@H]1C2&quot;}, {&quot;data-img&quot;: null, &quot;mols2grid-id&quot;: 236, &quot;data-Count&quot;: 1, &quot;data-SMILES&quot;: &quot;C1=C[C@@H]2Oc3cccc4c3[C@@]23CCN[C@H](C4)[C@@H]3C1&quot;}, {&quot;data-img&quot;: null, &quot;mols2grid-id&quot;: 237, &quot;data-Count&quot;: 1, &quot;data-SMILES&quot;: &quot;O=C1C=C[C@H]2C(=C1)CC[C@H]1[C@@H]3C[C@H]4OC=N[C@H]4[C@H]3CC[C@@H]12&quot;}, {&quot;data-img&quot;: null, &quot;mols2grid-id&quot;: 238, &quot;data-Count&quot;: 1, &quot;data-SMILES&quot;: &quot;c1nc2c(s1)CNCC2&quot;}, {&quot;data-img&quot;: null, &quot;mols2grid-id&quot;: 239, &quot;data-Count&quot;: 1, &quot;data-SMILES&quot;: &quot;C1=C[C@@H]2Oc3cccc4c3[C@@]23CCN[C@H](C4)[C@H]3C1&quot;}, {&quot;data-img&quot;: null, &quot;mols2grid-id&quot;: 240, &quot;data-Count&quot;: 1, &quot;data-SMILES&quot;: &quot;O=C1CC[C@]2(CCCNC2)N1&quot;}, {&quot;data-img&quot;: null, &quot;mols2grid-id&quot;: 241, &quot;data-Count&quot;: 1, &quot;data-SMILES&quot;: &quot;O=C1NC(=O)[C@H]2[C@H]3C=C[C@H]([C@@H]4C[C@H]34)[C@@H]12&quot;}, {&quot;data-img&quot;: null, &quot;mols2grid-id&quot;: 242, &quot;data-Count&quot;: 1, &quot;data-SMILES&quot;: &quot;O=C1COBO1&quot;}, {&quot;data-img&quot;: null, &quot;mols2grid-id&quot;: 243, &quot;data-Count&quot;: 1, &quot;data-SMILES&quot;: &quot;O=c1cc[nH]c(=O)[n-]1&quot;}, {&quot;data-img&quot;: null, &quot;mols2grid-id&quot;: 244, &quot;data-Count&quot;: 1, &quot;data-SMILES&quot;: &quot;O=C1N[C@@H]2C[C@H]2/C=C\\\\CCCCCCC(=O)N2CCC[C@@H]12&quot;}, {&quot;data-img&quot;: null, &quot;mols2grid-id&quot;: 245, &quot;data-Count&quot;: 1, &quot;data-SMILES&quot;: &quot;c1ccc2c(c1)cnc1ccccc12&quot;}, {&quot;data-img&quot;: null, &quot;mols2grid-id&quot;: 246, &quot;data-Count&quot;: 1, &quot;data-SMILES&quot;: &quot;O=c1ccc2cncnc2[nH]1&quot;}, {&quot;data-img&quot;: null, &quot;mols2grid-id&quot;: 247, &quot;data-Count&quot;: 1, &quot;data-SMILES&quot;: &quot;c1n[nH]c[nH+]1&quot;}, {&quot;data-img&quot;: null, &quot;mols2grid-id&quot;: 248, &quot;data-Count&quot;: 1, &quot;data-SMILES&quot;: &quot;N=C1CCCN1&quot;}, {&quot;data-img&quot;: null, &quot;mols2grid-id&quot;: 249, &quot;data-Count&quot;: 1, &quot;data-SMILES&quot;: &quot;O=C1c2ccccc2Cc2[nH]c3ccccc3c21&quot;}, {&quot;data-img&quot;: null, &quot;mols2grid-id&quot;: 250, &quot;data-Count&quot;: 1, &quot;data-SMILES&quot;: &quot;c1ccc2c(c1)COc1cc3c(ccc4nc[nH]c43)cc1-2&quot;}, {&quot;data-img&quot;: null, &quot;mols2grid-id&quot;: 251, &quot;data-Count&quot;: 1, &quot;data-SMILES&quot;: &quot;c1ccc2c(c1)OCn1c-2cc2ccccc21&quot;}, {&quot;data-img&quot;: null, &quot;mols2grid-id&quot;: 252, &quot;data-Count&quot;: 1, &quot;data-SMILES&quot;: &quot;C1CC2(CC2)CN1&quot;}, {&quot;data-img&quot;: null, &quot;mols2grid-id&quot;: 253, &quot;data-Count&quot;: 1, &quot;data-SMILES&quot;: &quot;C1C[C@@H]2CO[C@H](C1)O2&quot;}, {&quot;data-img&quot;: null, &quot;mols2grid-id&quot;: 254, &quot;data-Count&quot;: 1, &quot;data-SMILES&quot;: &quot;C1=Nc2ccccc2CN1&quot;}, {&quot;data-img&quot;: null, &quot;mols2grid-id&quot;: 255, &quot;data-Count&quot;: 1, &quot;data-SMILES&quot;: &quot;c1cn[nH]n1&quot;}, {&quot;data-img&quot;: null, &quot;mols2grid-id&quot;: 256, &quot;data-Count&quot;: 1, &quot;data-SMILES&quot;: &quot;O=C1CC(=O)Nc2ccccc2N1&quot;}, {&quot;data-img&quot;: null, &quot;mols2grid-id&quot;: 257, &quot;data-Count&quot;: 1, &quot;data-SMILES&quot;: &quot;O=C1NCCc2cn[nH]c21&quot;}, {&quot;data-img&quot;: null, &quot;mols2grid-id&quot;: 258, &quot;data-Count&quot;: 1, &quot;data-SMILES&quot;: &quot;c1cc2cncnn2c1&quot;}, {&quot;data-img&quot;: null, &quot;mols2grid-id&quot;: 259, &quot;data-Count&quot;: 1, &quot;data-SMILES&quot;: &quot;N=c1ccnc[nH]1&quot;}, {&quot;data-img&quot;: null, &quot;mols2grid-id&quot;: 260, &quot;data-Count&quot;: 1, &quot;data-SMILES&quot;: &quot;C1=C[C@H]2CC[C@H]3[C@@H](CC=C4CCCC[C@@H]43)[C@@H]2C1&quot;}, {&quot;data-img&quot;: null, &quot;mols2grid-id&quot;: 261, &quot;data-Count&quot;: 1, &quot;data-SMILES&quot;: &quot;c1ccc2nccnc2c1&quot;}, {&quot;data-img&quot;: null, &quot;mols2grid-id&quot;: 262, &quot;data-Count&quot;: 1, &quot;data-SMILES&quot;: &quot;O=C1CNC(=S)N1&quot;}, {&quot;data-img&quot;: null, &quot;mols2grid-id&quot;: 263, &quot;data-Count&quot;: 1, &quot;data-SMILES&quot;: &quot;O=C1Nc2ncccc2[C@@]12Cc1cccnc1C2&quot;}, {&quot;data-img&quot;: null, &quot;mols2grid-id&quot;: 264, &quot;data-Count&quot;: 1, &quot;data-SMILES&quot;: &quot;c1ccc2c(c1)C[C@H]1CCC[C@H]1C2&quot;}, {&quot;data-img&quot;: null, &quot;mols2grid-id&quot;: 265, &quot;data-Count&quot;: 1, &quot;data-SMILES&quot;: &quot;c1cn2c(cnc3[nH]ccc32)n1&quot;}, {&quot;data-img&quot;: null, &quot;mols2grid-id&quot;: 266, &quot;data-Count&quot;: 1, &quot;data-SMILES&quot;: &quot;O=c1cc2[nH]c(=O)[nH]c(=O)c2c[nH]1&quot;}, {&quot;data-img&quot;: null, &quot;mols2grid-id&quot;: 267, &quot;data-Count&quot;: 1, &quot;data-SMILES&quot;: &quot;O=C1CC[C@]23CCCCC[C@H](CCC2)[C@H]13&quot;}, {&quot;data-img&quot;: null, &quot;mols2grid-id&quot;: 268, &quot;data-Count&quot;: 1, &quot;data-SMILES&quot;: &quot;C1CNCCNC1&quot;}, {&quot;data-img&quot;: null, &quot;mols2grid-id&quot;: 269, &quot;data-Count&quot;: 1, &quot;data-SMILES&quot;: &quot;O=c1ccc2ccccc2[nH]1&quot;}, {&quot;data-img&quot;: null, &quot;mols2grid-id&quot;: 270, &quot;data-Count&quot;: 1, &quot;data-SMILES&quot;: &quot;O=c1[nH]nc2c3c(cccc13)NCC2&quot;}, {&quot;data-img&quot;: null, &quot;mols2grid-id&quot;: 271, &quot;data-Count&quot;: 1, &quot;data-SMILES&quot;: &quot;O=C1c2cc(=O)ccn2C[C@@H]2OCCCN12&quot;}, {&quot;data-img&quot;: null, &quot;mols2grid-id&quot;: 272, &quot;data-Count&quot;: 1, &quot;data-SMILES&quot;: &quot;O=c1[nH]ccc2ccccc12&quot;}, {&quot;data-img&quot;: null, &quot;mols2grid-id&quot;: 273, &quot;data-Count&quot;: 1, &quot;data-SMILES&quot;: &quot;O=C1NC(=S)NC12CCC2&quot;}, {&quot;data-img&quot;: null, &quot;mols2grid-id&quot;: 274, &quot;data-Count&quot;: 1, &quot;data-SMILES&quot;: &quot;O=C1NCc2n[nH]cc2-c2cncc(c2)OCc2ccccc21&quot;}, {&quot;data-img&quot;: null, &quot;mols2grid-id&quot;: 275, &quot;data-Count&quot;: 1, &quot;data-SMILES&quot;: &quot;N=C1CCO[C@]2(C1)C[C@@H]1C[C@@H](C/C=C/CC/C=C/C=C3\\\\CO[C@@H]4CC=C[C@@H](C(=O)O1)[C@H]34)O2&quot;}, {&quot;data-img&quot;: null, &quot;mols2grid-id&quot;: 276, &quot;data-Count&quot;: 1, &quot;data-SMILES&quot;: &quot;O=C1OC[C@H]2C[C@@H]3CCCC[C@H]3C[C@@H]12&quot;}, {&quot;data-img&quot;: null, &quot;mols2grid-id&quot;: 277, &quot;data-Count&quot;: 1, &quot;data-SMILES&quot;: &quot;O=C1NCCCC/C=C\\\\[C@@H]2C[C@H]2NC(=O)[C@@H]2CCC[C@@H]12&quot;}, {&quot;data-img&quot;: null, &quot;mols2grid-id&quot;: 278, &quot;data-Count&quot;: 1, &quot;data-SMILES&quot;: &quot;c1ccc2c(c1)CSc1ccccc1C2&quot;}, {&quot;data-img&quot;: null, &quot;mols2grid-id&quot;: 279, &quot;data-Count&quot;: 1, &quot;data-SMILES&quot;: &quot;O=C1c2cc(=O)ccn2N[C@@H]2COCCN12&quot;}, {&quot;data-img&quot;: null, &quot;mols2grid-id&quot;: 280, &quot;data-Count&quot;: 1, &quot;data-SMILES&quot;: &quot;c1cn2cncc2cn1&quot;}, {&quot;data-img&quot;: null, &quot;mols2grid-id&quot;: 281, &quot;data-Count&quot;: 1, &quot;data-SMILES&quot;: &quot;O=C1c2cc(=O)ccn2C[C@H]2O[C@@H]3CC[C@@H](C3)N12&quot;}, {&quot;data-img&quot;: null, &quot;mols2grid-id&quot;: 282, &quot;data-Count&quot;: 1, &quot;data-SMILES&quot;: &quot;O=C1CC[C@H]2[C@H]3Cc4cccc5c4[C@@]2(CC[NH2+]3)[C@H]1O5&quot;}, {&quot;data-img&quot;: null, &quot;mols2grid-id&quot;: 283, &quot;data-Count&quot;: 1, &quot;data-SMILES&quot;: &quot;c1ccc2c(c1)Cc1cccnc1N1CCNCC21&quot;}, {&quot;data-img&quot;: null, &quot;mols2grid-id&quot;: 284, &quot;data-Count&quot;: 1, &quot;data-SMILES&quot;: &quot;c1nnc2n1CCNC2&quot;}, {&quot;data-img&quot;: null, &quot;mols2grid-id&quot;: 285, &quot;data-Count&quot;: 1, &quot;data-SMILES&quot;: &quot;c1ccc2c(c1)Cc1ccccc1S2&quot;}, {&quot;data-img&quot;: null, &quot;mols2grid-id&quot;: 286, &quot;data-Count&quot;: 1, &quot;data-SMILES&quot;: &quot;C1=Cc2ccccc2Cc2ccccc21&quot;}, {&quot;data-img&quot;: null, &quot;mols2grid-id&quot;: 287, &quot;data-Count&quot;: 1, &quot;data-SMILES&quot;: &quot;O=c1ncnc2[nH][nH]cc1-2&quot;}, {&quot;data-img&quot;: null, &quot;mols2grid-id&quot;: 288, &quot;data-Count&quot;: 1, &quot;data-SMILES&quot;: &quot;O=C1C=C[C@H]2C(=C1)CC[C@H]1[C@@H]3CCC(=O)O[C@H]3CC[C@@H]12&quot;}, {&quot;data-img&quot;: null, &quot;mols2grid-id&quot;: 289, &quot;data-Count&quot;: 1, &quot;data-SMILES&quot;: &quot;C1N2CN3CN1CN(C2)C3&quot;}, {&quot;data-img&quot;: null, &quot;mols2grid-id&quot;: 290, &quot;data-Count&quot;: 1, &quot;data-SMILES&quot;: &quot;C1=Cc2ccccc2Nc2ccccc21&quot;}, {&quot;data-img&quot;: null, &quot;mols2grid-id&quot;: 291, &quot;data-Count&quot;: 1, &quot;data-SMILES&quot;: &quot;c1ccc2c(c1)CC1CC2CCN1&quot;}, {&quot;data-img&quot;: null, &quot;mols2grid-id&quot;: 292, &quot;data-Count&quot;: 1, &quot;data-SMILES&quot;: &quot;C=C1c2ccccc2COc2ccccc21&quot;}, {&quot;data-img&quot;: null, &quot;mols2grid-id&quot;: 293, &quot;data-Count&quot;: 1, &quot;data-SMILES&quot;: &quot;O=C1COC=N1&quot;}, {&quot;data-img&quot;: null, &quot;mols2grid-id&quot;: 294, &quot;data-Count&quot;: 1, &quot;data-SMILES&quot;: &quot;C=C1C[C@H]2[C@@H](CC[C@@H]3[C@@H]2CC[C@@H]2CCC[C@H]23)CC1=O&quot;}, {&quot;data-img&quot;: null, &quot;mols2grid-id&quot;: 295, &quot;data-Count&quot;: 1, &quot;data-SMILES&quot;: &quot;O=C1C=C2C=C[C@H]3[C@@H]4CCC[C@H]4CC[C@@H]3[C@H]2CC1&quot;}, {&quot;data-img&quot;: null, &quot;mols2grid-id&quot;: 296, &quot;data-Count&quot;: 1, &quot;data-SMILES&quot;: &quot;O=C1CCCc2[nH]ccc21&quot;}, {&quot;data-img&quot;: null, &quot;mols2grid-id&quot;: 297, &quot;data-Count&quot;: 1, &quot;data-SMILES&quot;: &quot;c1ccc2c(c1)CN1CCN=C21&quot;}, {&quot;data-img&quot;: null, &quot;mols2grid-id&quot;: 298, &quot;data-Count&quot;: 1, &quot;data-SMILES&quot;: &quot;O=C1C=C2C=C[C@H]3[C@@H]4CCC[C@H]4CC[C@H]3[C@@H]2CC1&quot;}, {&quot;data-img&quot;: null, &quot;mols2grid-id&quot;: 299, &quot;data-Count&quot;: 1, &quot;data-SMILES&quot;: &quot;O=S1(=O)N=CNc2ccccc21&quot;}, {&quot;data-img&quot;: null, &quot;mols2grid-id&quot;: 300, &quot;data-Count&quot;: 1, &quot;data-SMILES&quot;: &quot;O=C1CNC(=O)[N-]1&quot;}, {&quot;data-img&quot;: null, &quot;mols2grid-id&quot;: 301, &quot;data-Count&quot;: 1, &quot;data-SMILES&quot;: &quot;c1ccc2c(c1)C1CCC2c2ccccc21&quot;}, {&quot;data-img&quot;: null, &quot;mols2grid-id&quot;: 302, &quot;data-Count&quot;: 1, &quot;data-SMILES&quot;: &quot;C1=C2CC[C@H]3[C@@H]4CCC[C@H]4CC[C@@H]3[C@H]2Cc2cnoc21&quot;}, {&quot;data-img&quot;: null, &quot;mols2grid-id&quot;: 303, &quot;data-Count&quot;: 1, &quot;data-SMILES&quot;: &quot;C=C1c2ccccc2C=Cc2ccccc21&quot;}, {&quot;data-img&quot;: null, &quot;mols2grid-id&quot;: 304, &quot;data-Count&quot;: 1, &quot;data-SMILES&quot;: &quot;C=C1C=Cc2ccccc21&quot;}, {&quot;data-img&quot;: null, &quot;mols2grid-id&quot;: 305, &quot;data-Count&quot;: 1, &quot;data-SMILES&quot;: &quot;c1cnsn1&quot;}, {&quot;data-img&quot;: null, &quot;mols2grid-id&quot;: 306, &quot;data-Count&quot;: 1, &quot;data-SMILES&quot;: &quot;O=c1cn[nH]c2cc3c(cc12)OCO3&quot;}, {&quot;data-img&quot;: null, &quot;mols2grid-id&quot;: 307, &quot;data-Count&quot;: 1, &quot;data-SMILES&quot;: &quot;c1ccc2c(c1)CCCN2&quot;}, {&quot;data-img&quot;: null, &quot;mols2grid-id&quot;: 308, &quot;data-Count&quot;: 1, &quot;data-SMILES&quot;: &quot;c1cnc[nH+]c1&quot;}, {&quot;data-img&quot;: null, &quot;mols2grid-id&quot;: 309, &quot;data-Count&quot;: 1, &quot;data-SMILES&quot;: &quot;O=c1[nH]nc2ccccn12&quot;}, {&quot;data-img&quot;: null, &quot;mols2grid-id&quot;: 310, &quot;data-Count&quot;: 1, &quot;data-SMILES&quot;: &quot;C1=C[C@H]2c3ccccc3OC[C@@H]2CC1&quot;}, {&quot;data-img&quot;: null, &quot;mols2grid-id&quot;: 311, &quot;data-Count&quot;: 1, &quot;data-SMILES&quot;: &quot;O=C1CCC2COc3ccccc3C2C1&quot;}, {&quot;data-img&quot;: null, &quot;mols2grid-id&quot;: 312, &quot;data-Count&quot;: 1, &quot;data-SMILES&quot;: &quot;S=C1CN=Cc2ccccc2N1&quot;}, {&quot;data-img&quot;: null, &quot;mols2grid-id&quot;: 313, &quot;data-Count&quot;: 1, &quot;data-SMILES&quot;: &quot;O=C1CNCC2c3ccccc3CCN12&quot;}, {&quot;data-img&quot;: null, &quot;mols2grid-id&quot;: 314, &quot;data-Count&quot;: 1, &quot;data-SMILES&quot;: &quot;C1=C[C@H]2O[C@]23CC[C@H]2[C@@H]4CCC[C@H]4CC[C@@H]2[C@H]3C1&quot;}, {&quot;data-img&quot;: null, &quot;mols2grid-id&quot;: 315, &quot;data-Count&quot;: 1, &quot;data-SMILES&quot;: &quot;O=C1C[C@@H]2CC[C@@H]3[C@H](CC[C@@H]4CCC[C@H]43)[C@H]2CO1&quot;}, {&quot;data-img&quot;: null, &quot;mols2grid-id&quot;: 316, &quot;data-Count&quot;: 1, &quot;data-SMILES&quot;: &quot;c1[nH]nc2c1C[C@H]1[C@@H](CC[C@@H]3[C@@H]1CC[C@@H]1CCC[C@H]13)C2&quot;}, {&quot;data-img&quot;: null, &quot;mols2grid-id&quot;: 317, &quot;data-Count&quot;: 1, &quot;data-SMILES&quot;: &quot;c1ccc2c3c([nH]c2c1)COCC3&quot;}, {&quot;data-img&quot;: null, &quot;mols2grid-id&quot;: 318, &quot;data-Count&quot;: 1, &quot;data-SMILES&quot;: &quot;c1ncc2ncncc2n1&quot;}, {&quot;data-img&quot;: null, &quot;mols2grid-id&quot;: 319, &quot;data-Count&quot;: 1, &quot;data-SMILES&quot;: &quot;O=c1nc[nH]c2nccnc12&quot;}, {&quot;data-img&quot;: null, &quot;mols2grid-id&quot;: 320, &quot;data-Count&quot;: 1, &quot;data-SMILES&quot;: &quot;O=c1cc[nH]c(=S)[nH]1&quot;}, {&quot;data-img&quot;: null, &quot;mols2grid-id&quot;: 321, &quot;data-Count&quot;: 1, &quot;data-SMILES&quot;: &quot;S=c1[nH]cc[nH]1&quot;}, {&quot;data-img&quot;: null, &quot;mols2grid-id&quot;: 322, &quot;data-Count&quot;: 1, &quot;data-SMILES&quot;: &quot;O=C1C=C2CC[C@H]3[C@@H]4CCC[C@H]4CC(=O)[C@@H]3[C@H]2CC1&quot;}, {&quot;data-img&quot;: null, &quot;mols2grid-id&quot;: 323, &quot;data-Count&quot;: 1, &quot;data-SMILES&quot;: &quot;c1ncc2c(n1)NCCN2&quot;}, {&quot;data-img&quot;: null, &quot;mols2grid-id&quot;: 324, &quot;data-Count&quot;: 1, &quot;data-SMILES&quot;: &quot;C=C1CC[NH2+]CC1&quot;}, {&quot;data-img&quot;: null, &quot;mols2grid-id&quot;: 325, &quot;data-Count&quot;: 1, &quot;data-SMILES&quot;: &quot;c1ccc2cnncc2c1&quot;}, {&quot;data-img&quot;: null, &quot;mols2grid-id&quot;: 326, &quot;data-Count&quot;: 1, &quot;data-SMILES&quot;: &quot;c1ccc2c(c1)C[C@H]1NCC[C@@]23CCCC[C@@H]13&quot;}, {&quot;data-img&quot;: null, &quot;mols2grid-id&quot;: 327, &quot;data-Count&quot;: 1, &quot;data-SMILES&quot;: &quot;C1C[C@@H]2[NH2+][C@H](C1)[C@H]1O[C@H]12&quot;}, {&quot;data-img&quot;: null, &quot;mols2grid-id&quot;: 328, &quot;data-Count&quot;: 1, &quot;data-SMILES&quot;: &quot;O=C1CC(=O)NCN1&quot;}, {&quot;data-img&quot;: null, &quot;mols2grid-id&quot;: 329, &quot;data-Count&quot;: 1, &quot;data-SMILES&quot;: &quot;O=c1[nH]c(=O)c2[n-]cnc2[nH]1&quot;}, {&quot;data-img&quot;: null, &quot;mols2grid-id&quot;: 330, &quot;data-Count&quot;: 1, &quot;data-SMILES&quot;: &quot;O=C1CCNC(=O)C1&quot;}, {&quot;data-img&quot;: null, &quot;mols2grid-id&quot;: 331, &quot;data-Count&quot;: 1, &quot;data-SMILES&quot;: &quot;C1CC2CCC1C2&quot;}, {&quot;data-img&quot;: null, &quot;mols2grid-id&quot;: 332, &quot;data-Count&quot;: 1, &quot;data-SMILES&quot;: &quot;C1C[NH+]2CCC1CC2&quot;}, {&quot;data-img&quot;: null, &quot;mols2grid-id&quot;: 333, &quot;data-Count&quot;: 1, &quot;data-SMILES&quot;: &quot;C1C[NH2+]CCN1&quot;}, {&quot;data-img&quot;: null, &quot;mols2grid-id&quot;: 334, &quot;data-Count&quot;: 1, &quot;data-SMILES&quot;: &quot;C1CC[NH2+]CC1&quot;}, {&quot;data-img&quot;: null, &quot;mols2grid-id&quot;: 335, &quot;data-Count&quot;: 1, &quot;data-SMILES&quot;: &quot;O=C1CCC2=C(CC[C@H]3[C@@H]4CCC[C@H]4CC[C@H]23)C1&quot;}, {&quot;data-img&quot;: null, &quot;mols2grid-id&quot;: 336, &quot;data-Count&quot;: 1, &quot;data-SMILES&quot;: &quot;c1ccc2c(c1)C[C@@H]1NCC[C@]23CCCC[C@H]13&quot;}, {&quot;data-img&quot;: null, &quot;mols2grid-id&quot;: 337, &quot;data-Count&quot;: 1, &quot;data-SMILES&quot;: &quot;O=c1[nH]c2ccccc2o1&quot;}, {&quot;data-img&quot;: null, &quot;mols2grid-id&quot;: 338, &quot;data-Count&quot;: 1, &quot;data-SMILES&quot;: &quot;O=C1CCS(=O)(=O)CN1&quot;}, {&quot;data-img&quot;: null, &quot;mols2grid-id&quot;: 339, &quot;data-Count&quot;: 1, &quot;data-SMILES&quot;: &quot;C1=NCCCN1&quot;}, {&quot;data-img&quot;: null, &quot;mols2grid-id&quot;: 340, &quot;data-Count&quot;: 1, &quot;data-SMILES&quot;: &quot;N=c1[nH]ncs1&quot;}, {&quot;data-img&quot;: null, &quot;mols2grid-id&quot;: 341, &quot;data-Count&quot;: 1, &quot;data-SMILES&quot;: &quot;O=[PH]1NCCCO1&quot;}, {&quot;data-img&quot;: null, &quot;mols2grid-id&quot;: 342, &quot;data-Count&quot;: 1, &quot;data-SMILES&quot;: &quot;O=C1C=C2CC[C@@H]3[C@H](CC[C@H]4[C@H]3CC[C@@]43CCC(=O)O3)[C@H]2CC1&quot;}, {&quot;data-img&quot;: null, &quot;mols2grid-id&quot;: 343, &quot;data-Count&quot;: 1, &quot;data-SMILES&quot;: &quot;C1CCCNCCC1&quot;}, {&quot;data-img&quot;: null, &quot;mols2grid-id&quot;: 344, &quot;data-Count&quot;: 1, &quot;data-SMILES&quot;: &quot;O=c1cccc2c(c1)CCCc1ccccc1-2&quot;}, {&quot;data-img&quot;: null, &quot;mols2grid-id&quot;: 345, &quot;data-Count&quot;: 1, &quot;data-SMILES&quot;: &quot;S=c1[nH]cnc2[nH]cnc12&quot;}, {&quot;data-img&quot;: null, &quot;mols2grid-id&quot;: 346, &quot;data-Count&quot;: 1, &quot;data-SMILES&quot;: &quot;C1=Cc2ccccc2C(=C2CCNCC2)c2ccccc21&quot;}, {&quot;data-img&quot;: null, &quot;mols2grid-id&quot;: 347, &quot;data-Count&quot;: 1, &quot;data-SMILES&quot;: &quot;C1CC[NH2+]C1&quot;}, {&quot;data-img&quot;: null, &quot;mols2grid-id&quot;: 348, &quot;data-Count&quot;: 1, &quot;data-SMILES&quot;: &quot;O=C1CC2(CCCC2)CC(=O)N1&quot;}, {&quot;data-img&quot;: null, &quot;mols2grid-id&quot;: 349, &quot;data-Count&quot;: 1, &quot;data-SMILES&quot;: &quot;O=C1CCCC1&quot;}, {&quot;data-img&quot;: null, &quot;mols2grid-id&quot;: 350, &quot;data-Count&quot;: 1, &quot;data-SMILES&quot;: &quot;C1C[C@H]2CCO[C@H]2O1&quot;}, {&quot;data-img&quot;: null, &quot;mols2grid-id&quot;: 351, &quot;data-Count&quot;: 1, &quot;data-SMILES&quot;: &quot;O=c1[nH]cnc2cn[nH]c12&quot;}, {&quot;data-img&quot;: null, &quot;mols2grid-id&quot;: 352, &quot;data-Count&quot;: 1, &quot;data-SMILES&quot;: &quot;O=C1Nc2ccccc2CO1&quot;}, {&quot;data-img&quot;: null, &quot;mols2grid-id&quot;: 353, &quot;data-Count&quot;: 1, &quot;data-SMILES&quot;: &quot;O=C1Cc2cc3n(c(=O)c2CO1)Cc1cc2ccccc2nc1-3&quot;}, {&quot;data-img&quot;: null, &quot;mols2grid-id&quot;: 354, &quot;data-Count&quot;: 1, &quot;data-SMILES&quot;: &quot;C1OC2(CS1)CN1CCC2CC1&quot;}, {&quot;data-img&quot;: null, &quot;mols2grid-id&quot;: 355, &quot;data-Count&quot;: 1, &quot;data-SMILES&quot;: &quot;c1ccc2c3c([nH]c2c1)CCCC3&quot;}, {&quot;data-img&quot;: null, &quot;mols2grid-id&quot;: 356, &quot;data-Count&quot;: 1, &quot;data-SMILES&quot;: &quot;O=C1Cc2ccccc2Nc2ccccc21&quot;}, {&quot;data-img&quot;: null, &quot;mols2grid-id&quot;: 357, &quot;data-Count&quot;: 1, &quot;data-SMILES&quot;: &quot;O=c1[nH]nnc2cncn12&quot;}, {&quot;data-img&quot;: null, &quot;mols2grid-id&quot;: 358, &quot;data-Count&quot;: 1, &quot;data-SMILES&quot;: &quot;C1CN[C@@H]2CNC[C@@H]2C1&quot;}, {&quot;data-img&quot;: null, &quot;mols2grid-id&quot;: 359, &quot;data-Count&quot;: 1, &quot;data-SMILES&quot;: &quot;O=C1C=C2[C@@H]3C[C@@H]3[C@@H]3[C@H](CC[C@H]4[C@H]3[C@@H]3C[C@@H]3[C@@]43CCC(=O)O3)[C@H]2CC1&quot;}, {&quot;data-img&quot;: null, &quot;mols2grid-id&quot;: 360, &quot;data-Count&quot;: 1, &quot;data-SMILES&quot;: &quot;O=C1NCCc2[nH]c3ccccc3c21&quot;}, {&quot;data-img&quot;: null, &quot;mols2grid-id&quot;: 361, &quot;data-Count&quot;: 1, &quot;data-SMILES&quot;: &quot;O=C1CCCCCC(=O)C[C@H]2NC(=O)O[C@@H]2COC(=O)C1&quot;}, {&quot;data-img&quot;: null, &quot;mols2grid-id&quot;: 362, &quot;data-Count&quot;: 1, &quot;data-SMILES&quot;: &quot;N=C1CCNC1&quot;}, {&quot;data-img&quot;: null, &quot;mols2grid-id&quot;: 363, &quot;data-Count&quot;: 1, &quot;data-SMILES&quot;: &quot;C1=C[C@@]23CCNCc4cccc(c42)O[C@H]3CC1&quot;}, {&quot;data-img&quot;: null, &quot;mols2grid-id&quot;: 364, &quot;data-Count&quot;: 1, &quot;data-SMILES&quot;: &quot;O=C1CCCC(=O)C1&quot;}, {&quot;data-img&quot;: null, &quot;mols2grid-id&quot;: 365, &quot;data-Count&quot;: 1, &quot;data-SMILES&quot;: &quot;O=C1C=C[C@H]2C(=C1)CC[C@H]1[C@@H]3C[C@H]4OCO[C@H]4[C@H]3CC[C@@H]12&quot;}, {&quot;data-img&quot;: null, &quot;mols2grid-id&quot;: 366, &quot;data-Count&quot;: 1, &quot;data-SMILES&quot;: &quot;O=C1/C=C\\\\C=C\\\\CCCCCCCC/C=C/O[C@H]2Oc3ccc4cc(c5c(nc6ccccn65)c4c3C2=O)N1&quot;}, {&quot;data-img&quot;: null, &quot;mols2grid-id&quot;: 367, &quot;data-Count&quot;: 1, &quot;data-SMILES&quot;: &quot;O=C1NCC(=O)N2Cc3[nH]c4ccccc4c3C[C@H]12&quot;}, {&quot;data-img&quot;: null, &quot;mols2grid-id&quot;: 368, &quot;data-Count&quot;: 1, &quot;data-SMILES&quot;: &quot;c1ncc2cncn2n1&quot;}, {&quot;data-img&quot;: null, &quot;mols2grid-id&quot;: 369, &quot;data-Count&quot;: 1, &quot;data-SMILES&quot;: &quot;O=C1C=C2CC[C@H]3[C@@H]4CC[C@@]5(CCC(=O)O5)[C@H]4C[C@H]4O[C@]43[C@H]2CC1&quot;}, {&quot;data-img&quot;: null, &quot;mols2grid-id&quot;: 370, &quot;data-Count&quot;: 1, &quot;data-SMILES&quot;: &quot;O=C1CCN1&quot;}, {&quot;data-img&quot;: null, &quot;mols2grid-id&quot;: 371, &quot;data-Count&quot;: 1, &quot;data-SMILES&quot;: &quot;O=C1NCc2nccnc21&quot;}, {&quot;data-img&quot;: null, &quot;mols2grid-id&quot;: 372, &quot;data-Count&quot;: 1, &quot;data-SMILES&quot;: &quot;C1C[C@@H]2CC[C@H](C1)[N+]21CCCC1&quot;}, {&quot;data-img&quot;: null, &quot;mols2grid-id&quot;: 373, &quot;data-Count&quot;: 1, &quot;data-SMILES&quot;: &quot;C=C1CCCCC1&quot;}, {&quot;data-img&quot;: null, &quot;mols2grid-id&quot;: 374, &quot;data-Count&quot;: 1, &quot;data-SMILES&quot;: &quot;c1cc2c(c3c1CCC3)CCO2&quot;}, {&quot;data-img&quot;: null, &quot;mols2grid-id&quot;: 375, &quot;data-Count&quot;: 1, &quot;data-SMILES&quot;: &quot;C=C1CCCC1&quot;}, {&quot;data-img&quot;: null, &quot;mols2grid-id&quot;: 376, &quot;data-Count&quot;: 1, &quot;data-SMILES&quot;: &quot;O=C1C=CCCO1&quot;}, {&quot;data-img&quot;: null, &quot;mols2grid-id&quot;: 377, &quot;data-Count&quot;: 1, &quot;data-SMILES&quot;: &quot;O=c1cc[nH]cc1&quot;}, {&quot;data-img&quot;: null, &quot;mols2grid-id&quot;: 378, &quot;data-Count&quot;: 1, &quot;data-SMILES&quot;: &quot;O=C1C[C@H]2CCCO[C@@H]2C1&quot;}, {&quot;data-img&quot;: null, &quot;mols2grid-id&quot;: 379, &quot;data-Count&quot;: 1, &quot;data-SMILES&quot;: &quot;c1c[nH]nn1&quot;}, {&quot;data-img&quot;: null, &quot;mols2grid-id&quot;: 380, &quot;data-Count&quot;: 1, &quot;data-SMILES&quot;: &quot;c1cnc2cc3c(cc2n1)C1CNCC3C1&quot;}, {&quot;data-img&quot;: null, &quot;mols2grid-id&quot;: 381, &quot;data-Count&quot;: 1, &quot;data-SMILES&quot;: &quot;C1=NCc2cncn2-c2ccccc21&quot;}, {&quot;data-img&quot;: null, &quot;mols2grid-id&quot;: 382, &quot;data-Count&quot;: 1, &quot;data-SMILES&quot;: &quot;O=C1CCO1&quot;}, {&quot;data-img&quot;: null, &quot;mols2grid-id&quot;: 383, &quot;data-Count&quot;: 1, &quot;data-SMILES&quot;: &quot;N=c1ccc2nc3ccccc3[nH]c-2c1&quot;}, {&quot;data-img&quot;: null, &quot;mols2grid-id&quot;: 384, &quot;data-Count&quot;: 1, &quot;data-SMILES&quot;: &quot;O=C1NC=NC12CCCC2&quot;}, {&quot;data-img&quot;: null, &quot;mols2grid-id&quot;: 385, &quot;data-Count&quot;: 1, &quot;data-SMILES&quot;: &quot;c1ccc2nonc2c1&quot;}, {&quot;data-img&quot;: null, &quot;mols2grid-id&quot;: 386, &quot;data-Count&quot;: 1, &quot;data-SMILES&quot;: &quot;O=C1OC[C@@H]2Cc3cc4c(cc3C[C@@H]12)OCO4&quot;}, {&quot;data-img&quot;: null, &quot;mols2grid-id&quot;: 387, &quot;data-Count&quot;: 1, &quot;data-SMILES&quot;: &quot;C1CO[C@@H]2COCO[C@H]2C1&quot;}, {&quot;data-img&quot;: null, &quot;mols2grid-id&quot;: 388, &quot;data-Count&quot;: 1, &quot;data-SMILES&quot;: &quot;c1cc2n(c1)CCC2&quot;}, {&quot;data-img&quot;: null, &quot;mols2grid-id&quot;: 389, &quot;data-Count&quot;: 1, &quot;data-SMILES&quot;: &quot;N=C1C=C2CC[C@H]3[C@@H]4CCC[C@H]4CC[C@@H]3[C@H]2CC1&quot;}, {&quot;data-img&quot;: null, &quot;mols2grid-id&quot;: 390, &quot;data-Count&quot;: 1, &quot;data-SMILES&quot;: &quot;C1=Nc2ccccc2Nc2ccccc21&quot;}, {&quot;data-img&quot;: null, &quot;mols2grid-id&quot;: 391, &quot;data-Count&quot;: 1, &quot;data-SMILES&quot;: &quot;O=C1CCCc2ccccc2N1&quot;}, {&quot;data-img&quot;: null, &quot;mols2grid-id&quot;: 392, &quot;data-Count&quot;: 1, &quot;data-SMILES&quot;: &quot;C1C[C@H]2CCN[C@H]2C1&quot;}, {&quot;data-img&quot;: null, &quot;mols2grid-id&quot;: 393, &quot;data-Count&quot;: 1, &quot;data-SMILES&quot;: &quot;C1CN2CCSC2=N1&quot;}, {&quot;data-img&quot;: null, &quot;mols2grid-id&quot;: 394, &quot;data-Count&quot;: 1, &quot;data-SMILES&quot;: &quot;c1ccc2nc3c(cc2c1)CCCC3&quot;}, {&quot;data-img&quot;: null, &quot;mols2grid-id&quot;: 395, &quot;data-Count&quot;: 1, &quot;data-SMILES&quot;: &quot;C=C1C[C@@H]2CCC[C@H]2[C@@H]2CCC3=CCCC[C@@H]3[C@@H]12&quot;}, {&quot;data-img&quot;: null, &quot;mols2grid-id&quot;: 396, &quot;data-Count&quot;: 1, &quot;data-SMILES&quot;: &quot;O=C1CCCO1&quot;}, {&quot;data-img&quot;: null, &quot;mols2grid-id&quot;: 397, &quot;data-Count&quot;: 1, &quot;data-SMILES&quot;: &quot;C1CC2(CN1)SCCS2&quot;}, {&quot;data-img&quot;: null, &quot;mols2grid-id&quot;: 398, &quot;data-Count&quot;: 1, &quot;data-SMILES&quot;: &quot;c1cnncn1&quot;}, {&quot;data-img&quot;: null, &quot;mols2grid-id&quot;: 399, &quot;data-Count&quot;: 1, &quot;data-SMILES&quot;: &quot;c1ccc2c(c1)ccc1ccccc12&quot;}, {&quot;data-img&quot;: null, &quot;mols2grid-id&quot;: 400, &quot;data-Count&quot;: 1, &quot;data-SMILES&quot;: &quot;C1CC2CCCC(C1)N2&quot;}, {&quot;data-img&quot;: null, &quot;mols2grid-id&quot;: 401, &quot;data-Count&quot;: 1, &quot;data-SMILES&quot;: &quot;O=C1CN2Cc3ccccc3N=C2N1&quot;}, {&quot;data-img&quot;: null, &quot;mols2grid-id&quot;: 402, &quot;data-Count&quot;: 1, &quot;data-SMILES&quot;: &quot;c1nn[n-]n1&quot;}, {&quot;data-img&quot;: null, &quot;mols2grid-id&quot;: 403, &quot;data-Count&quot;: 1, &quot;data-SMILES&quot;: &quot;c1ccc2nsnc2c1&quot;}, {&quot;data-img&quot;: null, &quot;mols2grid-id&quot;: 404, &quot;data-Count&quot;: 1, &quot;data-SMILES&quot;: &quot;C1=CCOC1&quot;}, {&quot;data-img&quot;: null, &quot;mols2grid-id&quot;: 405, &quot;data-Count&quot;: 1, &quot;data-SMILES&quot;: &quot;O=C1C=CCN1&quot;}, {&quot;data-img&quot;: null, &quot;mols2grid-id&quot;: 406, &quot;data-Count&quot;: 1, &quot;data-SMILES&quot;: &quot;C1O[C@@H]2OC[C@H]3OCO[C@H]3[C@@H]2O1&quot;}, {&quot;data-img&quot;: null, &quot;mols2grid-id&quot;: 407, &quot;data-Count&quot;: 1, &quot;data-SMILES&quot;: &quot;C1CC[C@@H]2NCC[C@H]2C1&quot;}, {&quot;data-img&quot;: null, &quot;mols2grid-id&quot;: 408, &quot;data-Count&quot;: 1, &quot;data-SMILES&quot;: &quot;C1=Nc2ccccc2Nc2sccc21&quot;}, {&quot;data-img&quot;: null, &quot;mols2grid-id&quot;: 409, &quot;data-Count&quot;: 1, &quot;data-SMILES&quot;: &quot;O=C1CN2[C@@H]3CCC[C@H]2C[C@@H]1C3&quot;}, {&quot;data-img&quot;: null, &quot;mols2grid-id&quot;: 410, &quot;data-Count&quot;: 1, &quot;data-SMILES&quot;: &quot;O=C1Nc2cccnc2Nc2ncccc21&quot;}, {&quot;data-img&quot;: null, &quot;mols2grid-id&quot;: 411, &quot;data-Count&quot;: 1, &quot;data-SMILES&quot;: &quot;c1nc2c(s1)CCCC2&quot;}, {&quot;data-img&quot;: null, &quot;mols2grid-id&quot;: 412, &quot;data-Count&quot;: 1, &quot;data-SMILES&quot;: &quot;O=C1CCc2ccccc21&quot;}, {&quot;data-img&quot;: null, &quot;mols2grid-id&quot;: 413, &quot;data-Count&quot;: 1, &quot;data-SMILES&quot;: &quot;C=C1C[C@H]2[C@@H]3CCC(=O)[C@H]3CC[C@@H]2[C@H]2C=CC(=O)C=C12&quot;}, {&quot;data-img&quot;: null, &quot;mols2grid-id&quot;: 414, &quot;data-Count&quot;: 1, &quot;data-SMILES&quot;: &quot;c1ccnnc1&quot;}]);\n",
       "// filter\n",
       "if (window.parent.mols2grid_lists === undefined) {\n",
       "    window.parent.mols2grid_lists = {};\n",
       "}\n",
       "window.parent.mols2grid_lists[&quot;default&quot;] = listObj;\n",
       "\n",
       "\n",
       "\n",
       "\n",
       "\n",
       "\n",
       "\n",
       "// sort\n",
       "var sort_field = &quot;mols2grid-id&quot;;\n",
       "var sort_order = &quot;asc&quot;;\n",
       "function mols2gridSortFunction(itemA, itemB, options) {\n",
       "    var x = itemA.values()[options.valueName];\n",
       "    var y = itemB.values()[options.valueName];\n",
       "    if (typeof x === &quot;number&quot;) {\n",
       "        if (isFinite(x - y)) {\n",
       "            return x - y; \n",
       "        } else {\n",
       "            return isFinite(x) ? -1 : 1;\n",
       "        }\n",
       "    } else {\n",
       "        x = x.toLowerCase();\n",
       "        y = y.toLowerCase();\n",
       "        return (x &lt; y) ? -1: (x &gt; y) ? 1: 0;\n",
       "    }\n",
       "}\n",
       "function checkboxSort(itemA, itemB, options) {\n",
       "    if (itemA.elm !== undefined) {\n",
       "        var checkedA = itemA.elm.firstChild.checked;\n",
       "        if (itemB.elm !== undefined) {\n",
       "            var checkedB = itemB.elm.firstChild.checked;\n",
       "            if (checkedA &amp;&amp; !checkedB) {\n",
       "                return -1;\n",
       "            } else if (!checkedA &amp;&amp; checkedB) {\n",
       "                return 1;\n",
       "            } else {\n",
       "                return 0;\n",
       "            }\n",
       "        } else {\n",
       "            return -1;\n",
       "        }\n",
       "    } else if (itemB.elm !== undefined) {\n",
       "        return 1;\n",
       "    } else {\n",
       "        return 0;\n",
       "    }\n",
       "}\n",
       "$(&#x27;#mols2grid button.sort-btn&#x27;).click(function(e) {\n",
       "    var _field = $(this).attr(&quot;data-name&quot;);\n",
       "    if (_field == sort_field) {\n",
       "        $(this).removeClass(&quot;arrow-&quot; + sort_order)\n",
       "        sort_order = (sort_order === &quot;desc&quot;) ? &quot;asc&quot; : &quot;desc&quot;;\n",
       "    } else {\n",
       "        $(&#x27;#mols2grid button.sort-btn.active&#x27;).removeClass(&quot;active arrow-&quot; + sort_order);\n",
       "        sort_order = &quot;asc&quot;;\n",
       "        sort_field = _field;\n",
       "        $(this).addClass(&quot;active&quot;);\n",
       "    }\n",
       "    $(this).addClass(&quot;arrow-&quot; + sort_order)\n",
       "    if (sort_field == &quot;checkbox&quot;) {\n",
       "        listObj.sort(&quot;mols2grid-id&quot;, {order: sort_order, sortFunction: checkboxSort});\n",
       "    } else {\n",
       "        listObj.sort(_field, {order: sort_order, sortFunction: mols2gridSortFunction});\n",
       "    }\n",
       "});\n",
       "\n",
       "\n",
       "\n",
       "\n",
       "\n",
       "\n",
       "\n",
       "\n",
       "\n",
       "\n",
       "// generate images for the currently displayed molecules\n",
       "var draw_opts = {&quot;width&quot;: 160, &quot;height&quot;: 120};\n",
       "var json_draw_opts = JSON.stringify(draw_opts);\n",
       "\n",
       "var smarts_matches = {};\n",
       "\n",
       "// Load RDKit\n",
       "window\n",
       ".initRDKitModule()\n",
       ".then(function(RDKit) {\n",
       "    console.log(&#x27;RDKit version: &#x27;, RDKit.version());\n",
       "    window.RDKit = RDKit;\n",
       "    window.RDKitModule = RDKit;\n",
       "\n",
       "    // search bar\n",
       "    function SmartsSearch(query, columns) {\n",
       "    var smiles_col = columns[0];\n",
       "    smarts_matches = {};\n",
       "    var query = $(&#x27;#mols2grid #searchbar&#x27;).val();\n",
       "    var qmol = RDKit.get_qmol(query);\n",
       "    if (qmol.is_valid()) {\n",
       "        listObj.items.forEach(function (item) {\n",
       "            var smiles = item.values()[smiles_col]\n",
       "            var mol = RDKit.get_mol(smiles, &#x27;{&quot;removeHs&quot;: false }&#x27;);\n",
       "            if (mol.is_valid()) {\n",
       "                var results = mol.get_substruct_matches(qmol);\n",
       "                if (results === &quot;\\{\\}&quot;) {\n",
       "                    item.found = false;\n",
       "                } else {\n",
       "                    item.found = true;\n",
       "                    \n",
       "                    results = JSON.parse(results);\n",
       "                    \n",
       "                    var highlights = {&quot;atoms&quot;: [], &quot;bonds&quot;: []};\n",
       "                    results.forEach(function (match) {\n",
       "                        highlights[&quot;atoms&quot;].push(...match.atoms)\n",
       "                        highlights[&quot;bonds&quot;].push(...match.bonds)\n",
       "                    });\n",
       "                    \n",
       "                    var index = item.values()[&quot;mols2grid-id&quot;];\n",
       "                    smarts_matches[index] = highlights;\n",
       "                    \n",
       "                }\n",
       "            } else {\n",
       "                item.found = false;\n",
       "            }\n",
       "            mol.delete();\n",
       "        });\n",
       "    }\n",
       "    qmol.delete();\n",
       "}\n",
       "var search_type = &quot;Text&quot;;\n",
       "$(&#x27;#mols2grid .search-btn&#x27;).click(function() {\n",
       "    search_type = $(this).text();\n",
       "    $(&#x27;#mols2grid button.search-btn.active&#x27;).removeClass(&quot;active&quot;);\n",
       "    $(this).addClass(&quot;active&quot;);\n",
       "});\n",
       "$(&#x27;#mols2grid #searchbar&#x27;).on(&quot;keyup&quot;, function(e) {\n",
       "    var query = e.target.value;\n",
       "    if (search_type === &quot;Text&quot;) {\n",
       "        smarts_matches = {};\n",
       "        listObj.search(query, [&#x27;data-Count&#x27;]);\n",
       "    } else {\n",
       "        listObj.search(query, [&quot;data-SMILES&quot;], SmartsSearch);\n",
       "    }\n",
       "});\n",
       "\n",
       "    \n",
       "    // generate images for the currently displayed molecules\n",
       "RDKit.prefer_coordgen(true);\n",
       "function draw_mol(smiles, index, template_mol) {\n",
       "    var mol = RDKit.get_mol(smiles, &#x27;{&quot;removeHs&quot;: false }&#x27;);\n",
       "    var svg = &quot;&quot;;\n",
       "    if (mol.is_valid()) {\n",
       "        var highlights = smarts_matches[index];\n",
       "        if (highlights) {\n",
       "            var details = Object.assign({}, draw_opts, highlights);\n",
       "            details = JSON.stringify(details);\n",
       "            mol.generate_aligned_coords(template_mol, true);\n",
       "        } else {\n",
       "            var details = json_draw_opts;\n",
       "        }\n",
       "        svg = mol.get_svg_with_highlights(details);\n",
       "    }\n",
       "    mol.delete();\n",
       "    if (svg == &quot;&quot;) {\n",
       "        return &#x27;&lt;svg width=&quot;160&quot; height=&quot;120&quot; xmlns=&quot;http://www.w3.org/2000/svg&quot; version=&quot;1.1&quot; viewBox=&quot;0 0 160 120&quot;&gt;&lt;/svg&gt;&#x27;;\n",
       "    }\n",
       "    return svg;\n",
       "}\n",
       "listObj.on(&quot;updated&quot;, function (list) {\n",
       "    var query = $(&#x27;#mols2grid #searchbar&#x27;).val();\n",
       "    var template_mol;\n",
       "    if (query === &quot;&quot;) {\n",
       "        smarts_matches = {};\n",
       "        template_mol = null;\n",
       "    } else {\n",
       "        template_mol = RDKit.get_qmol(query);\n",
       "        template_mol.set_new_coords(true);\n",
       "    }\n",
       "    $(&#x27;#mols2grid .cell&#x27;).each(function() {\n",
       "        var $t = $(this);\n",
       "        var smiles = $t.children(&quot;.data-SMILES&quot;).first().text();\n",
       "        var index = parseInt(this.getAttribute(&quot;data-mols2grid-id&quot;));\n",
       "        var svg = draw_mol(smiles, index, template_mol);\n",
       "        $t.children(&quot;.data-img&quot;).html(svg);\n",
       "    });\n",
       "    if (template_mol) {\n",
       "        template_mol.delete();\n",
       "    }\n",
       "});\n",
       "    \n",
       "\n",
       "    // trigger update to activate tooltips, draw images, setup callbacks...\n",
       "    listObj.update();\n",
       "    // resize iframe to fit content\n",
       "    if (window.frameElement) {\n",
       "        fit_height(window.frameElement);\n",
       "    }\n",
       "});\n",
       "    &lt;/script&gt;\n",
       "  &lt;/body&gt;\n",
       "&lt;/html&gt;\">\n",
       "</iframe>"
      ],
      "text/plain": [
       "<IPython.core.display.HTML object>"
      ]
     },
     "execution_count": 14,
     "metadata": {},
     "output_type": "execute_result"
    }
   ],
   "source": [
    "mols2grid.display(ring_df,smiles_col=\"SMILES\",subset=[\"img\",\"Count\"],selection=False)"
   ]
  },
  {
   "cell_type": "code",
   "execution_count": null,
   "id": "1d090a91",
   "metadata": {},
   "outputs": [],
   "source": []
  }
 ],
 "metadata": {
  "kernelspec": {
   "display_name": "Python 3 (ipykernel)",
   "language": "python",
   "name": "python3"
  },
  "language_info": {
   "codemirror_mode": {
    "name": "ipython",
    "version": 3
   },
   "file_extension": ".py",
   "mimetype": "text/x-python",
   "name": "python",
   "nbconvert_exporter": "python",
   "pygments_lexer": "ipython3",
   "version": "3.8.15"
  }
 },
 "nbformat": 4,
 "nbformat_minor": 5
}
